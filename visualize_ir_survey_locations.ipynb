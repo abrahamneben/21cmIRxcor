{
 "cells": [
  {
   "cell_type": "code",
   "execution_count": 2,
   "metadata": {
    "collapsed": false
   },
   "outputs": [],
   "source": [
    "from astropy.io import fits\n",
    "import commands\n",
    "import numpy as np\n",
    "import matplotlib\n",
    "%matplotlib inline\n",
    "import matplotlib.pyplot as plt"
   ]
  },
  {
   "cell_type": "code",
   "execution_count": 3,
   "metadata": {
    "collapsed": false
   },
   "outputs": [],
   "source": [
    "raw_frames_root = '/Volumes/abraham/xcor_data/ATLAS_mwa57694/'\n",
    "raw_frames_root2 = '/Volumes/abraham/xcor_data/ATLAS_mwa57639/'\n",
    "labels = [l.split('/')[-1].split('.')[0] for l in commands.getoutput('ls '+raw_frames_root+'*.fits.fz').split()]\n",
    "labels2 = [l.split('/')[-1].split('.')[0] for l in commands.getoutput('ls '+raw_frames_root2+'*.fits.fz').split()]"
   ]
  },
  {
   "cell_type": "code",
   "execution_count": 4,
   "metadata": {
    "collapsed": false
   },
   "outputs": [],
   "source": [
    "ra_vals = np.zeros(len(labels))\n",
    "dec_vals = np.zeros(len(labels))\n",
    "for i in range(len(labels)):\n",
    "    hdulist = fits.open(raw_frames_root+labels[i]+'.fits')\n",
    "    h = hdulist[0].header\n",
    "    ra_vals[i] = h['RA']\n",
    "    dec_vals[i] = h['DEC']\n",
    "ra_vals[ra_vals>180] -= 360\n",
    "\n",
    "ra_vals2 = np.zeros(len(labels2))\n",
    "dec_vals2 = np.zeros(len(labels2))\n",
    "for i in range(len(labels2)):\n",
    "    hdulist = fits.open(raw_frames_root2+labels2[i]+'.fits')\n",
    "    h = hdulist[0].header\n",
    "    ra_vals2[i] = h['RA']\n",
    "    dec_vals2[i] = h['DEC']\n",
    "ra_vals2[ra_vals2>180] -= 360"
   ]
  },
  {
   "cell_type": "code",
   "execution_count": 5,
   "metadata": {
    "collapsed": true
   },
   "outputs": [],
   "source": [
    "def draw_square_at_point(x,y,s,c,lw):\n",
    "    plt.plot([x-s/2,x+s/2,x+s/2,x-s/2,x-s/2],[y-s/2,y-s/2,y+s/2,y+s/2,y-s/2],c+'-',linewidth=lw)"
   ]
  },
  {
   "cell_type": "code",
   "execution_count": 72,
   "metadata": {
    "collapsed": false
   },
   "outputs": [],
   "source": [
    "g2=np.arange(len(dec_vals2))[(ra_vals2>-5)&(ra_vals2<0)&(dec_vals2>-25)&(dec_vals2<-22.5)]"
   ]
  },
  {
   "cell_type": "code",
   "execution_count": 73,
   "metadata": {
    "collapsed": false
   },
   "outputs": [],
   "source": [
    "g1=np.arange(len(dec_vals))[(ra_vals<-3)&(dec_vals>-24)]"
   ]
  },
  {
   "cell_type": "code",
   "execution_count": 76,
   "metadata": {
    "collapsed": false
   },
   "outputs": [
    {
     "data": {
      "text/plain": [
       "array(['02a57694o0286I', '02a57694o0290I', '02a57694o0306I',\n",
       "       '02a57694o0310I'], \n",
       "      dtype='|S14')"
      ]
     },
     "execution_count": 76,
     "metadata": {},
     "output_type": "execute_result"
    }
   ],
   "source": [
    "np.array(labels)[g1]"
   ]
  },
  {
   "cell_type": "code",
   "execution_count": 77,
   "metadata": {
    "collapsed": false
   },
   "outputs": [
    {
     "data": {
      "text/plain": [
       "array(['02a57639o0342I', '02a57639o0343I', '02a57639o0344I',\n",
       "       '02a57639o0345I', '02a57639o0346I'], \n",
       "      dtype='|S14')"
      ]
     },
     "execution_count": 77,
     "metadata": {},
     "output_type": "execute_result"
    }
   ],
   "source": [
    "np.array(labels2)[g2]"
   ]
  },
  {
   "cell_type": "code",
   "execution_count": 74,
   "metadata": {
    "collapsed": false
   },
   "outputs": [
    {
     "data": {
      "text/plain": [
       "<matplotlib.text.Text at 0x11fea2ad0>"
      ]
     },
     "execution_count": 74,
     "metadata": {},
     "output_type": "execute_result"
    },
    {
     "data": {
      "image/png": "[encoded data removed]",
      "text/plain": [
       "<matplotlib.figure.Figure at 0x11f546f90>"
      ]
     },
     "metadata": {},
     "output_type": "display_data"
    }
   ],
   "source": [
    "plt.figure(figsize=(20,15))\n",
    "# for i in range(len(ra_vals)):\n",
    "#     plt.text(ra_vals[i],dec_vals[i],str(i))\n",
    "\n",
    "# label_indices_for_catalog = [52,94,49,91]\n",
    "# for i in label_indices_for_catalog:\n",
    "#     print(labels[i]),\n",
    "\n",
    "for i in g1:\n",
    "    draw_square_at_point(ra_vals[i],dec_vals[i],5,'r',1)\n",
    "    plt.plot(ra_vals[i],dec_vals[i],'rs')\n",
    "\n",
    "for i in g2:\n",
    "    draw_square_at_point(ra_vals2[i],dec_vals2[i],5,'b',1)\n",
    "\n",
    "draw_square_at_point(-3.4,-23.5,3.,'k',3)\n",
    "    \n",
    "plt.plot(ra_vals,dec_vals,'r.')\n",
    "plt.plot(ra_vals2,dec_vals2,'b.')\n",
    "#plt.plot([-10,10],[-23,-23])\n",
    "plt.xlim([-10,10])\n",
    "plt.ylim([-40,-20])\n",
    "plt.xlabel('RA')\n",
    "plt.ylabel('Dec')"
   ]
  },
  {
   "cell_type": "code",
   "execution_count": null,
   "metadata": {
    "collapsed": false
   },
   "outputs": [
    {
     "data": {
      "text/plain": [
       "<matplotlib.text.Text at 0x10684c310>"
      ]
     },
     "execution_count": 6,
     "metadata": {},
     "output_type": "execute_result"
    }
   ],
   "source": [
    "plt.figure(figsize=(20,15))\n",
    "\n",
    "for i in range(len(ra_vals)):\n",
    "    plt.text(ra_vals[i],dec_vals[i],str(i))\n",
    "\n",
    "for i in range(len(ra_vals2)):\n",
    "    plt.text(ra_vals2[i],dec_vals2[i],str(i))\n",
    "\n",
    "# plt.xlim([-5,0])\n",
    "# plt.ylim([-25,-20])\n",
    "plt.xlabel('RA')\n",
    "plt.ylabel('Dec')"
   ]
  },
  {
   "cell_type": "code",
   "execution_count": null,
   "metadata": {
    "collapsed": false
   },
   "outputs": [],
   "source": [
    "\n",
    "# frame_indices = np.zeros(len(ra_vals),dtype=int)\n",
    "# plt.figure(figsize=(12,10))\n",
    "# for i in range(len(ra_vals)):\n",
    "#     c = 'r'\n",
    "#     if ra_vals[i]< -3.5 or ra_vals[i] > 3.5 or \\\n",
    "#     -1.5 < ra_vals[i] < 0 or 0 < ra_vals[i] < 1.5\\\n",
    "#     or dec_vals[i] > -23.5 or dec_vals[i] < -30.5\\\n",
    "#     or -26 < dec_vals[i] < -25.5 or -28.5 < dec_vals[i] < -27:\n",
    "#         c = 'b'\n",
    "        \n",
    "#     if ra_vals[i]<0:\n",
    "#         frame_indices[i] = 0 if dec_vals[i]<-27 else 1\n",
    "#     else:\n",
    "#         frame_indices[i] = 2 if dec_vals[i]<-27 else 3\n",
    "        \n",
    "#     #if c == 'b': frame_indices[i] = -1\n",
    "        \n",
    "    \n",
    "#     #if c == 'r': draw_square_at_point(ra_vals[i],dec_vals[i],5,c,lw=frame_indices[i]+1)\n",
    "#     draw_square_at_point(ra_vals[i],dec_vals[i],5,c,lw=frame_indices[i]+1)\n",
    "    \n",
    "#     plt.plot(ra_vals[i],dec_vals[i],c+'.')\n",
    "#     plt.xlim([-7,7])\n",
    "#     plt.ylim([-35,-20])\n",
    "#     plt.xlabel('RA')\n",
    "#     plt.ylabel('Dec')"
   ]
  },
  {
   "cell_type": "code",
   "execution_count": null,
   "metadata": {
    "collapsed": false
   },
   "outputs": [],
   "source": [
    "for i in range(4):\n",
    "    print(' '.join(np.array(labels)[frame_indices==i])+'\\n')"
   ]
  },
  {
   "cell_type": "code",
   "execution_count": null,
   "metadata": {
    "collapsed": true
   },
   "outputs": [],
   "source": [
    "infield0 = (ra_vals<0)&(dec_vals>-27)\n",
    "infield1 = (ra_vals>0)&(dec_vals>-27)\n",
    "infield2 = (ra_vals<0)&(dec_vals<-27)\n",
    "infield3 = (ra_vals>0)&(dec_vals<-27)"
   ]
  },
  {
   "cell_type": "code",
   "execution_count": null,
   "metadata": {
    "collapsed": false
   },
   "outputs": [],
   "source": [
    "field0_labels = np.array(labels)[infield0]\n",
    "field1_labels = np.array(labels)[infield1]\n",
    "field2_labels = np.array(labels)[infield2]\n",
    "field3_labels = np.array(labels)[infield3]"
   ]
  },
  {
   "cell_type": "code",
   "execution_count": null,
   "metadata": {
    "collapsed": false
   },
   "outputs": [],
   "source": [
    "len(field0_labels),len(field1_labels),len(field2_labels),len(field3_labels)"
   ]
  },
  {
   "cell_type": "code",
   "execution_count": null,
   "metadata": {
    "collapsed": false
   },
   "outputs": [],
   "source": [
    "open('/Users/abrahamn/Documents/MIT/21cm/21cmIR/21cmIRxcor/stack_at_frame_center/field0.radec','w').write(\"%1.3f,%1.3f\"%(np.mean(ra_vals[infield0]),np.mean(dec_vals[infield0])))\n",
    "open('/Users/abrahamn/Documents/MIT/21cm/21cmIR/21cmIRxcor/stack_at_frame_center/field1.radec','w').write(\"%1.3f,%1.3f\"%(np.mean(ra_vals[infield1]),np.mean(dec_vals[infield1])))\n",
    "open('/Users/abrahamn/Documents/MIT/21cm/21cmIR/21cmIRxcor/stack_at_frame_center/field2.radec','w').write(\"%1.3f,%1.3f\"%(np.mean(ra_vals[infield2]),np.mean(dec_vals[infield2])))\n",
    "open('/Users/abrahamn/Documents/MIT/21cm/21cmIR/21cmIRxcor/stack_at_frame_center/field3.radec','w').write(\"%1.3f,%1.3f\"%(np.mean(ra_vals[infield3]),np.mean(dec_vals[infield3])))"
   ]
  },
  {
   "cell_type": "code",
   "execution_count": null,
   "metadata": {
    "collapsed": false
   },
   "outputs": [],
   "source": [
    "r,d=np.genfromtxt('/Users/abrahamn/Documents/MIT/21cm/21cmIR/21cmIRxcor/stack_at_frame_center/field0.radec',delimiter=',')"
   ]
  },
  {
   "cell_type": "code",
   "execution_count": 32,
   "metadata": {
    "collapsed": false
   },
   "outputs": [
    {
     "data": {
      "text/plain": [
       "-24.538"
      ]
     },
     "execution_count": 32,
     "metadata": {},
     "output_type": "execute_result"
    }
   ],
   "source": [
    "d"
   ]
  },
  {
   "cell_type": "code",
   "execution_count": 17,
   "metadata": {
    "collapsed": false
   },
   "outputs": [],
   "source": [
    "open('/Users/abrahamn/Documents/MIT/21cm/21cmIR/21cmIRxcor/stack_at_frame_center/field0.labels','w').write('\\n'.join(field0_labels))\n",
    "open('/Users/abrahamn/Documents/MIT/21cm/21cmIR/21cmIRxcor/stack_at_frame_center/field1.labels','w').write('\\n'.join(field1_labels))\n",
    "open('/Users/abrahamn/Documents/MIT/21cm/21cmIR/21cmIRxcor/stack_at_frame_center/field2.labels','w').write('\\n'.join(field2_labels))\n",
    "open('/Users/abrahamn/Documents/MIT/21cm/21cmIR/21cmIRxcor/stack_at_frame_center/field3.labels','w').write('\\n'.join(field3_labels))"
   ]
  },
  {
   "cell_type": "code",
   "execution_count": null,
   "metadata": {
    "collapsed": true
   },
   "outputs": [],
   "source": []
  }
 ],
 "metadata": {
  "kernelspec": {
   "display_name": "Python 2",
   "language": "python",
   "name": "python2"
  },
  "language_info": {
   "codemirror_mode": {
    "name": "ipython",
    "version": 2
   },
   "file_extension": ".py",
   "mimetype": "text/x-python",
   "name": "python",
   "nbconvert_exporter": "python",
   "pygments_lexer": "ipython2",
   "version": "2.7.12"
  }
 },
 "nbformat": 4,
 "nbformat_minor": 1
}
