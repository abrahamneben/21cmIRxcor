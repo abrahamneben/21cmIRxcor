{
 "cells": [
  {
   "cell_type": "code",
   "execution_count": 1,
   "metadata": {
    "collapsed": false
   },
   "outputs": [],
   "source": [
    "from astropy.io import fits\n",
    "import commands\n",
    "import numpy as np\n",
    "import matplotlib\n",
    "%matplotlib inline\n",
    "import matplotlib.pyplot as plt"
   ]
  },
  {
   "cell_type": "code",
   "execution_count": 2,
   "metadata": {
    "collapsed": false
   },
   "outputs": [],
   "source": [
    "raw_frames_root = '/Volumes/abraham/xcor_data/ATLAS_mwa57694/'\n",
    "raw_frames_root2 = '/Volumes/abraham/xcor_data/ATLAS_mwa57639/'\n",
    "labels = [l.split('/')[-1].split('.')[0] for l in commands.getoutput('ls '+raw_frames_root+'*.fits.fz').split()]\n",
    "labels2 = [l.split('/')[-1].split('.')[0] for l in commands.getoutput('ls '+raw_frames_root2+'*.fits.fz').split()]"
   ]
  },
  {
   "cell_type": "code",
   "execution_count": 3,
   "metadata": {
    "collapsed": false
   },
   "outputs": [
    {
     "name": "stdout",
     "output_type": "stream",
     "text": [
      "2016-11-02T07:47:55+0000\n",
      "2016-11-02T07:48:44+0000\n",
      "2016-11-02T07:49:33+0000\n",
      "2016-11-02T07:50:19+0000\n",
      "2016-11-02T07:51:07+0000\n",
      "2016-11-02T07:51:55+0000\n",
      "2016-11-02T07:52:43+0000\n",
      "2016-11-02T07:53:32+0000\n",
      "2016-11-02T07:54:20+0000\n",
      "2016-11-02T07:55:08+0000\n",
      "2016-11-02T07:55:57+0000\n",
      "2016-11-02T07:56:46+0000\n",
      "2016-11-02T07:57:34+0000\n",
      "2016-11-02T07:58:21+0000\n",
      "2016-11-02T07:59:11+0000\n",
      "2016-11-02T07:59:58+0000\n",
      "2016-11-02T08:00:47+0000\n",
      "2016-11-02T08:01:35+0000\n",
      "2016-11-02T08:02:23+0000\n",
      "2016-11-02T08:03:10+0000\n",
      "2016-11-02T08:03:58+0000\n",
      "2016-11-02T08:04:45+0000\n",
      "2016-11-02T08:05:33+0000\n",
      "2016-11-02T08:06:21+0000\n",
      "2016-11-02T08:07:11+0000\n",
      "2016-11-02T08:07:59+0000\n",
      "2016-11-02T08:08:48+0000\n",
      "2016-11-02T08:09:35+0000\n",
      "2016-11-02T08:10:23+0000\n",
      "2016-11-02T08:11:10+0000\n",
      "2016-11-02T08:11:59+0000\n",
      "2016-11-02T08:12:46+0000\n",
      "2016-11-02T08:13:34+0000\n",
      "2016-11-02T08:14:21+0000\n",
      "2016-11-02T08:15:09+0000\n",
      "2016-11-02T08:15:56+0000\n",
      "2016-11-02T08:16:44+0000\n",
      "2016-11-02T08:17:31+0000\n",
      "2016-11-02T08:18:19+0000\n",
      "2016-11-02T08:19:05+0000\n",
      "2016-11-02T08:19:59+0000\n",
      "2016-11-02T08:20:46+0000\n",
      "2016-11-02T08:21:35+0000\n",
      "2016-11-02T08:22:23+0000\n",
      "2016-11-02T08:23:12+0000\n",
      "2016-11-02T08:23:59+0000\n",
      "2016-11-02T08:24:48+0000\n",
      "2016-11-02T08:25:35+0000\n",
      "2016-11-02T08:26:25+0000\n",
      "2016-11-02T08:27:12+0000\n",
      "2016-11-02T08:28:01+0000\n",
      "2016-11-02T08:28:48+0000\n",
      "2016-11-02T08:29:36+0000\n",
      "2016-11-02T08:30:22+0000\n",
      "2016-11-02T08:31:11+0000\n",
      "2016-11-02T08:31:58+0000\n",
      "2016-11-02T08:32:48+0000\n",
      "2016-11-02T08:33:35+0000\n",
      "2016-11-02T08:34:23+0000\n",
      "2016-11-02T08:35:10+0000\n",
      "2016-11-02T08:35:59+0000\n",
      "2016-11-02T08:36:46+0000\n",
      "2016-11-02T08:37:35+0000\n",
      "2016-11-02T08:38:23+0000\n",
      "2016-11-02T08:39:11+0000\n",
      "2016-11-02T08:39:58+0000\n",
      "2016-11-02T08:40:47+0000\n",
      "2016-11-02T08:41:34+0000\n",
      "2016-11-02T08:42:24+0000\n",
      "2016-11-02T08:43:12+0000\n",
      "2016-11-02T08:44:01+0000\n",
      "2016-11-02T08:44:48+0000\n",
      "2016-11-02T08:45:38+0000\n",
      "2016-11-02T08:46:26+0000\n",
      "2016-11-02T08:47:14+0000\n",
      "2016-11-02T08:48:01+0000\n",
      "2016-11-02T08:48:51+0000\n",
      "2016-11-02T08:49:37+0000\n",
      "2016-11-02T08:50:27+0000\n",
      "2016-11-02T08:51:15+0000\n",
      "2016-11-02T08:52:03+0000\n",
      "2016-11-02T08:52:49+0000\n",
      "2016-11-02T08:53:38+0000\n",
      "2016-11-02T08:54:26+0000\n",
      "2016-11-02T08:55:14+0000\n",
      "2016-11-02T08:56:03+0000\n",
      "2016-11-02T08:56:51+0000\n",
      "2016-11-02T08:57:39+0000\n",
      "2016-11-02T08:58:28+0000\n",
      "2016-11-02T08:59:15+0000\n",
      "2016-11-02T09:00:04+0000\n",
      "2016-11-02T09:00:52+0000\n",
      "2016-11-02T09:01:41+0000\n",
      "2016-11-02T09:02:28+0000\n",
      "2016-11-02T09:03:16+0000\n",
      "2016-11-02T09:04:03+0000\n",
      "2016-11-02T09:04:51+0000\n",
      "2016-11-02T09:05:38+0000\n",
      "2016-11-02T09:06:27+0000\n",
      "2016-11-02T09:07:14+0000\n",
      "2016-11-02T09:08:03+0000\n",
      "2016-11-02T09:08:50+0000\n",
      "2016-11-02T09:09:39+0000\n",
      "2016-11-02T09:10:25+0000\n",
      "2016-11-02T09:11:16+0000\n",
      "2016-09-08T08:00:36+0000\n",
      "2016-09-08T08:01:21+0000\n",
      "2016-09-08T08:02:04+0000\n",
      "2016-09-08T08:02:47+0000\n",
      "2016-09-08T08:03:30+0000\n",
      "2016-09-08T08:04:14+0000\n",
      "2016-09-08T08:04:57+0000\n",
      "2016-09-08T08:05:39+0000\n",
      "2016-09-08T08:06:22+0000\n",
      "2016-09-08T08:07:06+0000\n",
      "2016-09-08T08:12:16+0000\n",
      "2016-09-08T08:12:59+0000\n",
      "2016-09-08T08:13:42+0000\n",
      "2016-09-08T08:14:25+0000\n",
      "2016-09-08T08:15:10+0000\n",
      "2016-09-08T08:15:52+0000\n",
      "2016-09-08T08:16:36+0000\n",
      "2016-09-08T08:17:19+0000\n",
      "2016-09-08T08:18:01+0000\n",
      "2016-09-08T08:18:43+0000\n",
      "2016-09-08T08:19:26+0000\n",
      "2016-09-08T08:20:10+0000\n",
      "2016-09-08T08:20:53+0000\n",
      "2016-09-08T08:21:37+0000\n",
      "2016-09-08T09:58:00+0000\n",
      "2016-09-08T09:58:43+0000\n",
      "2016-09-08T09:59:26+0000\n",
      "2016-09-08T10:00:09+0000\n",
      "2016-09-08T10:00:52+0000\n",
      "2016-09-08T10:01:35+0000\n",
      "2016-09-08T10:02:17+0000\n",
      "2016-09-08T10:03:01+0000\n",
      "2016-09-08T10:03:45+0000\n",
      "2016-09-08T10:04:28+0000\n",
      "2016-09-08T10:05:11+0000\n",
      "2016-09-08T10:05:55+0000\n",
      "2016-09-08T10:06:39+0000\n",
      "2016-09-08T10:07:22+0000\n",
      "2016-09-08T10:08:05+0000\n",
      "2016-09-08T10:08:48+0000\n",
      "2016-09-08T10:09:30+0000\n",
      "2016-09-08T10:10:14+0000\n",
      "2016-09-08T10:10:58+0000\n",
      "2016-09-08T10:11:41+0000\n",
      "2016-09-08T10:12:24+0000\n",
      "2016-09-08T10:13:08+0000\n",
      "2016-09-08T10:13:50+0000\n",
      "2016-09-08T10:14:32+0000\n",
      "2016-09-08T10:15:15+0000\n",
      "2016-09-08T10:15:58+0000\n",
      "2016-09-08T10:16:42+0000\n",
      "2016-09-08T10:17:25+0000\n",
      "2016-09-08T10:18:09+0000\n",
      "2016-09-08T10:18:51+0000\n",
      "2016-09-08T10:19:34+0000\n",
      "2016-09-08T10:20:17+0000\n",
      "2016-09-08T10:21:00+0000\n",
      "2016-09-08T10:21:44+0000\n",
      "2016-09-08T10:22:27+0000\n",
      "2016-09-08T10:23:10+0000\n",
      "2016-09-08T10:23:53+0000\n",
      "2016-09-08T10:24:36+0000\n",
      "2016-09-08T10:25:20+0000\n",
      "2016-09-08T10:26:03+0000\n",
      "2016-09-08T10:26:46+0000\n",
      "2016-09-08T10:27:30+0000\n",
      "2016-09-08T10:28:12+0000\n",
      "2016-09-08T10:28:55+0000\n",
      "2016-09-08T10:29:38+0000\n",
      "2016-09-08T10:30:21+0000\n",
      "2016-09-08T10:31:04+0000\n",
      "2016-09-08T10:31:48+0000\n",
      "2016-09-08T10:32:31+0000\n",
      "2016-09-08T10:33:14+0000\n",
      "2016-09-08T10:33:57+0000\n",
      "2016-09-08T10:34:40+0000\n",
      "2016-09-08T10:35:24+0000\n",
      "2016-09-08T10:36:07+0000\n",
      "2016-09-08T10:36:49+0000\n",
      "2016-09-08T10:37:32+0000\n",
      "2016-09-08T10:38:15+0000\n",
      "2016-09-08T10:38:58+0000\n",
      "2016-09-08T10:39:42+0000\n",
      "2016-09-08T10:40:26+0000\n",
      "2016-09-08T10:41:08+0000\n",
      "2016-09-08T10:41:51+0000\n",
      "2016-09-08T10:42:34+0000\n",
      "2016-09-08T10:43:17+0000\n",
      "2016-09-08T10:44:01+0000\n",
      "2016-09-08T10:44:44+0000\n",
      "2016-09-08T10:45:26+0000\n",
      "2016-09-08T10:46:09+0000\n",
      "2016-09-08T10:46:52+0000\n",
      "2016-09-08T10:47:36+0000\n",
      "2016-09-08T10:48:18+0000\n",
      "2016-09-08T10:49:01+0000\n",
      "2016-09-08T10:49:44+0000\n",
      "2016-09-08T10:50:27+0000\n"
     ]
    }
   ],
   "source": [
    "ra_vals = np.zeros(len(labels))\n",
    "dec_vals = np.zeros(len(labels))\n",
    "for i in range(len(labels)):\n",
    "    hdulist = fits.open(raw_frames_root+labels[i]+'.fits')\n",
    "    h = hdulist[0].header\n",
    "    print(h['DATE-OBS'])\n",
    "    ra_vals[i] = h['RA']\n",
    "    dec_vals[i] = h['DEC']\n",
    "ra_vals[ra_vals>180] -= 360\n",
    "\n",
    "ra_vals2 = np.zeros(len(labels2))\n",
    "dec_vals2 = np.zeros(len(labels2))\n",
    "for i in range(len(labels2)):\n",
    "    hdulist = fits.open(raw_frames_root2+labels2[i]+'.fits')\n",
    "    h = hdulist[0].header\n",
    "    print(h['DATE-OBS'])\n",
    "    ra_vals2[i] = h['RA']\n",
    "    dec_vals2[i] = h['DEC']\n",
    "ra_vals2[ra_vals2>180] -= 360"
   ]
  },
  {
   "cell_type": "code",
   "execution_count": 4,
   "metadata": {
    "collapsed": true
   },
   "outputs": [],
   "source": [
    "def draw_square_at_point(x,y,s,c,lw,sty='-',label=None):\n",
    "    plt.plot([x-s/2,x+s/2,x+s/2,x-s/2,x-s/2],[y-s/2,y-s/2,y+s/2,y+s/2,y-s/2],c+sty,linewidth=lw,label=label)"
   ]
  },
  {
   "cell_type": "code",
   "execution_count": 5,
   "metadata": {
    "collapsed": false
   },
   "outputs": [],
   "source": [
    "g2=np.arange(len(dec_vals2))[(ra_vals2>-5)&(ra_vals2<0)&(dec_vals2>-25)&(dec_vals2<-22.5)]"
   ]
  },
  {
   "cell_type": "code",
   "execution_count": 6,
   "metadata": {
    "collapsed": false
   },
   "outputs": [],
   "source": [
    "g1=np.arange(len(dec_vals))[(ra_vals<-3)&(dec_vals>-24)]"
   ]
  },
  {
   "cell_type": "code",
   "execution_count": 7,
   "metadata": {
    "collapsed": false
   },
   "outputs": [
    {
     "data": {
      "text/plain": [
       "array(['02a57694o0286I', '02a57694o0290I', '02a57694o0306I',\n",
       "       '02a57694o0310I'], \n",
       "      dtype='|S14')"
      ]
     },
     "execution_count": 7,
     "metadata": {},
     "output_type": "execute_result"
    }
   ],
   "source": [
    "np.array(labels)[g1]"
   ]
  },
  {
   "cell_type": "code",
   "execution_count": 8,
   "metadata": {
    "collapsed": false
   },
   "outputs": [
    {
     "data": {
      "text/plain": [
       "array(['02a57639o0342I', '02a57639o0343I', '02a57639o0344I',\n",
       "       '02a57639o0345I', '02a57639o0346I'], \n",
       "      dtype='|S14')"
      ]
     },
     "execution_count": 8,
     "metadata": {},
     "output_type": "execute_result"
    }
   ],
   "source": [
    "np.array(labels2)[g2]"
   ]
  },
  {
   "cell_type": "code",
   "execution_count": 7,
   "metadata": {
    "collapsed": true
   },
   "outputs": [],
   "source": [
    "center9 = '''02a57694o0299I 02a57694o0303I 02a57694o0307I 02a57694o0319I 02a57694o0323I 02a57694o0327I 02a57694o0339I 02a57694o0343I 02a57694o0347I \n",
    "02a57694o0298I 02a57694o0302I 02a57694o0306I 02a57694o0318I 02a57694o0322I 02a57694o0326I 02a57694o0338I 02a57694o0342I 02a57694o0346I \n",
    "02a57694o0301I 02a57694o0305I 02a57694o0309I 02a57694o0321I 02a57694o0325I 02a57694o0329I 02a57694o0341I 02a57694o0345I 02a57694o0349I \n",
    "02a57694o0300I 02a57694o0304I 02a57694o0308I 02a57694o0320I 02a57694o0324I 02a57694o0328I 02a57694o0340I 02a57694o0344I 02a57694o0348I'''.split()"
   ]
  },
  {
   "cell_type": "code",
   "execution_count": 8,
   "metadata": {
    "collapsed": false
   },
   "outputs": [
    {
     "data": {
      "image/png": "[encoded data removed]",
      "text/plain": [
       "<matplotlib.figure.Figure at 0x1066a31d0>"
      ]
     },
     "metadata": {},
     "output_type": "display_data"
    }
   ],
   "source": [
    "plt.figure(figsize=(10,10))\n",
    "matplotlib.rcParams.update({'font.size': 16})\n",
    "\n",
    "incenter9 = np.array([labels[i] in center9 for i in range(len(ra_vals))])\n",
    "plt.plot(np.cos(dec_vals[incenter9]*np.pi/180.)*ra_vals[incenter9],dec_vals[incenter9],'ro',label='30 sec ATLAS exposure')\n",
    "\n",
    "first = True\n",
    "for infield in [infield0,infield1,infield2,infield3]:\n",
    "    g = infield&incenter9\n",
    "    l = None\n",
    "    if first:\n",
    "        l = '4 deg ATLAS stack'\n",
    "        first = False\n",
    "    draw_square_at_point(np.mean(np.cos(dec_vals[g]*np.pi/180.)*ra_vals[g]),np.mean(dec_vals[g]),4.,'r',2,label=l)\n",
    "        \n",
    "#for i in range(len(ra_vals2)):\n",
    "    #draw_square_at_point(np.cos(dec_vals2[i]*np.pi/180.)*ra_vals2[i],dec_vals2[i],5.5,'b',1)\n",
    "plt.plot(np.cos(dec_vals2*np.pi/180.)*ra_vals2,dec_vals2,'bs',label='2.5 min ATLAS exposure')\n",
    "draw_square_at_point(0,-30,20.,'b',2,label='20 deg ATLAS stack')\n",
    "\n",
    "fov_deg = 25.\n",
    "xvals = np.linspace(-fov_deg/2.,fov_deg/2.,150)\n",
    "plt.plot(np.concatenate([xvals,xvals[::-1]]),np.concatenate([np.sqrt((fov_deg/2.)**2-xvals**2)-27.,\\\n",
    "                                                             -np.sqrt((fov_deg/2.)**2-xvals[::-1]**2)-27.]),\\\n",
    "         'k--',linewidth=2,label='MWA 50% beam contour (185MHz)')\n",
    " \n",
    "plt.xlim([-14,14])\n",
    "plt.ylim([-27-14,-27+14])\n",
    "plt.xlabel('cos(DEC)*RA (J2000) (deg)')\n",
    "plt.ylabel('Dec (J2000) (deg)')\n",
    "\n",
    "plt.legend(fontsize=14)\n",
    "plt.savefig('survey_overview.pdf',bbox_inches='tight')"
   ]
  },
  {
   "cell_type": "code",
   "execution_count": 72,
   "metadata": {
    "collapsed": false
   },
   "outputs": [
    {
     "data": {
      "text/plain": [
       "array([ 0.        ,  2.82783805,  3.95728968,  4.7948327 ,  5.47608484,\n",
       "        6.05403958,  6.55607282,  6.99854212,  7.39215113,  7.74435345,\n",
       "        8.06057864,  8.34491767,  8.60053368,  8.82992149,  9.03507903,\n",
       "        9.21762432,  9.37887779,  9.51992146,  9.64164229,  9.7447644 ,\n",
       "        9.82987313,  9.89743319,  9.94780213,  9.98124021,  9.99791732,\n",
       "        9.99791732,  9.98124021,  9.94780213,  9.89743319,  9.82987313,\n",
       "        9.7447644 ,  9.64164229,  9.51992146,  9.37887779,  9.21762432,\n",
       "        9.03507903,  8.82992149,  8.60053368,  8.34491767,  8.06057864,\n",
       "        7.74435345,  7.39215113,  6.99854212,  6.55607282,  6.05403958,\n",
       "        5.47608484,  4.7948327 ,  3.95728968,  2.82783805,  0.        ])"
      ]
     },
     "execution_count": 72,
     "metadata": {},
     "output_type": "execute_result"
    }
   ],
   "source": [
    "np.sqrt(10.**2-xvals**2)"
   ]
  },
  {
   "cell_type": "code",
   "execution_count": 77,
   "metadata": {
    "collapsed": false
   },
   "outputs": [
    {
     "data": {
      "text/plain": [
       "24.324324324324326"
      ]
     },
     "execution_count": 77,
     "metadata": {},
     "output_type": "execute_result"
    }
   ],
   "source": [
    "300./185/4.*60"
   ]
  },
  {
   "cell_type": "code",
   "execution_count": null,
   "metadata": {
    "collapsed": true
   },
   "outputs": [],
   "source": []
  },
  {
   "cell_type": "code",
   "execution_count": null,
   "metadata": {
    "collapsed": true
   },
   "outputs": [],
   "source": [
    "# analytic MWA beam\n",
    "\n",
    "# MWA beam\n",
    "\n",
    "\n",
    "\n",
    "khat = transpose(array([sin(za)*sin(az),sin(za)*cos(az)]))\n",
    "dipoles = array([[0,0],[1.1,0],[2.2,0],[3.3,0],[0,-1.1],[1.1,-1.1],[2.2,-1.1],[3.3,-1.1],[0,-2.2],[1.1,-2.2],[2.2,-2.2],[3.3,-2.2],[0,-3.3],[1.1,-3.3],[2.2,-3.3],[3.3,-3.3]])\n",
    "beam = zeros(len(za))\n",
    "freq = 185.\n",
    "lamda = 300./freq\n",
    "h=.3\n",
    "for pixi in range(len(za)):\n",
    "    dipole = sqrt(1-sin(za[pixi])**2*sin(az[pixi])**2)\n",
    "    ground_screen = (1-exp(4*pi*1j*h*cos(za[pixi])/lamda))/(1-exp(4*pi*1j*h/lamda))\n",
    "    array_factor = sum(exp(1j*2*pi/lamda*(khat[pixi,0]*dipoles[:,0]+khat[pixi,1]*dipoles[:,1])))\n",
    "    beam[pixi] = abs(dipole*ground_screen*array_factor)**2\n"
   ]
  },
  {
   "cell_type": "code",
   "execution_count": null,
   "metadata": {
    "collapsed": true
   },
   "outputs": [],
   "source": []
  },
  {
   "cell_type": "code",
   "execution_count": null,
   "metadata": {
    "collapsed": true
   },
   "outputs": [],
   "source": []
  },
  {
   "cell_type": "code",
   "execution_count": 14,
   "metadata": {
    "collapsed": false
   },
   "outputs": [
    {
     "data": {
      "text/plain": [
       "<matplotlib.text.Text at 0x1064438d0>"
      ]
     },
     "execution_count": 14,
     "metadata": {},
     "output_type": "execute_result"
    },
    {
     "data": {
      "image/png": "[encoded data removed]",
      "text/plain": [
       "<matplotlib.figure.Figure at 0x1064506d0>"
      ]
     },
     "metadata": {},
     "output_type": "display_data"
    }
   ],
   "source": [
    "plt.figure(figsize=(20,15))\n",
    "# for i in range(len(ra_vals)):\n",
    "#     plt.text(ra_vals[i],dec_vals[i],str(i))\n",
    "\n",
    "# label_indices_for_catalog = [52,94,49,91]\n",
    "# for i in label_indices_for_catalog:\n",
    "#     print(labels[i]),\n",
    "\n",
    "for i in g1:\n",
    "    draw_square_at_point(ra_vals[i],dec_vals[i],5,'r',1)\n",
    "    plt.plot(ra_vals[i],dec_vals[i],'rs')\n",
    "\n",
    "for i in g2:\n",
    "    draw_square_at_point(ra_vals2[i],dec_vals2[i],5,'b',1)\n",
    "\n",
    "draw_square_at_point(-3.4,-23.5,3.,'k',3)\n",
    "    \n",
    "plt.plot(ra_vals,dec_vals,'r.')\n",
    "plt.plot(ra_vals2,dec_vals2,'b.')\n",
    "#plt.plot([-10,10],[-23,-23])\n",
    "plt.xlim([-10,10])\n",
    "plt.ylim([-40,-20])\n",
    "plt.xlabel('RA')\n",
    "plt.ylabel('Dec')"
   ]
  },
  {
   "cell_type": "code",
   "execution_count": null,
   "metadata": {
    "collapsed": true
   },
   "outputs": [],
   "source": []
  },
  {
   "cell_type": "code",
   "execution_count": null,
   "metadata": {
    "collapsed": false
   },
   "outputs": [
    {
     "data": {
      "text/plain": [
       "<matplotlib.text.Text at 0x10662e3d0>"
      ]
     },
     "execution_count": 15,
     "metadata": {},
     "output_type": "execute_result"
    }
   ],
   "source": [
    "plt.figure(figsize=(20,15))\n",
    "\n",
    "for i in range(len(ra_vals)):\n",
    "    plt.text(ra_vals[i],dec_vals[i],str(i))\n",
    "\n",
    "for i in range(len(ra_vals2)):\n",
    "    plt.text(ra_vals2[i],dec_vals2[i],str(i))\n",
    "\n",
    "# plt.xlim([-5,0])\n",
    "# plt.ylim([-25,-20])\n",
    "plt.xlabel('RA')\n",
    "plt.ylabel('Dec')"
   ]
  },
  {
   "cell_type": "code",
   "execution_count": 16,
   "metadata": {
    "collapsed": false
   },
   "outputs": [
    {
     "data": {
      "image/png": "[encoded data removed]",
      "text/plain": [
       "<matplotlib.figure.Figure at 0x10e178e50>"
      ]
     },
     "metadata": {},
     "output_type": "display_data"
    }
   ],
   "source": [
    "\n",
    "frame_indices = np.zeros(len(ra_vals),dtype=int)\n",
    "plt.figure(figsize=(12,10))\n",
    "for i in range(len(ra_vals)):\n",
    "    c = 'r'\n",
    "    if ra_vals[i]< -3.5 or ra_vals[i] > 3.5 or \\\n",
    "    -1.5 < ra_vals[i] < 0 or 0 < ra_vals[i] < 1.5\\\n",
    "    or dec_vals[i] > -23.5 or dec_vals[i] < -30.5\\\n",
    "    or -26 < dec_vals[i] < -25.5 or -28.5 < dec_vals[i] < -27:\n",
    "        c = 'b'\n",
    "        \n",
    "    if ra_vals[i]<0:\n",
    "        frame_indices[i] = 0 if dec_vals[i]<-27 else 1\n",
    "    else:\n",
    "        frame_indices[i] = 2 if dec_vals[i]<-27 else 3\n",
    "        \n",
    "    #if c == 'b': frame_indices[i] = -1\n",
    "        \n",
    "    \n",
    "    #if c == 'r': draw_square_at_point(ra_vals[i],dec_vals[i],5,c,lw=frame_indices[i]+1)\n",
    "    draw_square_at_point(ra_vals[i],dec_vals[i],5,c,lw=frame_indices[i]+1)\n",
    "    \n",
    "    plt.plot(ra_vals[i],dec_vals[i],c+'.')\n",
    "    plt.xlim([-7,7])\n",
    "    plt.ylim([-35,-20])\n",
    "    plt.xlabel('RA')\n",
    "    plt.ylabel('Dec')"
   ]
  },
  {
   "cell_type": "code",
   "execution_count": null,
   "metadata": {
    "collapsed": false
   },
   "outputs": [],
   "source": [
    "for i in range(4):\n",
    "    print(' '.join(np.array(labels)[frame_indices==i])+'\\n')"
   ]
  },
  {
   "cell_type": "code",
   "execution_count": 5,
   "metadata": {
    "collapsed": true
   },
   "outputs": [],
   "source": [
    "infield0 = (ra_vals<0)&(dec_vals>-27)\n",
    "infield1 = (ra_vals>0)&(dec_vals>-27)\n",
    "infield2 = (ra_vals<0)&(dec_vals<-27)\n",
    "infield3 = (ra_vals>0)&(dec_vals<-27)"
   ]
  },
  {
   "cell_type": "code",
   "execution_count": null,
   "metadata": {
    "collapsed": false
   },
   "outputs": [],
   "source": [
    "field0_labels = np.array(labels)[infield0]\n",
    "field1_labels = np.array(labels)[infield1]\n",
    "field2_labels = np.array(labels)[infield2]\n",
    "field3_labels = np.array(labels)[infield3]"
   ]
  },
  {
   "cell_type": "code",
   "execution_count": null,
   "metadata": {
    "collapsed": false
   },
   "outputs": [],
   "source": [
    "len(field0_labels),len(field1_labels),len(field2_labels),len(field3_labels)"
   ]
  },
  {
   "cell_type": "code",
   "execution_count": null,
   "metadata": {
    "collapsed": false
   },
   "outputs": [],
   "source": [
    "open('/Users/abrahamn/Documents/MIT/21cm/21cmIR/21cmIRxcor/stack_at_frame_center/field0.radec','w').write(\"%1.3f,%1.3f\"%(np.mean(ra_vals[infield0]),np.mean(dec_vals[infield0])))\n",
    "open('/Users/abrahamn/Documents/MIT/21cm/21cmIR/21cmIRxcor/stack_at_frame_center/field1.radec','w').write(\"%1.3f,%1.3f\"%(np.mean(ra_vals[infield1]),np.mean(dec_vals[infield1])))\n",
    "open('/Users/abrahamn/Documents/MIT/21cm/21cmIR/21cmIRxcor/stack_at_frame_center/field2.radec','w').write(\"%1.3f,%1.3f\"%(np.mean(ra_vals[infield2]),np.mean(dec_vals[infield2])))\n",
    "open('/Users/abrahamn/Documents/MIT/21cm/21cmIR/21cmIRxcor/stack_at_frame_center/field3.radec','w').write(\"%1.3f,%1.3f\"%(np.mean(ra_vals[infield3]),np.mean(dec_vals[infield3])))"
   ]
  },
  {
   "cell_type": "code",
   "execution_count": null,
   "metadata": {
    "collapsed": false
   },
   "outputs": [],
   "source": [
    "r,d=np.genfromtxt('/Users/abrahamn/Documents/MIT/21cm/21cmIR/21cmIRxcor/stack_at_frame_center/field0.radec',delimiter=',')"
   ]
  },
  {
   "cell_type": "code",
   "execution_count": 32,
   "metadata": {
    "collapsed": false
   },
   "outputs": [
    {
     "data": {
      "text/plain": [
       "-24.538"
      ]
     },
     "execution_count": 32,
     "metadata": {},
     "output_type": "execute_result"
    }
   ],
   "source": [
    "d"
   ]
  },
  {
   "cell_type": "code",
   "execution_count": 17,
   "metadata": {
    "collapsed": false
   },
   "outputs": [],
   "source": [
    "open('/Users/abrahamn/Documents/MIT/21cm/21cmIR/21cmIRxcor/stack_at_frame_center/field0.labels','w').write('\\n'.join(field0_labels))\n",
    "open('/Users/abrahamn/Documents/MIT/21cm/21cmIR/21cmIRxcor/stack_at_frame_center/field1.labels','w').write('\\n'.join(field1_labels))\n",
    "open('/Users/abrahamn/Documents/MIT/21cm/21cmIR/21cmIRxcor/stack_at_frame_center/field2.labels','w').write('\\n'.join(field2_labels))\n",
    "open('/Users/abrahamn/Documents/MIT/21cm/21cmIR/21cmIRxcor/stack_at_frame_center/field3.labels','w').write('\\n'.join(field3_labels))"
   ]
  },
  {
   "cell_type": "code",
   "execution_count": null,
   "metadata": {
    "collapsed": true
   },
   "outputs": [],
   "source": []
  }
 ],
 "metadata": {
  "kernelspec": {
   "display_name": "Python 2",
   "language": "python",
   "name": "python2"
  },
  "language_info": {
   "codemirror_mode": {
    "name": "ipython",
    "version": 2
   },
   "file_extension": ".py",
   "mimetype": "text/x-python",
   "name": "python",
   "nbconvert_exporter": "python",
   "pygments_lexer": "ipython2",
   "version": "2.7.12"
  }
 },
 "nbformat": 4,
 "nbformat_minor": 1
}
