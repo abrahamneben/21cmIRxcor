{
 "cells": [
  {
   "cell_type": "code",
   "execution_count": 1,
   "metadata": {
    "collapsed": false
   },
   "outputs": [],
   "source": [
    "from astropy.io import fits\n",
    "import commands\n",
    "import numpy as np\n",
    "import matplotlib\n",
    "%matplotlib inline\n",
    "import matplotlib.pyplot as plt"
   ]
  },
  {
   "cell_type": "code",
   "execution_count": 2,
   "metadata": {
    "collapsed": false
   },
   "outputs": [],
   "source": [
    "raw_frames_root = '/Volumes/abraham/xcor_data/ATLAS_mwa57694/'\n",
    "labels = [l.split('/')[-1].split('.')[0] for l in commands.getoutput('ls '+raw_frames_root+'*.fits.fz').split()]"
   ]
  },
  {
   "cell_type": "code",
   "execution_count": 3,
   "metadata": {
    "collapsed": false
   },
   "outputs": [],
   "source": [
    "ra_vals = np.zeros(len(labels))\n",
    "dec_vals = np.zeros(len(labels))\n",
    "for i in range(len(labels)):\n",
    "    hdulist = fits.open(raw_frames_root+labels[i]+'.fits')\n",
    "    h = hdulist[0].header\n",
    "    ra_vals[i] = h['RA']\n",
    "    dec_vals[i] = h['DEC']\n",
    "ra_vals[ra_vals>180] -= 360"
   ]
  },
  {
   "cell_type": "code",
   "execution_count": 4,
   "metadata": {
    "collapsed": true
   },
   "outputs": [],
   "source": [
    "def draw_square_at_point(x,y,s,c,lw):\n",
    "    plt.plot([x-s/2,x+s/2,x+s/2,x-s/2,x-s/2],[y-s/2,y-s/2,y+s/2,y+s/2,y-s/2],c+'-',linewidth=lw)"
   ]
  },
  {
   "cell_type": "code",
   "execution_count": 5,
   "metadata": {
    "collapsed": false
   },
   "outputs": [
    {
     "name": "stdout",
     "output_type": "stream",
     "text": [
      "02a57694o0326I 02a57694o0368I 02a57694o0323I 02a57694o0365I"
     ]
    },
    {
     "data": {
      "text/plain": [
       "<matplotlib.text.Text at 0x10640b450>"
      ]
     },
     "execution_count": 5,
     "metadata": {},
     "output_type": "execute_result"
    },
    {
     "name": "stdout",
     "output_type": "stream",
     "text": [
      "\n"
     ]
    },
    {
     "data": {
      "image/png": "[encoded data removed]",
      "text/plain": [
       "<matplotlib.figure.Figure at 0x106425690>"
      ]
     },
     "metadata": {},
     "output_type": "display_data"
    }
   ],
   "source": [
    "plt.figure(figsize=(12,10))\n",
    "for i in range(len(ra_vals)):\n",
    "    plt.text(ra_vals[i],dec_vals[i],str(i))\n",
    "\n",
    "label_indices_for_catalog = [52,94,49,91]\n",
    "for i in label_indices_for_catalog:\n",
    "    print(labels[i]),\n",
    "    draw_square_at_point(ra_vals[i],dec_vals[i],5,'k',1)\n",
    "    \n",
    "plt.xlim([-7,7])\n",
    "plt.ylim([-35,-20])\n",
    "plt.xlabel('RA')\n",
    "plt.ylabel('Dec')"
   ]
  },
  {
   "cell_type": "code",
   "execution_count": 21,
   "metadata": {
    "collapsed": false
   },
   "outputs": [],
   "source": [
    "\n",
    "# frame_indices = np.zeros(len(ra_vals),dtype=int)\n",
    "# plt.figure(figsize=(12,10))\n",
    "# for i in range(len(ra_vals)):\n",
    "#     c = 'r'\n",
    "#     if ra_vals[i]< -3.5 or ra_vals[i] > 3.5 or \\\n",
    "#     -1.5 < ra_vals[i] < 0 or 0 < ra_vals[i] < 1.5\\\n",
    "#     or dec_vals[i] > -23.5 or dec_vals[i] < -30.5\\\n",
    "#     or -26 < dec_vals[i] < -25.5 or -28.5 < dec_vals[i] < -27:\n",
    "#         c = 'b'\n",
    "        \n",
    "#     if ra_vals[i]<0:\n",
    "#         frame_indices[i] = 0 if dec_vals[i]<-27 else 1\n",
    "#     else:\n",
    "#         frame_indices[i] = 2 if dec_vals[i]<-27 else 3\n",
    "        \n",
    "#     #if c == 'b': frame_indices[i] = -1\n",
    "        \n",
    "    \n",
    "#     #if c == 'r': draw_square_at_point(ra_vals[i],dec_vals[i],5,c,lw=frame_indices[i]+1)\n",
    "#     draw_square_at_point(ra_vals[i],dec_vals[i],5,c,lw=frame_indices[i]+1)\n",
    "    \n",
    "#     plt.plot(ra_vals[i],dec_vals[i],c+'.')\n",
    "#     plt.xlim([-7,7])\n",
    "#     plt.ylim([-35,-20])\n",
    "#     plt.xlabel('RA')\n",
    "#     plt.ylabel('Dec')"
   ]
  },
  {
   "cell_type": "code",
   "execution_count": 73,
   "metadata": {
    "collapsed": false
   },
   "outputs": [
    {
     "name": "stdout",
     "output_type": "stream",
     "text": [
      "02a57694o0299I 02a57694o0303I 02a57694o0307I 02a57694o0319I 02a57694o0323I 02a57694o0327I 02a57694o0339I 02a57694o0343I 02a57694o0347I\n",
      "\n",
      "02a57694o0298I 02a57694o0302I 02a57694o0306I 02a57694o0318I 02a57694o0322I 02a57694o0326I 02a57694o0338I 02a57694o0342I 02a57694o0346I\n",
      "\n",
      "02a57694o0301I 02a57694o0305I 02a57694o0309I 02a57694o0321I 02a57694o0325I 02a57694o0329I 02a57694o0341I 02a57694o0345I 02a57694o0349I\n",
      "\n",
      "02a57694o0300I 02a57694o0304I 02a57694o0308I 02a57694o0320I 02a57694o0324I 02a57694o0328I 02a57694o0340I 02a57694o0344I 02a57694o0348I\n",
      "\n"
     ]
    }
   ],
   "source": [
    "for i in range(4):\n",
    "    print(' '.join(np.array(labels)[frame_indices==i])+'\\n')"
   ]
  },
  {
   "cell_type": "code",
   "execution_count": 20,
   "metadata": {
    "collapsed": true
   },
   "outputs": [],
   "source": [
    "infield0 = (ra_vals<0)&(dec_vals>-27)\n",
    "infield1 = (ra_vals>0)&(dec_vals>-27)\n",
    "infield2 = (ra_vals<0)&(dec_vals<-27)\n",
    "infield3 = (ra_vals>0)&(dec_vals<-27)"
   ]
  },
  {
   "cell_type": "code",
   "execution_count": 21,
   "metadata": {
    "collapsed": false
   },
   "outputs": [],
   "source": [
    "field0_labels = np.array(labels)[infield0]\n",
    "field1_labels = np.array(labels)[infield1]\n",
    "field2_labels = np.array(labels)[infield2]\n",
    "field3_labels = np.array(labels)[infield3]"
   ]
  },
  {
   "cell_type": "code",
   "execution_count": 22,
   "metadata": {
    "collapsed": false
   },
   "outputs": [
    {
     "data": {
      "text/plain": [
       "(27, 26, 26, 26)"
      ]
     },
     "execution_count": 22,
     "metadata": {},
     "output_type": "execute_result"
    }
   ],
   "source": [
    "len(field0_labels),len(field1_labels),len(field2_labels),len(field3_labels)"
   ]
  },
  {
   "cell_type": "code",
   "execution_count": 24,
   "metadata": {
    "collapsed": false
   },
   "outputs": [],
   "source": [
    "open('/Users/abrahamn/Documents/MIT/21cm/21cmIR/21cmIRxcor/stack_at_frame_center/field0.radec','w').write(\"%1.3f,%1.3f\"%(np.mean(ra_vals[infield0]),np.mean(dec_vals[infield0])))\n",
    "open('/Users/abrahamn/Documents/MIT/21cm/21cmIR/21cmIRxcor/stack_at_frame_center/field1.radec','w').write(\"%1.3f,%1.3f\"%(np.mean(ra_vals[infield1]),np.mean(dec_vals[infield1])))\n",
    "open('/Users/abrahamn/Documents/MIT/21cm/21cmIR/21cmIRxcor/stack_at_frame_center/field2.radec','w').write(\"%1.3f,%1.3f\"%(np.mean(ra_vals[infield2]),np.mean(dec_vals[infield2])))\n",
    "open('/Users/abrahamn/Documents/MIT/21cm/21cmIR/21cmIRxcor/stack_at_frame_center/field3.radec','w').write(\"%1.3f,%1.3f\"%(np.mean(ra_vals[infield3]),np.mean(dec_vals[infield3])))"
   ]
  },
  {
   "cell_type": "code",
   "execution_count": 30,
   "metadata": {
    "collapsed": false
   },
   "outputs": [],
   "source": [
    "r,d=np.genfromtxt('/Users/abrahamn/Documents/MIT/21cm/21cmIR/21cmIRxcor/stack_at_frame_center/field0.radec',delimiter=',')"
   ]
  },
  {
   "cell_type": "code",
   "execution_count": 32,
   "metadata": {
    "collapsed": false
   },
   "outputs": [
    {
     "data": {
      "text/plain": [
       "-24.538"
      ]
     },
     "execution_count": 32,
     "metadata": {},
     "output_type": "execute_result"
    }
   ],
   "source": [
    "d"
   ]
  },
  {
   "cell_type": "code",
   "execution_count": 17,
   "metadata": {
    "collapsed": false
   },
   "outputs": [],
   "source": [
    "open('/Users/abrahamn/Documents/MIT/21cm/21cmIR/21cmIRxcor/stack_at_frame_center/field0.labels','w').write('\\n'.join(field0_labels))\n",
    "open('/Users/abrahamn/Documents/MIT/21cm/21cmIR/21cmIRxcor/stack_at_frame_center/field1.labels','w').write('\\n'.join(field1_labels))\n",
    "open('/Users/abrahamn/Documents/MIT/21cm/21cmIR/21cmIRxcor/stack_at_frame_center/field2.labels','w').write('\\n'.join(field2_labels))\n",
    "open('/Users/abrahamn/Documents/MIT/21cm/21cmIR/21cmIRxcor/stack_at_frame_center/field3.labels','w').write('\\n'.join(field3_labels))"
   ]
  },
  {
   "cell_type": "code",
   "execution_count": null,
   "metadata": {
    "collapsed": true
   },
   "outputs": [],
   "source": []
  }
 ],
 "metadata": {
  "kernelspec": {
   "display_name": "Python 2",
   "language": "python",
   "name": "python2"
  },
  "language_info": {
   "codemirror_mode": {
    "name": "ipython",
    "version": 2
   },
   "file_extension": ".py",
   "mimetype": "text/x-python",
   "name": "python",
   "nbconvert_exporter": "python",
   "pygments_lexer": "ipython2",
   "version": "2.7.12"
  }
 },
 "nbformat": 4,
 "nbformat_minor": 1
}
