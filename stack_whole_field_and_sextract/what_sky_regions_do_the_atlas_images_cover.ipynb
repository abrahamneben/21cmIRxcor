{
 "cells": [
  {
   "cell_type": "code",
   "execution_count": 9,
   "metadata": {
    "collapsed": true
   },
   "outputs": [],
   "source": [
    "import numpy as np\n",
    "\n",
    "import pyfits\n",
    "import matplotlib\n",
    "%matplotlib inline\n",
    "import matplotlib.pyplot as plt\n",
    "import os\n",
    "import commands"
   ]
  },
  {
   "cell_type": "code",
   "execution_count": 10,
   "metadata": {
    "collapsed": true
   },
   "outputs": [],
   "source": [
    "raw_frames_root = '/volumes/abraham/xcor_data/ATLAS_mwa57639/'"
   ]
  },
  {
   "cell_type": "code",
   "execution_count": 34,
   "metadata": {
    "collapsed": false
   },
   "outputs": [],
   "source": [
    "labels = np.array([l.split('/')[-1].split('.')[0] for l in commands.getoutput('ls '+raw_frames_root+'*.fits.fz').split()])"
   ]
  },
  {
   "cell_type": "code",
   "execution_count": 22,
   "metadata": {
    "collapsed": false
   },
   "outputs": [],
   "source": [
    "ra_vals = np.zeros(len(labels))\n",
    "dec_vals = np.zeros(len(labels))\n",
    "magzpt_vals = np.zeros(len(labels))"
   ]
  },
  {
   "cell_type": "code",
   "execution_count": 23,
   "metadata": {
    "collapsed": false
   },
   "outputs": [],
   "source": [
    "for i in range(len(labels)):\n",
    "    hdulist = pyfits.open(raw_frames_root+labels[i]+'.fits')\n",
    "    h = hdulist[0].header\n",
    "    ra_vals[i] = h['RA-MNT']\n",
    "    dec_vals[i] = h['DEC-MNT']\n",
    "    magzpt_vals[i] = h['MAGZPT']\n",
    "    hdulist.close()\n",
    "ra_vals[ra_vals>180] -= 360"
   ]
  },
  {
   "cell_type": "code",
   "execution_count": 24,
   "metadata": {
    "collapsed": false
   },
   "outputs": [
    {
     "data": {
      "text/plain": [
       "<matplotlib.colorbar.Colorbar at 0x10611fb10>"
      ]
     },
     "execution_count": 24,
     "metadata": {},
     "output_type": "execute_result"
    },
    {
     "data": {
      "image/png": "[encoded data removed]",
      "text/plain": [
       "<matplotlib.figure.Figure at 0x105e0c050>"
      ]
     },
     "metadata": {},
     "output_type": "display_data"
    }
   ],
   "source": [
    "matplotlib.rcParams.update({'font.size': 18})\n",
    "\n",
    "plt.scatter(ra_vals,dec_vals,10,magzpt_vals,edgecolors='none')\n",
    "plt.colorbar()"
   ]
  },
  {
   "cell_type": "code",
   "execution_count": 26,
   "metadata": {
    "collapsed": false,
    "scrolled": false
   },
   "outputs": [
    {
     "data": {
      "text/plain": [
       "array([['02a57639o0174I', '-7.44', '-22.34', '20.45'],\n",
       "       ['02a57639o0175I', '-7.45', '-22.32', '20.45'],\n",
       "       ['02a57639o0176I', '-7.42', '-22.36', '20.45'],\n",
       "       ['02a57639o0177I', '-7.41', '-22.31', '20.45'],\n",
       "       ['02a57639o0178I', '-7.43', '-22.33', '20.45'],\n",
       "       ['02a57639o0179I', '-7.44', '-22.34', '20.45'],\n",
       "       ['02a57639o0180I', '-8.05', '-22.47', '20.45'],\n",
       "       ['02a57639o0181I', '-8.05', '-22.47', '20.45'],\n",
       "       ['02a57639o0182I', '-8.05', '-22.47', '20.45'],\n",
       "       ['02a57639o0183I', '-8.05', '-22.47', '20.45'],\n",
       "       ['02a57639o0184I', '-8.44', '-27.48', '20.44'],\n",
       "       ['02a57639o0185I', '-8.44', '-27.48', '20.44'],\n",
       "       ['02a57639o0186I', '-8.44', '-27.48', '20.44'],\n",
       "       ['02a57639o0187I', '-8.44', '-27.48', '20.44'],\n",
       "       ['02a57639o0188I', '-2.07', '-22.33', '20.47'],\n",
       "       ['02a57639o0189I', '-2.08', '-22.32', '20.47'],\n",
       "       ['02a57639o0190I', '-2.05', '-22.35', '20.47'],\n",
       "       ['02a57639o0191I', '-2.04', '-22.3', '20.48'],\n",
       "       ['02a57639o0192I', '-2.06', '-22.33', '20.47'],\n",
       "       ['02a57639o0193I', '-2.06', '-22.33', '20.48'],\n",
       "       ['02a57639o0194I', '-2.6801', '-22.46', '20.47'],\n",
       "       ['02a57639o0195I', '-2.68', '-22.46', '20.47'],\n",
       "       ['02a57639o0196I', '-2.68', '-22.46', '20.47'],\n",
       "       ['02a57639o0197I', '-2.68', '-22.46', '20.47'],\n",
       "       ['02a57639o0308I', '-10.2', '-38.15', '19.42'],\n",
       "       ['02a57639o0309I', '-10.17', '-38.19', '20.42'],\n",
       "       ['02a57639o0310I', '-10.15', '-38.13', '20.42'],\n",
       "       ['02a57639o0311I', '-10.18', '-38.1599', '20.42'],\n",
       "       ['02a57639o0312I', '-9.52', '-33.16', '20.43'],\n",
       "       ['02a57639o0313I', '-9.53', '-33.14', '20.43'],\n",
       "       ['02a57639o0314I', '-9.5', '-33.18', '20.43'],\n",
       "       ['02a57639o0315I', '-9.49', '-33.1199', '20.43'],\n",
       "       ['02a57639o0316I', '-9.51', '-33.15', '20.43'],\n",
       "       ['02a57639o0317I', '-9.09', '-28.15', '20.45'],\n",
       "       ['02a57639o0318I', '-9.1', '-28.13', '20.45'],\n",
       "       ['02a57639o0319I', '-9.07', '-28.17', '20.45'],\n",
       "       ['02a57639o0320I', '-9.06', '-28.1099', '20.45'],\n",
       "       ['02a57639o0321I', '-9.08', '-28.14', '20.45'],\n",
       "       ['02a57639o0322I', '-8.67', '-23.14', '20.46'],\n",
       "       ['02a57639o0323I', '-8.68', '-23.12', '20.46'],\n",
       "       ['02a57639o0324I', '-8.65', '-23.16', '20.46'],\n",
       "       ['02a57639o0325I', '-8.64', '-23.0999', '20.46'],\n",
       "       ['02a57639o0326I', '-8.66', '-23.13', '20.46'],\n",
       "       ['02a57639o0327I', '-3.88', '-38.16', '20.42'],\n",
       "       ['02a57639o0328I', '-3.89', '-38.14', '20.42'],\n",
       "       ['02a57639o0329I', '-3.86', '-38.18', '20.42'],\n",
       "       ['02a57639o0330I', '-3.84', '-38.12', '20.42'],\n",
       "       ['02a57639o0331I', '-3.87', '-38.15', '20.42'],\n",
       "       ['02a57639o0332I', '-3.63', '-33.15', '20.44'],\n",
       "       ['02a57639o0333I', '-3.64', '-33.13', '20.44'],\n",
       "       ['02a57639o0334I', '-3.6', '-33.17', '20.44'],\n",
       "       ['02a57639o0335I', '-3.59', '-33.1099', '20.44'],\n",
       "       ['02a57639o0336I', '-3.62', '-33.14', '20.44'],\n",
       "       ['02a57639o0337I', '-3.46', '-28.15', '20.46'],\n",
       "       ['02a57639o0338I', '-3.47', '-28.13', '20.46'],\n",
       "       ['02a57639o0339I', '-3.44', '-28.17', '20.46'],\n",
       "       ['02a57639o0340I', '-3.43', '-28.1099', '20.46'],\n",
       "       ['02a57639o0341I', '-3.45', '-28.14', '20.46'],\n",
       "       ['02a57639o0342I', '-3.3', '-23.13', '20.48'],\n",
       "       ['02a57639o0343I', '-3.32', '-23.11', '20.48'],\n",
       "       ['02a57639o0344I', '-3.28', '-23.15', '20.48'],\n",
       "       ['02a57639o0345I', '-3.27', '-23.0899', '20.48'],\n",
       "       ['02a57639o0346I', '-3.29', '-23.12', '20.48'],\n",
       "       ['02a57639o0347I', '2.06', '-23.13', '20.5'],\n",
       "       ['02a57639o0348I', '2.05', '-23.1101', '20.5'],\n",
       "       ['02a57639o0349I', '2.08', '-23.1499', '20.5'],\n",
       "       ['02a57639o0350I', '2.09', '-23.0902', '20.5'],\n",
       "       ['02a57639o0351I', '2.07', '-23.12', '20.5'],\n",
       "       ['02a57639o0352I', '2.17', '-28.15', '20.48'],\n",
       "       ['02a57639o0353I', '2.15', '-28.13', '20.48'],\n",
       "       ['02a57639o0354I', '2.19', '-28.17', '20.48'],\n",
       "       ['02a57639o0355I', '2.2', '-28.11', '20.48'],\n",
       "       ['02a57639o0356I', '2.18', '-28.1399', '20.48'],\n",
       "       ['02a57639o0357I', '2.26', '-33.15', '20.44'],\n",
       "       ['02a57639o0358I', '2.25', '-33.1301', '20.44'],\n",
       "       ['02a57639o0359I', '2.29', '-33.17', '20.44'],\n",
       "       ['02a57639o0360I', '2.3', '-33.11', '20.45'],\n",
       "       ['02a57639o0361I', '2.27', '-33.14', '20.45'],\n",
       "       ['02a57639o0362I', '2.43', '-38.15', '20.44'],\n",
       "       ['02a57639o0363I', '2.41', '-38.1301', '20.44'],\n",
       "       ['02a57639o0364I', '2.45', '-38.18', '20.44'],\n",
       "       ['02a57639o0365I', '2.47', '-38.12', '20.44'],\n",
       "       ['02a57639o0366I', '2.44', '-38.1499', '20.44'],\n",
       "       ['02a57639o0367I', '7.43', '-23.14', '20.49'],\n",
       "       ['02a57639o0368I', '7.42', '-23.12', '20.49'],\n",
       "       ['02a57639o0369I', '7.45', '-23.16', '20.49'],\n",
       "       ['02a57639o0370I', '7.46', '-23.0999', '20.49'],\n",
       "       ['02a57639o0371I', '7.44', '-23.13', '20.49'],\n",
       "       ['02a57639o0372I', '7.79', '-28.15', '20.46'],\n",
       "       ['02a57639o0373I', '7.78', '-28.1301', '20.46'],\n",
       "       ['02a57639o0374I', '7.82', '-28.1699', '20.46'],\n",
       "       ['02a57639o0375I', '7.83', '-28.11', '20.46'],\n",
       "       ['02a57639o0376I', '7.8', '-28.14', '20.46'],\n",
       "       ['02a57639o0377I', '8.16', '-33.16', '20.45'],\n",
       "       ['02a57639o0378I', '8.14', '-33.14', '20.44'],\n",
       "       ['02a57639o0379I', '8.18', '-33.18', '20.45'],\n",
       "       ['02a57639o0380I', '8.19', '-33.12', '20.45'],\n",
       "       ['02a57639o0381I', '8.17', '-33.1499', '20.45']], \n",
       "      dtype='|S32')"
      ]
     },
     "execution_count": 26,
     "metadata": {},
     "output_type": "execute_result"
    }
   ],
   "source": [
    "np.array([labels,ra_vals,dec_vals,magzpt_vals]).T"
   ]
  },
  {
   "cell_type": "code",
   "execution_count": 30,
   "metadata": {
    "collapsed": false
   },
   "outputs": [
    {
     "data": {
      "text/plain": [
       "array([ 20.45,  20.45,  20.45,  20.45,  20.45,  20.45,  20.45,  20.45,\n",
       "        20.45,  20.45,  20.44,  20.44,  20.44,  20.44,  20.47,  20.47,\n",
       "        20.47,  20.48,  20.47,  20.48,  20.47,  20.47,  20.47,  20.47,\n",
       "        19.42,  20.42,  20.42,  20.42,  20.43,  20.43,  20.43,  20.43,\n",
       "        20.43,  20.45,  20.45,  20.45,  20.45,  20.45,  20.46,  20.46,\n",
       "        20.46,  20.46,  20.46,  20.42,  20.42,  20.42,  20.42,  20.42,\n",
       "        20.44,  20.44,  20.44,  20.44,  20.44,  20.46,  20.46,  20.46,\n",
       "        20.46,  20.46,  20.48,  20.48,  20.48,  20.48,  20.48,  20.5 ,\n",
       "        20.5 ,  20.5 ,  20.5 ,  20.5 ,  20.48,  20.48,  20.48,  20.48,\n",
       "        20.48,  20.44,  20.44,  20.44,  20.45,  20.45,  20.44,  20.44,\n",
       "        20.44,  20.44,  20.44,  20.49,  20.49,  20.49,  20.49,  20.49,\n",
       "        20.46,  20.46,  20.46,  20.46,  20.46,  20.45,  20.44,  20.45,\n",
       "        20.45,  20.45])"
      ]
     },
     "execution_count": 30,
     "metadata": {},
     "output_type": "execute_result"
    }
   ],
   "source": [
    "magzpt_vals"
   ]
  },
  {
   "cell_type": "code",
   "execution_count": 35,
   "metadata": {
    "collapsed": false
   },
   "outputs": [],
   "source": [
    "labels_to_stack = labels[magzpt_vals>20]"
   ]
  },
  {
   "cell_type": "code",
   "execution_count": 38,
   "metadata": {
    "collapsed": false
   },
   "outputs": [],
   "source": [
    "open('ATLAS_mwa57639_labels_good.txt','w').write('\\n'.join(labels_to_stack))"
   ]
  },
  {
   "cell_type": "code",
   "execution_count": null,
   "metadata": {
    "collapsed": true
   },
   "outputs": [],
   "source": []
  }
 ],
 "metadata": {
  "kernelspec": {
   "display_name": "Python 2",
   "language": "python",
   "name": "python2"
  },
  "language_info": {
   "codemirror_mode": {
    "name": "ipython",
    "version": 2
   },
   "file_extension": ".py",
   "mimetype": "text/x-python",
   "name": "python",
   "nbconvert_exporter": "python",
   "pygments_lexer": "ipython2",
   "version": "2.7.12"
  }
 },
 "nbformat": 4,
 "nbformat_minor": 0
}
