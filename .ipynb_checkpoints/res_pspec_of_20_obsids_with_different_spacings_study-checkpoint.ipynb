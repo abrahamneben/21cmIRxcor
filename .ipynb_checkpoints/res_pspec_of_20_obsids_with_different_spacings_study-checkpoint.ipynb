{
 "cells": [
  {
   "cell_type": "code",
   "execution_count": 50,
   "metadata": {
    "collapsed": true
   },
   "outputs": [],
   "source": [
    "import numpy as np\n",
    "import matplotlib\n",
    "%matplotlib inline\n",
    "import matplotlib.pyplot as plt"
   ]
  },
  {
   "cell_type": "code",
   "execution_count": 51,
   "metadata": {
    "collapsed": true
   },
   "outputs": [],
   "source": [
    "def obsids2txt(obsids,fname):\n",
    "        f=open(fname,'w')\n",
    "        f.write('\\n'.join(map(str,list(obsids)) ))\n",
    "        f.close()"
   ]
  },
  {
   "cell_type": "code",
   "execution_count": 52,
   "metadata": {
    "collapsed": true
   },
   "outputs": [],
   "source": [
    "wedgecut_and_rescut_obsids_path = '/nfs/eor-00/h1/beards/obs_lists/long_runs/wedge_cut_plus_res_cut.txt'"
   ]
  },
  {
   "cell_type": "code",
   "execution_count": 53,
   "metadata": {
    "collapsed": false
   },
   "outputs": [],
   "source": [
    "obsids = np.genfromtxt(wedgecut_and_rescut_obsids_path,dtype=int)"
   ]
  },
  {
   "cell_type": "code",
   "execution_count": 93,
   "metadata": {
    "collapsed": true
   },
   "outputs": [],
   "source": [
    "num_obsids_in_set = 20"
   ]
  },
  {
   "cell_type": "code",
   "execution_count": 94,
   "metadata": {
    "collapsed": true
   },
   "outputs": [],
   "source": [
    "spacings_hours = [0,.4,3]"
   ]
  },
  {
   "cell_type": "code",
   "execution_count": 95,
   "metadata": {
    "collapsed": false
   },
   "outputs": [
    {
     "name": "stdout",
     "output_type": "stream",
     "text": [
      "0\n",
      "0.4\n",
      "3\n"
     ]
    }
   ],
   "source": [
    "obsidsets = []\n",
    "for spacing_hours in spacings_hours:\n",
    "    print(spacing_hours)\n",
    "    obsidset = [obsids[0]]\n",
    "    for obsidi in range(num_obsids_in_set-1):\n",
    "        #print('\\t'+str(obsidi))\n",
    "        obsid_distances_hours = (np.array(obsids)-obsidset[obsidi])/60./60\n",
    "        good = np.where(obsid_distances_hours > spacing_hours)[0]\n",
    "        currobsid = obsids[good[np.argmin(obsid_distances_hours[good])]]\n",
    "        obsidset.append(currobsid)\n",
    "    obsidsets.append(obsidset)\n",
    "obsidsets = np.array(obsidsets)"
   ]
  },
  {
   "cell_type": "code",
   "execution_count": 96,
   "metadata": {
    "collapsed": false,
    "scrolled": false
   },
   "outputs": [
    {
     "data": {
      "image/png": "[encoded data removed]",
      "text/plain": [
       "<matplotlib.figure.Figure at 0x48aad90>"
      ]
     },
     "metadata": {},
     "output_type": "display_data"
    }
   ],
   "source": [
    "matplotlib.rcParams.update({'font.size': 18})\n",
    "\n",
    "stys = ['r-','b-','y-','k:']\n",
    "for obsidseti in range(len(spacings_hours)):\n",
    "    plt.semilogy(1.*(obsidsets[obsidseti]-np.roll(obsidsets[obsidseti],1))/3600,stys[obsidseti],lw=3)"
   ]
  },
  {
   "cell_type": "code",
   "execution_count": 97,
   "metadata": {
    "collapsed": false
   },
   "outputs": [],
   "source": [
    "obsids2txt(obsidsets[0],'obsids_spaced_by_0hours.txt')\n",
    "obsids2txt(obsidsets[1],'obsids_spaced_by_0_5hours.txt')\n",
    "obsids2txt(obsidsets[2],'obsids_spaced_by_100hours.txt')"
   ]
  },
  {
   "cell_type": "code",
   "execution_count": null,
   "metadata": {
    "collapsed": true
   },
   "outputs": [],
   "source": []
  },
  {
   "cell_type": "code",
   "execution_count": null,
   "metadata": {
    "collapsed": true
   },
   "outputs": [],
   "source": []
  },
  {
   "cell_type": "code",
   "execution_count": null,
   "metadata": {
    "collapsed": true
   },
   "outputs": [],
   "source": []
  }
 ],
 "metadata": {
  "kernelspec": {
   "display_name": "Python 2",
   "language": "python",
   "name": "python2"
  },
  "language_info": {
   "codemirror_mode": {
    "name": "ipython",
    "version": 2
   },
   "file_extension": ".py",
   "mimetype": "text/x-python",
   "name": "python",
   "nbconvert_exporter": "python",
   "pygments_lexer": "ipython2",
   "version": "2.7.6"
  }
 },
 "nbformat": 4,
 "nbformat_minor": 0
}
