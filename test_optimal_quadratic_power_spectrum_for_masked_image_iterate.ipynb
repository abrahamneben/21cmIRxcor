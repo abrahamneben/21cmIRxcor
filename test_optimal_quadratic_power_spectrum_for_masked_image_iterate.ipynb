{
 "cells": [
  {
   "cell_type": "code",
   "execution_count": 15,
   "metadata": {
    "collapsed": true
   },
   "outputs": [],
   "source": [
    "import numpy as np\n",
    "import matplotlib\n",
    "%matplotlib inline\n",
    "import matplotlib.pyplot as plt\n",
    "import scipy.signal\n",
    "\n",
    "from numpy import sqrt,matrix,transpose,array,fft,pi,zeros,meshgrid,random,linspace,arange,where,exp,conj,real,trace\n",
    "\n",
    "from scipy.linalg import sqrtm,inv"
   ]
  },
  {
   "cell_type": "code",
   "execution_count": 16,
   "metadata": {
    "collapsed": false
   },
   "outputs": [],
   "source": [
    "# def make_hann_2D(n):\n",
    "#     w = scipy.signal.hann(n)\n",
    "#     wx,wy = np.meshgrid(w,w)\n",
    "#     w2 = wx*wy\n",
    "#     return w2, sqrt(np.mean(w2**2))\n",
    "\n",
    "def make_bins(lmin,lmax,nbins,uselogbins):\n",
    "    if uselogbins: \n",
    "        lbinedges = 10.**linspace(np.log10(lmin),np.log10(lmax),nbins+1)\n",
    "    else:\n",
    "        lbinedges = linspace(lmin,lmax,nbins+1)\n",
    "    lbincenters = .5*(lbinedges[0:nbins]+lbinedges[1:nbins+1])\n",
    "    return lbincenters,lbinedges\n",
    "\n",
    "def img2PS(img,dtheta_rad,nbins,lmin,lmax,uselogbins=True,usehann=True):\n",
    "    lbincenters,lbinedges = make_bins(lmin,lmax,nbins,uselogbins)\n",
    "\n",
    "    n = img.shape[0]\n",
    "    lvals = fft.fftfreq(n)*2*np.pi/dtheta_rad\n",
    "    lx,ly = meshgrid(lvals,lvals)\n",
    "    lmag  = sqrt(lx**2+ly**2)\n",
    "    print(np.max(lmag))\n",
    "\n",
    "    wind,windrms = np.ones((n,n)),1\n",
    "    if usehann: wind,windrms = make_hann_2D(n)\n",
    "    img_ft = fft.fft2((img-img.mean())*wind)/windrms\n",
    "    \n",
    "    pspec_binned = np.zeros(nbins)\n",
    "\n",
    "    bin_counts = np.zeros(nbins)\n",
    "    for bini in range(nbins):\n",
    "        inbin = (lmag>lbinedges[bini])&(lmag<lbinedges[bini+1])\n",
    "        bin_counts[bini] = np.sum(inbin)\n",
    "\n",
    "        pspec_binned[bini] = np.mean(np.abs(img_ft[inbin])**2)\n",
    "\n",
    "    pspec_norm = (dtheta_rad**2)/(n**2)\n",
    "    return lbincenters,pspec_binned*pspec_norm,bin_counts\n",
    "\n",
    "def vec2arr(v):\n",
    "    return np.array(v).flatten()"
   ]
  },
  {
   "cell_type": "code",
   "execution_count": 17,
   "metadata": {
    "collapsed": false
   },
   "outputs": [],
   "source": [
    "# generate an image from a non-flat power spectrum\n",
    "n = 50\n",
    "dtheta_amin = 3.\n",
    "dtheta_rad = dtheta_amin/60*pi/180\n",
    "\n",
    "lvals = fft.fftfreq(n)*2*np.pi/dtheta_rad\n",
    "lxgrid,lygrid = meshgrid(lvals,lvals)\n",
    "lmaggrid = sqrt(lxgrid**2+lygrid**2)\n",
    "\n",
    "img_ft = (random.randn(n,n)+1j*np.random.randn(n,n))*1./(1+lmaggrid)\n",
    "img = np.real(fft.ifft2(img_ft)) # taking the real part enforces conjugate symmetry in fourier space\n",
    "\n",
    "mask = random.randn(n,n)>-.8"
   ]
  },
  {
   "cell_type": "code",
   "execution_count": 18,
   "metadata": {
    "collapsed": false
   },
   "outputs": [
    {
     "data": {
      "text/plain": [
       "<matplotlib.colorbar.Colorbar at 0x7f2d4c4fb250>"
      ]
     },
     "execution_count": 18,
     "metadata": {},
     "output_type": "execute_result"
    },
    {
     "data": {
      "image/png": "[encoded data removed]",
      "text/plain": [
       "<matplotlib.figure.Figure at 0x7f2d4cba3250>"
      ]
     },
     "metadata": {},
     "output_type": "display_data"
    }
   ],
   "source": [
    "plt.figure(figsize=(10,4))\n",
    "plt.subplot(121)\n",
    "plt.imshow(img,interpolation='nearest')\n",
    "plt.colorbar()\n",
    "\n",
    "plt.subplot(122)\n",
    "plt.imshow(mask,interpolation='nearest')\n",
    "plt.colorbar()"
   ]
  },
  {
   "cell_type": "code",
   "execution_count": 22,
   "metadata": {
    "collapsed": true
   },
   "outputs": [],
   "source": [
    "def img2optPS(img_meas,pguess,dtheta_rad,nbins,lmin,lmax,uselogbins=True,usehann=True):\n",
    "    norm = (dtheta_rad**2)/(n**2)*n**4\n",
    "    xir = matrix(img_meas.flatten()).T\n",
    "\n",
    "    lbincenters,lbinedges = make_bins(lmin,lmax,nbins,uselogbins=True)\n",
    "\n",
    "    lvals = fft.fftfreq(n)*2*pi/dtheta_rad # ell values\n",
    "    lxgrid,lygrid = meshgrid(lvals,lvals)\n",
    "    lmaggrid = sqrt(lxgrid**2+lygrid**2)\n",
    "\n",
    "    thvals = (arange(n)-n/2)*dtheta_rad # theta values\n",
    "    thxgrid,thygrid = meshgrid(thvals,thvals)\n",
    "    \n",
    "    def gen_Ccommabini(bini):\n",
    "        inbin = (lmaggrid>=lbinedges[bini])*(lmaggrid<lbinedges[bini+1])\n",
    "        ivals_inbin,jvals_inbin = where(inbin)\n",
    "\n",
    "        lxvals,thxvals = meshgrid(lxgrid[ivals_inbin,jvals_inbin],thxgrid.flatten()) # ell_x and theta_x\n",
    "        lyvals,thyvals = meshgrid(lygrid[ivals_inbin,jvals_inbin],thygrid.flatten()) # ell_y and theta_y\n",
    "        Ccommabini_0 = matrix(exp(1j*(lxvals*thxvals+lyvals*thyvals)))\n",
    "        Ccommabini = Ccommabini_0*conj(Ccommabini_0.T)\n",
    "        return Ccommabini\n",
    "    Ccomma_mats = [gen_Ccommabini(bini) for bini in range(nbins)]\n",
    "\n",
    "\n",
    "    # put in a guess of the data covariance\n",
    "    Cguess_ft = 2*matrix(np.diag(1./(1+lmaggrid.flatten())))\n",
    "    #Cguess_ft = matrix(np.diag(np.ones(n*n)))\n",
    "    \n",
    "    # generate the fourier transform matrix\n",
    "    lxvals,thxvals = meshgrid(lxgrid.flatten(),thxgrid.flatten()) # ell_x and theta_x\n",
    "    lyvals,thyvals = meshgrid(lygrid.flatten(),thygrid.flatten()) # ell_y and theta_y\n",
    "    F = matrix(exp(1j*(lxvals*thxvals+lyvals*thyvals)))/n**2\n",
    "\n",
    "    # make C^{-1}, taking into account the data covariance and pixel masking \n",
    "    Csignal = F*Cguess_ft*conj(F).T\n",
    "\n",
    "    #Csignal = np.sum([pguess[i]/norm/n**2*Ccomma_mats[i] for i in range(nbins)],axis=0)\n",
    "    \n",
    "    Cmask = 1.e6*np.matrix(np.diag(img_meas.flatten()==0)) # IS THIS A REASONABLE NUMBER ??\n",
    "    Cinv = inv(Csignal + Cmask)\n",
    "\n",
    "\n",
    "\n",
    "\n",
    "    # calculate q_alpha\n",
    "\n",
    "    q = np.matrix(np.zeros((nbins,1)))\n",
    "    Ccomma_times_Cinv_mats = []\n",
    "    for bini in range(nbins):\n",
    "        print('bini = %d'%bini)\n",
    "        Ccommabini_times_Cinv = Ccomma_mats[bini]*Cinv\n",
    "        Ccomma_times_Cinv_mats.append(Ccommabini_times_Cinv)\n",
    "        q[bini] = .5*real(xir.T*Cinv*Ccommabini_times_Cinv*xir).item()\n",
    "\n",
    "    # calculate Fisher matrix\n",
    "\n",
    "    Fish = np.matrix(np.zeros((nbins,nbins)))\n",
    "    for i in range(nbins):\n",
    "        print(i)\n",
    "        for j in range(i,nbins):\n",
    "            Fish[i,j] = np.real(.5*trace(Ccomma_times_Cinv_mats[i]*Ccomma_times_Cinv_mats[j]))\n",
    "            Fish[j,i] = Fish[i,j]\n",
    "    \n",
    "    p = vec2arr(sqrtm(inv(Fish))*q)*norm/vec2arr(np.max(sqrt(Fish),axis=0))\n",
    "    \n",
    "    return lbincenters,p"
   ]
  },
  {
   "cell_type": "code",
   "execution_count": 23,
   "metadata": {
    "collapsed": false
   },
   "outputs": [
    {
     "name": "stdout",
     "output_type": "stream",
     "text": [
      "5091.16882454\n",
      "5091.16882454\n",
      "bini = 0\n",
      "bini = 1\n",
      "bini = 2\n",
      "bini = 3\n",
      "bini = 4\n",
      "bini = 5\n",
      "0\n",
      "1\n",
      "2\n",
      "3\n",
      "4\n",
      "5\n"
     ]
    }
   ],
   "source": [
    "# computer FFT-based power spectra\n",
    "\n",
    "lmin,lmax = 300,5000\n",
    "nbins = 6\n",
    "img_meas = img*mask\n",
    "\n",
    "lbins,pspec,bin_counts = img2PS(img,dtheta_rad,nbins,lmin,lmax,uselogbins=True,usehann=False)\n",
    "lbins,pspec_m,bin_counts = img2PS(img_meas,dtheta_rad,nbins,lmin,lmax,uselogbins=True,usehann=False)\n",
    "\n",
    "#lbins,pspec_opt = img2optPS(img_meas,np.ones(nbins),dtheta_rad,nbins,lmin,lmax,uselogbins=True,usehann=False)\n",
    "lbins,pspec_opt = img2optPS(img_meas,1./lbins**2,dtheta_rad,nbins,lmin,lmax,uselogbins=True,usehann=False)"
   ]
  },
  {
   "cell_type": "code",
   "execution_count": 24,
   "metadata": {
    "collapsed": false
   },
   "outputs": [
    {
     "data": {
      "text/plain": [
       "<matplotlib.text.Text at 0x7f2d4c1f40d0>"
      ]
     },
     "execution_count": 24,
     "metadata": {},
     "output_type": "execute_result"
    },
    {
     "data": {
      "image/png": "[encoded data removed]",
      "text/plain": [
       "<matplotlib.figure.Figure at 0x7f2d4c47bc50>"
      ]
     },
     "metadata": {},
     "output_type": "display_data"
    }
   ],
   "source": [
    "matplotlib.rcParams.update({'font.size': 16})\n",
    "plt.figure(figsize=(12,8))\n",
    "\n",
    "plt.loglog(lbins,pspec_opt,'r-',label='F^{-1/2}*q',linewidth=2)\n",
    "\n",
    "plt.loglog(lbins,pspec,'bo',label='FFT before masking')\n",
    "plt.loglog(lbins,pspec_m,'yo',label='FFT after masking') \n",
    "\n",
    "plt.legend(fontsize=12)\n",
    "plt.xlim([100,1.e5])\n",
    "plt.xlabel('$\\ell$')\n",
    "plt.ylabel('PSD')"
   ]
  },
  {
   "cell_type": "code",
   "execution_count": null,
   "metadata": {
    "collapsed": true
   },
   "outputs": [],
   "source": []
  },
  {
   "cell_type": "code",
   "execution_count": null,
   "metadata": {
    "collapsed": false
   },
   "outputs": [],
   "source": []
  },
  {
   "cell_type": "code",
   "execution_count": null,
   "metadata": {
    "collapsed": true
   },
   "outputs": [],
   "source": []
  },
  {
   "cell_type": "code",
   "execution_count": null,
   "metadata": {
    "collapsed": true
   },
   "outputs": [],
   "source": []
  },
  {
   "cell_type": "code",
   "execution_count": null,
   "metadata": {
    "collapsed": true
   },
   "outputs": [],
   "source": []
  }
 ],
 "metadata": {
  "kernelspec": {
   "display_name": "Python 2",
   "language": "python",
   "name": "python2"
  },
  "language_info": {
   "codemirror_mode": {
    "name": "ipython",
    "version": 2
   },
   "file_extension": ".py",
   "mimetype": "text/x-python",
   "name": "python",
   "nbconvert_exporter": "python",
   "pygments_lexer": "ipython2",
   "version": "2.7.11"
  }
 },
 "nbformat": 4,
 "nbformat_minor": 1
}
