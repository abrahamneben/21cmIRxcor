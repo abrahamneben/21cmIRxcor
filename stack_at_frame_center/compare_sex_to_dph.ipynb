{
 "cells": [
  {
   "cell_type": "code",
   "execution_count": 1,
   "metadata": {
    "collapsed": true
   },
   "outputs": [],
   "source": [
    "# compare the sextractor catalog from my stacked image\n",
    "# to the dophot catalog that Brian Stalder ran"
   ]
  },
  {
   "cell_type": "code",
   "execution_count": 1,
   "metadata": {
    "collapsed": true
   },
   "outputs": [],
   "source": [
    "import sys # needed to import cat_utils \n",
    "# sys.path.insert(0, '/Users/abrahamn/21cmIR/21cmIRxcor/')\n",
    "sys.path.insert(0, '/home/abrahamn/21cmIRxcor/')"
   ]
  },
  {
   "cell_type": "code",
   "execution_count": 2,
   "metadata": {
    "collapsed": false
   },
   "outputs": [
    {
     "data": {
      "text/plain": [
       "<module 'cat_utils' from '/home/abrahamn/21cmIRxcor/cat_utils.pyc'>"
      ]
     },
     "execution_count": 2,
     "metadata": {},
     "output_type": "execute_result"
    }
   ],
   "source": [
    "import imp\n",
    "import cat_utils\n",
    "imp.reload(cat_utils)"
   ]
  },
  {
   "cell_type": "code",
   "execution_count": 3,
   "metadata": {
    "collapsed": true
   },
   "outputs": [],
   "source": [
    "import matplotlib\n",
    "%matplotlib inline\n",
    "import matplotlib.pyplot as plt"
   ]
  },
  {
   "cell_type": "code",
   "execution_count": 5,
   "metadata": {
    "collapsed": true
   },
   "outputs": [],
   "source": [
    "import numpy as np\n",
    "import matplotlib\n",
    "%matplotlib inline\n",
    "import matplotlib.pyplot as plt"
   ]
  },
  {
   "cell_type": "code",
   "execution_count": 12,
   "metadata": {
    "collapsed": false
   },
   "outputs": [
    {
     "name": "stdout",
     "output_type": "stream",
     "text": [
      "loading /home/abrahamn/xcor_data/ATLAS_mwa57694_rereduction/02a57694o0326I.dph\n"
     ]
    }
   ],
   "source": [
    "#raw_frames_path = '/Volumes/abraham/xcor_data/ATLAS_mwa57694_rereduction/'\n",
    "raw_frames_path = '/home/abrahamn/xcor_data/ATLAS_mwa57694_rereduction/'\n",
    "\n",
    "analysis_root = '/home/abrahamn/xcor_data/analysis/ATLAS_mwa57694_rereduction/'\n",
    "dphcat = cat_utils.IRCatalog(dph_path=raw_frames_path+'02a57694o0326I.dph')#,fits_path=analysis_root+'02a57694o0326I/02a57694o0326I_5degframecentered.fits')\n",
    "dphcat.ra = dphcat.ra_all\n",
    "dphcat.jy = dphcat.jy_all\n",
    "dphcat.dec = dphcat.dec_all"
   ]
  },
  {
   "cell_type": "code",
   "execution_count": 13,
   "metadata": {
    "collapsed": false
   },
   "outputs": [],
   "source": [
    "# secat = cat_utils.IRCatalog(se_path=analysis_root+'field0/field0.sex',fits_path=analysis_root+'/field0/field0.fits')\n",
    "\n",
    "import pickle\n",
    "catdir = '/home/abrahamn/xcor_data/ir_catalogs/'\n",
    "secat = pickle.load( open(catdir+'whole_field_secat.p', \"rb\" ) )\n",
    "g = secat.jy>1.e-10\n",
    "secat = cat_utils.Catalog(secat.ra[g],secat.dec[g],secat.jy[g])"
   ]
  },
  {
   "cell_type": "code",
   "execution_count": null,
   "metadata": {
    "collapsed": false
   },
   "outputs": [
    {
     "data": {
      "text/plain": [
       "(-26, -24.5)"
      ]
     },
     "execution_count": 17,
     "metadata": {},
     "output_type": "execute_result"
    }
   ],
   "source": [
    "plt.figure(figsize=(12,10))\n",
    "plt.scatter(dphcat.ra,dphcat.dec,15000*dphcat.jy,'r',alpha=.5,edgecolor='none')\n",
    "plt.scatter(secat.ra,secat.dec,15000*secat.jy,alpha=.5,facecolors='none',edgecolors='k',linewidth=2)\n",
    "plt.xlim([-2,0])\n",
    "plt.ylim([-26,-24.5])"
   ]
  },
  {
   "cell_type": "code",
   "execution_count": 15,
   "metadata": {
    "collapsed": false
   },
   "outputs": [
    {
     "name": "stdout",
     "output_type": "stream",
     "text": [
      "(30, 31)\n",
      "(30, 31)\n"
     ]
    },
    {
     "data": {
      "image/png": "[encoded data removed]",
      "text/plain": [
       "<matplotlib.figure.Figure at 0x7fc88dd70b50>"
      ]
     },
     "metadata": {},
     "output_type": "display_data"
    }
   ],
   "source": [
    "matplotlib.rcParams.update({'font.size': 16})\n",
    "\n",
    "plt.figure(figsize=(30,4))\n",
    "plt.subplot(121)\n",
    "cat_utils.logloghist(plt,dphcat.jy[dphcat.jy<5],.00001,.2,30,'b')\n",
    "plt.xlim([.00001,.2])#plt.xlim([0,.01])\n",
    "plt.title('Dophot sources')\n",
    "plt.xlabel('Jy')\n",
    "plt.ylabel('#')\n",
    "plt.yscale('log', nonposy='clip')\n",
    "\n",
    "plt.subplot(122)\n",
    "cat_utils.logloghist(plt,secat.jy[secat.jy<5],.00001,.2,30,'r')\n",
    "plt.xlim([.00001,.2])\n",
    "#plt.xlim([0,10])\n",
    "plt.title('SExtractor sources')\n",
    "plt.xlabel('Jy')\n",
    "plt.ylabel('#')\n",
    "plt.yscale('log', nonposy='clip')"
   ]
  },
  {
   "cell_type": "code",
   "execution_count": null,
   "metadata": {
    "collapsed": false
   },
   "outputs": [],
   "source": []
  },
  {
   "cell_type": "code",
   "execution_count": null,
   "metadata": {
    "collapsed": true
   },
   "outputs": [],
   "source": []
  }
 ],
 "metadata": {
  "kernelspec": {
   "display_name": "Python 2",
   "language": "python",
   "name": "python2"
  },
  "language_info": {
   "codemirror_mode": {
    "name": "ipython",
    "version": 2
   },
   "file_extension": ".py",
   "mimetype": "text/x-python",
   "name": "python",
   "nbconvert_exporter": "python",
   "pygments_lexer": "ipython2",
   "version": "2.7.13"
  }
 },
 "nbformat": 4,
 "nbformat_minor": 1
}
