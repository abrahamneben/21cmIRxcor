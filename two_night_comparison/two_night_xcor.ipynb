{
 "cells": [
  {
   "cell_type": "code",
   "execution_count": 116,
   "metadata": {
    "collapsed": true
   },
   "outputs": [],
   "source": [
    "import sys # needed to import cat_utils\n",
    "sys.path.insert(0, '/Users/abrahamn/21cmIR/21cmIRxcor/')"
   ]
  },
  {
   "cell_type": "code",
   "execution_count": 117,
   "metadata": {
    "collapsed": false
   },
   "outputs": [
    {
     "data": {
      "text/plain": [
       "<module 'ps_utils_new' from '/Users/abrahamn/21cmIR/21cmIRxcor/ps_utils_new.py'>"
      ]
     },
     "execution_count": 117,
     "metadata": {},
     "output_type": "execute_result"
    }
   ],
   "source": [
    "import numpy as np\n",
    "from numpy import fft,pi\n",
    "import scipy.signal\n",
    "\n",
    "import matplotlib\n",
    "%matplotlib inline\n",
    "import matplotlib.pyplot as plt\n",
    "\n",
    "import ps_utils_new\n",
    "import imp\n",
    "imp.reload(ps_utils_new)"
   ]
  },
  {
   "cell_type": "code",
   "execution_count": 118,
   "metadata": {
    "collapsed": true
   },
   "outputs": [],
   "source": [
    "matplotlib.rcParams.update({'font.size': 18})\n",
    "plt.rc('font', family='Arial')\n",
    "matplotlib.rcParams['text.usetex'] = True\n",
    "matplotlib.rcParams['text.latex.unicode'] = True"
   ]
  },
  {
   "cell_type": "code",
   "execution_count": 119,
   "metadata": {
    "collapsed": true
   },
   "outputs": [],
   "source": [
    "analysis_root = '/volumes/abraham/xcor_data/analysis/two_night_comparison/'\n",
    "analysis_names = ['night1','night2']"
   ]
  },
  {
   "cell_type": "code",
   "execution_count": 120,
   "metadata": {
    "collapsed": false
   },
   "outputs": [
    {
     "name": "stdout",
     "output_type": "stream",
     "text": [
      "loading /volumes/abraham/xcor_data/analysis/two_night_comparison/night1_mask_artifacts_sources_coarse.fits\n",
      "loading /volumes/abraham/xcor_data/analysis/two_night_comparison/night2_mask_artifacts_sources_coarse.fits\n"
     ]
    }
   ],
   "source": [
    "ir_images = [ps_utils_new.IRImage(analysis_root+analysis_name+'_mask_artifacts_sources_coarse.fits',run_poly_fit=False) for analysis_name in analysis_names] # mask artifacts and sources\n",
    "#ir_images_polyfit = [ps_utils_new.IRImage(analysis_root+analysis_name+'_mask_artifacts_sources_coarse.fits',run_poly_fit=True) for analysis_name in analysis_names] # mask artifacts and sources"
   ]
  },
  {
   "cell_type": "code",
   "execution_count": 121,
   "metadata": {
    "collapsed": false
   },
   "outputs": [
    {
     "data": {
      "text/plain": [
       "<matplotlib.image.AxesImage at 0x1127d9450>"
      ]
     },
     "execution_count": 121,
     "metadata": {},
     "output_type": "execute_result"
    },
    {
     "data": {
      "image/png": "[encoded data removed]",
      "text/plain": [
       "<matplotlib.figure.Figure at 0x111adb290>"
      ]
     },
     "metadata": {},
     "output_type": "display_data"
    },
    {
     "data": {
      "image/png": "[encoded data removed]",
      "text/plain": [
       "<matplotlib.figure.Figure at 0x111adb2d0>"
      ]
     },
     "metadata": {},
     "output_type": "display_data"
    }
   ],
   "source": [
    "plt.imshow(ir_images[0].full_ADU,interpolation='nearest')\n",
    "plt.figure()\n",
    "plt.imshow(ir_images[1].full_ADU,interpolation='nearest')"
   ]
  },
  {
   "cell_type": "code",
   "execution_count": 131,
   "metadata": {
    "collapsed": false
   },
   "outputs": [],
   "source": [
    "nbins = 20\n",
    "lmax = 3000\n",
    "lmin = 300\n",
    "\n",
    "lbincenters,xspec,pspec1,pspec2,bin_counts = ps_utils_new.ir_and_ir_full_xspec(ir_images[0],ir_images[1],nbins,lmin,lmax)\n",
    "lbincenters,xspec_flip,pspec1_flip,pspec2_flip,bin_counts_flip = ps_utils_new.ir_and_ir_full_xspec(ir_images[0],ir_images[1],nbins,lmin,lmax,flip=True)"
   ]
  },
  {
   "cell_type": "code",
   "execution_count": 132,
   "metadata": {
    "collapsed": false
   },
   "outputs": [
    {
     "data": {
      "text/plain": [
       "[<matplotlib.lines.Line2D at 0x111c34b90>]"
      ]
     },
     "execution_count": 132,
     "metadata": {},
     "output_type": "execute_result"
    },
    {
     "data": {
      "image/png": "[encoded data removed]",
      "text/plain": [
       "<matplotlib.figure.Figure at 0x1120b09d0>"
      ]
     },
     "metadata": {},
     "output_type": "display_data"
    }
   ],
   "source": [
    "matplotlib.rcParams.update({'font.size': 18})\n",
    "\n",
    "c = xspec/np.sqrt(pspec1*pspec2)\n",
    "dc = np.sqrt(.5*(1+c**2)/bin_counts)\n",
    "\n",
    "c_flip = xspec_flip/np.sqrt(pspec1_flip*pspec2_flip)\n",
    "dc_flip = np.sqrt(.5*(1+c_flip**2)/bin_counts_flip)\n",
    "\n",
    "plt.errorbar(lbincenters,c,dc,fmt='k.')\n",
    "plt.errorbar(lbincenters+50,c_flip,dc_flip,fmt='r.')\n",
    "plt.xlabel('$\\ell$')\n",
    "plt.ylabel('c',rotation=0)\n",
    "plt.plot([0,lmax],[0,0],'k-')"
   ]
  },
  {
   "cell_type": "code",
   "execution_count": 133,
   "metadata": {
    "collapsed": false
   },
   "outputs": [
    {
     "data": {
      "text/plain": [
       "array([-0.41704699, -0.01092981, -0.23345255, -0.26160523,  0.14834224,\n",
       "        0.274321  ,  0.47186667,  0.17746795,  0.09249969,  0.03804086,\n",
       "        0.31102627,  0.20650655,  0.30944296,  0.27212304, -0.22630963,\n",
       "        0.24097188,         nan,         nan,         nan,         nan])"
      ]
     },
     "execution_count": 133,
     "metadata": {},
     "output_type": "execute_result"
    }
   ],
   "source": [
    "c"
   ]
  },
  {
   "cell_type": "code",
   "execution_count": null,
   "metadata": {
    "collapsed": true
   },
   "outputs": [],
   "source": []
  },
  {
   "cell_type": "code",
   "execution_count": null,
   "metadata": {
    "collapsed": true
   },
   "outputs": [],
   "source": []
  },
  {
   "cell_type": "code",
   "execution_count": null,
   "metadata": {
    "collapsed": true
   },
   "outputs": [],
   "source": []
  }
 ],
 "metadata": {
  "kernelspec": {
   "display_name": "Python 2",
   "language": "python",
   "name": "python2"
  },
  "language_info": {
   "codemirror_mode": {
    "name": "ipython",
    "version": 2
   },
   "file_extension": ".py",
   "mimetype": "text/x-python",
   "name": "python",
   "nbconvert_exporter": "python",
   "pygments_lexer": "ipython2",
   "version": "2.7.12"
  }
 },
 "nbformat": 4,
 "nbformat_minor": 1
}
