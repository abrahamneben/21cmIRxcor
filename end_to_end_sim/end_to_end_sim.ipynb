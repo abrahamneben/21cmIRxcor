{
 "cells": [
  {
   "cell_type": "code",
   "execution_count": 22,
   "metadata": {
    "collapsed": false
   },
   "outputs": [
    {
     "data": {
      "text/plain": [
       "<module 'utils' from 'utils.pyc'>"
      ]
     },
     "execution_count": 22,
     "metadata": {},
     "output_type": "execute_result"
    }
   ],
   "source": [
    "import numpy as np\n",
    "from numpy import pi,sqrt,std\n",
    "\n",
    "import matplotlib\n",
    "%matplotlib inline\n",
    "import matplotlib.pyplot as plt\n",
    "\n",
    "import utils\n",
    "import imp\n",
    "imp.reload(utils)"
   ]
  },
  {
   "cell_type": "code",
   "execution_count": 23,
   "metadata": {
    "collapsed": false
   },
   "outputs": [],
   "source": [
    "# load cosmological 21cm, Ly-alpha, and H-alpha power spectra at z=7\n",
    "\n",
    "d = '/home/abrahamn/21cmIRxcor/3Dsensitivitycalculations/models/'\n",
    "\n",
    "# Ly-alpha\n",
    "gongdat = np.genfromtxt(d+'Gong14/gong_lyalpha_model_pspec_upperlimit_z=7.csv',delimiter=',',skip_header=3)\n",
    "gong_k_upper = gongdat[:,0]\n",
    "gong_Delta_kjy_per_sr_upperlimit = np.sqrt(gongdat[:,1])*1.e-3  # taking the square root, then multiplying by 1.e-3 \n",
    "                                                      # converts from (Jy/sr)^2 to (kJy/sr)\n",
    "\n",
    "gongdat = np.genfromtxt(d+'Gong14/gong_lyalpha_model_pspec_lowerlimit_z=7.csv',delimiter=',',skip_header=3)\n",
    "gong_k_lower = gongdat[:,0]\n",
    "gong_Delta_kjy_per_sr_lowerlimit = np.sqrt(gongdat[:,1])*1.e-3\n",
    "\n",
    "# load vanilla 21cmFAST power spectrum from Pober 14 (what can 21cm observatories teach us about reionization?)\n",
    "#poberdat = np.genfromtxt(d+'Pober14/P21_Delta^2_mK^2_late_reionization.csv',delimiter=',',skip_header=3)\n",
    "poberdat = np.genfromtxt(d+'Pober14/P21_Delta^2_mK^2_later_reionization.csv',delimiter=',',skip_header=3)\n",
    "pober_k_upperlimit = poberdat[:,0]\n",
    "pober_Delta_K_upperlimit = np.sqrt(poberdat[:,1])*1.e-3 # taking the square root and multiplying by 1.e-3 \n",
    "                                                      # converts from mK^2 to K\n",
    "    \n",
    "poberdat = np.genfromtxt(d+'Pober14/P21_Delta^2_mK^2_fiducial.csv',delimiter=',',skip_header=3)\n",
    "pober_k_lowerlimit = poberdat[:,0]\n",
    "pober_Delta_K_lowerlimit = np.sqrt(poberdat[:,1])*1.e-3\n",
    "\n",
    "# let's interpolate all these models onto the the same k values\n",
    "model_k = pober_k_lowerlimit\n",
    "pober_Delta_K_lowerlimit_model_k = pober_Delta_K_lowerlimit\n",
    "\n",
    "pober_Delta_K_upperlimit_model_k = np.interp(model_k,pober_k_upperlimit,pober_Delta_K_upperlimit)\n",
    "gong_Delta_kjy_per_sr_upperlimit_model_k = np.interp(model_k,gong_k_upper,gong_Delta_kjy_per_sr_upperlimit)\n",
    "gong_Delta_kjy_per_sr_lowerlimit_model_k = np.interp(model_k,gong_k_lower,gong_Delta_kjy_per_sr_lowerlimit)\n",
    "\n",
    "pober_P_K_upperlimit_model_k = pober_Delta_K_upperlimit_model_k**2*2*pi**2/model_k**3\n",
    "pober_P_K_lowerlimit_model_k = pober_Delta_K_lowerlimit_model_k**2*2*pi**2/model_k**3\n",
    "gong_P_kjy_per_sr_upperlimit_model_k = gong_Delta_kjy_per_sr_upperlimit_model_k**2*2*pi**2/model_k**3\n",
    "gong_P_kjy_per_sr_lowerlimit_model_k = gong_Delta_kjy_per_sr_lowerlimit_model_k**2*2*pi**2/model_k**3\n",
    "\n",
    "# load the 21cm/ly-alpha cross correlation coefficient from heneka+ 2017\n",
    "henekadat = np.genfromtxt(d+'heneka_21cm--Lyalpha-correlation-coef.txt',delimiter=',',skip_header=2)\n",
    "ccc_model_k = np.interp(model_k,henekadat[:,0],-henekadat[:,1])"
   ]
  },
  {
   "cell_type": "code",
   "execution_count": 24,
   "metadata": {
    "collapsed": false
   },
   "outputs": [
    {
     "data": {
      "text/plain": [
       "[<matplotlib.lines.Line2D at 0x7faca1cd7a50>]"
      ]
     },
     "execution_count": 24,
     "metadata": {},
     "output_type": "execute_result"
    },
    {
     "data": {
      "image/png": "[encoded data removed]",
      "text/plain": [
       "<matplotlib.figure.Figure at 0x7fac8d06c1d0>"
      ]
     },
     "metadata": {},
     "output_type": "display_data"
    }
   ],
   "source": [
    "plt.figure(figsize=(12,4))\n",
    "\n",
    "sty = '.-'\n",
    "\n",
    "plt.subplot(131)\n",
    "plt.loglog(model_k,gong_P_kjy_per_sr_lowerlimit_model_k,sty)\n",
    "plt.loglog(model_k,gong_P_kjy_per_sr_upperlimit_model_k,sty)\n",
    "\n",
    "plt.subplot(132)\n",
    "plt.loglog(model_k,pober_P_K_lowerlimit_model_k,sty)\n",
    "plt.loglog(model_k,pober_P_K_upperlimit_model_k,sty)\n",
    "\n",
    "plt.subplot(133)\n",
    "plt.semilogx(model_k,ccc_model_k,sty)"
   ]
  },
  {
   "cell_type": "code",
   "execution_count": 25,
   "metadata": {
    "collapsed": false,
    "scrolled": true
   },
   "outputs": [
    {
     "name": "stdout",
     "output_type": "stream",
     "text": [
      "kmin,kmax = 2.869e-02, 3.114e+00\n",
      "dtheta_amin = 0.403\n",
      "dz = 0.003\n",
      "Delta_z = 0.616\n"
     ]
    }
   ],
   "source": [
    "# simulated cube params\n",
    "\n",
    "dk,kmax = np.min(model_k),np.max(model_k) # 1/Mpc\n",
    "\n",
    "#https://www.evernote.com/shard/s316/nl/2147483647/988133d9-220b-44a3-b3a9-ae71353b3bd2/\n",
    "Delta_x = 2.*pi/dk\n",
    "dx = pi/kmax\n",
    "N = int(Delta_x/dx)\n",
    "\n",
    "D = 9000.\n",
    "z = 7.\n",
    "H0 = 2.269e-18 # 1/sec\n",
    "Ez = sqrt(.3*(1+z)**3)\n",
    "Hz = H0*Ez\n",
    "Mpc2m = 1.e6*3.e16\n",
    "c = 3.e8/Mpc2m # m/sec\n",
    "dtheta_rad = dx/D\n",
    "dtheta_amin = dtheta_rad*60*60\n",
    "dz = dx*Hz/c\n",
    "Delta_z = N*dz\n",
    "\n",
    "print('kmin,kmax = %1.3e, %1.3e'%(dk,kmax))\n",
    "print('dtheta_amin = %1.3f'%dtheta_amin)\n",
    "print('dz = %1.3f'%dz)\n",
    "print('Delta_z = %1.3f'%Delta_z)"
   ]
  },
  {
   "cell_type": "code",
   "execution_count": 26,
   "metadata": {
    "collapsed": false
   },
   "outputs": [],
   "source": [
    "cube21_ft,cubelya_ft = np.zeros((N,N,N),dtype=complex),np.zeros((N,N,N),dtype=complex)\n",
    "\n",
    "kvals = np.fft.fftfreq(N,1)*N*dk\n",
    "kxgrid,kygrid,kzgrid = np.meshgrid(kvals,kvals,kvals)\n",
    "kmaggrid = np.sqrt(kxgrid**2+kygrid**2+kzgrid**2)"
   ]
  },
  {
   "cell_type": "code",
   "execution_count": 27,
   "metadata": {
    "collapsed": false
   },
   "outputs": [
    {
     "ename": "KeyboardInterrupt",
     "evalue": "",
     "output_type": "error",
     "traceback": [
      "\u001b[1;31m---------------------------------------------------------------------------\u001b[0m",
      "\u001b[1;31mKeyboardInterrupt\u001b[0m                         Traceback (most recent call last)",
      "\u001b[1;32m<ipython-input-27-ca0766a66156>\u001b[0m in \u001b[0;36m<module>\u001b[1;34m()\u001b[0m\n\u001b[0;32m     20\u001b[0m \u001b[1;33m\u001b[0m\u001b[0m\n\u001b[0;32m     21\u001b[0m \u001b[1;31m# the sqrt(2) corrects the power for taking the real part\u001b[0m\u001b[1;33m\u001b[0m\u001b[1;33m\u001b[0m\u001b[0m\n\u001b[1;32m---> 22\u001b[1;33m \u001b[0mcube_21\u001b[0m \u001b[1;33m=\u001b[0m \u001b[0msqrt\u001b[0m\u001b[1;33m(\u001b[0m\u001b[1;36m2.\u001b[0m\u001b[1;33m)\u001b[0m\u001b[1;33m*\u001b[0m\u001b[0mN\u001b[0m\u001b[1;33m**\u001b[0m\u001b[1;36m3\u001b[0m\u001b[1;33m*\u001b[0m\u001b[0mnp\u001b[0m\u001b[1;33m.\u001b[0m\u001b[0mreal\u001b[0m\u001b[1;33m(\u001b[0m\u001b[0mnp\u001b[0m\u001b[1;33m.\u001b[0m\u001b[0mfft\u001b[0m\u001b[1;33m.\u001b[0m\u001b[0mifftn\u001b[0m\u001b[1;33m(\u001b[0m\u001b[0mcube_21_ft\u001b[0m\u001b[1;33m)\u001b[0m\u001b[1;33m)\u001b[0m\u001b[1;33m*\u001b[0m\u001b[0mdk\u001b[0m\u001b[1;33m**\u001b[0m\u001b[1;36m3\u001b[0m\u001b[1;33m/\u001b[0m\u001b[1;33m(\u001b[0m\u001b[1;36m2.\u001b[0m\u001b[1;33m*\u001b[0m\u001b[0mpi\u001b[0m\u001b[1;33m)\u001b[0m\u001b[1;33m**\u001b[0m\u001b[1;36m3\u001b[0m \u001b[1;31m# should really take the real part to enforce conjugate symmetry in fourier space\u001b[0m\u001b[1;33m\u001b[0m\u001b[0m\n\u001b[0m\u001b[0;32m     23\u001b[0m \u001b[0mcube_ly\u001b[0m \u001b[1;33m=\u001b[0m \u001b[0msqrt\u001b[0m\u001b[1;33m(\u001b[0m\u001b[1;36m2.\u001b[0m\u001b[1;33m)\u001b[0m\u001b[1;33m*\u001b[0m\u001b[0mN\u001b[0m\u001b[1;33m**\u001b[0m\u001b[1;36m3\u001b[0m\u001b[1;33m*\u001b[0m\u001b[0mnp\u001b[0m\u001b[1;33m.\u001b[0m\u001b[0mreal\u001b[0m\u001b[1;33m(\u001b[0m\u001b[0mnp\u001b[0m\u001b[1;33m.\u001b[0m\u001b[0mfft\u001b[0m\u001b[1;33m.\u001b[0m\u001b[0mifftn\u001b[0m\u001b[1;33m(\u001b[0m\u001b[0mcube_ly_ft\u001b[0m\u001b[1;33m)\u001b[0m\u001b[1;33m)\u001b[0m\u001b[1;33m*\u001b[0m\u001b[0mdk\u001b[0m\u001b[1;33m**\u001b[0m\u001b[1;36m3\u001b[0m\u001b[1;33m/\u001b[0m\u001b[1;33m(\u001b[0m\u001b[1;36m2.\u001b[0m\u001b[1;33m*\u001b[0m\u001b[0mpi\u001b[0m\u001b[1;33m)\u001b[0m\u001b[1;33m**\u001b[0m\u001b[1;36m3\u001b[0m\u001b[1;33m\u001b[0m\u001b[0m\n",
      "\u001b[1;32m/home/abrahamn/anaconda2/lib/python2.7/site-packages/numpy/fft/fftpack.pyc\u001b[0m in \u001b[0;36mifftn\u001b[1;34m(a, s, axes, norm)\u001b[0m\n\u001b[0;32m    808\u001b[0m     \"\"\"\n\u001b[0;32m    809\u001b[0m \u001b[1;33m\u001b[0m\u001b[0m\n\u001b[1;32m--> 810\u001b[1;33m     \u001b[1;32mreturn\u001b[0m \u001b[0m_raw_fftnd\u001b[0m\u001b[1;33m(\u001b[0m\u001b[0ma\u001b[0m\u001b[1;33m,\u001b[0m \u001b[0ms\u001b[0m\u001b[1;33m,\u001b[0m \u001b[0maxes\u001b[0m\u001b[1;33m,\u001b[0m \u001b[0mifft\u001b[0m\u001b[1;33m,\u001b[0m \u001b[0mnorm\u001b[0m\u001b[1;33m)\u001b[0m\u001b[1;33m\u001b[0m\u001b[0m\n\u001b[0m\u001b[0;32m    811\u001b[0m \u001b[1;33m\u001b[0m\u001b[0m\n\u001b[0;32m    812\u001b[0m \u001b[1;33m\u001b[0m\u001b[0m\n",
      "\u001b[1;32m/home/abrahamn/anaconda2/lib/python2.7/site-packages/numpy/fft/fftpack.pyc\u001b[0m in \u001b[0;36m_raw_fftnd\u001b[1;34m(a, s, axes, function, norm)\u001b[0m\n\u001b[0;32m    615\u001b[0m     \u001b[0mitl\u001b[0m\u001b[1;33m.\u001b[0m\u001b[0mreverse\u001b[0m\u001b[1;33m(\u001b[0m\u001b[1;33m)\u001b[0m\u001b[1;33m\u001b[0m\u001b[0m\n\u001b[0;32m    616\u001b[0m     \u001b[1;32mfor\u001b[0m \u001b[0mii\u001b[0m \u001b[1;32min\u001b[0m \u001b[0mitl\u001b[0m\u001b[1;33m:\u001b[0m\u001b[1;33m\u001b[0m\u001b[0m\n\u001b[1;32m--> 617\u001b[1;33m         \u001b[0ma\u001b[0m \u001b[1;33m=\u001b[0m \u001b[0mfunction\u001b[0m\u001b[1;33m(\u001b[0m\u001b[0ma\u001b[0m\u001b[1;33m,\u001b[0m \u001b[0mn\u001b[0m\u001b[1;33m=\u001b[0m\u001b[0ms\u001b[0m\u001b[1;33m[\u001b[0m\u001b[0mii\u001b[0m\u001b[1;33m]\u001b[0m\u001b[1;33m,\u001b[0m \u001b[0maxis\u001b[0m\u001b[1;33m=\u001b[0m\u001b[0maxes\u001b[0m\u001b[1;33m[\u001b[0m\u001b[0mii\u001b[0m\u001b[1;33m]\u001b[0m\u001b[1;33m,\u001b[0m \u001b[0mnorm\u001b[0m\u001b[1;33m=\u001b[0m\u001b[0mnorm\u001b[0m\u001b[1;33m)\u001b[0m\u001b[1;33m\u001b[0m\u001b[0m\n\u001b[0m\u001b[0;32m    618\u001b[0m     \u001b[1;32mreturn\u001b[0m \u001b[0ma\u001b[0m\u001b[1;33m\u001b[0m\u001b[0m\n\u001b[0;32m    619\u001b[0m \u001b[1;33m\u001b[0m\u001b[0m\n",
      "\u001b[1;32m/home/abrahamn/anaconda2/lib/python2.7/site-packages/numpy/fft/fftpack.pyc\u001b[0m in \u001b[0;36mifft\u001b[1;34m(a, n, axis, norm)\u001b[0m\n\u001b[0;32m    276\u001b[0m     \u001b[0munitary\u001b[0m \u001b[1;33m=\u001b[0m \u001b[0m_unitary\u001b[0m\u001b[1;33m(\u001b[0m\u001b[0mnorm\u001b[0m\u001b[1;33m)\u001b[0m\u001b[1;33m\u001b[0m\u001b[0m\n\u001b[0;32m    277\u001b[0m     \u001b[0moutput\u001b[0m \u001b[1;33m=\u001b[0m \u001b[0m_raw_fft\u001b[0m\u001b[1;33m(\u001b[0m\u001b[0ma\u001b[0m\u001b[1;33m,\u001b[0m \u001b[0mn\u001b[0m\u001b[1;33m,\u001b[0m \u001b[0maxis\u001b[0m\u001b[1;33m,\u001b[0m \u001b[0mfftpack\u001b[0m\u001b[1;33m.\u001b[0m\u001b[0mcffti\u001b[0m\u001b[1;33m,\u001b[0m \u001b[0mfftpack\u001b[0m\u001b[1;33m.\u001b[0m\u001b[0mcfftb\u001b[0m\u001b[1;33m,\u001b[0m \u001b[0m_fft_cache\u001b[0m\u001b[1;33m)\u001b[0m\u001b[1;33m\u001b[0m\u001b[0m\n\u001b[1;32m--> 278\u001b[1;33m     \u001b[1;32mreturn\u001b[0m \u001b[0moutput\u001b[0m \u001b[1;33m*\u001b[0m \u001b[1;33m(\u001b[0m\u001b[1;36m1\u001b[0m \u001b[1;33m/\u001b[0m \u001b[1;33m(\u001b[0m\u001b[0msqrt\u001b[0m\u001b[1;33m(\u001b[0m\u001b[0mn\u001b[0m\u001b[1;33m)\u001b[0m \u001b[1;32mif\u001b[0m \u001b[0munitary\u001b[0m \u001b[1;32melse\u001b[0m \u001b[0mn\u001b[0m\u001b[1;33m)\u001b[0m\u001b[1;33m)\u001b[0m\u001b[1;33m\u001b[0m\u001b[0m\n\u001b[0m\u001b[0;32m    279\u001b[0m \u001b[1;33m\u001b[0m\u001b[0m\n\u001b[0;32m    280\u001b[0m \u001b[1;33m\u001b[0m\u001b[0m\n",
      "\u001b[1;31mKeyboardInterrupt\u001b[0m: "
     ]
    }
   ],
   "source": [
    "# simulate the correlated random fields\n",
    "# https://www.evernote.com/shard/s316/nl/2147483647/890d2542-53a6-4482-aebe-c13467f1ba67/\n",
    "\n",
    "V = (dx*N)**3\n",
    "P21_grid = V*np.interp(kmaggrid,model_k,pober_P_K_upperlimit_model_k)\n",
    "Ply_grid = V*np.interp(kmaggrid,model_k,gong_P_kjy_per_sr_upperlimit_model_k)\n",
    "# P21_grid = V*np.interp(kmaggrid,model_k,pober_P_K_lowerlimit_model_k)\n",
    "# Ply_grid = V*np.interp(kmaggrid,model_k,gong_P_kjy_per_sr_lowerlimit_model_k)\n",
    "ccc_grid = np.interp(kmaggrid,model_k,ccc_model_k)\n",
    "\n",
    "sigma_beta = sqrt(Ply_grid)\n",
    "a = ccc_grid*sqrt(P21_grid*Ply_grid)/sigma_beta**2\n",
    "sigma_alpha = sqrt(P21_grid-a**2*sigma_beta**2)\n",
    "\n",
    "alpha = sigma_alpha*(np.random.randn(N,N,N)+1j*np.random.randn(N,N,N))/sqrt(2)\n",
    "beta = sigma_beta*(np.random.randn(N,N,N)+1j*np.random.randn(N,N,N))/sqrt(2)\n",
    "\n",
    "cube_21_ft = alpha+a*beta\n",
    "cube_ly_ft = beta\n",
    "\n",
    "# the sqrt(2) corrects the power for taking the real part\n",
    "cube_21 = sqrt(2.)*N**3*np.real(np.fft.ifftn(cube_21_ft))*dk**3/(2.*pi)**3 # should really take the real part to enforce conjugate symmetry in fourier space\n",
    "cube_ly = sqrt(2.)*N**3*np.real(np.fft.ifftn(cube_ly_ft))*dk**3/(2.*pi)**3"
   ]
  },
  {
   "cell_type": "code",
   "execution_count": null,
   "metadata": {
    "collapsed": false
   },
   "outputs": [],
   "source": [
    "kbins_3D,xspec_3D,pspec_ly_3D,pspec_21_3D,bin_counts_3D = utils.calc_3D_xspec(cube_ly,cube_21,dx,15,\\\n",
    "                                                        np.min(kmaggrid[kmaggrid!=0]),\\\n",
    "                                                        np.max(kmaggrid),uselogbins=True,\\\n",
    "                                                        usehann=True)"
   ]
  },
  {
   "cell_type": "code",
   "execution_count": null,
   "metadata": {
    "collapsed": false
   },
   "outputs": [],
   "source": [
    "plt.imshow(cube_21[50,:,:],interpolation='nearest')"
   ]
  },
  {
   "cell_type": "code",
   "execution_count": null,
   "metadata": {
    "collapsed": false,
    "scrolled": false
   },
   "outputs": [],
   "source": [
    "matplotlib.rcParams.update({'font.size': 18})\n",
    "\n",
    "plt.figure(figsize=(15,4))\n",
    "plt.subplot(131)\n",
    "plt.loglog(kbins_3D,pspec_ly_3D,'r')\n",
    "plt.loglog(model_k,gong_P_kjy_per_sr_upperlimit_model_k,'k')\n",
    "plt.xlabel('k (1/Mpc)')\n",
    "\n",
    "plt.subplot(132)\n",
    "plt.loglog(kbins_3D,pspec_21_3D,'r')\n",
    "plt.loglog(model_k,pober_P_K_upperlimit_model_k,'k')\n",
    "plt.xlabel('k (1/Mpc)')\n",
    "\n",
    "plt.subplot(133)\n",
    "plt.semilogx(kbins_3D,xspec_3D/sqrt(pspec_ly_3D*pspec_21_3D),'r')\n",
    "plt.semilogx(model_k,ccc_model_k,'k')\n",
    "plt.xlabel('k (1/Mpc)')"
   ]
  },
  {
   "cell_type": "code",
   "execution_count": null,
   "metadata": {
    "collapsed": false
   },
   "outputs": [],
   "source": [
    "# let's try averaging over redshift and calculating the power spectrum and correlation vs \\ell\n",
    "\n",
    "img_ly = np.mean(cube_ly,axis=0)\n",
    "img_21 = np.mean(cube_21,axis=0)\n",
    "imp.reload(utils)\n",
    "lbins_2D,xspec_2D,pspec_ly_2D,pspec_21_2D,bin_counts_2D = utils.calc_2D_xspec(img_ly,img_21,\\\n",
    "                                                                       dtheta_rad,nbins=10,lmin=300,lmax=35000,\\\n",
    "                                                                       uselogbins=True,usehann=True)"
   ]
  },
  {
   "cell_type": "code",
   "execution_count": null,
   "metadata": {
    "collapsed": false
   },
   "outputs": [],
   "source": [
    "plt.figure(figsize=(8,6))\n",
    "plt.subplot(121)\n",
    "plt.imshow(img_21,interpolation='nearest',cmap='seismic')\n",
    "plt.subplot(122)\n",
    "plt.imshow(img_ly,interpolation='nearest',cmap='seismic')"
   ]
  },
  {
   "cell_type": "code",
   "execution_count": null,
   "metadata": {
    "collapsed": false
   },
   "outputs": [],
   "source": [
    "matplotlib.rcParams.update({'font.size': 18})\n",
    "\n",
    "plt.figure(figsize=(20,4))\n",
    "plt.subplot(141)\n",
    "plt.loglog(lbins_2D,pspec_ly_2D*1.e6,'r')\n",
    "plt.xlabel('$\\ell$')\n",
    "plt.ylabel('$C_\\ell$ (mK$^2$)')\n",
    "\n",
    "plt.subplot(142)\n",
    "plt.loglog(lbins_2D,pspec_21_2D,'r')\n",
    "plt.xlabel('$\\ell$')\n",
    "plt.ylabel('$C_\\ell$ (kJy/sr)$^2$')\n",
    "\n",
    "plt.subplot(143)\n",
    "plt.semilogx(lbins_2D,xspec_2D/sqrt(pspec_ly_2D*pspec_21_2D),'r')\n",
    "plt.xlabel('$\\ell$')\n",
    "plt.ylabel('coherence')\n",
    "\n",
    "plt.subplot(144)\n",
    "plt.loglog(lbins_2D,sqrt(lbins_2D**2/(2*np.pi)*np.abs(xspec_2D)*1.e3),'r')\n",
    "plt.xlabel('$\\ell$')\n",
    "plt.ylabel('$\\Delta_\\ell$ (mK kJy/sr)$^{1/2}$')\n",
    "\n",
    "plt.tight_layout()"
   ]
  },
  {
   "cell_type": "code",
   "execution_count": null,
   "metadata": {
    "collapsed": false
   },
   "outputs": [],
   "source": [
    "import pickle\n",
    "pickle.dump([lbins_2D,pspec_ly_2D,pspec_21_2D,xspec_2D,'mK^2, (kJy/sr)^2, (mK kJy)'],open('2D_21cm_and_IR_spectra_from_3D_sims_opt.p','wb'))"
   ]
  },
  {
   "cell_type": "code",
   "execution_count": null,
   "metadata": {
    "collapsed": true
   },
   "outputs": [],
   "source": []
  },
  {
   "cell_type": "code",
   "execution_count": null,
   "metadata": {
    "collapsed": true
   },
   "outputs": [],
   "source": []
  }
 ],
 "metadata": {
  "kernelspec": {
   "display_name": "Python 2",
   "language": "python",
   "name": "python2"
  },
  "language_info": {
   "codemirror_mode": {
    "name": "ipython",
    "version": 2
   },
   "file_extension": ".py",
   "mimetype": "text/x-python",
   "name": "python",
   "nbconvert_exporter": "python",
   "pygments_lexer": "ipython2",
   "version": "2.7.13"
  }
 },
 "nbformat": 4,
 "nbformat_minor": 0
}
