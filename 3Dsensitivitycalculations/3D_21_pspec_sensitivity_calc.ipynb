{
 "cells": [
  {
   "cell_type": "code",
   "execution_count": 30,
   "metadata": {
    "collapsed": false
   },
   "outputs": [],
   "source": [
    "import sys\n",
    "sys.path.insert(0, '/Users/abrahamn/21cmIR/21cmIRxcor/')\n",
    "import mwa_utils"
   ]
  },
  {
   "cell_type": "code",
   "execution_count": 31,
   "metadata": {
    "collapsed": false,
    "scrolled": true
   },
   "outputs": [],
   "source": [
    "import pickle\n",
    "import numpy as np\n",
    "from numpy import pi\n",
    "import matplotlib\n",
    "%matplotlib inline\n",
    "import matplotlib.pyplot as plt"
   ]
  },
  {
   "cell_type": "code",
   "execution_count": 32,
   "metadata": {
    "collapsed": false
   },
   "outputs": [],
   "source": [
    "# MWA uv space sampling\n",
    "analysis_root = '/Volumes/abraham/xcor_data/analysis/21cmfreqavgcubes/'\n",
    "fhddeeplabel = 'Combined_obs_wedge_cut_plus_res_cut'\n",
    "mwa_deep_image = pickle.load( open( analysis_root+fhddeeplabel+'.p', \"rb\" ) )"
   ]
  },
  {
   "cell_type": "code",
   "execution_count": 33,
   "metadata": {
    "collapsed": false
   },
   "outputs": [
    {
     "data": {
      "text/plain": [
       "<matplotlib.colorbar.Colorbar at 0x1173e4710>"
      ]
     },
     "execution_count": 33,
     "metadata": {},
     "output_type": "execute_result"
    },
    {
     "data": {
      "image/png": "[encoded data removed]",
      "text/plain": [
       "<matplotlib.figure.Figure at 0x10c48cf50>"
      ]
     },
     "metadata": {},
     "output_type": "display_data"
    }
   ],
   "source": [
    "# the total obs time in each uv cell is proportional to weights_uv\n",
    "weights_uv = np.abs(np.fft.fft2(mwa_deep_image.weights_xx0))\n",
    "\n",
    "#t_hours = 3.\n",
    "t_hours = 500.\n",
    "t_obs_21_sec = t_hours*3600.\n",
    "\n",
    "Nant = 112 # 128 MWA ants minus 16 outriggers\n",
    "num_baselines = Nant*(Nant-1)/2\n",
    "num_seconds_per_uv = weights_uv/np.sum(weights_uv)*np.sum(num_baselines*t_obs_21_sec)\n",
    "\n",
    "lamda = 300./185\n",
    "du = 1./(mwa_deep_image.n*mwa_deep_image.dtheta_rad)\n",
    "umax = du*mwa_deep_image.n/2\n",
    "\n",
    "plt.imshow(np.log10(np.fft.fftshift(num_seconds_per_uv)),interpolation='nearest',vmin=0,vmax=5.5,extent=[-umax,umax,-umax,umax])\n",
    "plt.colorbar()"
   ]
  },
  {
   "cell_type": "code",
   "execution_count": 34,
   "metadata": {
    "collapsed": false
   },
   "outputs": [],
   "source": [
    "# cosmology\n",
    "from cosmocalc import cosmocalc\n",
    "WM,WV = 0.27,0.73\n",
    "c = 3.e8\n",
    "h = 6.626e-34 # J*sec\n",
    "c_over_H0_Mpc = 4283."
   ]
  },
  {
   "cell_type": "code",
   "execution_count": 35,
   "metadata": {
    "collapsed": false
   },
   "outputs": [],
   "source": [
    "# experimental params\n",
    "z = 7.\n",
    "Deltaz = .5\n",
    "\n",
    "Ez = np.sqrt(WM*(1+z)**3+WV)\n",
    "\n",
    "D = cosmocalc(z,WM=WM,WV=WV)['DCMR_Mpc']\n",
    "DeltaD = c_over_H0_Mpc*Deltaz/Ez\n",
    "wedgeslope = D*Ez/(c_over_H0_Mpc*(1+z))*(pi/2)"
   ]
  },
  {
   "cell_type": "code",
   "execution_count": 36,
   "metadata": {
    "collapsed": true
   },
   "outputs": [],
   "source": [
    "# perp sampling\n",
    "theta_fov_rad = mwa_deep_image.n*mwa_deep_image.dtheta_rad\n",
    "dtheta_rad = mwa_deep_image.dtheta_rad\n",
    "Nperp = mwa_deep_image.n"
   ]
  },
  {
   "cell_type": "code",
   "execution_count": 37,
   "metadata": {
    "collapsed": false
   },
   "outputs": [
    {
     "data": {
      "text/plain": [
       "(277, 11.09375)"
      ]
     },
     "execution_count": 37,
     "metadata": {},
     "output_type": "execute_result"
    }
   ],
   "source": [
    "# 21cm expt\n",
    "f0_21_Hz = 1420.e6\n",
    "B_Hz = Deltaz*f0_21_Hz/(1+z)**2\n",
    "df = 40.e3\n",
    "Nf = int(B_Hz/df)\n",
    "Nf,B_Hz/1.e6"
   ]
  },
  {
   "cell_type": "code",
   "execution_count": 38,
   "metadata": {
    "collapsed": false
   },
   "outputs": [],
   "source": [
    "dkpara = 2.*pi/DeltaD\n",
    "kparamax = Nf/2*dkpara\n",
    "\n",
    "dkperp = 2.*pi/(theta_fov_rad*D)\n",
    "kperpmax = Nperp/2*dkperp\n",
    "\n",
    "kparavals = np.fft.fftfreq(Nf)*Nf*dkpara\n",
    "kperpvals = np.fft.fftfreq(Nperp)*Nperp*dkperp\n",
    "kzgrid,kxgrid,kygrid = np.meshgrid(kparavals,kperpvals,kperpvals,indexing='ij')\n",
    "\n",
    "kperpgrid = np.sqrt(kxgrid**2+kygrid**2)\n",
    "kmaggrid = np.sqrt(kxgrid**2+kygrid**2+kzgrid**2)\n",
    "inwindow = kzgrid > wedgeslope*kperpgrid"
   ]
  },
  {
   "cell_type": "code",
   "execution_count": 39,
   "metadata": {
    "collapsed": false
   },
   "outputs": [],
   "source": [
    "# 21cm thermal noise\n",
    "# https://www.evernote.com/shard/s316/nl/2147483647/6f7c9ac4-f872-407d-89e3-acb8fdff1982/\n",
    "    \n",
    "Tsky_K = 400.\n",
    "A_21 = 20. # m^2\n",
    "B_Hz = 30.e6 # MHz\n",
    "P_21_thermal = (Tsky_K**2)*(lamda**2)*(D**2)*DeltaD/(B_Hz*A_21)/num_seconds_per_uv\n",
    "\n",
    "P_21_thermal_veck = np.repeat([P_21_thermal],Nf,axis=0)"
   ]
  },
  {
   "cell_type": "code",
   "execution_count": 40,
   "metadata": {
    "collapsed": false
   },
   "outputs": [],
   "source": [
    "def bin_noise_to_1D(P1_veck,P2_veck,nbins=5,kmax=.1,wedgecut=False):\n",
    "    kbinedges = np.linspace(0,kmax,nbins+1)\n",
    "    kbincenters = .5*(kbinedges[0:nbins]+kbinedges[1:nbins+1])\n",
    "\n",
    "    P_binned = np.zeros(nbins)\n",
    "    P_binned_wedgecut = np.zeros(nbins)\n",
    "    bin_counts = np.zeros(nbins)\n",
    "    for bini in range(nbins):\n",
    "        inbin = (kmaggrid>kbinedges[bini])&(kmaggrid<kbinedges[bini+1])\n",
    "        if wedgecut: inbin &= inwindow\n",
    "    \n",
    "        bin_counts[bini] = np.sum(inbin)\n",
    "        P_binned[bini] = np.sqrt(1./(np.sum( 1./(P1_veck[inbin]*P2_veck[inbin]) )))\n",
    "        \n",
    "    return kbincenters,P_binned,bin_counts"
   ]
  },
  {
   "cell_type": "code",
   "execution_count": 51,
   "metadata": {
    "collapsed": false
   },
   "outputs": [],
   "source": [
    "# load vanilla 21cmFAST power spectrum from Pober 14 (what can 21cm observatories teach us about reionization?)\n",
    "poberdat = np.genfromtxt('models/Pober14/P21_Delta^2_mK^2_fiducial.csv',delimiter=',',skip_header=3)\n",
    "pober_k = poberdat[:,0]\n",
    "pober_Delta_K = np.sqrt(poberdat[:,1])*1.e-3"
   ]
  },
  {
   "cell_type": "code",
   "execution_count": 52,
   "metadata": {
    "collapsed": false
   },
   "outputs": [
    {
     "name": "stdout",
     "output_type": "stream",
     "text": [
      "['# k, Delta^2 (mK)\\n', \"# big blue points in Fig. 4 of Adam's sensitivity paper\\n\"]\n"
     ]
    }
   ],
   "source": [
    "# load the beardsley EOR theory curve\n",
    "print(open('models/beardsley_eor_theory.csv').readlines()[:2])\n",
    "beardsleydat = np.genfromtxt('models/beardsley_eor_theory.csv',delimiter=',')\n",
    "beardsley_eor_k = beardsleydat[:,0]\n",
    "T0 = 26.e-3\n",
    "DeltaSquared_beardsley_eor = beardsleydat[:,1]*T0**2"
   ]
  },
  {
   "cell_type": "code",
   "execution_count": 53,
   "metadata": {
    "collapsed": false
   },
   "outputs": [
    {
     "name": "stdout",
     "output_type": "stream",
     "text": [
      "['# k, Delta^2 (mK)\\n', \"# green line in Fig. 4 of Adam's sensitivity paper\\n\"]\n"
     ]
    }
   ],
   "source": [
    "# load the beardsley MWA sensitivity calculations\n",
    "print(open('models/beardsley_MWA_450hour_sensitivity.csv').readlines()[:2])\n",
    "beardsleymwadat = np.genfromtxt('models/beardsley_MWA_450hour_sensitivity.csv',delimiter=',')\n",
    "beardsley_mwa_k = beardsleymwadat[:,0]\n",
    "DeltaSquared_beardsley_mwa = beardsleymwadat[:,1]*T0**2"
   ]
  },
  {
   "cell_type": "code",
   "execution_count": 54,
   "metadata": {
    "collapsed": false
   },
   "outputs": [
    {
     "data": {
      "text/plain": [
       "(0.01, 20)"
      ]
     },
     "execution_count": 54,
     "metadata": {},
     "output_type": "execute_result"
    },
    {
     "data": {
      "image/png": "[encoded data removed]",
      "text/plain": [
       "<matplotlib.figure.Figure at 0x10c43bf90>"
      ]
     },
     "metadata": {},
     "output_type": "display_data"
    }
   ],
   "source": [
    "# what about auto spectra sensitivity?\n",
    "\n",
    "kbincenters,P_21_binned,bin_counts = bin_noise_to_1D(P_21_thermal_veck,P_21_thermal_veck,7,.5,wedgecut=False)\n",
    "\n",
    "plt.figure(figsize=(6,5))\n",
    "\n",
    "plt.loglog(pober_k,pober_Delta_K**2,'k-',label='mcquinn model')\n",
    "plt.loglog(kbincenters,kbincenters**2/(2*pi**2)*P_21_binned,'r.-',label='thermal noise')\n",
    "plt.loglog(beardsley_eor_k,DeltaSquared_beardsley_eor,'b-',label='beardsley eor model')\n",
    "plt.loglog(beardsley_mwa_k,DeltaSquared_beardsley_mwa,'co',label='beardsley mwa sense')\n",
    "plt.legend(fontsize=10,loc=5)\n",
    "plt.xlabel('k (1/Mpc)')\n",
    "plt.ylabel(r'$\\Delta^2$ (K$^2$)')\n",
    "plt.xlim([.01,20])\n"
   ]
  },
  {
   "cell_type": "code",
   "execution_count": 55,
   "metadata": {
    "collapsed": false
   },
   "outputs": [
    {
     "data": {
      "text/plain": [
       "array([ 0.03571429,  0.10714286,  0.17857143,  0.25      ,  0.32142857,\n",
       "        0.39285714,  0.46428571])"
      ]
     },
     "execution_count": 55,
     "metadata": {},
     "output_type": "execute_result"
    }
   ],
   "source": [
    "kbincenters"
   ]
  },
  {
   "cell_type": "code",
   "execution_count": null,
   "metadata": {
    "collapsed": true
   },
   "outputs": [],
   "source": []
  },
  {
   "cell_type": "code",
   "execution_count": null,
   "metadata": {
    "collapsed": true
   },
   "outputs": [],
   "source": []
  },
  {
   "cell_type": "code",
   "execution_count": null,
   "metadata": {
    "collapsed": true
   },
   "outputs": [],
   "source": []
  }
 ],
 "metadata": {
  "kernelspec": {
   "display_name": "Python 2",
   "language": "python",
   "name": "python2"
  },
  "language_info": {
   "codemirror_mode": {
    "name": "ipython",
    "version": 2
   },
   "file_extension": ".py",
   "mimetype": "text/x-python",
   "name": "python",
   "nbconvert_exporter": "python",
   "pygments_lexer": "ipython2",
   "version": "2.7.12"
  }
 },
 "nbformat": 4,
 "nbformat_minor": 1
}
