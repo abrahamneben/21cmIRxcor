{
 "cells": [
  {
   "cell_type": "code",
   "execution_count": 117,
   "metadata": {
    "collapsed": false
   },
   "outputs": [],
   "source": [
    "import sys\n",
    "sys.path.insert(0, '/Users/abrahamn/21cmIR/21cmIRxcor/')\n",
    "import mwa_utils"
   ]
  },
  {
   "cell_type": "code",
   "execution_count": 118,
   "metadata": {
    "collapsed": false,
    "scrolled": true
   },
   "outputs": [],
   "source": [
    "import pickle\n",
    "import numpy as np\n",
    "from numpy import pi\n",
    "import matplotlib\n",
    "%matplotlib inline\n",
    "import matplotlib.pyplot as plt"
   ]
  },
  {
   "cell_type": "code",
   "execution_count": 119,
   "metadata": {
    "collapsed": false
   },
   "outputs": [],
   "source": [
    "# MWA uv space sampling\n",
    "analysis_root = '/Volumes/abraham/xcor_data/analysis/21cmfreqavgcubes/'\n",
    "fhddeeplabel = 'Combined_obs_wedge_cut_plus_res_cut'\n",
    "mwa_deep_image = pickle.load( open( analysis_root+fhddeeplabel+'.p', \"rb\" ) )"
   ]
  },
  {
   "cell_type": "code",
   "execution_count": 302,
   "metadata": {
    "collapsed": false
   },
   "outputs": [
    {
     "data": {
      "text/plain": [
       "<matplotlib.colorbar.Colorbar at 0x11465e790>"
      ]
     },
     "execution_count": 302,
     "metadata": {},
     "output_type": "execute_result"
    },
    {
     "data": {
      "image/png": "[encoded data removed]",
      "text/plain": [
       "<matplotlib.figure.Figure at 0x10cb97850>"
      ]
     },
     "metadata": {},
     "output_type": "display_data"
    }
   ],
   "source": [
    "# the total obs time in each uv cell is proportional to weights_uv\n",
    "weights_uv = np.abs(np.fft.fft2(mwa_deep_image.weights_xx0))\n",
    "\n",
    "#t_hours = 250.\n",
    "t_hours = 500.\n",
    "t_obs_21_sec = t_hours*3600.\n",
    "\n",
    "Nant = 112 # 128 MWA ants minus 16 outriggers\n",
    "num_baselines = Nant*(Nant-1)/2\n",
    "num_seconds_per_uv = weights_uv/np.sum(weights_uv)*np.sum(num_baselines*t_obs_21_sec)\n",
    "\n",
    "lamda = 300./185\n",
    "du = 1./(mwa_deep_image.n*mwa_deep_image.dtheta_rad)\n",
    "umax = du*mwa_deep_image.n/2\n",
    "\n",
    "plt.imshow(np.log10(np.fft.fftshift(num_seconds_per_uv)),interpolation='nearest',vmin=0,vmax=5.5,extent=[-umax,umax,-umax,umax])\n",
    "plt.colorbar()"
   ]
  },
  {
   "cell_type": "code",
   "execution_count": 303,
   "metadata": {
    "collapsed": false
   },
   "outputs": [],
   "source": [
    "# cosmology\n",
    "from cosmocalc import cosmocalc\n",
    "WM,WV = 0.27,0.73\n",
    "c = 3.e8\n",
    "h = 6.626e-34 # J*sec\n",
    "c_over_H0_Mpc = 4283."
   ]
  },
  {
   "cell_type": "code",
   "execution_count": 306,
   "metadata": {
    "collapsed": false
   },
   "outputs": [],
   "source": [
    "# experimental params\n",
    "z = 7.\n",
    "Deltaz = .5\n",
    "\n",
    "Ez = np.sqrt(WM*(1+z)**3+WV)\n",
    "\n",
    "D = cosmocalc(z,WM=WM,WV=WV)['DCMR_Mpc']\n",
    "DeltaD = c_over_H0_Mpc*Deltaz/Ez\n",
    "wedgeslope = D*Ez/(c_over_H0_Mpc*(1+z))*(pi/2)"
   ]
  },
  {
   "cell_type": "code",
   "execution_count": 307,
   "metadata": {
    "collapsed": true
   },
   "outputs": [],
   "source": [
    "# perp sampling\n",
    "theta_fov_rad = mwa_deep_image.n*mwa_deep_image.dtheta_rad\n",
    "dtheta_rad = mwa_deep_image.dtheta_rad\n",
    "Nperp = mwa_deep_image.n"
   ]
  },
  {
   "cell_type": "code",
   "execution_count": 308,
   "metadata": {
    "collapsed": false
   },
   "outputs": [],
   "source": [
    "# IR expt\n",
    "lamda0_IR_m = 120.e-9\n",
    "\n",
    "R_IR = 200.\n",
    "dz = (1+z)/R_IR\n",
    "Nf = int(Deltaz / dz)\n",
    "\n",
    "B_IR = Deltaz*c/lamda0_IR_m/(1+z)**2"
   ]
  },
  {
   "cell_type": "code",
   "execution_count": 309,
   "metadata": {
    "collapsed": false
   },
   "outputs": [],
   "source": [
    "# 21cm expt\n",
    "f0_21_Hz = 1420.e6\n",
    "B_Hz = Deltaz*f0_21_Hz/(1+z)**2"
   ]
  },
  {
   "cell_type": "code",
   "execution_count": 310,
   "metadata": {
    "collapsed": false
   },
   "outputs": [],
   "source": [
    "dkpara = 2.*pi/DeltaD\n",
    "kparamax = Nf/2*dkpara\n",
    "\n",
    "dkperp = 2.*pi/(theta_fov_rad*D)\n",
    "kperpmax = Nperp/2*dkperp\n",
    "\n",
    "kparavals = np.fft.fftfreq(Nf)*Nf*dkpara\n",
    "kperpvals = np.fft.fftfreq(Nperp)*Nperp*dkperp\n",
    "kzgrid,kxgrid,kygrid = np.meshgrid(kparavals,kperpvals,kperpvals,indexing='ij')\n",
    "\n",
    "kperpgrid = np.sqrt(kxgrid**2+kygrid**2)\n",
    "kmaggrid = np.sqrt(kxgrid**2+kygrid**2+kzgrid**2)\n",
    "inwindow = kzgrid > wedgeslope*kperpgrid"
   ]
  },
  {
   "cell_type": "code",
   "execution_count": 311,
   "metadata": {
    "collapsed": false
   },
   "outputs": [],
   "source": [
    "# 21cm thermal noise\n",
    "# https://www.evernote.com/shard/s316/nl/2147483647/6f7c9ac4-f872-407d-89e3-acb8fdff1982/\n",
    "    \n",
    "Tsky_K = 400.\n",
    "A_21 = 20. # m^2\n",
    "B_Hz = 30.e6 # MHz\n",
    "P_21_thermal = (Tsky_K**2)*(lamda**2)*(D**2)*DeltaD/(B_Hz*A_21)/num_seconds_per_uv\n",
    "\n",
    "P_21_thermal_veck = np.repeat([P_21_thermal],Nf,axis=0)"
   ]
  },
  {
   "cell_type": "code",
   "execution_count": 322,
   "metadata": {
    "collapsed": false
   },
   "outputs": [],
   "source": [
    "# IR shot noise\n",
    "# https://www.evernote.com/shard/s316/nl/2147483647/89eb8fb1-82bf-46c2-a07a-4c81d1fd171b/\n",
    "\n",
    "# https://www.evernote.com/shard/s316/nl/2147483647/0b490f35-5419-452a-9350-371cc062850b/\n",
    "kjy = 1000 * 1.e-26\n",
    "Isky = 1.e3 # kJy/sr \n",
    "hf = h*c/(lamda0_IR_m*(1+z))\n",
    "t_obs_ir_sec = 15*60.\n",
    "A_IR = .5**2 # m^2\n",
    "P_IR_shot = D**2*DeltaD*hf*Isky/(B_IR*t_obs_ir_sec*A_IR*kjy)\n",
    "\n",
    "P_IR_shot_veck = np.tile(P_IR_shot,(Nf,Nperp,Nperp))"
   ]
  },
  {
   "cell_type": "code",
   "execution_count": 323,
   "metadata": {
    "collapsed": false
   },
   "outputs": [],
   "source": [
    "def bin_noise_to_1D(P1_veck,P2_veck,nbins=5,kmax=.1,wedgecut=False):\n",
    "    kbinedges = np.linspace(0,kmax,nbins+1)\n",
    "    kbincenters = .5*(kbinedges[0:nbins]+kbinedges[1:nbins+1])\n",
    "\n",
    "    P_binned = np.zeros(nbins)\n",
    "    P_binned_wedgecut = np.zeros(nbins)\n",
    "    bin_counts = np.zeros(nbins)\n",
    "    for bini in range(nbins):\n",
    "        inbin = (kmaggrid>kbinedges[bini])&(kmaggrid<kbinedges[bini+1])\n",
    "        if wedgecut: inbin &= inwindow\n",
    "    \n",
    "        bin_counts[bini] = np.sum(inbin)\n",
    "        P_binned[bini] = np.sqrt(1./(np.sum( 1./(P1_veck[inbin]*P2_veck[inbin]) )))\n",
    "        \n",
    "    return kbincenters,P_binned,bin_counts"
   ]
  },
  {
   "cell_type": "code",
   "execution_count": 324,
   "metadata": {
    "collapsed": false
   },
   "outputs": [],
   "source": [
    "# load Gong theoretical values\n",
    "gongdat = np.genfromtxt('models/Gong14/gong_lyalpha_model_pspec_upperlimit_z=7.csv',delimiter=',',skip_header=3)\n",
    "gong_k_upper = gongdat[:,0]\n",
    "gong_Delta_kjy_per_sr_upperlimit = np.sqrt(gongdat[:,1])*1.e-3  # taking the square root, then multiplying by 1.e-3 \n",
    "                                                      # converts from (Jy/sr)^2 to (kJy/sr)\n",
    "gongdat = np.genfromtxt('models/Gong14/gong_lyalpha_model_pspec_lowerlimit_z=7.csv',delimiter=',',skip_header=3)\n",
    "gong_k_lower = gongdat[:,0]\n",
    "gong_Delta_kjy_per_sr_lowerlimit = np.sqrt(gongdat[:,1])*1.e-3"
   ]
  },
  {
   "cell_type": "code",
   "execution_count": 325,
   "metadata": {
    "collapsed": false
   },
   "outputs": [],
   "source": [
    "# load vanilla 21cmFAST power spectrum from Pober 14 (what can 21cm observatories teach us about reionization?)\n",
    "poberdat = np.genfromtxt('models/Pober14/P21_Delta^2_mK^2_late_reionization.csv',delimiter=',',skip_header=3)\n",
    "pober_k_upperlimit = poberdat[:,0]\n",
    "pober_Delta_K_upperlimit = np.sqrt(poberdat[:,1])*1.e-3 # taking the square root and multiplying by 1.e-3 \n",
    "                                        # converts from mK^2 to K\n",
    "    \n",
    "poberdat = np.genfromtxt('models/Pober14/P21_Delta^2_mK^2_fiducial.csv',delimiter=',',skip_header=3)\n",
    "pober_k_lowerlimit = poberdat[:,0]\n",
    "pober_Delta_K_lowerlimit = np.sqrt(poberdat[:,1])*1.e-3"
   ]
  },
  {
   "cell_type": "code",
   "execution_count": 326,
   "metadata": {
    "collapsed": false
   },
   "outputs": [],
   "source": [
    "# let's interpolate all these models onto the the same k values\n",
    "model_k = pober_k_lowerlimit\n",
    "pober_Delta_K_lowerlimit_model_k = pober_Delta_K_lowerlimit\n",
    "\n",
    "pober_Delta_K_upperlimit_model_k = np.interp(model_k,pober_k_upperlimit,pober_Delta_K_upperlimit)\n",
    "gong_Delta_kjy_per_sr_upperlimit_model_k = np.interp(model_k,gong_k_upper,gong_Delta_kjy_per_sr_upperlimit)\n",
    "gong_Delta_kjy_per_sr_lowerlimit_model_k = np.interp(model_k,gong_k_lower,gong_Delta_kjy_per_sr_lowerlimit)"
   ]
  },
  {
   "cell_type": "code",
   "execution_count": 327,
   "metadata": {
    "collapsed": false
   },
   "outputs": [
    {
     "name": "stderr",
     "output_type": "stream",
     "text": [
      "/Users/abrahamn/anaconda2/lib/python2.7/site-packages/ipykernel/__main__.py:13: RuntimeWarning: divide by zero encountered in double_scalars\n"
     ]
    },
    {
     "data": {
      "image/png": "[encoded data removed]",
      "text/plain": [
       "<matplotlib.figure.Figure at 0x1175c9ad0>"
      ]
     },
     "metadata": {},
     "output_type": "display_data"
    }
   ],
   "source": [
    "matplotlib.rcParams.update({'font.size': 16})\n",
    "\n",
    "nbins = 4\n",
    "kmax = .9*np.max(kmaggrid)\n",
    "\n",
    "kbincenters,P_binned,bin_counts = bin_noise_to_1D(P_IR_shot_veck,P_21_thermal_veck,nbins,kmax,wedgecut=False)\n",
    "kbincenters,P_binned_wedgecut,bin_counts_wedgecut = bin_noise_to_1D(P_IR_shot_veck,P_21_thermal_veck,nbins,kmax,wedgecut=True)\n",
    "\n",
    "plt.figure(figsize=(6,5))\n",
    "    \n",
    "# plt.subplot(121)\n",
    "plt.loglog(kbincenters,kbincenters**3/(2*pi**2)*P_binned,'bo',label='all bins')\n",
    "plt.loglog(kbincenters,kbincenters**3/(2*pi**2)*P_binned_wedgecut,'ro',label='wedge cut')\n",
    "\n",
    "plt.loglog(model_k,pober_Delta_K_upperlimit_model_k*gong_Delta_kjy_per_sr_upperlimit_model_k,'k-',label='opt. model')\n",
    "plt.loglog(model_k,pober_Delta_K_lowerlimit_model_k*gong_Delta_kjy_per_sr_lowerlimit_model_k,'m-',label='pess. model')\n",
    "\n",
    "plt.xlabel('k (Mpc$^-1$)')\n",
    "plt.ylabel(r'$\\Delta^2$ (K$\\cdot$kJy/sr)')\n",
    "plt.xlim([.01,1])\n",
    "plt.title('thermal & shot noise sensitivity\\n neglecting FG residuals')\n",
    "plt.legend(fontsize=12,loc=4)\n",
    "\n",
    "# plt.subplot(122)\n",
    "# plt.loglog(kbincenters,bin_counts,'ro')\n",
    "# plt.loglog(kbincenters,bin_counts_wedgecut,'bo')\n",
    "# plt.xlabel('k (Mpc$^-1$)')\n",
    "# plt.ylabel('# cells')\n",
    "# plt.xlim([.01,1])\n",
    "\n",
    "plt.tight_layout()"
   ]
  },
  {
   "cell_type": "code",
   "execution_count": 318,
   "metadata": {
    "collapsed": false
   },
   "outputs": [],
   "source": [
    "# # what about auto spectra sensitivity?\n",
    "\n",
    "# kbincenters,P_21_binned,bin_counts = bin_noise_to_1D(P_21_thermal_veck,P_21_thermal_veck,7,.5,wedgecut=False)\n",
    "# kbincenters,P_IR_binned,bin_counts = bin_noise_to_1D(P_IR_shot_veck,P_IR_shot_veck,7,np.max(kmaggrid),wedgecut=False)\n",
    "\n",
    "# plt.figure(figsize=(12,5))\n",
    "\n",
    "# plt.subplot(121)\n",
    "# plt.loglog(model_k,pober_Delta_K**2,'k-',label='mcquinn model')\n",
    "# plt.loglog(kbincenters,kbincenters**2/(2*pi**2)*P_21_binned,'r.-',label='thermal noise')\n",
    "# plt.loglog(beardsley_eor_k,DeltaSquared_beardsley_eor,'b-',label='beardsley eor model')\n",
    "# plt.loglog(beardsley_mwa_k,DeltaSquared_beardsley_mwa,'co',label='beardsley mwa sense')\n",
    "# plt.legend(fontsize=10,loc=5)\n",
    "# plt.xlabel('k (1/Mpc)')\n",
    "# plt.ylabel(r'$\\Delta^2$ (K$^2$)')\n",
    "# plt.xlim([.01,20])\n",
    "\n",
    "# plt.subplot(122)\n",
    "# plt.loglog(model_k,gong_Delta_kjy_per_sr_pober_k**2,'k-',label='model')\n",
    "# plt.loglog(kbincenters,kbincenters**2/(2*pi**2)*P_IR_binned,'r.-',label='shot noise')\n",
    "# plt.legend(fontsize=14)\n",
    "# plt.xlabel('k (1/Mpc)')\n",
    "# plt.ylabel(r'$\\Delta^2$ (kJy/sr)$^2$')\n",
    "# plt.tight_layout()"
   ]
  },
  {
   "cell_type": "code",
   "execution_count": 319,
   "metadata": {
    "collapsed": true
   },
   "outputs": [],
   "source": [
    "def draw_2D_kspace(z,Deltaz,Nf,theta_fov_rad,Nperp,col):\n",
    "    WM,WV = 0.27,0.73\n",
    "    Ez = np.sqrt(WM*(1+z)**3+WV)\n",
    "    \n",
    "    D = cosmocalc(z,WM=WM,WV=WV)['DCMR_Mpc']\n",
    "    DeltaD = c_over_H0_Mpc*Deltaz/Ez\n",
    "    \n",
    "    dkpara = 2.*pi/DeltaD\n",
    "    kparamax = Nf/2*dkpara\n",
    "    print(dkpara,kparamax)\n",
    "\n",
    "    dkperp = 2.*pi/(theta_fov_rad*D)\n",
    "    kperpmax = Nperp/2*dkperp\n",
    "\n",
    "    wedgeslope = D*Ez/(c_over_H0_Mpc*(1+z))*(pi/2)\n",
    "    \n",
    "    plt.loglog([dkperp,kperpmax,kperpmax,dkperp,dkperp],[dkpara,dkpara,kparamax,kparamax,dkpara],col,lw=2)\n",
    "    \n",
    "    for i in range(min(Nf/2,10)):\n",
    "        plt.plot([dkperp,kperpmax],[i*dkpara,i*dkpara],col+'-',lw=1)\n",
    "    for j in range(10):\n",
    "        plt.plot([j*dkperp,j*dkperp],[dkpara,kparamax],col+'-',lw=1)\n",
    "    \n",
    "    plt.loglog([1.e-4,1.e4],[1.e-4*wedgeslope,1.e4*wedgeslope],'k',lw=2)"
   ]
  },
  {
   "cell_type": "code",
   "execution_count": 320,
   "metadata": {
    "collapsed": false
   },
   "outputs": [
    {
     "name": "stdout",
     "output_type": "stream",
     "text": [
      "(0.034587750569091837, 0.20752650341455103)\n"
     ]
    },
    {
     "data": {
      "text/plain": [
       "<matplotlib.text.Text at 0x10fb789d0>"
      ]
     },
     "execution_count": 320,
     "metadata": {},
     "output_type": "execute_result"
    },
    {
     "data": {
      "image/png": "[encoded data removed]",
      "text/plain": [
       "<matplotlib.figure.Figure at 0x10e909650>"
      ]
     },
     "metadata": {},
     "output_type": "display_data"
    }
   ],
   "source": [
    "matplotlib.rcParams.update({'font.size': 20})\n",
    "\n",
    "plt.figure(figsize=(16,10))\n",
    "\n",
    "draw_2D_kspace(z,Deltaz,Nf,theta_fov_rad,Nperp,'b')\n",
    "\n",
    "plt.ylim([.005,20])\n",
    "plt.xlim([.001,.2])\n",
    "plt.ylabel(r'$k_\\parallel$')\n",
    "plt.xlabel(r'$k_\\perp$')"
   ]
  },
  {
   "cell_type": "code",
   "execution_count": null,
   "metadata": {
    "collapsed": true
   },
   "outputs": [],
   "source": []
  },
  {
   "cell_type": "code",
   "execution_count": null,
   "metadata": {
    "collapsed": true
   },
   "outputs": [],
   "source": []
  },
  {
   "cell_type": "code",
   "execution_count": null,
   "metadata": {
    "collapsed": true
   },
   "outputs": [],
   "source": []
  }
 ],
 "metadata": {
  "kernelspec": {
   "display_name": "Python 2",
   "language": "python",
   "name": "python2"
  },
  "language_info": {
   "codemirror_mode": {
    "name": "ipython",
    "version": 2
   },
   "file_extension": ".py",
   "mimetype": "text/x-python",
   "name": "python",
   "nbconvert_exporter": "python",
   "pygments_lexer": "ipython2",
   "version": "2.7.12"
  }
 },
 "nbformat": 4,
 "nbformat_minor": 1
}
