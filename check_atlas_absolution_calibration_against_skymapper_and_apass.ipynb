{
 "cells": [
  {
   "cell_type": "code",
   "execution_count": 45,
   "metadata": {
    "collapsed": false
   },
   "outputs": [],
   "source": [
    "import pickle\n",
    "import numpy as np\n",
    "import sys\n",
    "sys.path.insert(0, '/home/abrahamn/21cmIRxcor/')\n",
    "import cat_utils\n",
    "\n",
    "import matplotlib\n",
    "%matplotlib inline\n",
    "import matplotlib.pyplot as plt\n",
    "\n",
    "from astropy.io.votable import parse\n",
    "from astropy.table import Table\n",
    "\n",
    "from scipy.optimize import curve_fit"
   ]
  },
  {
   "cell_type": "code",
   "execution_count": 69,
   "metadata": {
    "collapsed": false
   },
   "outputs": [],
   "source": [
    "#d = '/home/abrahamn/xcor_data/analysis/ATLAS_mwa57639/whole_field/'\n",
    "d = '/home/abrahamn/xcor_data/analysis/ATLAS_mwa57694_rereduction/0298I_0302I_0306I_0318I_0322I_0326I_0338I_0342I_0346I/'\n",
    "\n",
    "sefluxname = 'best'\n",
    "#secat = pickle.load( open(d+'whole_field_secat_'+sefluxname+'.p', \"rb\" ) )\n",
    "# secat = pickle.load( open(d+'whole_field_secat_best_magoffset=0.279.p', \"rb\" ) )\n",
    "secat = pickle.load( open(d+'0298I_0302I_0306I_0318I_0322I_0326I_0338I_0342I_0346I_secat_best.p', \"rb\" ) )\n",
    "g = secat.jy>1.e-10\n",
    "secat = cat_utils.Catalog(secat.ra[g],secat.dec[g],secat.jy[g])"
   ]
  },
  {
   "cell_type": "code",
   "execution_count": 70,
   "metadata": {
    "collapsed": false
   },
   "outputs": [
    {
     "data": {
      "text/plain": [
       "array([  4.16587673e-01,   1.01974820e-03,   1.40920122e-07, ...,\n",
       "         2.23379946e-03,   2.85136655e-03,   1.60795485e-03])"
      ]
     },
     "execution_count": 70,
     "metadata": {},
     "output_type": "execute_result"
    }
   ],
   "source": [
    "secat.jy"
   ]
  },
  {
   "cell_type": "code",
   "execution_count": 71,
   "metadata": {
    "collapsed": true
   },
   "outputs": [],
   "source": [
    "# apass cat\n",
    "apasscatdat = np.genfromtxt('/home/abrahamn/xcor_data/ir_catalogs/apass_6degcat.csv',skip_header=2,delimiter=',')\n",
    "has_iprime_mag = np.logical_not(np.isnan(apasscatdat[:,23]))\n",
    "apass_cat = cat_utils.Catalog(apasscatdat[has_iprime_mag,2],apasscatdat[has_iprime_mag,3],3631.*10.**(-apasscatdat[has_iprime_mag,23]/2.5))"
   ]
  },
  {
   "cell_type": "code",
   "execution_count": 72,
   "metadata": {
    "collapsed": false
   },
   "outputs": [
    {
     "data": {
      "text/plain": [
       "<matplotlib.text.Text at 0x7fcfa8d4fe50>"
      ]
     },
     "execution_count": 72,
     "metadata": {},
     "output_type": "execute_result"
    },
    {
     "data": {
      "image/png": "[encoded data removed]",
      "text/plain": [
       "<matplotlib.figure.Figure at 0x7fcfa8f2d450>"
      ]
     },
     "metadata": {},
     "output_type": "display_data"
    }
   ],
   "source": [
    "h = plt.hist(apasscatdat[has_iprime_mag,24],np.linspace(0,.5))\n",
    "plt.xlabel('dmag (AB)')\n",
    "plt.ylabel('#')\n",
    "plt.title('APASS errors')"
   ]
  },
  {
   "cell_type": "code",
   "execution_count": 73,
   "metadata": {
    "collapsed": false
   },
   "outputs": [],
   "source": [
    "# # dophot cat\n",
    "# dophot_cat = cat_utils.IRCatalog('/home/abrahamn/xcor_data/ATLAS_mwa57694_rereduction/02a57694o0281I.dph')\n",
    "# dophot_cat.ra = dophot_cat.ra_all\n",
    "# dophot_cat.dec = dophot_cat.dec_all\n",
    "# dophot_cat.jy = dophot_cat.jy_all"
   ]
  },
  {
   "cell_type": "code",
   "execution_count": 74,
   "metadata": {
    "collapsed": false
   },
   "outputs": [],
   "source": [
    "# plt.plot(dophot_cat.ra_all,dophot_cat.dec_all,'.')"
   ]
  },
  {
   "cell_type": "code",
   "execution_count": 75,
   "metadata": {
    "collapsed": false,
    "scrolled": true
   },
   "outputs": [],
   "source": [
    "# # to get early skymapper data, do a cone search through an australian proxy\n",
    "# # http://skymapper.anu.edu.au.prx.teleport.to/edr_cone/query?RA=1&DEC=-29&SR=.35&VERB=2\n",
    "\n",
    "# # need to edit the xml file and change datatypes \"character(18)\" and \"character(3)\" to \"char\"\n",
    "# catdir = '/home/abrahamn/xcor_data/ir_catalogs/'\n",
    "# skymappercatraw = parse(catdir + 'view-source_skymapper.anu.edu.au.prx.teleport.to_edr_cone_query_RA=1&DEC=-29&SR=.35&VERB=2.xml').get_first_table().array"
   ]
  },
  {
   "cell_type": "code",
   "execution_count": 76,
   "metadata": {
    "collapsed": false,
    "scrolled": false
   },
   "outputs": [],
   "source": [
    "# skymappercatraw.dtype"
   ]
  },
  {
   "cell_type": "code",
   "execution_count": 77,
   "metadata": {
    "collapsed": false
   },
   "outputs": [],
   "source": [
    "# # http://skymapper.anu.edu.au/table-browser/\n",
    "# ra = skymappercatraw['raj2000']\n",
    "# dec = skymappercatraw['dej2000']\n",
    "# flags = skymappercatraw['flags']\n",
    "# ab_mag_psf = skymappercatraw['i_psf'] # mag measured by psf fitting\n",
    "# d_ab_mag_psf = skymappercatraw['e_i_psf'] # mag measured by psf fitting\n",
    "# ab_mag_petro = skymappercatraw['i_petro'] # mag measured in an azimuthally averaged radius, see http://www.sdss.org/dr12/algorithms/magnitudes/#mag_petro\n",
    "\n",
    "# jy_psf = 3631.*10.**(-ab_mag_psf/2.5)\n",
    "# jy_petro = 3631.*10.**(-ab_mag_petro/2.5)\n",
    "\n",
    "# skymapper_cat = cat_utils.Catalog(ra,dec,jy_psf)"
   ]
  },
  {
   "cell_type": "code",
   "execution_count": 78,
   "metadata": {
    "collapsed": false
   },
   "outputs": [],
   "source": [
    "# h = plt.hist(apasscatdat[has_iprime_mag,24],np.linspace(0,.5),histtype='step',label='apass errors',normed=True,color='red')\n",
    "# h = plt.hist(d_ab_mag_psf,np.linspace(0,.5),histtype='step',label='skymapper errors',normed=True,color='blue')\n",
    "# plt.xlabel('dmag (AB)')\n",
    "# plt.ylabel('#')\n",
    "# plt.legend()\n",
    "# plt.title('mag errors')"
   ]
  },
  {
   "cell_type": "code",
   "execution_count": 79,
   "metadata": {
    "collapsed": false
   },
   "outputs": [],
   "source": [
    "# secat = secat.bound_with_cat(skymapper_cat)\n",
    "# dophot_cat = dophot_cat.bound_with_cat(skymapper_cat)\n",
    "# apass_cat = apass_cat.bound_with_cat(skymapper_cat)"
   ]
  },
  {
   "cell_type": "code",
   "execution_count": 80,
   "metadata": {
    "collapsed": false
   },
   "outputs": [],
   "source": [
    "# plt.figure(figsize=(20,15))\n",
    "# plt.scatter(ra,dec,25000*skymapper_cat.jy,edgecolor='none',facecolor='red')\n",
    "\n",
    "# plt.scatter(secat_bounded.ra,secat_bounded.dec,25000*secat_bounded.jy,facecolor='none')\n",
    "# plt.scatter(dophot_cat_bounded.ra,dophot_cat_bounded.dec,25000*dophot_cat_bounded.jy,facecolor='none',edgecolor='blue')\n",
    "\n",
    "# plt.scatter(apass_cat_bounded.ra,apass_cat_bounded.dec,25000*apass_cat_bounded.jy,facecolor='none',edgecolor='cyan')"
   ]
  },
  {
   "cell_type": "code",
   "execution_count": 81,
   "metadata": {
    "collapsed": false,
    "scrolled": true
   },
   "outputs": [
    {
     "name": "stdout",
     "output_type": "stream",
     "text": [
      "0.000000\n",
      "0.001968\n",
      "0.003935\n",
      "0.005903\n",
      "0.007870\n",
      "0.009838\n",
      "0.011806\n",
      "0.013773\n",
      "0.015741\n",
      "0.017709\n",
      "0.019676\n",
      "0.021644\n",
      "0.023611\n",
      "0.025579\n",
      "0.027547\n",
      "0.029514\n",
      "0.031482\n",
      "0.033449\n",
      "0.035417\n",
      "0.037385\n",
      "0.039352\n",
      "0.041320\n",
      "0.043287\n",
      "0.045255\n",
      "0.047223\n",
      "0.049190\n",
      "0.051158\n",
      "0.053126\n",
      "0.055093\n",
      "0.057061\n",
      "0.059028\n",
      "0.060996\n",
      "0.062964\n",
      "0.064931\n",
      "0.066899\n",
      "0.068866\n",
      "0.070834\n",
      "0.072802\n",
      "0.074769\n",
      "0.076737\n",
      "0.078705\n",
      "0.080672\n",
      "0.082640\n",
      "0.084607\n",
      "0.086575\n",
      "0.088543\n",
      "0.090510\n",
      "0.092478\n",
      "0.094445\n",
      "0.096413\n",
      "0.098381\n",
      "0.100348\n",
      "0.102316\n",
      "0.104283\n",
      "0.106251\n",
      "0.108219\n",
      "0.110186\n",
      "0.112154\n",
      "0.114122\n",
      "0.116089\n",
      "0.118057\n",
      "0.120024\n",
      "0.121992\n",
      "0.123960\n",
      "0.125927\n",
      "0.127895\n",
      "0.129862\n",
      "0.131830\n",
      "0.133798\n",
      "0.135765\n",
      "0.137733\n",
      "0.139701\n",
      "0.141668\n",
      "0.143636\n",
      "0.145603\n",
      "0.147571\n",
      "0.149539\n",
      "0.151506\n",
      "0.153474\n",
      "0.155441\n",
      "0.157409\n",
      "0.159377\n",
      "0.161344\n",
      "0.163312\n",
      "0.165279\n",
      "0.167247\n",
      "0.169215\n",
      "0.171182\n",
      "0.173150\n",
      "0.175118\n",
      "0.177085\n",
      "0.179053\n",
      "0.181020\n",
      "0.182988\n",
      "0.184956\n",
      "0.186923\n",
      "0.188891\n",
      "0.190858\n",
      "0.192826\n",
      "0.194794\n",
      "0.196761\n",
      "0.198729\n",
      "0.200697\n",
      "0.202664\n",
      "0.204632\n",
      "0.206599\n",
      "0.208567\n",
      "0.210535\n",
      "0.212502\n",
      "0.214470\n",
      "0.216437\n",
      "0.218405\n",
      "0.220373\n",
      "0.222340\n",
      "0.224308\n",
      "0.226276\n",
      "0.228243\n",
      "0.230211\n",
      "0.232178\n",
      "0.234146\n",
      "0.236114\n",
      "0.238081\n",
      "0.240049\n",
      "0.242016\n",
      "0.243984\n",
      "0.245952\n",
      "0.247919\n",
      "0.249887\n",
      "0.251854\n",
      "0.253822\n",
      "0.255790\n",
      "0.257757\n",
      "0.259725\n",
      "0.261693\n",
      "0.263660\n",
      "0.265628\n",
      "0.267595\n",
      "0.269563\n",
      "0.271531\n",
      "0.273498\n",
      "0.275466\n",
      "0.277433\n",
      "0.279401\n",
      "0.281369\n",
      "0.283336\n",
      "0.285304\n",
      "0.287272\n",
      "0.289239\n",
      "0.291207\n",
      "0.293174\n",
      "0.295142\n",
      "0.297110\n",
      "0.299077\n",
      "0.301045\n",
      "0.303012\n",
      "0.304980\n",
      "0.306948\n",
      "0.308915\n",
      "0.310883\n",
      "0.312850\n",
      "0.314818\n",
      "0.316786\n",
      "0.318753\n",
      "0.320721\n",
      "0.322689\n",
      "0.324656\n",
      "0.326624\n",
      "0.328591\n",
      "0.330559\n",
      "0.332527\n",
      "0.334494\n",
      "0.336462\n",
      "0.338429\n",
      "0.340397\n",
      "0.342365\n",
      "0.344332\n",
      "0.346300\n",
      "0.348268\n",
      "0.350235\n",
      "0.352203\n",
      "0.354170\n",
      "0.356138\n",
      "0.358106\n",
      "0.360073\n",
      "0.362041\n",
      "0.364008\n",
      "0.365976\n",
      "0.367944\n",
      "0.369911\n",
      "0.371879\n",
      "0.373846\n",
      "0.375814\n",
      "0.377782\n",
      "0.379749\n",
      "0.381717\n",
      "0.383685\n",
      "0.385652\n",
      "0.387620\n",
      "0.389587\n",
      "0.391555\n",
      "0.393523\n",
      "0.395490\n",
      "0.397458\n",
      "0.399425\n",
      "0.401393\n",
      "0.403361\n",
      "0.405328\n",
      "0.407296\n",
      "0.409264\n",
      "0.411231\n",
      "0.413199\n",
      "0.415166\n",
      "0.417134\n",
      "0.419102\n",
      "0.421069\n",
      "0.423037\n",
      "0.425004\n",
      "0.426972\n",
      "0.428940\n",
      "0.430907\n",
      "0.432875\n",
      "0.434842\n",
      "0.436810\n",
      "0.438778\n",
      "0.440745\n",
      "0.442713\n",
      "0.444681\n",
      "0.446648\n",
      "0.448616\n",
      "0.450583\n",
      "0.452551\n",
      "0.454519\n",
      "0.456486\n",
      "0.458454\n",
      "0.460421\n",
      "0.462389\n",
      "0.464357\n",
      "0.466324\n",
      "0.468292\n",
      "0.470260\n",
      "0.472227\n",
      "0.474195\n",
      "0.476162\n",
      "0.478130\n",
      "0.480098\n",
      "0.482065\n",
      "0.484033\n",
      "0.486000\n",
      "0.487968\n",
      "0.489936\n",
      "0.491903\n",
      "0.493871\n",
      "0.495838\n",
      "0.497806\n",
      "0.499774\n",
      "0.501741\n",
      "0.503709\n",
      "0.505677\n",
      "0.507644\n",
      "0.509612\n",
      "0.511579\n",
      "0.513547\n",
      "0.515515\n",
      "0.517482\n",
      "0.519450\n",
      "0.521417\n",
      "0.523385\n",
      "0.525353\n",
      "0.527320\n",
      "0.529288\n",
      "0.531256\n",
      "0.533223\n",
      "0.535191\n",
      "0.537158\n",
      "0.539126\n",
      "0.541094\n",
      "0.543061\n",
      "0.545029\n",
      "0.546996\n",
      "0.548964\n",
      "0.550932\n",
      "0.552899\n",
      "0.554867\n",
      "0.556835\n",
      "0.558802\n",
      "0.560770\n",
      "0.562737\n",
      "0.564705\n",
      "0.566673\n",
      "0.568640\n",
      "0.570608\n",
      "0.572575\n",
      "0.574543\n",
      "0.576511\n",
      "0.578478\n",
      "0.580446\n",
      "0.582413\n",
      "0.584381\n",
      "0.586349\n",
      "0.588316\n",
      "0.590284\n",
      "0.592252\n",
      "0.594219\n",
      "0.596187\n",
      "0.598154\n",
      "0.600122\n",
      "0.602090\n",
      "0.604057\n",
      "0.606025\n",
      "0.607992\n",
      "0.609960\n",
      "0.611928\n",
      "0.613895\n",
      "0.615863\n",
      "0.617831\n",
      "0.619798\n",
      "0.621766\n",
      "0.623733\n",
      "0.625701\n",
      "0.627669\n",
      "0.629636\n",
      "0.631604\n",
      "0.633571\n",
      "0.635539\n",
      "0.637507\n",
      "0.639474\n",
      "0.641442\n",
      "0.643409\n",
      "0.645377\n",
      "0.647345\n",
      "0.649312\n",
      "0.651280\n",
      "0.653248\n",
      "0.655215\n",
      "0.657183\n",
      "0.659150\n",
      "0.661118\n",
      "0.663086\n",
      "0.665053\n",
      "0.667021\n",
      "0.668988\n",
      "0.670956\n",
      "0.672924\n",
      "0.674891\n",
      "0.676859\n",
      "0.678827\n",
      "0.680794\n",
      "0.682762\n",
      "0.684729\n",
      "0.686697\n",
      "0.688665\n",
      "0.690632\n",
      "0.692600\n",
      "0.694567\n",
      "0.696535\n",
      "0.698503\n",
      "0.700470\n",
      "0.702438\n",
      "0.704405\n",
      "0.706373\n",
      "0.708341\n",
      "0.710308\n",
      "0.712276\n",
      "0.714244\n",
      "0.716211\n",
      "0.718179\n",
      "0.720146\n",
      "0.722114\n",
      "0.724082\n",
      "0.726049\n",
      "0.728017\n",
      "0.729984\n",
      "0.731952\n",
      "0.733920\n",
      "0.735887\n",
      "0.737855\n",
      "0.739823\n",
      "0.741790\n",
      "0.743758\n",
      "0.745725\n",
      "0.747693\n",
      "0.749661\n",
      "0.751628\n",
      "0.753596\n",
      "0.755563\n",
      "0.757531\n",
      "0.759499\n",
      "0.761466\n",
      "0.763434\n",
      "0.765401\n",
      "0.767369\n",
      "0.769337\n",
      "0.771304\n",
      "0.773272\n",
      "0.775240\n",
      "0.777207\n",
      "0.779175\n",
      "0.781142\n",
      "0.783110\n",
      "0.785078\n",
      "0.787045\n",
      "0.789013\n",
      "0.790980\n",
      "0.792948\n",
      "0.794916\n",
      "0.796883\n",
      "0.798851\n",
      "0.800819\n",
      "0.802786\n",
      "0.804754\n",
      "0.806721\n",
      "0.808689\n",
      "0.810657\n",
      "0.812624\n",
      "0.814592\n",
      "0.816559\n",
      "0.818527\n",
      "0.820495\n",
      "0.822462\n",
      "0.824430\n",
      "0.826397\n",
      "0.828365\n",
      "0.830333\n",
      "0.832300\n",
      "0.834268\n",
      "0.836236\n",
      "0.838203\n",
      "0.840171\n",
      "0.842138\n",
      "0.844106\n",
      "0.846074\n",
      "0.848041\n",
      "0.850009\n",
      "0.851976\n",
      "0.853944\n",
      "0.855912\n",
      "0.857879\n",
      "0.859847\n",
      "0.861815\n",
      "0.863782\n",
      "0.865750\n",
      "0.867717\n",
      "0.869685\n",
      "0.871653\n",
      "0.873620\n",
      "0.875588\n",
      "0.877555\n",
      "0.879523\n",
      "0.881491\n",
      "0.883458\n",
      "0.885426\n",
      "0.887394\n",
      "0.889361\n",
      "0.891329\n",
      "0.893296\n",
      "0.895264\n",
      "0.897232\n",
      "0.899199\n",
      "0.901167\n",
      "0.903134\n",
      "0.905102\n",
      "0.907070\n",
      "0.909037\n",
      "0.911005\n",
      "0.912972\n",
      "0.914940\n",
      "0.916908\n",
      "0.918875\n",
      "0.920843\n",
      "0.922811\n",
      "0.924778\n",
      "0.926746\n",
      "0.928713\n",
      "0.930681\n",
      "0.932649\n",
      "0.934616\n",
      "0.936584\n",
      "0.938551\n",
      "0.940519\n",
      "0.942487\n",
      "0.944454\n",
      "0.946422\n",
      "0.948390\n",
      "0.950357\n",
      "0.952325\n",
      "0.954292\n",
      "0.956260\n",
      "0.958228\n",
      "0.960195\n",
      "0.962163\n",
      "0.964130\n",
      "0.966098\n",
      "0.968066\n",
      "0.970033\n",
      "0.972001\n",
      "0.973968\n",
      "0.975936\n",
      "0.977904\n",
      "0.979871\n",
      "0.981839\n",
      "0.983807\n",
      "0.985774\n",
      "0.987742\n",
      "0.989709\n",
      "0.991677\n",
      "0.993645\n",
      "0.995612\n",
      "0.997580\n",
      "0.999547\n"
     ]
    }
   ],
   "source": [
    "# for each sextractor source, look for matching dophot and source extractor sources\n",
    "\n",
    "# cats = [apass_cat,dophot_cat,skymapper_cat]\n",
    "cats = [apass_cat]\n",
    "catnames = ['APASS','ATLAS/dophot','skymapper']\n",
    "indices_matching_srcs = np.zeros((len(cats),len(secat.jy)),dtype=int)-1 # -1 if no match\n",
    "for cati in range(len(cats)):\n",
    "    for i in range(len(secat.jy)):\n",
    "        if i % 100 == 0: print('%f'%(1.*i/len(secat.jy)))\n",
    "        asec_to_all_cat_sources = np.sqrt((secat.dec[i]-cats[cati].dec)**2+np.sin(secat.dec[i]*np.pi/180)**2*(secat.ra[i]-cats[cati].ra)**2)*3600.\n",
    "        if np.min(asec_to_all_cat_sources) < 1:\n",
    "            indices_matching_srcs[cati,i] = np.argmin(asec_to_all_cat_sources)"
   ]
  },
  {
   "cell_type": "code",
   "execution_count": 82,
   "metadata": {
    "collapsed": true
   },
   "outputs": [],
   "source": [
    "def jy2mag(jy):\n",
    "    return -2.5*np.log10(jy/3631.)"
   ]
  },
  {
   "cell_type": "code",
   "execution_count": 83,
   "metadata": {
    "collapsed": false
   },
   "outputs": [
    {
     "data": {
      "text/plain": [
       "50823"
      ]
     },
     "execution_count": 83,
     "metadata": {},
     "output_type": "execute_result"
    }
   ],
   "source": [
    "len(secat.jy)"
   ]
  },
  {
   "cell_type": "code",
   "execution_count": 84,
   "metadata": {
    "collapsed": false
   },
   "outputs": [
    {
     "data": {
      "text/plain": [
       "9515"
      ]
     },
     "execution_count": 84,
     "metadata": {},
     "output_type": "execute_result"
    }
   ],
   "source": [
    "np.sum(indices_matching_srcs[0,:]>0)"
   ]
  },
  {
   "cell_type": "code",
   "execution_count": 85,
   "metadata": {
    "collapsed": false
   },
   "outputs": [
    {
     "data": {
      "text/plain": [
       "<matplotlib.text.Text at 0x7fcfa93bdf10>"
      ]
     },
     "execution_count": 85,
     "metadata": {},
     "output_type": "execute_result"
    },
    {
     "data": {
      "image/png": "[encoded data removed]",
      "text/plain": [
       "<matplotlib.figure.Figure at 0x7fcfa9007ad0>"
      ]
     },
     "metadata": {},
     "output_type": "display_data"
    }
   ],
   "source": [
    "plt.figure(figsize=(14,6))\n",
    "\n",
    "stys = ['b.','r.','c.']\n",
    "\n",
    "for cati in range(len(cats)):\n",
    "    plt.plot(jy2mag(secat.jy[indices_matching_srcs[cati,:]>0]),\\\n",
    "             jy2mag(cats[cati].jy[indices_matching_srcs[cati,indices_matching_srcs[cati,:]>0]])-jy2mag(secat.jy[indices_matching_srcs[cati,:]>0]),stys[cati],\\\n",
    "             label=str(catnames[cati])+' - ATLAS',alpha=.1)\n",
    "\n",
    "plt.xlim([10,20])\n",
    "plt.ylabel('AB mag')\n",
    "plt.legend()\n",
    "plt.ylim([-1,1])\n",
    "plt.xlabel('ATLAS/Sextractor (AB mag)')\n",
    "plt.title('i source flux comparison')\n",
    "\n",
    "#plt.savefig('skymapper_vs_dophot_vs_se_'+sefluxname+'.png',bbox_inches='tight')"
   ]
  },
  {
   "cell_type": "code",
   "execution_count": 88,
   "metadata": {
    "collapsed": false
   },
   "outputs": [
    {
     "data": {
      "text/plain": [
       "<matplotlib.text.Text at 0x7fcfa924dd90>"
      ]
     },
     "execution_count": 88,
     "metadata": {},
     "output_type": "execute_result"
    },
    {
     "data": {
      "image/png": "[encoded data removed]",
      "text/plain": [
       "<matplotlib.figure.Figure at 0x7fcfa91e5910>"
      ]
     },
     "metadata": {},
     "output_type": "display_data"
    }
   ],
   "source": [
    "matplotlib.rcParams.update({'font.size': 14})\n",
    "b = [np.linspace(10,16,100),np.linspace(-.75,.75,100)]\n",
    "h = plt.hist2d(jy2mag(secat.jy[indices_matching_srcs[0,:]>0]),\\\n",
    "           jy2mag(cats[0].jy[indices_matching_srcs[0,indices_matching_srcs[0,:]>0]])-jy2mag(secat.jy[indices_matching_srcs[0,:]>0]),\\\n",
    "           bins=b,\\\n",
    "           norm=matplotlib.colors.LogNorm(),cmap='hot_r',vmin=1,vmax=100)\n",
    "plt.colorbar()\n",
    "plt.plot([10,16],[0,0],'k-')\n",
    "plt.xlabel('ATLAS (AB mag)')\n",
    "plt.ylabel('APASS - ATLAS (AB mag)')"
   ]
  },
  {
   "cell_type": "code",
   "execution_count": 89,
   "metadata": {
    "collapsed": false
   },
   "outputs": [],
   "source": [
    "magdiff = jy2mag(cats[0].jy[indices_matching_srcs[0,indices_matching_srcs[0,:]>0]])-jy2mag(secat.jy[indices_matching_srcs[0,:]>0])\n",
    "brightenough = jy2mag(secat.jy[indices_matching_srcs[0,:]>0])<13\n",
    "counts,binedges = np.histogram(magdiff[brightenough],np.linspace(.1,.5,30))\n",
    "bins = .5*(binedges[1:]+binedges[:-1])\n",
    "\n",
    "def gauss(x, *p):\n",
    "    mu, sigma = p\n",
    "    return np.max(counts)*np.exp(-(x-mu)**2/(2.*sigma**2))"
   ]
  },
  {
   "cell_type": "code",
   "execution_count": 90,
   "metadata": {
    "collapsed": false
   },
   "outputs": [],
   "source": [
    "coeff, var_matrix = curve_fit(gauss, bins, counts,p0=[.3,.05])"
   ]
  },
  {
   "cell_type": "code",
   "execution_count": 91,
   "metadata": {
    "collapsed": false
   },
   "outputs": [
    {
     "data": {
      "image/png": "[encoded data removed]",
      "text/plain": [
       "<matplotlib.figure.Figure at 0x7fcfa9633390>"
      ]
     },
     "metadata": {},
     "output_type": "display_data"
    }
   ],
   "source": [
    "matplotlib.rcParams.update({'font.size': 16})\n",
    "plt.figure(figsize=(6,8))\n",
    "\n",
    "plt.subplot(211)\n",
    "b = [np.linspace(10,16,80),np.linspace(-.25,1,40)]\n",
    "h = plt.hist2d(jy2mag(secat.jy[indices_matching_srcs[0,:]>0]),\\\n",
    "           jy2mag(cats[0].jy[indices_matching_srcs[0,indices_matching_srcs[0,:]>0]])-jy2mag(secat.jy[indices_matching_srcs[0,:]>0]),\\\n",
    "           bins=b,norm=matplotlib.colors.LogNorm(),cmap='hot_r',vmin=1,vmax=200)\n",
    "plt.colorbar()\n",
    "plt.plot([10,16],[0,0],'k-')\n",
    "plt.xlabel('ATLAS (AB mag)')\n",
    "plt.ylabel('APASS - ATLAS (AB mag)')\n",
    "\n",
    "plt.subplot(212)\n",
    "plt.plot(bins,counts,'o')\n",
    "plt.plot(bins,gauss(bins,*coeff),'r-')\n",
    "plt.xlabel('APASS - ATLAS (AB mag)')\n",
    "plt.ylabel('#')\n",
    "\n",
    "plt.tight_layout()\n",
    "\n",
    "# plt.savefig('ATLAS_vs_APASS_cal.pdf',bbox_inches='tight')"
   ]
  },
  {
   "cell_type": "code",
   "execution_count": 92,
   "metadata": {
    "collapsed": false
   },
   "outputs": [
    {
     "data": {
      "text/plain": [
       "0.27422563466573774"
      ]
     },
     "execution_count": 92,
     "metadata": {},
     "output_type": "execute_result"
    }
   ],
   "source": [
    "coeff[0]"
   ]
  },
  {
   "cell_type": "code",
   "execution_count": 93,
   "metadata": {
    "collapsed": false
   },
   "outputs": [
    {
     "data": {
      "text/plain": [
       "0.0061711166750931341"
      ]
     },
     "execution_count": 93,
     "metadata": {},
     "output_type": "execute_result"
    }
   ],
   "source": [
    ".279/np.sqrt(np.sum(counts))"
   ]
  },
  {
   "cell_type": "code",
   "execution_count": 94,
   "metadata": {
    "collapsed": false
   },
   "outputs": [],
   "source": [
    "# 0.279 \\pm 0.01"
   ]
  },
  {
   "cell_type": "code",
   "execution_count": 25,
   "metadata": {
    "collapsed": false
   },
   "outputs": [
    {
     "data": {
      "text/plain": [
       "0.04"
      ]
     },
     "execution_count": 25,
     "metadata": {},
     "output_type": "execute_result"
    }
   ],
   "source": [
    "0.04"
   ]
  },
  {
   "cell_type": "code",
   "execution_count": null,
   "metadata": {
    "collapsed": true
   },
   "outputs": [],
   "source": []
  },
  {
   "cell_type": "code",
   "execution_count": null,
   "metadata": {
    "collapsed": true
   },
   "outputs": [],
   "source": []
  },
  {
   "cell_type": "code",
   "execution_count": null,
   "metadata": {
    "collapsed": true
   },
   "outputs": [],
   "source": []
  }
 ],
 "metadata": {
  "kernelspec": {
   "display_name": "Python 2",
   "language": "python",
   "name": "python2"
  },
  "language_info": {
   "codemirror_mode": {
    "name": "ipython",
    "version": 2
   },
   "file_extension": ".py",
   "mimetype": "text/x-python",
   "name": "python",
   "nbconvert_exporter": "python",
   "pygments_lexer": "ipython2",
   "version": "2.7.13"
  }
 },
 "nbformat": 4,
 "nbformat_minor": 0
}
