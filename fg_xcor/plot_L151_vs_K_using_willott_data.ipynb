{
 "cells": [
  {
   "cell_type": "code",
   "execution_count": 2,
   "metadata": {
    "collapsed": false
   },
   "outputs": [],
   "source": [
    "import numpy as np\n",
    "import matplotlib\n",
    "%matplotlib inline\n",
    "import matplotlib.pyplot as plt"
   ]
  },
  {
   "cell_type": "code",
   "execution_count": 4,
   "metadata": {
    "collapsed": false
   },
   "outputs": [],
   "source": [
    "dat = open('/Users/abrahamn/Documents/MIT/21cm/21cmIR/ir_catalogs/willott.txt').readlines()"
   ]
  },
  {
   "cell_type": "code",
   "execution_count": 9,
   "metadata": {
    "collapsed": false
   },
   "outputs": [],
   "source": [
    "logL151 = np.array(dat[0].split(' ')[2:],dtype=float)"
   ]
  },
  {
   "cell_type": "code",
   "execution_count": 31,
   "metadata": {
    "collapsed": false
   },
   "outputs": [],
   "source": [
    "K = np.array(dat[1].split(' ')[1::4],dtype=float)\n",
    "dK = np.array(dat[1].split(' ')[3::4],dtype=float)"
   ]
  },
  {
   "cell_type": "code",
   "execution_count": 32,
   "metadata": {
    "collapsed": false
   },
   "outputs": [
    {
     "data": {
      "text/plain": [
       "<Container object of 3 artists>"
      ]
     },
     "execution_count": 32,
     "metadata": {},
     "output_type": "execute_result"
    },
    {
     "data": {
      "image/png": "[encoded data removed]",
      "text/plain": [
       "<matplotlib.figure.Figure at 0x105d63610>"
      ]
     },
     "metadata": {},
     "output_type": "display_data"
    }
   ],
   "source": [
    "plt.errorbar(logL151,K,yerr=dK,fmt='.')"
   ]
  },
  {
   "cell_type": "code",
   "execution_count": 33,
   "metadata": {
    "collapsed": false
   },
   "outputs": [
    {
     "name": "stdout",
     "output_type": "stream",
     "text": [
      "02a57694o0373I.dph\r\n",
      "MWA_ALLWISE_xcor_array_W1_gi=3.png\r\n",
      "MWA_ALLWISE_xcor_array_W3_gi=3.png\r\n",
      "MWA_ALLWISE_xcor_array_allMWAsources.png\r\n",
      "MWA_ALLWISE_xcor_array_allMWAsources_flipud.png\r\n",
      "MWA_ALLWISE_xcor_by_source_type.png\r\n",
      "MWA_ALLWISE_xcor_by_source_type_flipud.png\r\n",
      "MWA_WISE_xcor.ipynb\r\n",
      "cat_utils.pyc\r\n",
      "catalog_hists_and_images.pdf\r\n",
      "find_set_of_ir_observations_for_fg_study.ipynb\r\n",
      "ir_hists.pdf\r\n",
      "ir_images_10_90.pdf\r\n",
      "mwa_and_ir_catalogs_xcor.ipynb\r\n",
      "mwa_calibration_source_list.sav\r\n",
      "mwa_cor_atlas_allwise.pdf\r\n",
      "mwa_wise_crossmatch.ipynb\r\n",
      "plot_L151_vs_K_using_willott_data.ipynb\r\n",
      "xcor_sim.ipynb\r\n"
     ]
    }
   ],
   "source": [
    "ls"
   ]
  },
  {
   "cell_type": "code",
   "execution_count": null,
   "metadata": {
    "collapsed": true
   },
   "outputs": [],
   "source": []
  }
 ],
 "metadata": {
  "kernelspec": {
   "display_name": "Python 2",
   "language": "python",
   "name": "python2"
  },
  "language_info": {
   "codemirror_mode": {
    "name": "ipython",
    "version": 2
   },
   "file_extension": ".py",
   "mimetype": "text/x-python",
   "name": "python",
   "nbconvert_exporter": "python",
   "pygments_lexer": "ipython2",
   "version": "2.7.12"
  }
 },
 "nbformat": 4,
 "nbformat_minor": 1
}
