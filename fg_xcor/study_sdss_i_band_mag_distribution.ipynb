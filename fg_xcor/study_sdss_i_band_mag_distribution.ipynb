{
 "cells": [
  {
   "cell_type": "code",
   "execution_count": 1,
   "metadata": {
    "collapsed": true
   },
   "outputs": [],
   "source": [
    "import numpy as np\n",
    "import matplotlib\n",
    "%matplotlib inline\n",
    "import matplotlib.pyplot as plt"
   ]
  },
  {
   "cell_type": "code",
   "execution_count": 2,
   "metadata": {
    "collapsed": false
   },
   "outputs": [],
   "source": [
    "# optical\n",
    "# curl \"http://skyserver.sdss.org/dr13/en/tools/search/x_results.aspx?searchtool=Rectangular&uband=&gband=&rband=&iband=11%2C20.5&zband=&jband=&hband=&kband=&TaskName=Skyserver.Search.Rectangular&ReturnHtml=true&whichphotometry=optical&coordtype=galactic&min_ra=11&max_ra=19&min_dec=69&max_dec=87&min_u=0&max_u=20&min_g=0&max_g=20&min_r=0&max_r=20&check_i=i&min_i=11&max_i=21&min_z=0&max_z=20&min_j=0&max_j=20&min_h=0&max_h=20&min_k=0&max_k=20&format=csv&TableName=&limit=500000\" > sdss_l\\=15_b\\=78_optical.csv\n",
    "\n",
    "# infrared\n",
    "# \n",
    "\n",
    "catfname = 'sdss_l=15_b=78_optical.csv'\n",
    "sdss_dat = np.genfromtxt('/home/abrahamn/xcor_data/ir_catalogs/'+catfname,delimiter=',',skip_header=2)"
   ]
  },
  {
   "cell_type": "code",
   "execution_count": 3,
   "metadata": {
    "collapsed": false
   },
   "outputs": [],
   "source": [
    "f = open('/home/abrahamn/xcor_data/ir_catalogs/'+catfname)\n",
    "f.readline()\n",
    "cols = f.readline().strip().split(',')\n",
    "f.close()"
   ]
  },
  {
   "cell_type": "code",
   "execution_count": 13,
   "metadata": {
    "collapsed": false
   },
   "outputs": [
    {
     "data": {
      "text/plain": [
       "'z'"
      ]
     },
     "execution_count": 13,
     "metadata": {},
     "output_type": "execute_result"
    }
   ],
   "source": [
    "cols[13]"
   ]
  },
  {
   "cell_type": "code",
   "execution_count": 5,
   "metadata": {
    "collapsed": false
   },
   "outputs": [
    {
     "data": {
      "text/plain": [
       "(475284, 19)"
      ]
     },
     "execution_count": 5,
     "metadata": {},
     "output_type": "execute_result"
    }
   ],
   "source": [
    "sdss_dat.shape"
   ]
  },
  {
   "cell_type": "code",
   "execution_count": 6,
   "metadata": {
    "collapsed": false
   },
   "outputs": [],
   "source": [
    "# https://www.sdss3.org/dr8/glossary.php\n",
    "STAR_TYPE = 6\n",
    "GALAXY_TYPE = 3"
   ]
  },
  {
   "cell_type": "code",
   "execution_count": 23,
   "metadata": {
    "collapsed": false
   },
   "outputs": [],
   "source": [
    "i_band_col = 12\n",
    "z_band_col = 13\n",
    "\n",
    "i_mags = sdss_dat[:,i_band_col]\n",
    "# z_mags = sdss_dat[:,z_band_col]\n",
    "\n",
    "i_jys = 3631.*10.**(-i_mags/2.5)\n",
    "# z_jys = 3631.*10.**(-z_mags/2.5)\n",
    "\n",
    "types = sdss_dat[:,6]"
   ]
  },
  {
   "cell_type": "code",
   "execution_count": null,
   "metadata": {
    "collapsed": true
   },
   "outputs": [],
   "source": []
  },
  {
   "cell_type": "code",
   "execution_count": 26,
   "metadata": {
    "collapsed": false,
    "scrolled": true
   },
   "outputs": [
    {
     "data": {
      "text/plain": [
       "<matplotlib.text.Text at 0x7f0feb108f50>"
      ]
     },
     "execution_count": 26,
     "metadata": {},
     "output_type": "execute_result"
    },
    {
     "data": {
      "image/png": "[encoded data removed]",
      "text/plain": [
       "<matplotlib.figure.Figure at 0x7f0feb72dd50>"
      ]
     },
     "metadata": {},
     "output_type": "display_data"
    }
   ],
   "source": [
    "matplotlib.rcParams.update({'font.size': 14})\n",
    "ax1 = plt.subplot(111)\n",
    "\n",
    "bins = np.linspace(-4.5,-1,20)\n",
    "h = plt.hist(np.log10(i_jys[types==STAR_TYPE]),bins,color='r',histtype='step')\n",
    "h = plt.hist(np.log10(i_jys[types==GALAXY_TYPE]),bins,color='b',histtype='step')\n",
    "plt.gca().set_yscale('log')\n",
    "plt.xlim([-4.5,-1])\n",
    "plt.ylim([1.e2,1.e5])\n",
    "plt.plot([-10,-10],[.1,.1],'r',label='stars')\n",
    "plt.plot([-10,-10],[.1,.1],'b',label='galaxies')\n",
    "plt.legend(fontsize=14)\n",
    "plt.xlabel('log10(Jy)')\n",
    "plt.ylabel('#',rotation=0)\n",
    "\n",
    "magticks = np.arange(10,25,1)\n",
    "jys_for_magticks = 3631.*10.**(-magticks/2.5)\n",
    "g = (jys_for_magticks>1.e-5)&(jys_for_magticks<10.**(-.5))\n",
    "\n",
    "ax2 = ax1.twiny()\n",
    "ax2.set_xlim(ax1.get_xlim())\n",
    "ax2.set_xticks(np.log10(jys_for_magticks[g]))\n",
    "ax2.set_xticklabels(magticks[g])\n",
    "ax2.set_xlabel(\"AB apparent magnitude\")\n",
    "\n",
    "# plt.savefig('cat4.png',bbox_inches='tight')"
   ]
  },
  {
   "cell_type": "code",
   "execution_count": 25,
   "metadata": {
    "collapsed": false
   },
   "outputs": [],
   "source": [
    "# matplotlib.rcParams.update({'font.size': 14})\n",
    "# ax1 = plt.subplot(111)\n",
    "\n",
    "# bins = np.linspace(-4.5,-1,20)\n",
    "# h = plt.hist(np.log10(z_jys[types==STAR_TYPE]),bins,color='r',histtype='step')\n",
    "# h = plt.hist(np.log10(z_jys[types==GALAXY_TYPE]),bins,color='b',histtype='step')\n",
    "# plt.gca().set_yscale('log')\n",
    "# plt.xlim([-4.5,-1])\n",
    "# plt.ylim([1.e2,1.e5])\n",
    "# plt.plot([-10,-10],[.1,.1],'r',label='stars')\n",
    "# plt.plot([-10,-10],[.1,.1],'b',label='galaxies')\n",
    "# plt.legend(fontsize=12)\n",
    "# plt.xlabel('log10(Jy)')\n",
    "# plt.ylabel('#',rotation=0)\n",
    "\n",
    "# magticks = np.arange(10,25,1)\n",
    "# jys_for_magticks = 3631.*10.**(-magticks/2.5)\n",
    "# g = (jys_for_magticks>1.e-5)&(jys_for_magticks<10.**(-.5))\n",
    "\n",
    "# ax2 = ax1.twiny()\n",
    "# ax2.set_xlim(ax1.get_xlim())\n",
    "# ax2.set_xticks(np.log10(jys_for_magticks[g]))\n",
    "# ax2.set_xticklabels(magticks[g])\n",
    "# ax2.set_xlabel(\"AB apparent magnitude\")\n",
    "\n",
    "# # plt.savefig('cat4.png',bbox_inches='tight')"
   ]
  },
  {
   "cell_type": "code",
   "execution_count": 9,
   "metadata": {
    "collapsed": false
   },
   "outputs": [
    {
     "data": {
      "text/plain": [
       "-4.8399737510871077"
      ]
     },
     "execution_count": 9,
     "metadata": {},
     "output_type": "execute_result"
    }
   ],
   "source": [
    "np.log10(3631.*10.**(-21./2.5))"
   ]
  },
  {
   "cell_type": "code",
   "execution_count": 10,
   "metadata": {
    "collapsed": false
   },
   "outputs": [
    {
     "data": {
      "image/png": "[encoded data removed]",
      "text/plain": [
       "<matplotlib.figure.Figure at 0x7f0fee084c90>"
      ]
     },
     "metadata": {},
     "output_type": "display_data"
    }
   ],
   "source": [
    "h =plt.hist(i_mags,20)"
   ]
  },
  {
   "cell_type": "code",
   "execution_count": null,
   "metadata": {
    "collapsed": true
   },
   "outputs": [],
   "source": []
  },
  {
   "cell_type": "code",
   "execution_count": null,
   "metadata": {
    "collapsed": true
   },
   "outputs": [],
   "source": []
  }
 ],
 "metadata": {
  "kernelspec": {
   "display_name": "Python 2",
   "language": "python",
   "name": "python2"
  },
  "language_info": {
   "codemirror_mode": {
    "name": "ipython",
    "version": 2
   },
   "file_extension": ".py",
   "mimetype": "text/x-python",
   "name": "python",
   "nbconvert_exporter": "python",
   "pygments_lexer": "ipython2",
   "version": "2.7.13"
  }
 },
 "nbformat": 4,
 "nbformat_minor": 0
}
