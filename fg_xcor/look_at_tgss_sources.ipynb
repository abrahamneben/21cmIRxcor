{
 "cells": [
  {
   "cell_type": "code",
   "execution_count": 12,
   "metadata": {
    "collapsed": true
   },
   "outputs": [],
   "source": [
    "import matplotlib\n",
    "%matplotlib inline\n",
    "import matplotlib.pyplot as plt\n",
    "import numpy as np"
   ]
  },
  {
   "cell_type": "code",
   "execution_count": 4,
   "metadata": {
    "collapsed": false
   },
   "outputs": [
    {
     "name": "stderr",
     "output_type": "stream",
     "text": [
      "WARNING: W50: /home/abrahamn/xcor_data/ir_catalogs/TGSSADR1_7sigma_catalog.xml:14:3: W50: Invalid unit string 'mJy.beam-1' [astropy.io.votable.exceptions]\n",
      "WARNING: W50: /home/abrahamn/xcor_data/ir_catalogs/TGSSADR1_7sigma_catalog.xml:15:3: W50: Invalid unit string 'mJy.beam-1' [astropy.io.votable.exceptions]\n",
      "WARNING: W50: /home/abrahamn/xcor_data/ir_catalogs/TGSSADR1_7sigma_catalog.xml:22:3: W50: Invalid unit string 'mJy.beam-1' [astropy.io.votable.exceptions]\n"
     ]
    }
   ],
   "source": [
    "from astropy.table import Table\n",
    "t = Table.read('/home/abrahamn/xcor_data/ir_catalogs/TGSSADR1_7sigma_catalog.xml',format='votable')"
   ]
  },
  {
   "cell_type": "code",
   "execution_count": 5,
   "metadata": {
    "collapsed": false
   },
   "outputs": [
    {
     "data": {
      "text/plain": [
       "['Source_name',\n",
       " 'RA',\n",
       " 'E_RA',\n",
       " 'DEC',\n",
       " 'E_DEC',\n",
       " 'Total_flux',\n",
       " 'E_Total_flux',\n",
       " 'Peak_flux',\n",
       " 'E_Peak_flux',\n",
       " 'Maj',\n",
       " 'E_Maj',\n",
       " 'Min',\n",
       " 'E_Min',\n",
       " 'PA',\n",
       " 'E_PA',\n",
       " 'RMS_noise',\n",
       " 'Source_code',\n",
       " 'Mosaic_name']"
      ]
     },
     "execution_count": 5,
     "metadata": {},
     "output_type": "execute_result"
    }
   ],
   "source": [
    "t.keys()"
   ]
  },
  {
   "cell_type": "code",
   "execution_count": 24,
   "metadata": {
    "collapsed": false
   },
   "outputs": [
    {
     "data": {
      "text/plain": [
       "(-2, 2)"
      ]
     },
     "execution_count": 24,
     "metadata": {},
     "output_type": "execute_result"
    },
    {
     "data": {
      "image/png": "[encoded data removed]",
      "text/plain": [
       "<matplotlib.figure.Figure at 0x7fbe8f3eed50>"
      ]
     },
     "metadata": {},
     "output_type": "display_data"
    }
   ],
   "source": [
    "h = plt.hist(np.log10(t['Total_flux'].data.data*1.e-3*(185./150)**(-.8)),30,histtype='step')\n",
    "plt.gca().set_yscale('log')\n",
    "plt.xlim([-2,2])"
   ]
  },
  {
   "cell_type": "code",
   "execution_count": null,
   "metadata": {
    "collapsed": true
   },
   "outputs": [],
   "source": []
  },
  {
   "cell_type": "code",
   "execution_count": null,
   "metadata": {
    "collapsed": true
   },
   "outputs": [],
   "source": []
  },
  {
   "cell_type": "code",
   "execution_count": null,
   "metadata": {
    "collapsed": true
   },
   "outputs": [],
   "source": []
  },
  {
   "cell_type": "code",
   "execution_count": null,
   "metadata": {
    "collapsed": true
   },
   "outputs": [],
   "source": []
  },
  {
   "cell_type": "code",
   "execution_count": null,
   "metadata": {
    "collapsed": true
   },
   "outputs": [],
   "source": []
  }
 ],
 "metadata": {
  "kernelspec": {
   "display_name": "Python 2",
   "language": "python",
   "name": "python2"
  },
  "language_info": {
   "codemirror_mode": {
    "name": "ipython",
    "version": 2
   },
   "file_extension": ".py",
   "mimetype": "text/x-python",
   "name": "python",
   "nbconvert_exporter": "python",
   "pygments_lexer": "ipython2",
   "version": "2.7.13"
  }
 },
 "nbformat": 4,
 "nbformat_minor": 0
}
