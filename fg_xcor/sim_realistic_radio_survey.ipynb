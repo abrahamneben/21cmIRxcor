{
 "cells": [
  {
   "cell_type": "code",
   "execution_count": 1,
   "metadata": {
    "collapsed": true
   },
   "outputs": [],
   "source": [
    "# simulate a flux limited, and non-flux limited radio and IR survey\n",
    "# from luminosity functions"
   ]
  },
  {
   "cell_type": "code",
   "execution_count": 2,
   "metadata": {
    "collapsed": true
   },
   "outputs": [],
   "source": [
    "import numpy as np\n",
    "import matplotlib\n",
    "%matplotlib inline\n",
    "import matplotlib.pyplot as plt\n",
    "\n",
    "from numpy import mean,sqrt"
   ]
  },
  {
   "cell_type": "code",
   "execution_count": 3,
   "metadata": {
    "collapsed": false
   },
   "outputs": [
    {
     "data": {
      "text/plain": [
       "<module 'cat_utils' from '/Users/abrahamn/21cmIR/21cmIRxcor/cat_utils.pyc'>"
      ]
     },
     "execution_count": 3,
     "metadata": {},
     "output_type": "execute_result"
    }
   ],
   "source": [
    "import sys # needed to import cat_utils\n",
    "sys.path.insert(0, '/Users/abrahamn/21cmIR/21cmIRxcor/')\n",
    "\n",
    "import imp\n",
    "import cat_utils\n",
    "imp.reload(cat_utils)"
   ]
  },
  {
   "cell_type": "code",
   "execution_count": 4,
   "metadata": {
    "collapsed": false,
    "scrolled": true
   },
   "outputs": [],
   "source": [
    "# luminosity function of star forming galaxies at 1.4GHz\n",
    "# Sec. 5.3 in Mauch & Sadler 2006, https://arxiv.org/abs/astro-ph/0612018v1\n",
    "\n",
    "C_sf = 10.**(-2.83) # 1/(mag*Mpc^3)\n",
    "Pstar_sf = 10.**(21.18) # W/Hz\n",
    "alpha_sf = 1.02\n",
    "sigma_sf = 0.6\n",
    "\n",
    "numPbins_sf = 100\n",
    "Pmin_sf,Pmax_sf = 1.e19,1.e24\n",
    "Pedges_sf = 10.**np.linspace(np.log10(Pmin_sf),np.log10(Pmax_sf),numPbins_sf+1)\n",
    "dP_sf = (Pedges_sf[1:]-Pedges_sf[:-1])\n",
    "P_sf = .5*(Pedges_sf[1:]+Pedges_sf[:-1])\n",
    "\n",
    "# rho_mag(mag) dmag = rho_L(L) dL  ==> rho_L(L) = rho_mag(mag(L)) dmag/dL = rho_mag(mag(L)) 2.5/L\n",
    "# the above factor of 2.5/L is thus the factor needed to convert the magnitude luminosity functs in eqns. 5 and 6 in\n",
    "# the above cited paper into power luminosity functions\n",
    "def rho_P_sf(P):\n",
    "    return (2.5/P)*C_sf*(P/Pstar_sf)**(1-alpha_sf)*np.exp(-.5*(np.log10(1+P/Pstar_sf)/sigma_sf)**2)*(Pmin_sf<P)*(P<Pmax_sf)"
   ]
  },
  {
   "cell_type": "code",
   "execution_count": 5,
   "metadata": {
    "collapsed": false
   },
   "outputs": [
    {
     "data": {
      "text/plain": [
       "(1e+19, 1e+28)"
      ]
     },
     "execution_count": 5,
     "metadata": {},
     "output_type": "execute_result"
    },
    {
     "data": {
      "image/png": "[encoded data removed]",
      "text/plain": [
       "<matplotlib.figure.Figure at 0x10cfbc510>"
      ]
     },
     "metadata": {},
     "output_type": "display_data"
    }
   ],
   "source": [
    "# luminosity function of AGN at 1.4GHz\n",
    "# Sec. 5.3 in Mauch & Sadler 2006, https://arxiv.org/abs/astro-ph/0612018v1\n",
    "\n",
    "C_agn = 10.**(-5.5) # 1/(mag*Mpc^3)\n",
    "Pstar_agn = 10.**(24.59) # W/Hz\n",
    "alpha_agn = 1.27\n",
    "beta_agn = 0.49\n",
    "\n",
    "\n",
    "numPbins_agn = 100\n",
    "Pmin_agn,Pmax_agn = 1.e20,1.e27\n",
    "Pedges_agn = 10.**np.linspace(np.log10(Pmin_agn),np.log10(Pmax_agn),numPbins_agn+1)\n",
    "dP_agn = (Pedges_agn[1:]-Pedges_agn[:-1])\n",
    "P_agn = .5*(Pedges_agn[1:]+Pedges_agn[:-1])\n",
    "\n",
    "def rho_P_agn(P):\n",
    "    return (2.5/P)*C_agn/((P/Pstar_agn)**alpha_agn+(P/Pstar_agn)**beta_agn)*(Pmin_agn<P)*(P<Pmax_agn)\n",
    "\n",
    "plt.loglog(P_agn,rho_P_sf(P_agn)*dP_agn,'b.-',label='agn')\n",
    "plt.loglog(P_sf,rho_P_agn(P_sf)*dP_sf,'r.-',label='sf')\n",
    "plt.legend()\n",
    "plt.xlim([1.e19,1.e28])\n",
    "#plt.ylim([1.e-9,1.e-2])"
   ]
  },
  {
   "cell_type": "code",
   "execution_count": 6,
   "metadata": {
    "collapsed": false
   },
   "outputs": [],
   "source": [
    "# let's try to simulate an image of SF and AGN\n",
    "# want 20deg wide, let's simulate out to z=.5\n",
    "# let's ignore K corrections for now\n",
    "# let's ignore the expansion of the universe\n",
    "\n",
    "zmax = .6\n",
    "c_over_H0 = 4283. # Mpc\n",
    "los_min_Mpc,los_max_Mpc = 20.,c_over_H0*zmax\n",
    "Mpc2m = 1.e6*3.e16\n",
    "\n",
    "fov_deg = 20.\n",
    "fov_rad = fov_deg*np.pi/180\n",
    "trans_Mpc = 1.*fov_rad*los_max_Mpc"
   ]
  },
  {
   "cell_type": "code",
   "execution_count": 7,
   "metadata": {
    "collapsed": false,
    "scrolled": false
   },
   "outputs": [
    {
     "name": "stdout",
     "output_type": "stream",
     "text": [
      "444716 objects in L=1.087449e+20 bin with flux 0.000528 +/- 0.008713 mJy, 0 with flux greater than 10mJy\n",
      "408814 objects in L=1.277641e+20 bin with flux 0.000625 +/- 0.008900 mJy, 0 with flux greater than 10mJy\n",
      "378439 objects in L=1.501097e+20 bin with flux 0.000734 +/- 0.010078 mJy, 0 with flux greater than 10mJy\n",
      "350354 objects in L=1.763635e+20 bin with flux 0.000861 +/- 0.012776 mJy, 0 with flux greater than 10mJy\n",
      "323303 objects in L=2.072091e+20 bin with flux 0.001015 +/- 0.016757 mJy, 0 with flux greater than 10mJy\n",
      "298593 objects in L=2.434495e+20 bin with flux 0.001189 +/- 0.017185 mJy, 0 with flux greater than 10mJy\n",
      "276535 objects in L=2.860282e+20 bin with flux 0.001404 +/- 0.020017 mJy, 0 with flux greater than 10mJy\n",
      "254621 objects in L=3.360538e+20 bin with flux 0.001624 +/- 0.021762 mJy, 0 with flux greater than 10mJy\n",
      "235517 objects in L=3.948288e+20 bin with flux 0.001929 +/- 0.028161 mJy, 0 with flux greater than 10mJy\n",
      "218117 objects in L=4.638834e+20 bin with flux 0.002254 +/- 0.031939 mJy, 1 with flux greater than 10mJy\n",
      "200774 objects in L=5.450154e+20 bin with flux 0.002653 +/- 0.040449 mJy, 0 with flux greater than 10mJy\n",
      "186390 objects in L=6.403373e+20 bin with flux 0.003133 +/- 0.040581 mJy, 0 with flux greater than 10mJy\n",
      "172488 objects in L=7.523307e+20 bin with flux 0.003668 +/- 0.058324 mJy, 1 with flux greater than 10mJy\n",
      "159710 objects in L=8.839116e+20 bin with flux 0.004333 +/- 0.073087 mJy, 3 with flux greater than 10mJy\n",
      "147189 objects in L=1.038506e+21 bin with flux 0.005052 +/- 0.077964 mJy, 1 with flux greater than 10mJy\n",
      "136208 objects in L=1.220138e+21 bin with flux 0.005955 +/- 0.070861 mJy, 0 with flux greater than 10mJy\n",
      "125277 objects in L=1.433537e+21 bin with flux 0.006999 +/- 0.122427 mJy, 1 with flux greater than 10mJy\n",
      "115737 objects in L=1.684259e+21 bin with flux 0.008224 +/- 0.123010 mJy, 1 with flux greater than 10mJy\n",
      "107132 objects in L=1.978831e+21 bin with flux 0.009586 +/- 0.164656 mJy, 3 with flux greater than 10mJy\n",
      "98946 objects in L=2.324924e+21 bin with flux 0.011247 +/- 0.171051 mJy, 2 with flux greater than 10mJy\n",
      "91635 objects in L=2.731548e+21 bin with flux 0.013331 +/- 0.178202 mJy, 1 with flux greater than 10mJy\n",
      "83938 objects in L=3.209289e+21 bin with flux 0.015646 +/- 0.184338 mJy, 2 with flux greater than 10mJy\n",
      "78546 objects in L=3.770586e+21 bin with flux 0.018626 +/- 0.214204 mJy, 3 with flux greater than 10mJy\n",
      "72158 objects in L=4.430052e+21 bin with flux 0.021646 +/- 0.324007 mJy, 6 with flux greater than 10mJy\n",
      "66969 objects in L=5.204857e+21 bin with flux 0.025226 +/- 0.375103 mJy, 1 with flux greater than 10mJy\n",
      "61164 objects in L=6.115174e+21 bin with flux 0.029817 +/- 0.479819 mJy, 3 with flux greater than 10mJy\n",
      "56163 objects in L=7.184703e+21 bin with flux 0.034880 +/- 0.454236 mJy, 4 with flux greater than 10mJy\n",
      "51969 objects in L=8.441290e+21 bin with flux 0.040895 +/- 0.628644 mJy, 8 with flux greater than 10mJy\n",
      "48335 objects in L=9.917651e+21 bin with flux 0.048447 +/- 0.822306 mJy, 9 with flux greater than 10mJy\n",
      "44669 objects in L=1.165222e+22 bin with flux 0.057131 +/- 0.708358 mJy, 5 with flux greater than 10mJy\n",
      "41246 objects in L=1.369017e+22 bin with flux 0.066880 +/- 0.850245 mJy, 12 with flux greater than 10mJy\n",
      "37775 objects in L=1.608455e+22 bin with flux 0.078473 +/- 0.888784 mJy, 11 with flux greater than 10mJy\n",
      "35007 objects in L=1.889769e+22 bin with flux 0.091985 +/- 1.387528 mJy, 14 with flux greater than 10mJy\n",
      "32146 objects in L=2.220285e+22 bin with flux 0.107149 +/- 1.551756 mJy, 17 with flux greater than 10mJy\n",
      "29544 objects in L=2.608608e+22 bin with flux 0.125419 +/- 2.007056 mJy, 17 with flux greater than 10mJy\n",
      "27531 objects in L=3.064847e+22 bin with flux 0.147485 +/- 1.967429 mJy, 31 with flux greater than 10mJy\n",
      "25349 objects in L=3.600881e+22 bin with flux 0.175789 +/- 2.660808 mJy, 28 with flux greater than 10mJy\n",
      "23314 objects in L=4.230667e+22 bin with flux 0.206657 +/- 2.360842 mJy, 55 with flux greater than 10mJy\n",
      "21311 objects in L=4.970600e+22 bin with flux 0.243369 +/- 3.831883 mJy, 41 with flux greater than 10mJy\n",
      "19496 objects in L=5.839946e+22 bin with flux 0.278759 +/- 3.199755 mJy, 58 with flux greater than 10mJy\n",
      "18323 objects in L=6.861338e+22 bin with flux 0.337825 +/- 5.126052 mJy, 60 with flux greater than 10mJy\n",
      "16809 objects in L=8.061369e+22 bin with flux 0.395035 +/- 4.204511 mJy, 67 with flux greater than 10mJy\n",
      "15534 objects in L=9.471283e+22 bin with flux 0.463029 +/- 6.295433 mJy, 104 with flux greater than 10mJy\n",
      "14105 objects in L=1.112779e+23 bin with flux 0.537092 +/- 7.100507 mJy, 94 with flux greater than 10mJy\n",
      "12731 objects in L=1.307401e+23 bin with flux 0.640266 +/- 11.429098 mJy, 97 with flux greater than 10mJy\n",
      "11751 objects in L=1.536062e+23 bin with flux 0.766329 +/- 12.136531 mJy, 126 with flux greater than 10mJy\n",
      "10834 objects in L=1.804716e+23 bin with flux 0.867552 +/- 11.242241 mJy, 131 with flux greater than 10mJy\n",
      "9825 objects in L=2.120356e+23 bin with flux 1.015733 +/- 19.401108 mJy, 160 with flux greater than 10mJy\n",
      "8873 objects in L=2.491201e+23 bin with flux 1.187304 +/- 22.270800 mJy, 156 with flux greater than 10mJy\n",
      "8281 objects in L=2.926906e+23 bin with flux 1.417573 +/- 15.589083 mJy, 233 with flux greater than 10mJy\n",
      "7385 objects in L=3.438815e+23 bin with flux 1.670896 +/- 20.874182 mJy, 238 with flux greater than 10mJy\n",
      "6739 objects in L=4.040255e+23 bin with flux 1.985856 +/- 23.903225 mJy, 314 with flux greater than 10mJy\n",
      "6036 objects in L=4.746886e+23 bin with flux 2.272386 +/- 39.360423 mJy, 318 with flux greater than 10mJy\n",
      "5522 objects in L=5.577105e+23 bin with flux 2.728284 +/- 35.767471 mJy, 429 with flux greater than 10mJy\n",
      "4967 objects in L=6.552527e+23 bin with flux 3.251007 +/- 64.482449 mJy, 507 with flux greater than 10mJy\n",
      "4452 objects in L=7.698548e+23 bin with flux 3.788579 +/- 125.928228 mJy, 512 with flux greater than 10mJy\n",
      "4113 objects in L=9.045005e+23 bin with flux 4.608807 +/- 92.286230 mJy, 587 with flux greater than 10mJy\n",
      "3564 objects in L=1.062695e+24 bin with flux 5.053085 +/- 78.217050 mJy, 700 with flux greater than 10mJy\n",
      "3215 objects in L=1.248558e+24 bin with flux 5.976887 +/- 72.565434 mJy, 783 with flux greater than 10mJy\n",
      "2772 objects in L=1.466928e+24 bin with flux 6.829444 +/- 63.801654 mJy, 894 with flux greater than 10mJy\n",
      "2517 objects in L=1.723490e+24 bin with flux 8.452032 +/- 99.553634 mJy, 887 with flux greater than 10mJy\n",
      "2241 objects in L=2.024924e+24 bin with flux 9.569665 +/- 83.320777 mJy, 784 with flux greater than 10mJy\n",
      "1972 objects in L=2.379079e+24 bin with flux 11.134404 +/- 77.585794 mJy, 684 with flux greater than 10mJy\n",
      "1699 objects in L=2.795174e+24 bin with flux 12.820671 +/- 152.781572 mJy, 610 with flux greater than 10mJy\n",
      "1519 objects in L=3.284043e+24 bin with flux 17.049204 +/- 126.850191 mJy, 490 with flux greater than 10mJy\n",
      "1367 objects in L=3.858414e+24 bin with flux 17.989213 +/- 394.895276 mJy, 481 with flux greater than 10mJy\n",
      "1117 objects in L=4.533241e+24 bin with flux 19.979450 +/- 278.619404 mJy, 387 with flux greater than 10mJy\n",
      "1034 objects in L=5.326094e+24 bin with flux 24.604040 +/- 240.489292 mJy, 385 with flux greater than 10mJy\n",
      "850 objects in L=6.257615e+24 bin with flux 29.705085 +/- 260.679660 mJy, 284 with flux greater than 10mJy\n",
      "743 objects in L=7.352056e+24 bin with flux 33.536419 +/- 719.334269 mJy, 257 with flux greater than 10mJy\n",
      "599 objects in L=8.637913e+24 bin with flux 41.336067 +/- 1097.483529 mJy, 214 with flux greater than 10mJy\n",
      "497 objects in L=1.014866e+25 bin with flux 52.062610 +/- 273.151265 mJy, 176 with flux greater than 10mJy\n",
      "499 objects in L=1.192364e+25 bin with flux 58.073153 +/- 1290.429369 mJy, 184 with flux greater than 10mJy\n",
      "410 objects in L=1.400905e+25 bin with flux 63.240588 +/- 847.810908 mJy, 147 with flux greater than 10mJy\n",
      "338 objects in L=1.645920e+25 bin with flux 81.648833 +/- 1027.684286 mJy, 114 with flux greater than 10mJy\n",
      "265 objects in L=1.933788e+25 bin with flux 87.775418 +/- 370.416678 mJy, 95 with flux greater than 10mJy\n",
      "242 objects in L=2.272003e+25 bin with flux 123.218132 +/- 699.256252 mJy, 68 with flux greater than 10mJy\n",
      "189 objects in L=2.669370e+25 bin with flux 130.764057 +/- 1320.974137 mJy, 56 with flux greater than 10mJy\n",
      "151 objects in L=3.136237e+25 bin with flux 163.391173 +/- 2004.991955 mJy, 52 with flux greater than 10mJy\n",
      "126 objects in L=3.684757e+25 bin with flux 215.525899 +/- 1484.156854 mJy, 37 with flux greater than 10mJy\n",
      "115 objects in L=4.329212e+25 bin with flux 237.894769 +/- 674.775894 mJy, 34 with flux greater than 10mJy\n",
      "85 objects in L=5.086380e+25 bin with flux 210.337710 +/- 1040.536081 mJy, 36 with flux greater than 10mJy\n",
      "76 objects in L=5.975976e+25 bin with flux 299.003369 +/- 985.914756 mJy, 27 with flux greater than 10mJy\n",
      "67 objects in L=7.021159e+25 bin with flux 450.008306 +/- 1529.266140 mJy, 19 with flux greater than 10mJy\n",
      "55 objects in L=8.249143e+25 bin with flux 363.978144 +/- 1318.947847 mJy, 21 with flux greater than 10mJy\n",
      "52 objects in L=9.691897e+25 bin with flux 477.679509 +/- 4612.335975 mJy, 17 with flux greater than 10mJy\n",
      "26 objects in L=1.138699e+26 bin with flux 434.241382 +/- 1366.977052 mJy, 10 with flux greater than 10mJy\n",
      "36 objects in L=1.337854e+26 bin with flux 930.107198 +/- 2446.621883 mJy, 8 with flux greater than 10mJy\n",
      "28 objects in L=1.571842e+26 bin with flux 1273.217155 +/- 11667.353767 mJy, 7 with flux greater than 10mJy\n",
      "20 objects in L=1.846753e+26 bin with flux 602.803572 +/- 9720.608942 mJy, 7 with flux greater than 10mJy\n",
      "15 objects in L=2.169746e+26 bin with flux 1116.392340 +/- 6351.240031 mJy, 5 with flux greater than 10mJy\n",
      "14 objects in L=2.549229e+26 bin with flux 2998.759714 +/- 2649.597992 mJy, 2 with flux greater than 10mJy\n",
      "8 objects in L=2.995083e+26 bin with flux 1327.671184 +/- 3807.520594 mJy, 1 with flux greater than 10mJy\n",
      "10 objects in L=3.518915e+26 bin with flux 2139.124592 +/- 13361.147995 mJy, 4 with flux greater than 10mJy\n",
      "7 objects in L=4.134365e+26 bin with flux 1177.932157 +/- 13378.251118 mJy, 3 with flux greater than 10mJy\n",
      "3 objects in L=4.857455e+26 bin with flux 7581.847557 +/- 4910.170209 mJy, 0 with flux greater than 10mJy\n",
      "5 objects in L=5.707012e+26 bin with flux 3862.062889 +/- 1299.451520 mJy, 0 with flux greater than 10mJy\n",
      "8 objects in L=6.705155e+26 bin with flux 9082.907216 +/- 15050.482547 mJy, 1 with flux greater than 10mJy\n",
      "6 objects in L=7.877870e+26 bin with flux 4155.891643 +/- 2775.922201 mJy, 0 with flux greater than 10mJy\n",
      "3 objects in L=9.255690e+26 bin with flux 5945.075645 +/- 3177.925792 mJy, 1 with flux greater than 10mJy\n",
      "using 1982923 sources\n",
      "962770 objects in L=1.061009e+19 bin with flux 0.000052 +/- 0.000767 mJy, 0 with flux greater than 10mJy\n",
      "962052 objects in L=1.190472e+19 bin with flux 0.000058 +/- 0.000824 mJy, 0 with flux greater than 10mJy\n",
      "959766 objects in L=1.335731e+19 bin with flux 0.000065 +/- 0.001005 mJy, 0 with flux greater than 10mJy\n",
      "955292 objects in L=1.498715e+19 bin with flux 0.000073 +/- 0.001040 mJy, 0 with flux greater than 10mJy\n",
      "954299 objects in L=1.681586e+19 bin with flux 0.000082 +/- 0.001271 mJy, 0 with flux greater than 10mJy\n",
      "953181 objects in L=1.886771e+19 bin with flux 0.000092 +/- 0.001415 mJy, 0 with flux greater than 10mJy\n",
      "950743 objects in L=2.116992e+19 bin with flux 0.000103 +/- 0.001442 mJy, 0 with flux greater than 10mJy\n",
      "949608 objects in L=2.375304e+19 bin with flux 0.000116 +/- 0.001723 mJy, 0 with flux greater than 10mJy\n",
      "946192 objects in L=2.665135e+19 bin with flux 0.000130 +/- 0.001933 mJy, 0 with flux greater than 10mJy\n",
      "943686 objects in L=2.990330e+19 bin with flux 0.000146 +/- 0.002052 mJy, 0 with flux greater than 10mJy\n",
      "941662 objects in L=3.355206e+19 bin with flux 0.000163 +/- 0.002591 mJy, 0 with flux greater than 10mJy\n",
      "939531 objects in L=3.764603e+19 bin with flux 0.000183 +/- 0.002637 mJy, 0 with flux greater than 10mJy\n",
      "936120 objects in L=4.223954e+19 bin with flux 0.000207 +/- 0.003233 mJy, 0 with flux greater than 10mJy\n",
      "933737 objects in L=4.739354e+19 bin with flux 0.000231 +/- 0.003507 mJy, 0 with flux greater than 10mJy\n",
      "932972 objects in L=5.317643e+19 bin with flux 0.000259 +/- 0.003795 mJy, 0 with flux greater than 10mJy\n",
      "929739 objects in L=5.966493e+19 bin with flux 0.000291 +/- 0.004248 mJy, 0 with flux greater than 10mJy\n",
      "928957 objects in L=6.694516e+19 bin with flux 0.000327 +/- 0.005127 mJy, 0 with flux greater than 10mJy\n",
      "926509 objects in L=7.511370e+19 bin with flux 0.000367 +/- 0.005278 mJy, 0 with flux greater than 10mJy\n",
      "924052 objects in L=8.427896e+19 bin with flux 0.000411 +/- 0.005755 mJy, 0 with flux greater than 10mJy\n",
      "922356 objects in L=9.456255e+19 bin with flux 0.000460 +/- 0.007107 mJy, 0 with flux greater than 10mJy\n",
      "919787 objects in L=1.061009e+20 bin with flux 0.000517 +/- 0.007510 mJy, 0 with flux greater than 10mJy\n",
      "918479 objects in L=1.190472e+20 bin with flux 0.000580 +/- 0.008627 mJy, 0 with flux greater than 10mJy\n",
      "913528 objects in L=1.335731e+20 bin with flux 0.000653 +/- 0.009909 mJy, 1 with flux greater than 10mJy\n",
      "912437 objects in L=1.498715e+20 bin with flux 0.000728 +/- 0.010556 mJy, 0 with flux greater than 10mJy\n",
      "908771 objects in L=1.681586e+20 bin with flux 0.000822 +/- 0.012533 mJy, 0 with flux greater than 10mJy\n",
      "906607 objects in L=1.886771e+20 bin with flux 0.000921 +/- 0.013942 mJy, 0 with flux greater than 10mJy\n",
      "902768 objects in L=2.116992e+20 bin with flux 0.001033 +/- 0.015323 mJy, 0 with flux greater than 10mJy\n",
      "901469 objects in L=2.375304e+20 bin with flux 0.001161 +/- 0.017524 mJy, 0 with flux greater than 10mJy\n",
      "896378 objects in L=2.665135e+20 bin with flux 0.001296 +/- 0.019705 mJy, 2 with flux greater than 10mJy\n",
      "893596 objects in L=2.990330e+20 bin with flux 0.001458 +/- 0.021805 mJy, 0 with flux greater than 10mJy\n",
      "890591 objects in L=3.355206e+20 bin with flux 0.001643 +/- 0.023386 mJy, 1 with flux greater than 10mJy\n",
      "884847 objects in L=3.764603e+20 bin with flux 0.001836 +/- 0.025928 mJy, 0 with flux greater than 10mJy\n",
      "881486 objects in L=4.223954e+20 bin with flux 0.002052 +/- 0.030168 mJy, 2 with flux greater than 10mJy\n",
      "877180 objects in L=4.739354e+20 bin with flux 0.002319 +/- 0.035715 mJy, 2 with flux greater than 10mJy\n",
      "869170 objects in L=5.317643e+20 bin with flux 0.002595 +/- 0.036659 mJy, 1 with flux greater than 10mJy\n",
      "863767 objects in L=5.966493e+20 bin with flux 0.002924 +/- 0.045272 mJy, 1 with flux greater than 10mJy\n",
      "855745 objects in L=6.694516e+20 bin with flux 0.003267 +/- 0.048379 mJy, 2 with flux greater than 10mJy\n",
      "848238 objects in L=7.511370e+20 bin with flux 0.003661 +/- 0.056379 mJy, 0 with flux greater than 10mJy\n",
      "837053 objects in L=8.427896e+20 bin with flux 0.004100 +/- 0.058897 mJy, 4 with flux greater than 10mJy\n",
      "828595 objects in L=9.456255e+20 bin with flux 0.004604 +/- 0.066006 mJy, 1 with flux greater than 10mJy\n",
      "816163 objects in L=1.061009e+21 bin with flux 0.005163 +/- 0.078142 mJy, 3 with flux greater than 10mJy\n",
      "800841 objects in L=1.190472e+21 bin with flux 0.005803 +/- 0.093954 mJy, 6 with flux greater than 10mJy\n",
      "788531 objects in L=1.335731e+21 bin with flux 0.006510 +/- 0.094487 mJy, 8 with flux greater than 10mJy\n",
      "771618 objects in L=1.498715e+21 bin with flux 0.007305 +/- 0.104611 mJy, 10 with flux greater than 10mJy\n",
      "750590 objects in L=1.681586e+21 bin with flux 0.008222 +/- 0.119682 mJy, 14 with flux greater than 10mJy\n",
      "731830 objects in L=1.886771e+21 bin with flux 0.009178 +/- 0.149182 mJy, 14 with flux greater than 10mJy\n",
      "710873 objects in L=2.116992e+21 bin with flux 0.010311 +/- 0.147936 mJy, 13 with flux greater than 10mJy\n",
      "685868 objects in L=2.375304e+21 bin with flux 0.011604 +/- 0.190215 mJy, 12 with flux greater than 10mJy\n",
      "658997 objects in L=2.665135e+21 bin with flux 0.012998 +/- 0.190496 mJy, 12 with flux greater than 10mJy\n",
      "630114 objects in L=2.990330e+21 bin with flux 0.014623 +/- 0.220037 mJy, 16 with flux greater than 10mJy\n",
      "601486 objects in L=3.355206e+21 bin with flux 0.016407 +/- 0.252416 mJy, 22 with flux greater than 10mJy\n",
      "568723 objects in L=3.764603e+21 bin with flux 0.018350 +/- 0.285974 mJy, 24 with flux greater than 10mJy\n",
      "535887 objects in L=4.223954e+21 bin with flux 0.020661 +/- 0.305636 mJy, 20 with flux greater than 10mJy\n",
      "504329 objects in L=4.739354e+21 bin with flux 0.023082 +/- 0.377728 mJy, 28 with flux greater than 10mJy\n",
      "469823 objects in L=5.317643e+21 bin with flux 0.025945 +/- 0.413496 mJy, 29 with flux greater than 10mJy\n",
      "434463 objects in L=5.966493e+21 bin with flux 0.029195 +/- 0.447302 mJy, 55 with flux greater than 10mJy\n",
      "400126 objects in L=6.694516e+21 bin with flux 0.032655 +/- 0.465014 mJy, 47 with flux greater than 10mJy\n",
      "365863 objects in L=7.511370e+21 bin with flux 0.036530 +/- 0.619102 mJy, 40 with flux greater than 10mJy\n",
      "333107 objects in L=8.427896e+21 bin with flux 0.041373 +/- 0.543620 mJy, 40 with flux greater than 10mJy\n",
      "301133 objects in L=9.456255e+21 bin with flux 0.046226 +/- 0.677413 mJy, 62 with flux greater than 10mJy\n",
      "270526 objects in L=1.061009e+22 bin with flux 0.051764 +/- 0.791441 mJy, 47 with flux greater than 10mJy\n",
      "240413 objects in L=1.190472e+22 bin with flux 0.058184 +/- 0.819447 mJy, 56 with flux greater than 10mJy\n",
      "213502 objects in L=1.335731e+22 bin with flux 0.065123 +/- 0.924080 mJy, 61 with flux greater than 10mJy\n",
      "186209 objects in L=1.498715e+22 bin with flux 0.073100 +/- 0.983455 mJy, 64 with flux greater than 10mJy\n",
      "162806 objects in L=1.681586e+22 bin with flux 0.081752 +/- 1.278396 mJy, 51 with flux greater than 10mJy\n",
      "141009 objects in L=1.886771e+22 bin with flux 0.092121 +/- 1.856161 mJy, 65 with flux greater than 10mJy\n",
      "121023 objects in L=2.116992e+22 bin with flux 0.103622 +/- 1.343537 mJy, 73 with flux greater than 10mJy\n",
      "103493 objects in L=2.375304e+22 bin with flux 0.115096 +/- 1.718098 mJy, 64 with flux greater than 10mJy\n",
      "87391 objects in L=2.665135e+22 bin with flux 0.130632 +/- 1.887234 mJy, 76 with flux greater than 10mJy\n",
      "73739 objects in L=2.990330e+22 bin with flux 0.144825 +/- 2.078835 mJy, 71 with flux greater than 10mJy\n",
      "61705 objects in L=3.355206e+22 bin with flux 0.163952 +/- 2.363129 mJy, 71 with flux greater than 10mJy\n",
      "50948 objects in L=3.764603e+22 bin with flux 0.184377 +/- 2.373252 mJy, 62 with flux greater than 10mJy\n",
      "42224 objects in L=4.223954e+22 bin with flux 0.203480 +/- 2.559877 mJy, 61 with flux greater than 10mJy\n",
      "34744 objects in L=4.739354e+22 bin with flux 0.232116 +/- 3.513015 mJy, 71 with flux greater than 10mJy\n",
      "27870 objects in L=5.317643e+22 bin with flux 0.258467 +/- 2.784804 mJy, 58 with flux greater than 10mJy\n",
      "22377 objects in L=5.966493e+22 bin with flux 0.296008 +/- 4.266815 mJy, 56 with flux greater than 10mJy\n",
      "17936 objects in L=6.694516e+22 bin with flux 0.321795 +/- 6.865859 mJy, 53 with flux greater than 10mJy\n",
      "14236 objects in L=7.511370e+22 bin with flux 0.366061 +/- 5.391058 mJy, 52 with flux greater than 10mJy\n",
      "11326 objects in L=8.427896e+22 bin with flux 0.403851 +/- 5.250264 mJy, 65 with flux greater than 10mJy\n",
      "8915 objects in L=9.456255e+22 bin with flux 0.451868 +/- 4.562902 mJy, 46 with flux greater than 10mJy\n",
      "6816 objects in L=1.061009e+23 bin with flux 0.523426 +/- 4.646256 mJy, 44 with flux greater than 10mJy\n",
      "5187 objects in L=1.190472e+23 bin with flux 0.567087 +/- 8.427041 mJy, 40 with flux greater than 10mJy\n",
      "3959 objects in L=1.335731e+23 bin with flux 0.664138 +/- 5.241547 mJy, 28 with flux greater than 10mJy\n",
      "3099 objects in L=1.498715e+23 bin with flux 0.731201 +/- 6.705892 mJy, 29 with flux greater than 10mJy\n",
      "2271 objects in L=1.681586e+23 bin with flux 0.881637 +/- 8.260097 mJy, 22 with flux greater than 10mJy\n",
      "1669 objects in L=1.886771e+23 bin with flux 0.930178 +/- 15.660470 mJy, 29 with flux greater than 10mJy\n",
      "1235 objects in L=2.116992e+23 bin with flux 1.066645 +/- 7.131964 mJy, 21 with flux greater than 10mJy\n",
      "910 objects in L=2.375304e+23 bin with flux 1.187951 +/- 6.811112 mJy, 18 with flux greater than 10mJy\n",
      "705 objects in L=2.665135e+23 bin with flux 1.192845 +/- 28.164362 mJy, 15 with flux greater than 10mJy\n",
      "492 objects in L=2.990330e+23 bin with flux 1.403448 +/- 11.907174 mJy, 16 with flux greater than 10mJy\n",
      "347 objects in L=3.355206e+23 bin with flux 1.663987 +/- 20.617416 mJy, 14 with flux greater than 10mJy\n",
      "286 objects in L=3.764603e+23 bin with flux 1.613036 +/- 20.201860 mJy, 10 with flux greater than 10mJy\n",
      "176 objects in L=4.223954e+23 bin with flux 1.649790 +/- 14.479540 mJy, 4 with flux greater than 10mJy\n",
      "123 objects in L=4.739354e+23 bin with flux 2.823127 +/- 8.524272 mJy, 11 with flux greater than 10mJy\n",
      "97 objects in L=5.317643e+23 bin with flux 2.992519 +/- 91.005625 mJy, 7 with flux greater than 10mJy\n",
      "62 objects in L=5.966493e+23 bin with flux 2.044797 +/- 11.035456 mJy, 1 with flux greater than 10mJy\n",
      "49 objects in L=6.694516e+23 bin with flux 4.025580 +/- 23.932823 mJy, 4 with flux greater than 10mJy\n",
      "30 objects in L=7.511370e+23 bin with flux 2.621692 +/- 27.205268 mJy, 2 with flux greater than 10mJy\n",
      "20 objects in L=8.427896e+23 bin with flux 3.999695 +/- 8.641283 mJy, 4 with flux greater than 10mJy\n",
      "12 objects in L=9.456255e+23 bin with flux 6.217909 +/- 24.092235 mJy, 3 with flux greater than 10mJy\n",
      "using 17261003 sources\n"
     ]
    }
   ],
   "source": [
    "\n",
    "labels = ['AGN','SF']\n",
    "P = [P_agn,P_sf]\n",
    "rho_P = [rho_P_agn,rho_P_sf]\n",
    "dP = [dP_agn,dP_sf]\n",
    "numPbins = [numPbins_agn,numPbins_sf]\n",
    "\n",
    "L1_vals_per_bin = [[],[]]\n",
    "thx_vals_per_bin = [[],[]]\n",
    "thy_vals_per_bin = [[],[]]\n",
    "dist_vals_per_bin = [[],[]]\n",
    "\n",
    "L1_vals = [[],[]]\n",
    "thx_vals = [[],[]]\n",
    "thy_vals = [[],[]]\n",
    "dist_vals = [[],[]]\n",
    "\n",
    "for j in range(2):\n",
    "    for i in range(numPbins[j]):\n",
    "        mean_num_objects_in_bin = rho_P[j](P[j][i])*dP[j][i]*trans_Mpc**2*(los_max_Mpc-los_min_Mpc)\n",
    "\n",
    "        num_objects_in_bin = np.random.poisson(mean_num_objects_in_bin)\n",
    "        los_vals_Mpc = np.random.uniform(los_min_Mpc,los_max_Mpc,num_objects_in_bin)\n",
    "        x_vals_Mpc = np.random.uniform(-trans_Mpc/2,trans_Mpc/2,num_objects_in_bin)\n",
    "        y_vals_Mpc = np.random.uniform(-trans_Mpc/2,trans_Mpc/2,num_objects_in_bin)\n",
    "        dists_Mpc = np.sqrt(x_vals_Mpc**2+y_vals_Mpc**2+los_vals_Mpc**2)\n",
    "\n",
    "        thx = np.arctan(x_vals_Mpc/los_vals_Mpc)*180./np.pi\n",
    "        thy = np.arctan(y_vals_Mpc/los_vals_Mpc)*180./np.pi\n",
    "\n",
    "        jy_vals = P[j][i]/(4.*np.pi*(dists_Mpc*Mpc2m)**2)/1.e-29\n",
    "        g = (np.abs(thx)<fov_deg/2)&(np.abs(thy)<fov_deg/2)\n",
    "\n",
    "        L1_vals_per_bin[j].append(P[j][i]+np.zeros(np.sum(g)))\n",
    "        thx_vals_per_bin[j].append(thx[g])\n",
    "        thy_vals_per_bin[j].append(thy[g])\n",
    "        dist_vals_per_bin[j].append(dists_Mpc[g])\n",
    "\n",
    "        print('%d objects in L=%e bin with flux %f +/- %f mJy, %d with flux greater than 10mJy'%(num_objects_in_bin,P[j][i],np.median(jy_vals),np.std(jy_vals),np.sum(jy_vals[g]>2)))\n",
    "\n",
    "    L1_vals[j] = np.concatenate(L1_vals_per_bin[j]).flatten()\n",
    "    thx_vals[j] = np.concatenate(thx_vals_per_bin[j]).flatten()\n",
    "    thy_vals[j] = np.concatenate(thy_vals_per_bin[j]).flatten()\n",
    "    dist_vals[j] = np.concatenate(dist_vals_per_bin[j]).flatten()\n",
    "\n",
    "    print('using %d sources'%(len(L1_vals[j])))"
   ]
  },
  {
   "cell_type": "code",
   "execution_count": 8,
   "metadata": {
    "collapsed": false
   },
   "outputs": [],
   "source": [
    "L2_vals = [np.random.choice(a=P[j],size=len(L1_vals[j]),p=rho_P[j](P[j])*dP[j]/np.sum(rho_P[j](P[j])*dP[j]),replace=True) for j in range(2)]"
   ]
  },
  {
   "cell_type": "code",
   "execution_count": 9,
   "metadata": {
    "collapsed": false
   },
   "outputs": [],
   "source": [
    "F1_vals = [L1_vals[j]/(4.*np.pi*(dist_vals[j]*Mpc2m)**2)/1.e-29 for j in range(2)]\n",
    "F2_vals = [L2_vals[j]/(4.*np.pi*(dist_vals[j]*Mpc2m)**2)/1.e-29 for j in range(2)]"
   ]
  },
  {
   "cell_type": "code",
   "execution_count": 10,
   "metadata": {
    "collapsed": false
   },
   "outputs": [],
   "source": [
    "# plt.loglog(L1_vals[0],L2_vals[0],'.',alpha=.005)\n",
    "# plt.title(labels[0])\n",
    "# plt.figure()\n",
    "# plt.loglog(L1_vals[1],L2_vals[1],'.',alpha=.005)\n",
    "# plt.title(labels[1])"
   ]
  },
  {
   "cell_type": "code",
   "execution_count": 11,
   "metadata": {
    "collapsed": false
   },
   "outputs": [],
   "source": [
    "# np.min(L1_vals[1])/(4.*np.pi*(np.max(dist_vals[1])*Mpc2m)**2)/1.e-29"
   ]
  },
  {
   "cell_type": "code",
   "execution_count": 12,
   "metadata": {
    "collapsed": false
   },
   "outputs": [
    {
     "name": "stdout",
     "output_type": "stream",
     "text": [
      "96059\n"
     ]
    }
   ],
   "source": [
    "mjy_min = .1\n",
    "print(np.sum(F1_vals[0]>mjy_min))\n",
    "g = [(F1_vals[j]>mjy_min)|(F2_vals[j]>mjy_min) for j in range(2)]\n",
    "\n",
    "cat1s = [cat_utils.Catalog(thx_vals[j][g[j]],thy_vals[j][g[j]],F1_vals[j][g[j]]) for j in range(2)]\n",
    "cat2s = [cat_utils.Catalog(thx_vals[j][g[j]],thy_vals[j][g[j]],F2_vals[j][g[j]]) for j in range(2)]"
   ]
  },
  {
   "cell_type": "code",
   "execution_count": 13,
   "metadata": {
    "collapsed": false
   },
   "outputs": [
    {
     "name": "stdout",
     "output_type": "stream",
     "text": [
      "0\n",
      "0.000359741356585\n",
      "-0.00155289042461\n",
      "1\n",
      "0.07233739533\n",
      "0.0473596711609\n"
     ]
    }
   ],
   "source": [
    "for j in range(2):\n",
    "    print(j)\n",
    "    gg = g[j]\n",
    "    print np.mean((F1_vals[j]-np.mean(F1_vals[j]))*(F2_vals[j]-np.mean(F2_vals[j]))) / np.sqrt(np.mean((F1_vals[j]-np.mean(F1_vals[j]))**2)*np.mean((F2_vals[j]-np.mean(F2_vals[j]))**2))\n",
    "    print np.mean((F1_vals[j][gg]-np.mean(F1_vals[j][gg]))*(F2_vals[j][gg]-np.mean(F2_vals[j][gg]))) / np.sqrt(np.mean((F1_vals[j][gg]-np.mean(F1_vals[j][gg]))**2)*np.mean((F2_vals[j][gg]-np.mean(F2_vals[j][gg]))**2))"
   ]
  },
  {
   "cell_type": "code",
   "execution_count": 14,
   "metadata": {
    "collapsed": false
   },
   "outputs": [],
   "source": [
    "# np.mean(L1_vals[0]/dist_vals[0]**2)/1.e16"
   ]
  },
  {
   "cell_type": "code",
   "execution_count": 15,
   "metadata": {
    "collapsed": false
   },
   "outputs": [],
   "source": [
    "# np.mean(L1_vals[0])/np.mean(dist_vals[0]**2)/1.e16"
   ]
  },
  {
   "cell_type": "code",
   "execution_count": 16,
   "metadata": {
    "collapsed": false,
    "scrolled": true
   },
   "outputs": [],
   "source": [
    "# dtheta_deg = 5./60\n",
    "\n",
    "# cat1imgs = []\n",
    "# cat2imgs = []\n",
    "\n",
    "# for j in range(2):\n",
    "#     cat1img,counts = cat_utils.cat2img(cat1s[j],bound_cat=cat1s[j],dtheta_deg=dtheta_deg,verbose=True)\n",
    "#     cat2img,counts = cat_utils.cat2img(cat2s[j],bound_cat=cat1s[j],dtheta_deg=dtheta_deg,verbose=True)\n",
    "    \n",
    "#     cat1imgs.append(cat1img)\n",
    "#     cat2imgs.append(cat2img)"
   ]
  },
  {
   "cell_type": "code",
   "execution_count": 17,
   "metadata": {
    "collapsed": false
   },
   "outputs": [],
   "source": [
    "# lmin,lmax = 0,3000\n",
    "# nbins = 10\n",
    "# cols = ['r','b']\n",
    "\n",
    "# plt.figure(figsize=(16,4))\n",
    "\n",
    "# for j in range(2):\n",
    "    \n",
    "#     lbins,pspec1,pspec2,xspec,bin_counts = cat_utils.calc_xspec(cat1imgs[j],cat2imgs[j],dtheta_deg,nbins,lmin,lmax,\\\n",
    "#                                                                 hann=True,uselogbins=False)\n",
    "#     c = xspec/np.sqrt(pspec1*pspec2)\n",
    "#     dc = np.sqrt(.5*(1+c**2)/(bin_counts/4))\n",
    "#     print(np.mean(c))\n",
    "\n",
    "#     plt.subplot(131)\n",
    "#     plt.loglog(lbins,pspec1,cols[j]+'.')\n",
    "#     plt.ylim([1.e-7,1.e-5])\n",
    "\n",
    "#     plt.subplot(132)\n",
    "#     plt.loglog(lbins,pspec2,cols[j]+'.')\n",
    "#     plt.ylim([1.e-7,1.e-5])\n",
    "\n",
    "#     plt.subplot(133)\n",
    "#     plt.errorbar(lbins+10*j,c,yerr=dc,fmt='o',color=cols[j],label=labels[j])\n",
    "#     plt.gca().set_xscale('log')\n",
    "#     plt.ylim([-.5,.5])\n",
    "#     plt.xlim([80,1.e4])\n",
    "#     plt.semilogx([1.e2,1.e4],[0,0],'k-')\n",
    "#     if j == 1: plt.legend(fontsize=10)\n",
    "\n",
    "# plt.savefig('sim_realistic_radio_survey_agn_sf_>%1.2fmjy.pdf'%mjy_min,bbox_inches='tight')"
   ]
  },
  {
   "cell_type": "code",
   "execution_count": 18,
   "metadata": {
    "collapsed": false
   },
   "outputs": [],
   "source": [
    "# for j in range(2):\n",
    "#     print labels[j]+'\\t'+str(np.mean((cat1imgs[j]-np.mean(cat1imgs[j]))*(cat2imgs[j]-np.mean(cat2imgs[j])))/np.sqrt(np.var(cat1imgs[j])*np.var(cat2imgs[j])))"
   ]
  },
  {
   "cell_type": "code",
   "execution_count": null,
   "metadata": {
    "collapsed": true
   },
   "outputs": [],
   "source": []
  },
  {
   "cell_type": "code",
   "execution_count": 19,
   "metadata": {
    "collapsed": false
   },
   "outputs": [],
   "source": [
    "# plt.hist(dist_vals[1],50)\n",
    "# plt.plot(np.arange(3000),np.arange(3000)**2*.22,'r')"
   ]
  },
  {
   "cell_type": "code",
   "execution_count": 20,
   "metadata": {
    "collapsed": false
   },
   "outputs": [],
   "source": [
    "# plt.hist(dist_vals[1]**2,50)\n",
    "# plt.plot(np.arange(0,1.e7,1000),360*np.sqrt(np.arange(0,1.e7,1000)),'r')"
   ]
  },
  {
   "cell_type": "code",
   "execution_count": 21,
   "metadata": {
    "collapsed": false
   },
   "outputs": [],
   "source": [
    "# a=plt.hist(np.log10(1./dist_vals[1]**2),150)\n",
    "# plt.plot(np.linspace(-7.2,-5),1.e-4*(10.**np.linspace(-7.2,-5))**(-2.5+1),'r') # the +1 takes into account the changing bin size due to the log x-axis\n",
    "# plt.xlim([-7.2,-5])\n",
    "# plt.ylim([0,.04e8])"
   ]
  },
  {
   "cell_type": "code",
   "execution_count": 22,
   "metadata": {
    "collapsed": false
   },
   "outputs": [],
   "source": [
    "# plt.hist(dist_vals[1]**4,50)\n",
    "# plt.plot(np.linspace(1.e5,4.e13,100),.7e9*(np.linspace(1.e5,4.e13,100)**(-.25)),'r')\n",
    "# plt.ylim([0,1.e6])"
   ]
  },
  {
   "cell_type": "code",
   "execution_count": 23,
   "metadata": {
    "collapsed": true
   },
   "outputs": [],
   "source": [
    "alpha0,alpha1 = los_min_Mpc**2,los_max_Mpc**2\n",
    "num_alpha = 400\n",
    "alpha_edges = 10.**np.linspace(np.log10(alpha0),np.log10(alpha1),num_alpha+1)\n",
    "dalpha = alpha_edges[1:]-alpha_edges[:-1]\n",
    "alpha = .5*(alpha_edges[1:]+alpha_edges[:-1])"
   ]
  },
  {
   "cell_type": "code",
   "execution_count": 24,
   "metadata": {
    "collapsed": false
   },
   "outputs": [],
   "source": [
    "numF = 400\n",
    "Fedges = 10.**np.linspace(-5.5,4,numF+1)\n",
    "dF = Fedges[1:]-Fedges[:-1]\n",
    "F = .5*(Fedges[1:]+Fedges[:-1])"
   ]
  },
  {
   "cell_type": "code",
   "execution_count": 25,
   "metadata": {
    "collapsed": false,
    "scrolled": true
   },
   "outputs": [
    {
     "name": "stderr",
     "output_type": "stream",
     "text": [
      "/Users/abrahamn/anaconda2/lib/python2.7/site-packages/ipykernel/__main__.py:15: RuntimeWarning: divide by zero encountered in log10\n",
      "/Users/abrahamn/anaconda2/lib/python2.7/site-packages/ipykernel/__main__.py:16: RuntimeWarning: divide by zero encountered in log10\n"
     ]
    },
    {
     "name": "stdout",
     "output_type": "stream",
     "text": [
      "[1.7123993300846305, 1.1354837234760975]\n",
      "[0.081493735767645334, 0.00040180751846693134]\n"
     ]
    },
    {
     "data": {
      "image/png": "[encoded data removed]",
      "text/plain": [
       "<matplotlib.figure.Figure at 0x10dab5690>"
      ]
     },
     "metadata": {},
     "output_type": "display_data"
    }
   ],
   "source": [
    "offsets = [16.5,16.5]\n",
    "plt.figure(figsize=(12,5))\n",
    "for j in range(2):\n",
    "    rho_F = np.zeros(numF)\n",
    "    for i in range(numF):\n",
    "        for alphai in range(num_alpha):\n",
    "            L = 1.e-29*4*np.pi*F[i]*alpha[alphai]*Mpc2m**2\n",
    "            rho_F[i] += dalpha[alphai]*alpha[alphai]**1.5*rho_P[j](L)*dF[i]\n",
    "    \n",
    "    #rho_F1F2 = np.zeros(numF)\n",
    "    \n",
    "    plt.subplot(1,2,j+1)\n",
    "    hist,bin_edges = np.histogram(np.log10(F1_vals[j]),60)\n",
    "    bin_centers = .5*(bin_edges[1:]+bin_edges[:-1])\n",
    "    plt.plot(bin_centers,np.log10(hist),'b.-')\n",
    "    plt.plot(np.log10(F),np.log10(rho_F)+offsets[j],'r')\n",
    "    plt.xlim([-6,5])\n",
    "    \n",
    "    Fmean = np.sum(rho_F*F)*(1.e-29*4*np.pi*Mpc2m**2)/np.sum(rho_F)/1.e16\n",
    "    Fmeansq = np.sum(rho_F*F**2)*(1.e-29*4*np.pi*Mpc2m**2)**2/np.sum(rho_F)/1.e36\n",
    "    \n",
    "    print([Fmean,Fmeansq])\n",
    "    "
   ]
  },
  {
   "cell_type": "code",
   "execution_count": 26,
   "metadata": {
    "collapsed": false
   },
   "outputs": [
    {
     "name": "stdout",
     "output_type": "stream",
     "text": [
      "correlation for AGN is 0.0005, and the monte carlo gives 0.0004\n",
      "correlation for SF is 0.0692, and the monte carlo gives 0.0707\n"
     ]
    }
   ],
   "source": [
    "d0,d1 = los_min_Mpc,los_max_Mpc\n",
    "\n",
    "a = (d1**3-d0**3)/(3*d1*d0*(d1-d0))\n",
    "\n",
    "for j in range(2):\n",
    "    Lmean = np.sum(rho_P[j](P[j])*dP[j]*P[j])/np.sum(rho_P[j](P[j])*dP[j])\n",
    "    # np.mean(L1_vals[j]),Lmean\n",
    "    L2mean = np.sum(rho_P[j](P[j])*dP[j]*P[j]**2)/np.sum(rho_P[j](P[j])*dP[j])\n",
    "    # np.mean(L1_vals[j]**2),L2mean\n",
    "\n",
    "    c = (a-1)/(a*L2mean/Lmean**2-1)\n",
    "    \n",
    "    #c2 = np.mean((F1_vals[j]-np.mean(F1_vals[j]))*(F2_vals[j]-np.mean(F2_vals[j])))/np.var(F1_vals[j])\n",
    "    f1,f2 = F1_vals[j],F2_vals[j]\n",
    "    L1,L2 = L1_vals[j],L2_vals[j]\n",
    "    d = dist_vals[j]\n",
    "    \n",
    "    c2 = (mean(f1*f2)-mean(f1)**2)/(mean(f1**2)-mean(f1)**2)\n",
    "    #c2 = (mean(L1*L2)*mean(1./d**4)-mean(L1)**2*mean(1./d**2)**2)/(mean(L1**2)*mean(1./d**4)-mean(L1)**2*mean(1./d**2)**2)\n",
    "\n",
    "    print('correlation for %s is %1.4f, and the monte carlo gives %1.4f'%(labels[j],c,c2))"
   ]
  },
  {
   "cell_type": "code",
   "execution_count": 27,
   "metadata": {
    "collapsed": false
   },
   "outputs": [
    {
     "data": {
      "image/png": "[encoded data removed]",
      "text/plain": [
       "<matplotlib.figure.Figure at 0x10cfa1650>"
      ]
     },
     "metadata": {},
     "output_type": "display_data"
    },
    {
     "data": {
      "image/png": "[encoded data removed]",
      "text/plain": [
       "<matplotlib.figure.Figure at 0x118bb2fd0>"
      ]
     },
     "metadata": {},
     "output_type": "display_data"
    }
   ],
   "source": [
    "a=plt.hist(np.log10(L1_vals[0]/dist_vals[0]**2),150)\n",
    "plt.gca().set_yscale('log')\n",
    "plt.figure()\n",
    "a=plt.hist(np.log10(L1_vals[0]*L2_vals[0]/dist_vals[0]**4),150)\n",
    "plt.gca().set_yscale('log')"
   ]
  },
  {
   "cell_type": "code",
   "execution_count": 28,
   "metadata": {
    "collapsed": true
   },
   "outputs": [],
   "source": [
    "numy = 100\n",
    "yedges = 10.**np.linspace(13,21,numy+1)\n",
    "dy = yedges[1:]-yedges[:-1]\n",
    "y = .5*(yedges[1:]+yedges[:-1])\n",
    "\n",
    "numz = 100\n",
    "zedges = 10.**np.linspace(26,39,numz+1)\n",
    "dz = zedges[1:]-zedges[:-1]\n",
    "z = .5*(zedges[1:]+zedges[:-1])"
   ]
  },
  {
   "cell_type": "code",
   "execution_count": 29,
   "metadata": {
    "collapsed": false
   },
   "outputs": [
    {
     "name": "stdout",
     "output_type": "stream",
     "text": [
      "[1.7045379511849112, 1.0566676460384701, 0.96731617461004193]\n",
      "[0.10268799199108432, 0.00050521059497758475, 0.028442158618833448]\n"
     ]
    }
   ],
   "source": [
    "# calculate the correlations for the flux-limited case\n",
    "# z refers to L1*L2/d^4\n",
    "# y refers to L/d^2\n",
    "# alpha refers to d^2\n",
    "# beta refers to d^4\n",
    "\n",
    "for j in range(2):\n",
    "    ymean = 0\n",
    "    y2mean = 0\n",
    "    norm = 0\n",
    "    \n",
    "    for yi in range(numy):\n",
    "        ymean += dy[yi]*y[yi]*np.sum(np.array([alpha[ai]**1.5*rho_P[j](y[yi]*alpha[ai])*dalpha[ai] for ai in range(num_alpha)]))\n",
    "        y2mean += dy[yi]*y[yi]**2*np.sum(np.array([alpha[ai]**1.5*rho_P[j](y[yi]*alpha[ai])*dalpha[ai] for ai in range(num_alpha)]))\n",
    "        norm += dy[yi]*np.sum(np.array([alpha[ai]**1.5*rho_P[j](y[yi]*alpha[ai])*dalpha[ai] for ai in range(num_alpha)]))\n",
    "    ymean /= norm\n",
    "    y2mean /= norm\n",
    "    \n",
    "    zmean = 0\n",
    "    norm = 0\n",
    "    for zi in range(numz):\n",
    "        for ai in range(num_alpha):\n",
    "            zmean += dalpha[ai]*dz[zi]*z[zi]*np.sum(np.array([alpha[ai]**2.5*rho_P[j](P[j][Li])*rho_P[j](z[zi]*alpha[ai]**2/P[j][Li])*dP[j][Li]/P[j][Li] for Li in range(numPbins[j])]))\n",
    "            norm += dalpha[ai]*dz[zi]*np.sum(np.array([alpha[ai]**2.5*rho_P[j](P[j][Li])*rho_P[j](z[zi]*alpha[ai]**2/P[j][Li])*dP[j][Li]/P[j][Li] for Li in range(numPbins[j])]))\n",
    "    zmean /= norm\n",
    "    \n",
    "    print([ymean/1.e16,y2mean/1.e36,zmean/1.e33])"
   ]
  },
  {
   "cell_type": "code",
   "execution_count": 34,
   "metadata": {
    "collapsed": false
   },
   "outputs": [
    {
     "name": "stdout",
     "output_type": "stream",
     "text": [
      "0.000640653050145\n",
      "0.0543238008308\n"
     ]
    }
   ],
   "source": [
    "ymean = [1.7045379511849112e16,0.10268799199108432e16] \n",
    "y2mean = [1.0566676460384701e36,0.00050521059497758475e36]\n",
    "zmean = [0.96731617461004193e33,0.028442158618833448e33]\n",
    "\n",
    "for j in range(2):\n",
    "    c = (zmean[j]-ymean[j]**2)/(y2mean[j]-ymean[j]**2)\n",
    "    print(c)"
   ]
  },
  {
   "cell_type": "code",
   "execution_count": 30,
   "metadata": {
    "collapsed": false
   },
   "outputs": [
    {
     "name": "stdout",
     "output_type": "stream",
     "text": [
      "[1.6462752795073903, 1.2598625676596915, 0.75911730522645515]\n",
      "[1.7124819955455872, 1.3972483302782668]\n",
      "\n",
      "[0.0800367527247514, 0.0002416593298737837, 0.017689211861438396]\n",
      "[0.079896564121582261, 0.00023113215424628013]\n",
      "\n"
     ]
    }
   ],
   "source": [
    "for j in range(2):\n",
    "    print([np.mean(L1_vals[j]/dist_vals[j]**2)/1.e16, np.mean((L1_vals[j]/dist_vals[j]**2)**2)/1.e36, np.mean(L1_vals[j]*L2_vals[j]/dist_vals[j]**4)/1.e33])\n",
    "    print([np.mean(L2_vals[j]/dist_vals[j]**2)/1.e16, np.mean((L2_vals[j]/dist_vals[j]**2)**2)/1.e36])\n",
    "    print"
   ]
  },
  {
   "cell_type": "code",
   "execution_count": null,
   "metadata": {
    "collapsed": true
   },
   "outputs": [],
   "source": []
  },
  {
   "cell_type": "code",
   "execution_count": null,
   "metadata": {
    "collapsed": true
   },
   "outputs": [],
   "source": []
  },
  {
   "cell_type": "code",
   "execution_count": null,
   "metadata": {
    "collapsed": true
   },
   "outputs": [],
   "source": []
  }
 ],
 "metadata": {
  "kernelspec": {
   "display_name": "Python 2",
   "language": "python",
   "name": "python2"
  },
  "language_info": {
   "codemirror_mode": {
    "name": "ipython",
    "version": 2
   },
   "file_extension": ".py",
   "mimetype": "text/x-python",
   "name": "python",
   "nbconvert_exporter": "python",
   "pygments_lexer": "ipython2",
   "version": "2.7.12"
  }
 },
 "nbformat": 4,
 "nbformat_minor": 1
}
