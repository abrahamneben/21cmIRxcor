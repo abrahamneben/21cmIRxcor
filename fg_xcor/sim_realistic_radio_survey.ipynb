{
 "cells": [
  {
   "cell_type": "code",
   "execution_count": 1,
   "metadata": {
    "collapsed": true
   },
   "outputs": [],
   "source": [
    "# simulate a flux limited, and non-flux limited radio and IR survey\n",
    "# from luminosity functions"
   ]
  },
  {
   "cell_type": "code",
   "execution_count": 2,
   "metadata": {
    "collapsed": false
   },
   "outputs": [],
   "source": [
    "import numpy as np\n",
    "import matplotlib\n",
    "%matplotlib inline\n",
    "import matplotlib.pyplot as plt\n",
    "\n",
    "from numpy import mean,sqrt"
   ]
  },
  {
   "cell_type": "code",
   "execution_count": 3,
   "metadata": {
    "collapsed": false
   },
   "outputs": [
    {
     "data": {
      "text/plain": [
       "<module 'cat_utils' from '/home/ubuntu/21cmIRxcor/cat_utils.pyc'>"
      ]
     },
     "execution_count": 3,
     "metadata": {},
     "output_type": "execute_result"
    }
   ],
   "source": [
    "import sys # needed to import cat_utils\n",
    "#sys.path.insert(0, '/Users/abrahamn/21cmIR/21cmIRxcor/')\n",
    "sys.path.insert(0,'/home/ubuntu/21cmIRxcor')\n",
    "\n",
    "import imp\n",
    "import cat_utils\n",
    "imp.reload(cat_utils)"
   ]
  },
  {
   "cell_type": "code",
   "execution_count": 4,
   "metadata": {
    "collapsed": false,
    "scrolled": true
   },
   "outputs": [],
   "source": [
    "# luminosity function of star forming galaxies at 1.4GHz\n",
    "# Sec. 5.3 in Mauch & Sadler 2006, https://arxiv.org/abs/astro-ph/0612018v1\n",
    "\n",
    "C_sf = 10.**(-2.83) # 1/(mag*Mpc^3)\n",
    "Pstar_sf = 10.**(21.18) # W/Hz\n",
    "alpha_sf = 1.02\n",
    "sigma_sf = 0.6\n",
    "\n",
    "numPbins_sf = 200\n",
    "Pmin_sf,Pmax_sf = 1.e19,1.e24\n",
    "Pedges_sf = 10.**np.linspace(np.log10(Pmin_sf),np.log10(Pmax_sf),numPbins_sf+1)\n",
    "dP_sf = (Pedges_sf[1:]-Pedges_sf[:-1])\n",
    "P_sf = .5*(Pedges_sf[1:]+Pedges_sf[:-1])\n",
    "\n",
    "# rho_mag(mag) dmag = rho_L(L) dL  ==> rho_L(L) = rho_mag(mag(L)) dmag/dL = rho_mag(mag(L)) 2.5/L\n",
    "# the above factor of 2.5/L is thus the factor needed to convert the magnitude luminosity functs in eqns. 5 and 6 in\n",
    "# the above cited paper into power luminosity functions\n",
    "def rho_P_sf(P):\n",
    "    return (2.5/P)*C_sf*(P/Pstar_sf)**(1-alpha_sf)*np.exp(-.5*(np.log10(1+P/Pstar_sf)/sigma_sf)**2)*(Pmin_sf<P)*(P<Pmax_sf)"
   ]
  },
  {
   "cell_type": "code",
   "execution_count": 5,
   "metadata": {
    "collapsed": false
   },
   "outputs": [
    {
     "data": {
      "text/plain": [
       "(1e+19, 1e+28)"
      ]
     },
     "execution_count": 5,
     "metadata": {},
     "output_type": "execute_result"
    },
    {
     "data": {
      "image/png": "[encoded data removed]",
      "text/plain": [
       "<matplotlib.figure.Figure at 0x7f4d6d214fd0>"
      ]
     },
     "metadata": {},
     "output_type": "display_data"
    }
   ],
   "source": [
    "# luminosity function of AGN at 1.4GHz\n",
    "# Sec. 5.3 in Mauch & Sadler 2006, https://arxiv.org/abs/astro-ph/0612018v1\n",
    "\n",
    "C_agn = 10.**(-5.5) # 1/(mag*Mpc^3)\n",
    "Pstar_agn = 10.**(24.59) # W/Hz\n",
    "alpha_agn = 1.27\n",
    "beta_agn = 0.49\n",
    "\n",
    "\n",
    "numPbins_agn = 200\n",
    "Pmin_agn,Pmax_agn = 1.e20,1.e27\n",
    "Pedges_agn = 10.**np.linspace(np.log10(Pmin_agn),np.log10(Pmax_agn),numPbins_agn+1)\n",
    "dP_agn = (Pedges_agn[1:]-Pedges_agn[:-1])\n",
    "P_agn = .5*(Pedges_agn[1:]+Pedges_agn[:-1])\n",
    "\n",
    "def rho_P_agn(P):\n",
    "    return (2.5/P)*C_agn/((P/Pstar_agn)**alpha_agn+(P/Pstar_agn)**beta_agn)*(Pmin_agn<P)*(P<Pmax_agn)\n",
    "\n",
    "plt.loglog(P_agn,rho_P_sf(P_agn)*dP_agn,'b.-',label='agn')\n",
    "plt.loglog(P_sf,rho_P_agn(P_sf)*dP_sf,'r.-',label='sf')\n",
    "plt.legend()\n",
    "plt.xlim([1.e19,1.e28])\n",
    "#plt.ylim([1.e-9,1.e-2])"
   ]
  },
  {
   "cell_type": "code",
   "execution_count": 6,
   "metadata": {
    "collapsed": false
   },
   "outputs": [],
   "source": [
    "# let's try to simulate an image of SF and AGN\n",
    "# want 20deg wide, let's simulate out to z=.5\n",
    "# let's ignore K corrections for now\n",
    "# let's ignore the expansion of the universe\n",
    "\n",
    "zmax = .7\n",
    "c_over_H0 = 4283. # Mpc\n",
    "los_min_Mpc,los_max_Mpc = 20.,c_over_H0*zmax\n",
    "Mpc2m = 1.e6*3.e16\n",
    "\n",
    "fov_deg = 20.\n",
    "fov_rad = fov_deg*np.pi/180\n",
    "trans_Mpc = 1.*fov_rad*los_max_Mpc"
   ]
  },
  {
   "cell_type": "code",
   "execution_count": 7,
   "metadata": {
    "collapsed": false,
    "scrolled": true
   },
   "outputs": [
    {
     "name": "stdout",
     "output_type": "stream",
     "text": [
      "361802 objects in L=1.041963e+20 bin with flux 0.000374 +/- 0.006095 mJy, 0 with flux greater than 10mJy\n",
      "347209 objects in L=1.129412e+20 bin with flux 0.000406 +/- 0.006307 mJy, 0 with flux greater than 10mJy\n",
      "333600 objects in L=1.224200e+20 bin with flux 0.000438 +/- 0.007217 mJy, 0 with flux greater than 10mJy\n",
      "320188 objects in L=1.326944e+20 bin with flux 0.000474 +/- 0.006452 mJy, 0 with flux greater than 10mJy\n",
      "308067 objects in L=1.438310e+20 bin with flux 0.000515 +/- 0.007767 mJy, 0 with flux greater than 10mJy\n",
      "295141 objects in L=1.559023e+20 bin with flux 0.000561 +/- 0.008836 mJy, 0 with flux greater than 10mJy\n",
      "283822 objects in L=1.689867e+20 bin with flux 0.000605 +/- 0.010352 mJy, 0 with flux greater than 10mJy\n",
      "273885 objects in L=1.831692e+20 bin with flux 0.000656 +/- 0.012001 mJy, 0 with flux greater than 10mJy\n",
      "263737 objects in L=1.985420e+20 bin with flux 0.000714 +/- 0.013534 mJy, 1 with flux greater than 10mJy\n",
      "253324 objects in L=2.152051e+20 bin with flux 0.000770 +/- 0.012663 mJy, 0 with flux greater than 10mJy\n",
      "243705 objects in L=2.332666e+20 bin with flux 0.000839 +/- 0.013404 mJy, 0 with flux greater than 10mJy\n",
      "233825 objects in L=2.528439e+20 bin with flux 0.000909 +/- 0.016695 mJy, 0 with flux greater than 10mJy\n",
      "225401 objects in L=2.740643e+20 bin with flux 0.000984 +/- 0.016149 mJy, 0 with flux greater than 10mJy\n",
      "216387 objects in L=2.970657e+20 bin with flux 0.001067 +/- 0.015032 mJy, 0 with flux greater than 10mJy\n",
      "207707 objects in L=3.219975e+20 bin with flux 0.001161 +/- 0.018462 mJy, 0 with flux greater than 10mJy\n",
      "199716 objects in L=3.490217e+20 bin with flux 0.001246 +/- 0.018350 mJy, 0 with flux greater than 10mJy\n",
      "191443 objects in L=3.783141e+20 bin with flux 0.001363 +/- 0.023897 mJy, 0 with flux greater than 10mJy\n",
      "184554 objects in L=4.100648e+20 bin with flux 0.001472 +/- 0.020265 mJy, 0 with flux greater than 10mJy\n",
      "177364 objects in L=4.444803e+20 bin with flux 0.001597 +/- 0.029843 mJy, 0 with flux greater than 10mJy\n",
      "169937 objects in L=4.817841e+20 bin with flux 0.001726 +/- 0.030872 mJy, 0 with flux greater than 10mJy\n",
      "164094 objects in L=5.222188e+20 bin with flux 0.001873 +/- 0.027763 mJy, 0 with flux greater than 10mJy\n",
      "158159 objects in L=5.660470e+20 bin with flux 0.002051 +/- 0.036050 mJy, 1 with flux greater than 10mJy\n",
      "151504 objects in L=6.135536e+20 bin with flux 0.002202 +/- 0.033499 mJy, 0 with flux greater than 10mJy\n",
      "145026 objects in L=6.650472e+20 bin with flux 0.002397 +/- 0.044571 mJy, 0 with flux greater than 10mJy\n",
      "140454 objects in L=7.208626e+20 bin with flux 0.002581 +/- 0.046470 mJy, 0 with flux greater than 10mJy\n",
      "134194 objects in L=7.813624e+20 bin with flux 0.002813 +/- 0.048109 mJy, 0 with flux greater than 10mJy\n",
      "129997 objects in L=8.469397e+20 bin with flux 0.003065 +/- 0.050432 mJy, 1 with flux greater than 10mJy\n",
      "123836 objects in L=9.180207e+20 bin with flux 0.003287 +/- 0.046181 mJy, 0 with flux greater than 10mJy\n",
      "119108 objects in L=9.950674e+20 bin with flux 0.003574 +/- 0.073744 mJy, 0 with flux greater than 10mJy\n",
      "114713 objects in L=1.078580e+21 bin with flux 0.003901 +/- 0.055218 mJy, 0 with flux greater than 10mJy\n",
      "110515 objects in L=1.169102e+21 bin with flux 0.004257 +/- 0.061819 mJy, 2 with flux greater than 10mJy\n",
      "105572 objects in L=1.267221e+21 bin with flux 0.004545 +/- 0.078354 mJy, 3 with flux greater than 10mJy\n",
      "102022 objects in L=1.373575e+21 bin with flux 0.004931 +/- 0.111634 mJy, 3 with flux greater than 10mJy\n",
      "97757 objects in L=1.488855e+21 bin with flux 0.005351 +/- 0.078228 mJy, 0 with flux greater than 10mJy\n",
      "94362 objects in L=1.613810e+21 bin with flux 0.005793 +/- 0.086552 mJy, 2 with flux greater than 10mJy\n",
      "90359 objects in L=1.749252e+21 bin with flux 0.006275 +/- 0.109410 mJy, 1 with flux greater than 10mJy\n",
      "87174 objects in L=1.896062e+21 bin with flux 0.006848 +/- 0.107954 mJy, 0 with flux greater than 10mJy\n",
      "83849 objects in L=2.055192e+21 bin with flux 0.007413 +/- 0.123755 mJy, 5 with flux greater than 10mJy\n",
      "80420 objects in L=2.227678e+21 bin with flux 0.008055 +/- 0.110908 mJy, 0 with flux greater than 10mJy\n",
      "76852 objects in L=2.414641e+21 bin with flux 0.008694 +/- 0.108041 mJy, 2 with flux greater than 10mJy\n",
      "74062 objects in L=2.617294e+21 bin with flux 0.009361 +/- 0.191460 mJy, 0 with flux greater than 10mJy\n",
      "71154 objects in L=2.836955e+21 bin with flux 0.010270 +/- 0.161674 mJy, 0 with flux greater than 10mJy\n",
      "68517 objects in L=3.075052e+21 bin with flux 0.011087 +/- 0.130733 mJy, 0 with flux greater than 10mJy\n",
      "65715 objects in L=3.333132e+21 bin with flux 0.011970 +/- 0.182810 mJy, 0 with flux greater than 10mJy\n",
      "63458 objects in L=3.612871e+21 bin with flux 0.012996 +/- 0.200109 mJy, 1 with flux greater than 10mJy\n",
      "60688 objects in L=3.916088e+21 bin with flux 0.014309 +/- 0.258188 mJy, 0 with flux greater than 10mJy\n",
      "58012 objects in L=4.244754e+21 bin with flux 0.015397 +/- 0.270309 mJy, 2 with flux greater than 10mJy\n",
      "55845 objects in L=4.601003e+21 bin with flux 0.016503 +/- 0.216474 mJy, 2 with flux greater than 10mJy\n",
      "53590 objects in L=4.987151e+21 bin with flux 0.018015 +/- 0.312752 mJy, 2 with flux greater than 10mJy\n",
      "51896 objects in L=5.405707e+21 bin with flux 0.019471 +/- 0.286989 mJy, 1 with flux greater than 10mJy\n",
      "49525 objects in L=5.859391e+21 bin with flux 0.020835 +/- 0.474808 mJy, 4 with flux greater than 10mJy\n",
      "48314 objects in L=6.351152e+21 bin with flux 0.022723 +/- 0.463025 mJy, 7 with flux greater than 10mJy\n",
      "45951 objects in L=6.884184e+21 bin with flux 0.024585 +/- 0.327445 mJy, 2 with flux greater than 10mJy\n",
      "44183 objects in L=7.461953e+21 bin with flux 0.026928 +/- 0.400918 mJy, 4 with flux greater than 10mJy\n",
      "42423 objects in L=8.088211e+21 bin with flux 0.028880 +/- 0.525127 mJy, 7 with flux greater than 10mJy\n",
      "41095 objects in L=8.767030e+21 bin with flux 0.031524 +/- 0.419072 mJy, 7 with flux greater than 10mJy\n",
      "39126 objects in L=9.502820e+21 bin with flux 0.034302 +/- 0.486265 mJy, 4 with flux greater than 10mJy\n",
      "37833 objects in L=1.030036e+22 bin with flux 0.037184 +/- 0.450573 mJy, 3 with flux greater than 10mJy\n",
      "36223 objects in L=1.116484e+22 bin with flux 0.040515 +/- 0.883019 mJy, 0 with flux greater than 10mJy\n",
      "35018 objects in L=1.210187e+22 bin with flux 0.043703 +/- 0.492573 mJy, 8 with flux greater than 10mJy\n",
      "33550 objects in L=1.311754e+22 bin with flux 0.046586 +/- 0.806651 mJy, 13 with flux greater than 10mJy\n",
      "32033 objects in L=1.421846e+22 bin with flux 0.050758 +/- 0.662560 mJy, 6 with flux greater than 10mJy\n",
      "30676 objects in L=1.541177e+22 bin with flux 0.054762 +/- 0.873925 mJy, 10 with flux greater than 10mJy\n",
      "29609 objects in L=1.670523e+22 bin with flux 0.060300 +/- 0.614309 mJy, 11 with flux greater than 10mJy\n",
      "28274 objects in L=1.810725e+22 bin with flux 0.065539 +/- 0.956152 mJy, 6 with flux greater than 10mJy\n",
      "27161 objects in L=1.962694e+22 bin with flux 0.070907 +/- 1.020187 mJy, 7 with flux greater than 10mJy\n",
      "25979 objects in L=2.127416e+22 bin with flux 0.076936 +/- 0.870775 mJy, 10 with flux greater than 10mJy\n",
      "24981 objects in L=2.305964e+22 bin with flux 0.084642 +/- 2.198982 mJy, 13 with flux greater than 10mJy\n",
      "24541 objects in L=2.499496e+22 bin with flux 0.089004 +/- 1.224291 mJy, 12 with flux greater than 10mJy\n",
      "23272 objects in L=2.709271e+22 bin with flux 0.095736 +/- 1.330964 mJy, 7 with flux greater than 10mJy\n",
      "22391 objects in L=2.936652e+22 bin with flux 0.103352 +/- 1.450207 mJy, 13 with flux greater than 10mJy\n",
      "21108 objects in L=3.183116e+22 bin with flux 0.112945 +/- 1.853465 mJy, 9 with flux greater than 10mJy\n",
      "20581 objects in L=3.450265e+22 bin with flux 0.124187 +/- 2.056008 mJy, 14 with flux greater than 10mJy\n",
      "19691 objects in L=3.739835e+22 bin with flux 0.135866 +/- 2.012014 mJy, 14 with flux greater than 10mJy\n",
      "18945 objects in L=4.053708e+22 bin with flux 0.142547 +/- 2.123839 mJy, 19 with flux greater than 10mJy\n",
      "18080 objects in L=4.393923e+22 bin with flux 0.157376 +/- 3.024852 mJy, 15 with flux greater than 10mJy\n",
      "17470 objects in L=4.762692e+22 bin with flux 0.167765 +/- 2.881907 mJy, 27 with flux greater than 10mJy\n",
      "16631 objects in L=5.162410e+22 bin with flux 0.192234 +/- 2.340935 mJy, 19 with flux greater than 10mJy\n",
      "16060 objects in L=5.595675e+22 bin with flux 0.203299 +/- 3.191789 mJy, 20 with flux greater than 10mJy\n",
      "15311 objects in L=6.065303e+22 bin with flux 0.218431 +/- 3.052903 mJy, 29 with flux greater than 10mJy\n",
      "14776 objects in L=6.574345e+22 bin with flux 0.240856 +/- 2.671672 mJy, 29 with flux greater than 10mJy\n",
      "14315 objects in L=7.126109e+22 bin with flux 0.254398 +/- 4.182550 mJy, 36 with flux greater than 10mJy\n",
      "13593 objects in L=7.724182e+22 bin with flux 0.285278 +/- 4.628103 mJy, 29 with flux greater than 10mJy\n",
      "13171 objects in L=8.372449e+22 bin with flux 0.298551 +/- 3.809150 mJy, 30 with flux greater than 10mJy\n",
      "12570 objects in L=9.075122e+22 bin with flux 0.320814 +/- 4.155868 mJy, 44 with flux greater than 10mJy\n",
      "11864 objects in L=9.836769e+22 bin with flux 0.352751 +/- 4.598508 mJy, 50 with flux greater than 10mJy\n",
      "11344 objects in L=1.066234e+23 bin with flux 0.375552 +/- 3.551451 mJy, 45 with flux greater than 10mJy\n",
      "10895 objects in L=1.155720e+23 bin with flux 0.408858 +/- 5.309484 mJy, 49 with flux greater than 10mJy\n",
      "10368 objects in L=1.252716e+23 bin with flux 0.438081 +/- 8.810368 mJy, 51 with flux greater than 10mJy\n",
      "10142 objects in L=1.357852e+23 bin with flux 0.480330 +/- 8.225027 mJy, 58 with flux greater than 10mJy\n",
      "9579 objects in L=1.471813e+23 bin with flux 0.540835 +/- 9.316269 mJy, 69 with flux greater than 10mJy\n",
      "9213 objects in L=1.595337e+23 bin with flux 0.564356 +/- 6.891019 mJy, 63 with flux greater than 10mJy\n",
      "8627 objects in L=1.729229e+23 bin with flux 0.626645 +/- 5.618742 mJy, 61 with flux greater than 10mJy\n",
      "8323 objects in L=1.874358e+23 bin with flux 0.657295 +/- 15.972935 mJy, 72 with flux greater than 10mJy\n",
      "7970 objects in L=2.031667e+23 bin with flux 0.720884 +/- 9.278639 mJy, 90 with flux greater than 10mJy\n",
      "7659 objects in L=2.202178e+23 bin with flux 0.806140 +/- 19.726400 mJy, 77 with flux greater than 10mJy\n",
      "7331 objects in L=2.387000e+23 bin with flux 0.828077 +/- 10.849147 mJy, 82 with flux greater than 10mJy\n",
      "6981 objects in L=2.587334e+23 bin with flux 0.931513 +/- 10.137746 mJy, 108 with flux greater than 10mJy\n",
      "6752 objects in L=2.804481e+23 bin with flux 0.989388 +/- 16.299081 mJy, 119 with flux greater than 10mJy\n",
      "6289 objects in L=3.039852e+23 bin with flux 1.055078 +/- 28.926116 mJy, 136 with flux greater than 10mJy\n",
      "5993 objects in L=3.294978e+23 bin with flux 1.207711 +/- 16.926489 mJy, 125 with flux greater than 10mJy\n",
      "5835 objects in L=3.571515e+23 bin with flux 1.258393 +/- 15.973767 mJy, 142 with flux greater than 10mJy\n",
      "5496 objects in L=3.871261e+23 bin with flux 1.401502 +/- 17.181192 mJy, 181 with flux greater than 10mJy\n",
      "5216 objects in L=4.196164e+23 bin with flux 1.600001 +/- 26.145313 mJy, 153 with flux greater than 10mJy\n",
      "5087 objects in L=4.548335e+23 bin with flux 1.624537 +/- 23.545703 mJy, 174 with flux greater than 10mJy\n",
      "4756 objects in L=4.930063e+23 bin with flux 1.798049 +/- 14.924222 mJy, 190 with flux greater than 10mJy\n",
      "4581 objects in L=5.343828e+23 bin with flux 1.902497 +/- 21.613404 mJy, 195 with flux greater than 10mJy\n",
      "4426 objects in L=5.792319e+23 bin with flux 2.069812 +/- 27.048531 mJy, 227 with flux greater than 10mJy\n",
      "4095 objects in L=6.278451e+23 bin with flux 2.229645 +/- 25.101921 mJy, 253 with flux greater than 10mJy\n",
      "3940 objects in L=6.805382e+23 bin with flux 2.527690 +/- 46.283435 mJy, 280 with flux greater than 10mJy\n",
      "3678 objects in L=7.376536e+23 bin with flux 2.767795 +/- 26.437218 mJy, 252 with flux greater than 10mJy\n",
      "3452 objects in L=7.995626e+23 bin with flux 2.948506 +/- 25.354995 mJy, 266 with flux greater than 10mJy\n",
      "3345 objects in L=8.666675e+23 bin with flux 2.970164 +/- 31.502731 mJy, 305 with flux greater than 10mJy\n",
      "3088 objects in L=9.394042e+23 bin with flux 3.231628 +/- 45.855033 mJy, 297 with flux greater than 10mJy\n",
      "2856 objects in L=1.018245e+24 bin with flux 3.493683 +/- 49.790510 mJy, 346 with flux greater than 10mJy\n",
      "2952 objects in L=1.103704e+24 bin with flux 3.915497 +/- 43.991663 mJy, 373 with flux greater than 10mJy\n",
      "2651 objects in L=1.196334e+24 bin with flux 4.310676 +/- 72.228659 mJy, 384 with flux greater than 10mJy\n",
      "2535 objects in L=1.296739e+24 bin with flux 4.606023 +/- 108.998505 mJy, 419 with flux greater than 10mJy\n",
      "2367 objects in L=1.405570e+24 bin with flux 4.943460 +/- 47.839353 mJy, 488 with flux greater than 10mJy\n",
      "2156 objects in L=1.523535e+24 bin with flux 5.367653 +/- 58.285188 mJy, 470 with flux greater than 10mJy\n",
      "2050 objects in L=1.651401e+24 bin with flux 5.942880 +/- 81.927465 mJy, 493 with flux greater than 10mJy\n",
      "2038 objects in L=1.789998e+24 bin with flux 6.199859 +/- 50.775570 mJy, 534 with flux greater than 10mJy\n",
      "1805 objects in L=1.940227e+24 bin with flux 6.765259 +/- 81.738500 mJy, 543 with flux greater than 10mJy\n",
      "1712 objects in L=2.103064e+24 bin with flux 7.703331 +/- 80.045071 mJy, 571 with flux greater than 10mJy\n",
      "1622 objects in L=2.279568e+24 bin with flux 8.451449 +/- 253.310219 mJy, 556 with flux greater than 10mJy\n",
      "1505 objects in L=2.470885e+24 bin with flux 8.823807 +/- 107.577789 mJy, 503 with flux greater than 10mJy\n",
      "1434 objects in L=2.678258e+24 bin with flux 9.328719 +/- 134.126617 mJy, 468 with flux greater than 10mJy\n",
      "1366 objects in L=2.903036e+24 bin with flux 10.270123 +/- 108.460830 mJy, 446 with flux greater than 10mJy\n",
      "1228 objects in L=3.146679e+24 bin with flux 11.507115 +/- 124.967186 mJy, 419 with flux greater than 10mJy\n",
      "1208 objects in L=3.410770e+24 bin with flux 12.507256 +/- 127.666836 mJy, 420 with flux greater than 10mJy\n",
      "1049 objects in L=3.697026e+24 bin with flux 13.336397 +/- 98.749029 mJy, 367 with flux greater than 10mJy\n",
      "993 objects in L=4.007306e+24 bin with flux 15.155034 +/- 147.010262 mJy, 313 with flux greater than 10mJy\n",
      "966 objects in L=4.343627e+24 bin with flux 14.968250 +/- 161.611738 mJy, 331 with flux greater than 10mJy\n",
      "871 objects in L=4.708174e+24 bin with flux 16.610542 +/- 153.448582 mJy, 273 with flux greater than 10mJy\n",
      "789 objects in L=5.103316e+24 bin with flux 19.458567 +/- 275.685653 mJy, 258 with flux greater than 10mJy\n",
      "726 objects in L=5.531622e+24 bin with flux 18.659431 +/- 377.906022 mJy, 255 with flux greater than 10mJy\n",
      "656 objects in L=5.995874e+24 bin with flux 20.289712 +/- 163.956409 mJy, 226 with flux greater than 10mJy\n",
      "669 objects in L=6.499089e+24 bin with flux 22.956629 +/- 360.880302 mJy, 221 with flux greater than 10mJy\n",
      "618 objects in L=7.044538e+24 bin with flux 24.952302 +/- 287.948185 mJy, 204 with flux greater than 10mJy\n",
      "546 objects in L=7.635764e+24 bin with flux 27.213173 +/- 201.040655 mJy, 173 with flux greater than 10mJy\n",
      "517 objects in L=8.276610e+24 bin with flux 25.834315 +/- 227.054897 mJy, 198 with flux greater than 10mJy\n",
      "468 objects in L=8.971240e+24 bin with flux 33.594315 +/- 699.857063 mJy, 150 with flux greater than 10mJy\n",
      "415 objects in L=9.724169e+24 bin with flux 34.461273 +/- 173.180585 mJy, 145 with flux greater than 10mJy\n",
      "423 objects in L=1.054029e+25 bin with flux 34.935298 +/- 437.489611 mJy, 152 with flux greater than 10mJy\n",
      "384 objects in L=1.142490e+25 bin with flux 40.426663 +/- 348.698911 mJy, 120 with flux greater than 10mJy\n",
      "303 objects in L=1.238376e+25 bin with flux 43.613920 +/- 422.637766 mJy, 101 with flux greater than 10mJy\n",
      "292 objects in L=1.342309e+25 bin with flux 51.700552 +/- 238.502816 mJy, 99 with flux greater than 10mJy\n",
      "291 objects in L=1.454965e+25 bin with flux 48.105602 +/- 1428.772845 mJy, 93 with flux greater than 10mJy\n",
      "278 objects in L=1.577076e+25 bin with flux 58.763845 +/- 715.266423 mJy, 101 with flux greater than 10mJy\n",
      "223 objects in L=1.709435e+25 bin with flux 57.482660 +/- 808.036308 mJy, 82 with flux greater than 10mJy\n",
      "202 objects in L=1.852902e+25 bin with flux 62.289487 +/- 296.276749 mJy, 59 with flux greater than 10mJy\n",
      "196 objects in L=2.008411e+25 bin with flux 74.209012 +/- 1886.235226 mJy, 64 with flux greater than 10mJy\n",
      "200 objects in L=2.176970e+25 bin with flux 96.695570 +/- 408.146714 mJy, 76 with flux greater than 10mJy\n",
      "179 objects in L=2.359677e+25 bin with flux 96.603553 +/- 1163.235167 mJy, 56 with flux greater than 10mJy\n",
      "169 objects in L=2.557717e+25 bin with flux 103.791870 +/- 833.410093 mJy, 52 with flux greater than 10mJy\n",
      "133 objects in L=2.772378e+25 bin with flux 105.231499 +/- 795.110694 mJy, 42 with flux greater than 10mJy\n",
      "132 objects in L=3.005055e+25 bin with flux 109.453453 +/- 904.534218 mJy, 45 with flux greater than 10mJy\n",
      "131 objects in L=3.257260e+25 bin with flux 117.235065 +/- 505.033888 mJy, 44 with flux greater than 10mJy\n",
      "79 objects in L=3.530632e+25 bin with flux 140.568339 +/- 677.968118 mJy, 26 with flux greater than 10mJy\n",
      "90 objects in L=3.826947e+25 bin with flux 143.674816 +/- 870.374961 mJy, 26 with flux greater than 10mJy\n",
      "83 objects in L=4.148131e+25 bin with flux 152.872113 +/- 3330.638290 mJy, 32 with flux greater than 10mJy\n",
      "67 objects in L=4.496271e+25 bin with flux 154.261212 +/- 407.541370 mJy, 27 with flux greater than 10mJy\n",
      "82 objects in L=4.873629e+25 bin with flux 135.546218 +/- 863.929225 mJy, 35 with flux greater than 10mJy\n",
      "64 objects in L=5.282658e+25 bin with flux 138.709658 +/- 749.055766 mJy, 27 with flux greater than 10mJy\n",
      "63 objects in L=5.726015e+25 bin with flux 237.427860 +/- 2330.067681 mJy, 20 with flux greater than 10mJy\n",
      "54 objects in L=6.206582e+25 bin with flux 329.597383 +/- 886.344062 mJy, 14 with flux greater than 10mJy\n",
      "56 objects in L=6.727481e+25 bin with flux 336.462453 +/- 1706.420544 mJy, 15 with flux greater than 10mJy\n",
      "48 objects in L=7.292098e+25 bin with flux 273.444184 +/- 986.400794 mJy, 19 with flux greater than 10mJy\n",
      "35 objects in L=7.904101e+25 bin with flux 283.095481 +/- 5076.562733 mJy, 12 with flux greater than 10mJy\n",
      "40 objects in L=8.567468e+25 bin with flux 263.206205 +/- 1640.270078 mJy, 15 with flux greater than 10mJy\n",
      "29 objects in L=9.286509e+25 bin with flux 349.383417 +/- 1060.440334 mJy, 8 with flux greater than 10mJy\n",
      "23 objects in L=1.006590e+26 bin with flux 293.646262 +/- 1566.875147 mJy, 9 with flux greater than 10mJy\n",
      "30 objects in L=1.091070e+26 bin with flux 317.159002 +/- 659.733734 mJy, 10 with flux greater than 10mJy\n",
      "26 objects in L=1.182640e+26 bin with flux 562.672443 +/- 2629.077699 mJy, 5 with flux greater than 10mJy\n",
      "19 objects in L=1.281895e+26 bin with flux 889.552985 +/- 1111.753138 mJy, 4 with flux greater than 10mJy\n",
      "16 objects in L=1.389481e+26 bin with flux 419.953106 +/- 603.002195 mJy, 7 with flux greater than 10mJy\n",
      "21 objects in L=1.506095e+26 bin with flux 600.722591 +/- 1700.913284 mJy, 8 with flux greater than 10mJy\n",
      "24 objects in L=1.632497e+26 bin with flux 503.536123 +/- 3576.512576 mJy, 10 with flux greater than 10mJy\n",
      "19 objects in L=1.769508e+26 bin with flux 1309.823969 +/- 2034.466483 mJy, 8 with flux greater than 10mJy\n",
      "10 objects in L=1.918017e+26 bin with flux 344.090999 +/- 3248.817924 mJy, 5 with flux greater than 10mJy\n",
      "18 objects in L=2.078990e+26 bin with flux 831.986289 +/- 2655.833358 mJy, 5 with flux greater than 10mJy\n",
      "12 objects in L=2.253474e+26 bin with flux 550.391625 +/- 1608.148747 mJy, 4 with flux greater than 10mJy\n",
      "7 objects in L=2.442601e+26 bin with flux 834.742855 +/- 8195.704975 mJy, 0 with flux greater than 10mJy\n",
      "10 objects in L=2.647601e+26 bin with flux 1676.174193 +/- 45265.500027 mJy, 1 with flux greater than 10mJy\n",
      "5 objects in L=2.869806e+26 bin with flux 1271.030945 +/- 2280.779304 mJy, 2 with flux greater than 10mJy\n",
      "7 objects in L=3.110660e+26 bin with flux 1218.715465 +/- 3859.200613 mJy, 2 with flux greater than 10mJy\n",
      "17 objects in L=3.371728e+26 bin with flux 1104.923587 +/- 5634.256270 mJy, 5 with flux greater than 10mJy\n",
      "11 objects in L=3.654706e+26 bin with flux 871.237661 +/- 11031.191324 mJy, 6 with flux greater than 10mJy\n",
      "6 objects in L=3.961435e+26 bin with flux 7522.015861 +/- 20310.653570 mJy, 2 with flux greater than 10mJy\n",
      "3 objects in L=4.293906e+26 bin with flux 710.438868 +/- 457.935088 mJy, 2 with flux greater than 10mJy\n",
      "5 objects in L=4.654280e+26 bin with flux 800.594800 +/- 1246.389527 mJy, 3 with flux greater than 10mJy\n",
      "3 objects in L=5.044899e+26 bin with flux 968.283562 +/- 3966.680163 mJy, 3 with flux greater than 10mJy\n",
      "1 objects in L=5.468302e+26 bin with flux 1114.922155 +/- 0.000000 mJy, 0 with flux greater than 10mJy\n",
      "3 objects in L=5.927240e+26 bin with flux 1596.280941 +/- 686.261567 mJy, 1 with flux greater than 10mJy\n",
      "5 objects in L=6.424695e+26 bin with flux 2865.684397 +/- 9007.231468 mJy, 1 with flux greater than 10mJy\n",
      "1 objects in L=6.963899e+26 bin with flux 9264.395229 +/- 0.000000 mJy, 0 with flux greater than 10mJy\n",
      "1 objects in L=7.548358e+26 bin with flux 896.980664 +/- 0.000000 mJy, 1 with flux greater than 10mJy\n",
      "2 objects in L=8.181868e+26 bin with flux 22285.655287 +/- 19527.227493 mJy, 1 with flux greater than 10mJy\n",
      "1 objects in L=8.868547e+26 bin with flux 1746.567282 +/- 0.000000 mJy, 0 with flux greater than 10mJy\n",
      "3 objects in L=9.612857e+26 bin with flux 6027.469427 +/- 2732.206856 mJy, 1 with flux greater than 10mJy\n",
      "using 3155579 sources\n",
      "766510 objects in L=1.029627e+19 bin with flux 0.000037 +/- 0.000561 mJy, 0 with flux greater than 10mJy\n",
      "764504 objects in L=1.090636e+19 bin with flux 0.000039 +/- 0.000617 mJy, 0 with flux greater than 10mJy\n",
      "763935 objects in L=1.155260e+19 bin with flux 0.000042 +/- 0.000618 mJy, 0 with flux greater than 10mJy\n",
      "763863 objects in L=1.223714e+19 bin with flux 0.000044 +/- 0.000689 mJy, 0 with flux greater than 10mJy\n",
      "764373 objects in L=1.296223e+19 bin with flux 0.000047 +/- 0.000744 mJy, 0 with flux greater than 10mJy\n",
      "763779 objects in L=1.373029e+19 bin with flux 0.000049 +/- 0.000874 mJy, 0 with flux greater than 10mJy\n",
      "761466 objects in L=1.454387e+19 bin with flux 0.000052 +/- 0.000853 mJy, 0 with flux greater than 10mJy\n",
      "760734 objects in L=1.540564e+19 bin with flux 0.000055 +/- 0.000948 mJy, 0 with flux greater than 10mJy\n",
      "759604 objects in L=1.631849e+19 bin with flux 0.000059 +/- 0.001252 mJy, 0 with flux greater than 10mJy\n",
      "757464 objects in L=1.728542e+19 bin with flux 0.000062 +/- 0.000984 mJy, 0 with flux greater than 10mJy\n",
      "757762 objects in L=1.830964e+19 bin with flux 0.000066 +/- 0.001127 mJy, 0 with flux greater than 10mJy\n",
      "757277 objects in L=1.939456e+19 bin with flux 0.000070 +/- 0.001048 mJy, 0 with flux greater than 10mJy\n",
      "755859 objects in L=2.054376e+19 bin with flux 0.000074 +/- 0.001189 mJy, 0 with flux greater than 10mJy\n",
      "757121 objects in L=2.176105e+19 bin with flux 0.000079 +/- 0.001294 mJy, 0 with flux greater than 10mJy\n",
      "754579 objects in L=2.305047e+19 bin with flux 0.000083 +/- 0.001400 mJy, 0 with flux greater than 10mJy\n",
      "754217 objects in L=2.441630e+19 bin with flux 0.000088 +/- 0.001365 mJy, 0 with flux greater than 10mJy\n",
      "751724 objects in L=2.586306e+19 bin with flux 0.000093 +/- 0.001532 mJy, 0 with flux greater than 10mJy\n",
      "751161 objects in L=2.739554e+19 bin with flux 0.000098 +/- 0.001692 mJy, 0 with flux greater than 10mJy\n",
      "751330 objects in L=2.901883e+19 bin with flux 0.000104 +/- 0.001731 mJy, 0 with flux greater than 10mJy\n",
      "750978 objects in L=3.073830e+19 bin with flux 0.000110 +/- 0.001807 mJy, 0 with flux greater than 10mJy\n",
      "748851 objects in L=3.255966e+19 bin with flux 0.000117 +/- 0.001830 mJy, 0 with flux greater than 10mJy\n",
      "748790 objects in L=3.448894e+19 bin with flux 0.000124 +/- 0.002050 mJy, 0 with flux greater than 10mJy\n",
      "747858 objects in L=3.653254e+19 bin with flux 0.000131 +/- 0.002070 mJy, 0 with flux greater than 10mJy\n",
      "746877 objects in L=3.869723e+19 bin with flux 0.000139 +/- 0.002318 mJy, 0 with flux greater than 10mJy\n",
      "745675 objects in L=4.099018e+19 bin with flux 0.000147 +/- 0.002365 mJy, 0 with flux greater than 10mJy\n",
      "745645 objects in L=4.341900e+19 bin with flux 0.000156 +/- 0.002567 mJy, 0 with flux greater than 10mJy\n",
      "743579 objects in L=4.599174e+19 bin with flux 0.000165 +/- 0.002706 mJy, 0 with flux greater than 10mJy\n",
      "743472 objects in L=4.871692e+19 bin with flux 0.000175 +/- 0.002641 mJy, 0 with flux greater than 10mJy\n",
      "742189 objects in L=5.160358e+19 bin with flux 0.000186 +/- 0.002859 mJy, 0 with flux greater than 10mJy\n",
      "742874 objects in L=5.466129e+19 bin with flux 0.000196 +/- 0.003924 mJy, 0 with flux greater than 10mJy\n",
      "739892 objects in L=5.790017e+19 bin with flux 0.000208 +/- 0.003334 mJy, 0 with flux greater than 10mJy\n",
      "737761 objects in L=6.133097e+19 bin with flux 0.000220 +/- 0.003471 mJy, 0 with flux greater than 10mJy\n",
      "738927 objects in L=6.496506e+19 bin with flux 0.000233 +/- 0.003978 mJy, 0 with flux greater than 10mJy\n",
      "738142 objects in L=6.881449e+19 bin with flux 0.000247 +/- 0.004012 mJy, 0 with flux greater than 10mJy\n",
      "737276 objects in L=7.289200e+19 bin with flux 0.000262 +/- 0.004522 mJy, 0 with flux greater than 10mJy\n",
      "736565 objects in L=7.721112e+19 bin with flux 0.000276 +/- 0.004772 mJy, 0 with flux greater than 10mJy\n",
      "735698 objects in L=8.178617e+19 bin with flux 0.000294 +/- 0.004931 mJy, 0 with flux greater than 10mJy\n",
      "735369 objects in L=8.663230e+19 bin with flux 0.000310 +/- 0.004438 mJy, 0 with flux greater than 10mJy\n",
      "732413 objects in L=9.176559e+19 bin with flux 0.000330 +/- 0.005186 mJy, 0 with flux greater than 10mJy\n",
      "732889 objects in L=9.720304e+19 bin with flux 0.000350 +/- 0.006136 mJy, 0 with flux greater than 10mJy\n",
      "731477 objects in L=1.029627e+20 bin with flux 0.000369 +/- 0.005940 mJy, 0 with flux greater than 10mJy\n",
      "730046 objects in L=1.090636e+20 bin with flux 0.000391 +/- 0.006200 mJy, 0 with flux greater than 10mJy\n",
      "730099 objects in L=1.155260e+20 bin with flux 0.000415 +/- 0.006637 mJy, 0 with flux greater than 10mJy\n",
      "728848 objects in L=1.223714e+20 bin with flux 0.000439 +/- 0.006666 mJy, 0 with flux greater than 10mJy\n",
      "726860 objects in L=1.296223e+20 bin with flux 0.000465 +/- 0.008268 mJy, 0 with flux greater than 10mJy\n",
      "726956 objects in L=1.373029e+20 bin with flux 0.000494 +/- 0.007762 mJy, 0 with flux greater than 10mJy\n",
      "725903 objects in L=1.454387e+20 bin with flux 0.000522 +/- 0.009142 mJy, 0 with flux greater than 10mJy\n",
      "725113 objects in L=1.540564e+20 bin with flux 0.000554 +/- 0.008471 mJy, 0 with flux greater than 10mJy\n",
      "723407 objects in L=1.631849e+20 bin with flux 0.000587 +/- 0.009848 mJy, 0 with flux greater than 10mJy\n",
      "723665 objects in L=1.728542e+20 bin with flux 0.000619 +/- 0.011469 mJy, 1 with flux greater than 10mJy\n",
      "721200 objects in L=1.830964e+20 bin with flux 0.000661 +/- 0.010921 mJy, 0 with flux greater than 10mJy\n",
      "721956 objects in L=1.939456e+20 bin with flux 0.000698 +/- 0.011420 mJy, 1 with flux greater than 10mJy\n",
      "718811 objects in L=2.054376e+20 bin with flux 0.000739 +/- 0.012691 mJy, 0 with flux greater than 10mJy\n",
      "717482 objects in L=2.176105e+20 bin with flux 0.000783 +/- 0.012649 mJy, 0 with flux greater than 10mJy\n",
      "716977 objects in L=2.305047e+20 bin with flux 0.000829 +/- 0.014599 mJy, 0 with flux greater than 10mJy\n",
      "717431 objects in L=2.441630e+20 bin with flux 0.000877 +/- 0.014010 mJy, 0 with flux greater than 10mJy\n",
      "714484 objects in L=2.586306e+20 bin with flux 0.000930 +/- 0.014774 mJy, 0 with flux greater than 10mJy\n",
      "713168 objects in L=2.739554e+20 bin with flux 0.000984 +/- 0.014909 mJy, 0 with flux greater than 10mJy\n",
      "711815 objects in L=2.901883e+20 bin with flux 0.001041 +/- 0.018350 mJy, 1 with flux greater than 10mJy\n",
      "709736 objects in L=3.073830e+20 bin with flux 0.001105 +/- 0.018576 mJy, 0 with flux greater than 10mJy\n",
      "707669 objects in L=3.255966e+20 bin with flux 0.001171 +/- 0.017292 mJy, 1 with flux greater than 10mJy\n",
      "706396 objects in L=3.448894e+20 bin with flux 0.001238 +/- 0.021638 mJy, 0 with flux greater than 10mJy\n",
      "705923 objects in L=3.653254e+20 bin with flux 0.001311 +/- 0.021199 mJy, 2 with flux greater than 10mJy\n",
      "704518 objects in L=3.869723e+20 bin with flux 0.001386 +/- 0.021785 mJy, 1 with flux greater than 10mJy\n",
      "703582 objects in L=4.099018e+20 bin with flux 0.001475 +/- 0.024077 mJy, 0 with flux greater than 10mJy\n",
      "699660 objects in L=4.341900e+20 bin with flux 0.001559 +/- 0.026439 mJy, 0 with flux greater than 10mJy\n",
      "696841 objects in L=4.599174e+20 bin with flux 0.001649 +/- 0.025734 mJy, 2 with flux greater than 10mJy\n",
      "696386 objects in L=4.871692e+20 bin with flux 0.001746 +/- 0.031622 mJy, 1 with flux greater than 10mJy\n",
      "694826 objects in L=5.160358e+20 bin with flux 0.001857 +/- 0.030294 mJy, 1 with flux greater than 10mJy\n",
      "690890 objects in L=5.466129e+20 bin with flux 0.001972 +/- 0.029226 mJy, 0 with flux greater than 10mJy\n",
      "688484 objects in L=5.790017e+20 bin with flux 0.002072 +/- 0.033740 mJy, 0 with flux greater than 10mJy\n",
      "685991 objects in L=6.133097e+20 bin with flux 0.002213 +/- 0.039526 mJy, 2 with flux greater than 10mJy\n",
      "683258 objects in L=6.496506e+20 bin with flux 0.002343 +/- 0.037998 mJy, 0 with flux greater than 10mJy\n",
      "681053 objects in L=6.881449e+20 bin with flux 0.002475 +/- 0.037514 mJy, 2 with flux greater than 10mJy\n",
      "676149 objects in L=7.289200e+20 bin with flux 0.002622 +/- 0.041541 mJy, 3 with flux greater than 10mJy\n",
      "672338 objects in L=7.721112e+20 bin with flux 0.002764 +/- 0.047122 mJy, 2 with flux greater than 10mJy\n",
      "667824 objects in L=8.178617e+20 bin with flux 0.002940 +/- 0.044618 mJy, 2 with flux greater than 10mJy\n",
      "663155 objects in L=8.663230e+20 bin with flux 0.003108 +/- 0.050054 mJy, 3 with flux greater than 10mJy\n",
      "661104 objects in L=9.176559e+20 bin with flux 0.003300 +/- 0.053960 mJy, 3 with flux greater than 10mJy\n",
      "656359 objects in L=9.720304e+20 bin with flux 0.003492 +/- 0.055275 mJy, 1 with flux greater than 10mJy\n",
      "651567 objects in L=1.029627e+21 bin with flux 0.003712 +/- 0.063856 mJy, 0 with flux greater than 10mJy\n",
      "647718 objects in L=1.090636e+21 bin with flux 0.003911 +/- 0.059541 mJy, 5 with flux greater than 10mJy\n",
      "641002 objects in L=1.155260e+21 bin with flux 0.004163 +/- 0.071467 mJy, 6 with flux greater than 10mJy\n",
      "636019 objects in L=1.223714e+21 bin with flux 0.004394 +/- 0.064944 mJy, 3 with flux greater than 10mJy\n",
      "630116 objects in L=1.296223e+21 bin with flux 0.004646 +/- 0.085895 mJy, 6 with flux greater than 10mJy\n",
      "623430 objects in L=1.373029e+21 bin with flux 0.004922 +/- 0.080511 mJy, 3 with flux greater than 10mJy\n",
      "616266 objects in L=1.454387e+21 bin with flux 0.005221 +/- 0.090216 mJy, 3 with flux greater than 10mJy\n",
      "609439 objects in L=1.540564e+21 bin with flux 0.005507 +/- 0.093822 mJy, 3 with flux greater than 10mJy\n",
      "603329 objects in L=1.631849e+21 bin with flux 0.005850 +/- 0.093923 mJy, 4 with flux greater than 10mJy\n",
      "593461 objects in L=1.728542e+21 bin with flux 0.006189 +/- 0.100307 mJy, 9 with flux greater than 10mJy\n",
      "586869 objects in L=1.830964e+21 bin with flux 0.006579 +/- 0.098325 mJy, 4 with flux greater than 10mJy\n",
      "577721 objects in L=1.939456e+21 bin with flux 0.006964 +/- 0.118661 mJy, 5 with flux greater than 10mJy\n",
      "569157 objects in L=2.054376e+21 bin with flux 0.007399 +/- 0.123810 mJy, 10 with flux greater than 10mJy\n",
      "560317 objects in L=2.176105e+21 bin with flux 0.007863 +/- 0.122013 mJy, 13 with flux greater than 10mJy\n",
      "551288 objects in L=2.305047e+21 bin with flux 0.008282 +/- 0.133560 mJy, 6 with flux greater than 10mJy\n",
      "539887 objects in L=2.441630e+21 bin with flux 0.008716 +/- 0.141857 mJy, 11 with flux greater than 10mJy\n",
      "530003 objects in L=2.586306e+21 bin with flux 0.009311 +/- 0.138402 mJy, 9 with flux greater than 10mJy\n",
      "519188 objects in L=2.739554e+21 bin with flux 0.009833 +/- 0.164602 mJy, 9 with flux greater than 10mJy\n",
      "506728 objects in L=2.901883e+21 bin with flux 0.010414 +/- 0.162624 mJy, 16 with flux greater than 10mJy\n",
      "495424 objects in L=3.073830e+21 bin with flux 0.011058 +/- 0.170927 mJy, 13 with flux greater than 10mJy\n",
      "484950 objects in L=3.255966e+21 bin with flux 0.011696 +/- 0.177701 mJy, 13 with flux greater than 10mJy\n",
      "471002 objects in L=3.448894e+21 bin with flux 0.012413 +/- 0.210005 mJy, 11 with flux greater than 10mJy\n",
      "458973 objects in L=3.653254e+21 bin with flux 0.013113 +/- 0.217265 mJy, 12 with flux greater than 10mJy\n",
      "446892 objects in L=3.869723e+21 bin with flux 0.013887 +/- 0.225998 mJy, 10 with flux greater than 10mJy\n",
      "434287 objects in L=4.099018e+21 bin with flux 0.014729 +/- 0.232345 mJy, 13 with flux greater than 10mJy\n",
      "421261 objects in L=4.341900e+21 bin with flux 0.015631 +/- 0.248261 mJy, 21 with flux greater than 10mJy\n",
      "406576 objects in L=4.599174e+21 bin with flux 0.016487 +/- 0.254262 mJy, 24 with flux greater than 10mJy\n",
      "394038 objects in L=4.871692e+21 bin with flux 0.017489 +/- 0.285687 mJy, 15 with flux greater than 10mJy\n",
      "379872 objects in L=5.160358e+21 bin with flux 0.018531 +/- 0.325133 mJy, 21 with flux greater than 10mJy\n",
      "367365 objects in L=5.466129e+21 bin with flux 0.019602 +/- 0.324512 mJy, 16 with flux greater than 10mJy\n",
      "353362 objects in L=5.790017e+21 bin with flux 0.020792 +/- 0.334064 mJy, 17 with flux greater than 10mJy\n",
      "338924 objects in L=6.133097e+21 bin with flux 0.021998 +/- 0.360499 mJy, 19 with flux greater than 10mJy\n",
      "326546 objects in L=6.496506e+21 bin with flux 0.023263 +/- 0.348245 mJy, 25 with flux greater than 10mJy\n",
      "311812 objects in L=6.881449e+21 bin with flux 0.024790 +/- 0.415321 mJy, 21 with flux greater than 10mJy\n",
      "298487 objects in L=7.289200e+21 bin with flux 0.026157 +/- 0.400502 mJy, 15 with flux greater than 10mJy\n",
      "284604 objects in L=7.721112e+21 bin with flux 0.027819 +/- 0.470627 mJy, 20 with flux greater than 10mJy\n",
      "273075 objects in L=8.178617e+21 bin with flux 0.029419 +/- 0.536815 mJy, 24 with flux greater than 10mJy\n",
      "258790 objects in L=8.663230e+21 bin with flux 0.031141 +/- 0.494642 mJy, 32 with flux greater than 10mJy\n",
      "244963 objects in L=9.176559e+21 bin with flux 0.032988 +/- 0.510294 mJy, 22 with flux greater than 10mJy\n",
      "233622 objects in L=9.720304e+21 bin with flux 0.035155 +/- 0.496890 mJy, 28 with flux greater than 10mJy\n",
      "220781 objects in L=1.029627e+22 bin with flux 0.036886 +/- 0.594674 mJy, 23 with flux greater than 10mJy\n",
      "208543 objects in L=1.090636e+22 bin with flux 0.039103 +/- 0.608172 mJy, 25 with flux greater than 10mJy\n",
      "197150 objects in L=1.155260e+22 bin with flux 0.041342 +/- 0.693773 mJy, 22 with flux greater than 10mJy\n",
      "185621 objects in L=1.223714e+22 bin with flux 0.043915 +/- 0.706203 mJy, 24 with flux greater than 10mJy\n",
      "174881 objects in L=1.296223e+22 bin with flux 0.046328 +/- 0.724738 mJy, 27 with flux greater than 10mJy\n",
      "164291 objects in L=1.373029e+22 bin with flux 0.049271 +/- 0.955343 mJy, 22 with flux greater than 10mJy\n",
      "154477 objects in L=1.454387e+22 bin with flux 0.052089 +/- 0.652430 mJy, 36 with flux greater than 10mJy\n",
      "144284 objects in L=1.540564e+22 bin with flux 0.054897 +/- 1.021267 mJy, 25 with flux greater than 10mJy\n",
      "134494 objects in L=1.631849e+22 bin with flux 0.058759 +/- 0.817861 mJy, 23 with flux greater than 10mJy\n",
      "125263 objects in L=1.728542e+22 bin with flux 0.062829 +/- 0.962034 mJy, 39 with flux greater than 10mJy\n",
      "116761 objects in L=1.830964e+22 bin with flux 0.065536 +/- 0.966285 mJy, 36 with flux greater than 10mJy\n",
      "108410 objects in L=1.939456e+22 bin with flux 0.069047 +/- 1.124579 mJy, 35 with flux greater than 10mJy\n",
      "100223 objects in L=2.054376e+22 bin with flux 0.074293 +/- 1.654969 mJy, 34 with flux greater than 10mJy\n",
      "92832 objects in L=2.176105e+22 bin with flux 0.077770 +/- 1.091676 mJy, 30 with flux greater than 10mJy\n",
      "85513 objects in L=2.305047e+22 bin with flux 0.082878 +/- 1.219118 mJy, 28 with flux greater than 10mJy\n",
      "79567 objects in L=2.441630e+22 bin with flux 0.087340 +/- 1.061270 mJy, 31 with flux greater than 10mJy\n",
      "73033 objects in L=2.586306e+22 bin with flux 0.092926 +/- 1.621856 mJy, 37 with flux greater than 10mJy\n",
      "67393 objects in L=2.739554e+22 bin with flux 0.098381 +/- 1.557951 mJy, 30 with flux greater than 10mJy\n",
      "60843 objects in L=2.901883e+22 bin with flux 0.102681 +/- 1.431121 mJy, 38 with flux greater than 10mJy\n",
      "56269 objects in L=3.073830e+22 bin with flux 0.110341 +/- 1.643197 mJy, 31 with flux greater than 10mJy\n",
      "52129 objects in L=3.255966e+22 bin with flux 0.115785 +/- 1.467649 mJy, 47 with flux greater than 10mJy\n",
      "46946 objects in L=3.448894e+22 bin with flux 0.122272 +/- 1.908999 mJy, 27 with flux greater than 10mJy\n",
      "42915 objects in L=3.653254e+22 bin with flux 0.133190 +/- 1.916390 mJy, 33 with flux greater than 10mJy\n",
      "38857 objects in L=3.869723e+22 bin with flux 0.140076 +/- 1.751755 mJy, 31 with flux greater than 10mJy\n",
      "35498 objects in L=4.099018e+22 bin with flux 0.148151 +/- 2.492786 mJy, 41 with flux greater than 10mJy\n",
      "31856 objects in L=4.341900e+22 bin with flux 0.154822 +/- 2.321037 mJy, 33 with flux greater than 10mJy\n",
      "28999 objects in L=4.599174e+22 bin with flux 0.164450 +/- 2.054469 mJy, 31 with flux greater than 10mJy\n",
      "26014 objects in L=4.871692e+22 bin with flux 0.175317 +/- 2.383634 mJy, 24 with flux greater than 10mJy\n",
      "23432 objects in L=5.160358e+22 bin with flux 0.186368 +/- 2.390658 mJy, 32 with flux greater than 10mJy\n",
      "20856 objects in L=5.466129e+22 bin with flux 0.199046 +/- 3.525016 mJy, 39 with flux greater than 10mJy\n",
      "18785 objects in L=5.790017e+22 bin with flux 0.210019 +/- 2.280519 mJy, 24 with flux greater than 10mJy\n",
      "16891 objects in L=6.133097e+22 bin with flux 0.223674 +/- 3.232173 mJy, 36 with flux greater than 10mJy\n",
      "15124 objects in L=6.496506e+22 bin with flux 0.230960 +/- 3.580060 mJy, 39 with flux greater than 10mJy\n",
      "13474 objects in L=6.881449e+22 bin with flux 0.249234 +/- 3.102379 mJy, 30 with flux greater than 10mJy\n",
      "12079 objects in L=7.289200e+22 bin with flux 0.260746 +/- 5.086563 mJy, 29 with flux greater than 10mJy\n",
      "10818 objects in L=7.721112e+22 bin with flux 0.269066 +/- 3.041204 mJy, 27 with flux greater than 10mJy\n",
      "9538 objects in L=8.178617e+22 bin with flux 0.290405 +/- 4.842244 mJy, 28 with flux greater than 10mJy\n",
      "8340 objects in L=8.663230e+22 bin with flux 0.301216 +/- 3.910484 mJy, 25 with flux greater than 10mJy\n",
      "7421 objects in L=9.176559e+22 bin with flux 0.330045 +/- 4.054211 mJy, 19 with flux greater than 10mJy\n",
      "6638 objects in L=9.720304e+22 bin with flux 0.351880 +/- 2.737654 mJy, 24 with flux greater than 10mJy\n",
      "5838 objects in L=1.029627e+23 bin with flux 0.359027 +/- 5.211472 mJy, 21 with flux greater than 10mJy\n",
      "5063 objects in L=1.090636e+23 bin with flux 0.400230 +/- 3.382406 mJy, 28 with flux greater than 10mJy\n",
      "4512 objects in L=1.155260e+23 bin with flux 0.420618 +/- 7.035756 mJy, 22 with flux greater than 10mJy\n",
      "3948 objects in L=1.223714e+23 bin with flux 0.427456 +/- 4.289821 mJy, 20 with flux greater than 10mJy\n",
      "3522 objects in L=1.296223e+23 bin with flux 0.468397 +/- 4.062312 mJy, 17 with flux greater than 10mJy\n",
      "2991 objects in L=1.373029e+23 bin with flux 0.510222 +/- 6.128881 mJy, 18 with flux greater than 10mJy\n",
      "2623 objects in L=1.454387e+23 bin with flux 0.516114 +/- 7.499770 mJy, 15 with flux greater than 10mJy\n",
      "2386 objects in L=1.540564e+23 bin with flux 0.569946 +/- 7.863197 mJy, 13 with flux greater than 10mJy\n",
      "1982 objects in L=1.631849e+23 bin with flux 0.541543 +/- 5.029047 mJy, 16 with flux greater than 10mJy\n",
      "1749 objects in L=1.728542e+23 bin with flux 0.664287 +/- 6.270080 mJy, 14 with flux greater than 10mJy\n",
      "1516 objects in L=1.830964e+23 bin with flux 0.723032 +/- 7.807621 mJy, 9 with flux greater than 10mJy\n",
      "1332 objects in L=1.939456e+23 bin with flux 0.643850 +/- 5.279058 mJy, 11 with flux greater than 10mJy\n",
      "1139 objects in L=2.054376e+23 bin with flux 0.725731 +/- 10.723225 mJy, 10 with flux greater than 10mJy\n",
      "924 objects in L=2.176105e+23 bin with flux 0.878969 +/- 9.012748 mJy, 17 with flux greater than 10mJy\n",
      "813 objects in L=2.305047e+23 bin with flux 0.845308 +/- 10.722569 mJy, 9 with flux greater than 10mJy\n",
      "716 objects in L=2.441630e+23 bin with flux 0.898566 +/- 5.696504 mJy, 7 with flux greater than 10mJy\n",
      "566 objects in L=2.586306e+23 bin with flux 1.008559 +/- 9.070799 mJy, 9 with flux greater than 10mJy\n",
      "510 objects in L=2.739554e+23 bin with flux 0.941623 +/- 12.652068 mJy, 9 with flux greater than 10mJy\n",
      "460 objects in L=2.901883e+23 bin with flux 1.103375 +/- 7.913027 mJy, 8 with flux greater than 10mJy\n",
      "368 objects in L=3.073830e+23 bin with flux 1.090440 +/- 16.467515 mJy, 6 with flux greater than 10mJy\n",
      "315 objects in L=3.255966e+23 bin with flux 1.511608 +/- 10.474165 mJy, 7 with flux greater than 10mJy\n",
      "245 objects in L=3.448894e+23 bin with flux 1.309396 +/- 9.590434 mJy, 9 with flux greater than 10mJy\n",
      "244 objects in L=3.653254e+23 bin with flux 1.530900 +/- 9.206327 mJy, 9 with flux greater than 10mJy\n",
      "190 objects in L=3.869723e+23 bin with flux 1.171176 +/- 7.567712 mJy, 7 with flux greater than 10mJy\n",
      "169 objects in L=4.099018e+23 bin with flux 1.550928 +/- 30.038906 mJy, 2 with flux greater than 10mJy\n",
      "150 objects in L=4.341900e+23 bin with flux 1.464279 +/- 7.979092 mJy, 6 with flux greater than 10mJy\n",
      "122 objects in L=4.599174e+23 bin with flux 1.756183 +/- 8.776572 mJy, 4 with flux greater than 10mJy\n",
      "106 objects in L=4.871692e+23 bin with flux 1.595533 +/- 16.812072 mJy, 6 with flux greater than 10mJy\n",
      "104 objects in L=5.160358e+23 bin with flux 1.563378 +/- 18.503006 mJy, 6 with flux greater than 10mJy\n",
      "81 objects in L=5.466129e+23 bin with flux 1.657547 +/- 9.013957 mJy, 3 with flux greater than 10mJy\n",
      "66 objects in L=5.790017e+23 bin with flux 1.729253 +/- 22.374727 mJy, 2 with flux greater than 10mJy\n",
      "42 objects in L=6.133097e+23 bin with flux 1.771889 +/- 23.583455 mJy, 2 with flux greater than 10mJy\n",
      "39 objects in L=6.496506e+23 bin with flux 3.263775 +/- 13.765652 mJy, 2 with flux greater than 10mJy\n",
      "38 objects in L=6.881449e+23 bin with flux 2.788771 +/- 11.094730 mJy, 3 with flux greater than 10mJy\n",
      "27 objects in L=7.289200e+23 bin with flux 2.733697 +/- 7.197252 mJy, 6 with flux greater than 10mJy\n",
      "24 objects in L=7.721112e+23 bin with flux 3.939518 +/- 6.601088 mJy, 1 with flux greater than 10mJy\n",
      "22 objects in L=8.178617e+23 bin with flux 4.123339 +/- 18.253148 mJy, 2 with flux greater than 10mJy\n",
      "17 objects in L=8.663230e+23 bin with flux 3.083959 +/- 9.186211 mJy, 2 with flux greater than 10mJy\n",
      "8 objects in L=9.176559e+23 bin with flux 5.480007 +/- 8.275682 mJy, 2 with flux greater than 10mJy\n",
      "9 objects in L=9.720304e+23 bin with flux 6.690735 +/- 40.864628 mJy, 1 with flux greater than 10mJy\n",
      "using 27433263 sources\n"
     ]
    }
   ],
   "source": [
    "\n",
    "labels = ['AGN','SF']\n",
    "P = [P_agn,P_sf]\n",
    "rho_P = [rho_P_agn,rho_P_sf]\n",
    "dP = [dP_agn,dP_sf]\n",
    "numPbins = [numPbins_agn,numPbins_sf]\n",
    "\n",
    "L1_vals_per_bin = [[],[]]\n",
    "thx_vals_per_bin = [[],[]]\n",
    "thy_vals_per_bin = [[],[]]\n",
    "dist_vals_per_bin = [[],[]]\n",
    "\n",
    "L1_vals = [[],[]]\n",
    "thx_vals = [[],[]]\n",
    "thy_vals = [[],[]]\n",
    "dist_vals = [[],[]]\n",
    "\n",
    "for j in range(2):\n",
    "    for i in range(numPbins[j]):\n",
    "        mean_num_objects_in_bin = rho_P[j](P[j][i])*dP[j][i]*trans_Mpc**2*(los_max_Mpc-los_min_Mpc)\n",
    "\n",
    "        num_objects_in_bin = np.random.poisson(mean_num_objects_in_bin)\n",
    "        los_vals_Mpc = np.random.uniform(los_min_Mpc,los_max_Mpc,num_objects_in_bin)\n",
    "        x_vals_Mpc = np.random.uniform(-trans_Mpc/2,trans_Mpc/2,num_objects_in_bin)\n",
    "        y_vals_Mpc = np.random.uniform(-trans_Mpc/2,trans_Mpc/2,num_objects_in_bin)\n",
    "        dists_Mpc = np.sqrt(x_vals_Mpc**2+y_vals_Mpc**2+los_vals_Mpc**2)\n",
    "\n",
    "        thx = np.arctan(x_vals_Mpc/los_vals_Mpc)*180./np.pi\n",
    "        thy = np.arctan(y_vals_Mpc/los_vals_Mpc)*180./np.pi\n",
    "\n",
    "        jy_vals = P[j][i]/(4.*np.pi*(dists_Mpc*Mpc2m)**2)/1.e-29\n",
    "        g = (np.abs(thx)<fov_deg/2)&(np.abs(thy)<fov_deg/2)\n",
    "\n",
    "        L1_vals_per_bin[j].append(P[j][i]+np.zeros(np.sum(g)))\n",
    "        thx_vals_per_bin[j].append(thx[g])\n",
    "        thy_vals_per_bin[j].append(thy[g])\n",
    "        dist_vals_per_bin[j].append(dists_Mpc[g])\n",
    "\n",
    "        print('%d objects in L=%e bin with flux %f +/- %f mJy, %d with flux greater than 10mJy'%(num_objects_in_bin,P[j][i],np.median(jy_vals),np.std(jy_vals),np.sum(jy_vals[g]>2)))\n",
    "\n",
    "    L1_vals[j] = np.concatenate(L1_vals_per_bin[j]).flatten()\n",
    "    thx_vals[j] = np.concatenate(thx_vals_per_bin[j]).flatten()\n",
    "    thy_vals[j] = np.concatenate(thy_vals_per_bin[j]).flatten()\n",
    "    dist_vals[j] = np.concatenate(dist_vals_per_bin[j]).flatten()\n",
    "\n",
    "    print('using %d sources'%(len(L1_vals[j])))"
   ]
  },
  {
   "cell_type": "code",
   "execution_count": 8,
   "metadata": {
    "collapsed": false
   },
   "outputs": [],
   "source": [
    "L2_vals = [np.random.choice(a=P[j],size=len(L1_vals[j]),p=rho_P[j](P[j])*dP[j]/np.sum(rho_P[j](P[j])*dP[j]),replace=True) for j in range(2)]"
   ]
  },
  {
   "cell_type": "code",
   "execution_count": 9,
   "metadata": {
    "collapsed": false
   },
   "outputs": [],
   "source": [
    "F1_vals = [L1_vals[j]/(4.*np.pi*(dist_vals[j]*Mpc2m)**2)/1.e-29 for j in range(2)]\n",
    "F2_vals = [L2_vals[j]/(4.*np.pi*(dist_vals[j]*Mpc2m)**2)/1.e-29 for j in range(2)]"
   ]
  },
  {
   "cell_type": "code",
   "execution_count": 10,
   "metadata": {
    "collapsed": false
   },
   "outputs": [],
   "source": [
    "# plt.loglog(L1_vals[0],L2_vals[0],'.',alpha=.005)\n",
    "# plt.title(labels[0])\n",
    "# plt.figure()\n",
    "# plt.loglog(L1_vals[1],L2_vals[1],'.',alpha=.005)\n",
    "# plt.title(labels[1])"
   ]
  },
  {
   "cell_type": "code",
   "execution_count": 11,
   "metadata": {
    "collapsed": false
   },
   "outputs": [],
   "source": [
    "# np.min(L1_vals[1])/(4.*np.pi*(np.max(dist_vals[1])*Mpc2m)**2)/1.e-29"
   ]
  },
  {
   "cell_type": "code",
   "execution_count": 12,
   "metadata": {
    "collapsed": false
   },
   "outputs": [
    {
     "name": "stdout",
     "output_type": "stream",
     "text": [
      "128033\n"
     ]
    }
   ],
   "source": [
    "mjy_min = .1\n",
    "print(np.sum(F1_vals[0]>mjy_min))\n",
    "g = [(F1_vals[j]>mjy_min)|(F2_vals[j]>mjy_min) for j in range(2)]\n",
    "\n",
    "cat1s = [cat_utils.Catalog(thx_vals[j][g[j]],thy_vals[j][g[j]],F1_vals[j][g[j]]) for j in range(2)]\n",
    "cat2s = [cat_utils.Catalog(thx_vals[j][g[j]],thy_vals[j][g[j]],F2_vals[j][g[j]]) for j in range(2)]"
   ]
  },
  {
   "cell_type": "code",
   "execution_count": 13,
   "metadata": {
    "collapsed": false
   },
   "outputs": [
    {
     "name": "stdout",
     "output_type": "stream",
     "text": [
      "0\n",
      "0.000203773833335\n",
      "-0.000402537294951\n",
      "1\n",
      "0.0807376303423\n",
      "0.0497266073791\n"
     ]
    }
   ],
   "source": [
    "for j in range(2):\n",
    "    print(j)\n",
    "    gg = g[j]\n",
    "    print np.mean((F1_vals[j]-np.mean(F1_vals[j]))*(F2_vals[j]-np.mean(F2_vals[j]))) / np.sqrt(np.mean((F1_vals[j]-np.mean(F1_vals[j]))**2)*np.mean((F2_vals[j]-np.mean(F2_vals[j]))**2))\n",
    "    print np.mean((F1_vals[j][gg]-np.mean(F1_vals[j][gg]))*(F2_vals[j][gg]-np.mean(F2_vals[j][gg]))) / np.sqrt(np.mean((F1_vals[j][gg]-np.mean(F1_vals[j][gg]))**2)*np.mean((F2_vals[j][gg]-np.mean(F2_vals[j][gg]))**2))"
   ]
  },
  {
   "cell_type": "code",
   "execution_count": 14,
   "metadata": {
    "collapsed": false
   },
   "outputs": [],
   "source": [
    "# np.mean(L1_vals[0]/dist_vals[0]**2)/1.e16"
   ]
  },
  {
   "cell_type": "code",
   "execution_count": 15,
   "metadata": {
    "collapsed": false
   },
   "outputs": [],
   "source": [
    "# np.mean(L1_vals[0])/np.mean(dist_vals[0]**2)/1.e16"
   ]
  },
  {
   "cell_type": "code",
   "execution_count": 16,
   "metadata": {
    "collapsed": false,
    "scrolled": true
   },
   "outputs": [],
   "source": [
    "# dtheta_deg = 5./60\n",
    "\n",
    "# cat1imgs = []\n",
    "# cat2imgs = []\n",
    "\n",
    "# for j in range(2):\n",
    "#     cat1img,counts = cat_utils.cat2img(cat1s[j],bound_cat=cat1s[j],dtheta_deg=dtheta_deg,verbose=True)\n",
    "#     cat2img,counts = cat_utils.cat2img(cat2s[j],bound_cat=cat1s[j],dtheta_deg=dtheta_deg,verbose=True)\n",
    "    \n",
    "#     cat1imgs.append(cat1img)\n",
    "#     cat2imgs.append(cat2img)"
   ]
  },
  {
   "cell_type": "code",
   "execution_count": 17,
   "metadata": {
    "collapsed": false
   },
   "outputs": [],
   "source": [
    "# lmin,lmax = 0,3000\n",
    "# nbins = 10\n",
    "# cols = ['r','b']\n",
    "\n",
    "# plt.figure(figsize=(16,4))\n",
    "\n",
    "# for j in range(2):\n",
    "    \n",
    "#     lbins,pspec1,pspec2,xspec,bin_counts = cat_utils.calc_xspec(cat1imgs[j],cat2imgs[j],dtheta_deg,nbins,lmin,lmax,\\\n",
    "#                                                                 hann=True,uselogbins=False)\n",
    "#     c = xspec/np.sqrt(pspec1*pspec2)\n",
    "#     dc = np.sqrt(.5*(1+c**2)/(bin_counts/4))\n",
    "#     print(np.mean(c))\n",
    "\n",
    "#     plt.subplot(131)\n",
    "#     plt.loglog(lbins,pspec1,cols[j]+'.')\n",
    "#     plt.ylim([1.e-7,1.e-5])\n",
    "\n",
    "#     plt.subplot(132)\n",
    "#     plt.loglog(lbins,pspec2,cols[j]+'.')\n",
    "#     plt.ylim([1.e-7,1.e-5])\n",
    "\n",
    "#     plt.subplot(133)\n",
    "#     plt.errorbar(lbins+10*j,c,yerr=dc,fmt='o',color=cols[j],label=labels[j])\n",
    "#     plt.gca().set_xscale('log')\n",
    "#     plt.ylim([-.5,.5])\n",
    "#     plt.xlim([80,1.e4])\n",
    "#     plt.semilogx([1.e2,1.e4],[0,0],'k-')\n",
    "#     if j == 1: plt.legend(fontsize=10)\n",
    "\n",
    "# plt.savefig('sim_realistic_radio_survey_agn_sf_>%1.2fmjy.pdf'%mjy_min,bbox_inches='tight')"
   ]
  },
  {
   "cell_type": "code",
   "execution_count": 18,
   "metadata": {
    "collapsed": false
   },
   "outputs": [],
   "source": [
    "# for j in range(2):\n",
    "#     print labels[j]+'\\t'+str(np.mean((cat1imgs[j]-np.mean(cat1imgs[j]))*(cat2imgs[j]-np.mean(cat2imgs[j])))/np.sqrt(np.var(cat1imgs[j])*np.var(cat2imgs[j])))"
   ]
  },
  {
   "cell_type": "code",
   "execution_count": null,
   "metadata": {
    "collapsed": true
   },
   "outputs": [],
   "source": []
  },
  {
   "cell_type": "code",
   "execution_count": 19,
   "metadata": {
    "collapsed": false
   },
   "outputs": [],
   "source": [
    "# plt.hist(dist_vals[1],50)\n",
    "# plt.plot(np.arange(3000),np.arange(3000)**2*.22,'r')"
   ]
  },
  {
   "cell_type": "code",
   "execution_count": 20,
   "metadata": {
    "collapsed": false
   },
   "outputs": [],
   "source": [
    "# plt.hist(dist_vals[1]**2,50)\n",
    "# plt.plot(np.arange(0,1.e7,1000),360*np.sqrt(np.arange(0,1.e7,1000)),'r')"
   ]
  },
  {
   "cell_type": "code",
   "execution_count": 21,
   "metadata": {
    "collapsed": false
   },
   "outputs": [],
   "source": [
    "# a=plt.hist(np.log10(1./dist_vals[1]**2),150)\n",
    "# plt.plot(np.linspace(-7.2,-5),1.e-4*(10.**np.linspace(-7.2,-5))**(-2.5+1),'r') # the +1 takes into account the changing bin size due to the log x-axis\n",
    "# plt.xlim([-7.2,-5])\n",
    "# plt.ylim([0,.04e8])"
   ]
  },
  {
   "cell_type": "code",
   "execution_count": 22,
   "metadata": {
    "collapsed": false
   },
   "outputs": [],
   "source": [
    "# plt.hist(dist_vals[1]**4,50)\n",
    "# plt.plot(np.linspace(1.e5,4.e13,100),.7e9*(np.linspace(1.e5,4.e13,100)**(-.25)),'r')\n",
    "# plt.ylim([0,1.e6])"
   ]
  },
  {
   "cell_type": "code",
   "execution_count": 34,
   "metadata": {
    "collapsed": true
   },
   "outputs": [],
   "source": [
    "alpha0,alpha1 = los_min_Mpc**2,los_max_Mpc**2\n",
    "num_alpha = 1600\n",
    "alpha_edges = 10.**np.linspace(np.log10(alpha0),np.log10(alpha1),num_alpha+1)\n",
    "dalpha = alpha_edges[1:]-alpha_edges[:-1]\n",
    "alpha = .5*(alpha_edges[1:]+alpha_edges[:-1])"
   ]
  },
  {
   "cell_type": "code",
   "execution_count": 35,
   "metadata": {
    "collapsed": false
   },
   "outputs": [],
   "source": [
    "numF = 100\n",
    "Fedges = 10.**np.linspace(-5.5,4,numF+1)\n",
    "dF = Fedges[1:]-Fedges[:-1]\n",
    "F = .5*(Fedges[1:]+Fedges[:-1])"
   ]
  },
  {
   "cell_type": "code",
   "execution_count": 25,
   "metadata": {
    "collapsed": false,
    "scrolled": false
   },
   "outputs": [
    {
     "name": "stderr",
     "output_type": "stream",
     "text": [
      "/home/ubuntu/anaconda2/lib/python2.7/site-packages/ipykernel/__main__.py:15: RuntimeWarning: divide by zero encountered in log10\n",
      "/home/ubuntu/anaconda2/lib/python2.7/site-packages/ipykernel/__main__.py:16: RuntimeWarning: divide by zero encountered in log10\n"
     ]
    },
    {
     "name": "stdout",
     "output_type": "stream",
     "text": [
      "[1.2717642006380685, 0.73660518612102954]\n",
      "[0.059932837344072502, 0.00025335069870768259]\n"
     ]
    },
    {
     "data": {
      "image/png": "[encoded data removed]",
      "text/plain": [
       "<matplotlib.figure.Figure at 0x7f4d6a643990>"
      ]
     },
     "metadata": {},
     "output_type": "display_data"
    }
   ],
   "source": [
    "offsets = [16.5,16.5]\n",
    "plt.figure(figsize=(12,5))\n",
    "rho_F = [np.zeros(numF),np.zeros(numF)]\n",
    "for j in range(2):\n",
    "    for i in range(numF):\n",
    "        for alphai in range(num_alpha):\n",
    "            L = 1.e-29*4*np.pi*F[i]*alpha[alphai]*Mpc2m**2\n",
    "            rho_F[j][i] += dalpha[alphai]*alpha[alphai]**1.5*rho_P[j](L)*dF[i]\n",
    "    \n",
    "    #rho_F1F2 = np.zeros(numF)\n",
    "    \n",
    "    plt.subplot(1,2,j+1)\n",
    "    hist,bin_edges = np.histogram(np.log10(F1_vals[j]),60)\n",
    "    bin_centers = .5*(bin_edges[1:]+bin_edges[:-1])\n",
    "    plt.plot(bin_centers,np.log10(hist),'b.-')\n",
    "    plt.plot(np.log10(F),np.log10(rho_F[j])+offsets[j],'r')\n",
    "    plt.xlim([-6,5])\n",
    "    \n",
    "    Fmean = np.sum(rho_F[j]*F)*(1.e-29*4*np.pi*Mpc2m**2)/np.sum(rho_F[j])/1.e16\n",
    "    Fmeansq = np.sum(rho_F[j]*F**2)*(1.e-29*4*np.pi*Mpc2m**2)**2/np.sum(rho_F[j])/1.e36\n",
    "    \n",
    "    print([Fmean,Fmeansq])\n",
    "    "
   ]
  },
  {
   "cell_type": "code",
   "execution_count": 26,
   "metadata": {
    "collapsed": false
   },
   "outputs": [
    {
     "name": "stdout",
     "output_type": "stream",
     "text": [
      "correlation for AGN is 0.0005, and the monte carlo gives 0.0003\n",
      "correlation for SF is 0.0694, and the monte carlo gives 0.0777\n"
     ]
    }
   ],
   "source": [
    "d0,d1 = los_min_Mpc,los_max_Mpc\n",
    "\n",
    "a = (d1**3-d0**3)/(3*d1*d0*(d1-d0))\n",
    "\n",
    "for j in range(2):\n",
    "    Lmean = np.sum(rho_P[j](P[j])*dP[j]*P[j])/np.sum(rho_P[j](P[j])*dP[j])\n",
    "    # np.mean(L1_vals[j]),Lmean\n",
    "    L2mean = np.sum(rho_P[j](P[j])*dP[j]*P[j]**2)/np.sum(rho_P[j](P[j])*dP[j])\n",
    "    # np.mean(L1_vals[j]**2),L2mean\n",
    "\n",
    "    c = (a-1)/(a*L2mean/Lmean**2-1)\n",
    "    \n",
    "    #c2 = np.mean((F1_vals[j]-np.mean(F1_vals[j]))*(F2_vals[j]-np.mean(F2_vals[j])))/np.var(F1_vals[j])\n",
    "    f1,f2 = F1_vals[j],F2_vals[j]\n",
    "    L1,L2 = L1_vals[j],L2_vals[j]\n",
    "    d = dist_vals[j]\n",
    "    \n",
    "    c2 = (mean(f1*f2)-mean(f1)**2)/(mean(f1**2)-mean(f1)**2)\n",
    "    #c2 = (mean(L1*L2)*mean(1./d**4)-mean(L1)**2*mean(1./d**2)**2)/(mean(L1**2)*mean(1./d**4)-mean(L1)**2*mean(1./d**2)**2)\n",
    "\n",
    "    print('correlation for %s is %1.4f, and the monte carlo gives %1.4f'%(labels[j],c,c2))"
   ]
  },
  {
   "cell_type": "code",
   "execution_count": 27,
   "metadata": {
    "collapsed": false
   },
   "outputs": [
    {
     "data": {
      "image/png": "[encoded data removed]",
      "text/plain": [
       "<matplotlib.figure.Figure at 0x7f4d6a675dd0>"
      ]
     },
     "metadata": {},
     "output_type": "display_data"
    },
    {
     "data": {
      "image/png": "[encoded data removed]",
      "text/plain": [
       "<matplotlib.figure.Figure at 0x7f4d6a67f550>"
      ]
     },
     "metadata": {},
     "output_type": "display_data"
    }
   ],
   "source": [
    "a=plt.hist(np.log10(L1_vals[0]/dist_vals[0]**2),250,histtype='step',color='blue')\n",
    "plt.gca().set_yscale('log')\n",
    "plt.xlim([12,20])\n",
    "plt.figure()\n",
    "a=plt.hist(np.log10(L1_vals[0]*L2_vals[0]/dist_vals[0]**4),150,histtype='step',color='blue')\n",
    "plt.gca().set_yscale('log')"
   ]
  },
  {
   "cell_type": "code",
   "execution_count": 28,
   "metadata": {
    "collapsed": false
   },
   "outputs": [
    {
     "data": {
      "image/png": "[encoded data removed]",
      "text/plain": [
       "<matplotlib.figure.Figure at 0x7f4d6a5f89d0>"
      ]
     },
     "metadata": {},
     "output_type": "display_data"
    }
   ],
   "source": [
    "a=plt.hist(np.log10(L1_vals[0]/dist_vals[0]**2*1.e29/(4.*np.pi*Mpc2m**2)),150,histtype='step',color='blue')\n",
    "a=plt.hist(np.log10(F1_vals[0]),150,histtype='step',color='red')\n",
    "plt.gca().set_yscale('log')"
   ]
  },
  {
   "cell_type": "code",
   "execution_count": 36,
   "metadata": {
    "collapsed": true
   },
   "outputs": [],
   "source": [
    "numy = 1600\n",
    "yedges = 10.**np.linspace(12,21,numy+1)\n",
    "dy = yedges[1:]-yedges[:-1]\n",
    "y = .5*(yedges[1:]+yedges[:-1])\n",
    "\n",
    "numz = 1600\n",
    "zedges = 10.**np.linspace(24,39,numz+1)\n",
    "dz = zedges[1:]-zedges[:-1]\n",
    "z = .5*(zedges[1:]+zedges[:-1])"
   ]
  },
  {
   "cell_type": "code",
   "execution_count": null,
   "metadata": {
    "collapsed": false
   },
   "outputs": [
    {
     "name": "stdout",
     "output_type": "stream",
     "text": [
      "0.0\n",
      "0.00625\n",
      "0.0125\n",
      "0.01875\n",
      "0.025\n",
      "0.03125\n",
      "0.0375\n",
      "0.04375\n",
      "0.05\n",
      "0.05625\n",
      "0.0625\n",
      "0.06875\n",
      "0.075\n",
      "0.08125\n",
      "0.0875\n",
      "0.09375\n",
      "0.1\n",
      "0.10625\n",
      "0.1125\n",
      "0.11875\n",
      "0.125\n",
      "0.13125\n",
      "0.1375\n",
      "0.14375\n",
      "0.15\n",
      "0.15625\n",
      "0.1625\n",
      "0.16875\n",
      "0.175\n",
      "0.18125\n",
      "0.1875\n",
      "0.19375\n",
      "0.2\n",
      "0.20625\n",
      "0.2125\n",
      "0.21875\n",
      "0.225\n",
      "0.23125\n",
      "0.2375\n",
      "0.24375\n",
      "0.25\n",
      "0.25625\n",
      "0.2625\n",
      "0.26875\n",
      "0.275\n"
     ]
    }
   ],
   "source": [
    "# calculate the correlations for the flux-limited case\n",
    "# z refers to L1*L2/d^4\n",
    "# y refers to L/d^2\n",
    "# alpha refers to d^2\n",
    "# beta refers to d^4\n",
    "\n",
    "# these are the values if sources above flux F are neglected (eg, masked in an image analysis)\n",
    "ymean = np.zeros((2,numF))\n",
    "y2mean = np.zeros((2,numF))\n",
    "zmean = np.zeros((2,numF))\n",
    "y_to_mJy = 1.e29/(4*np.pi*Mpc2m**2)\n",
    "\n",
    "for j in range(2):\n",
    "    norm1 = np.zeros(numF)\n",
    "    norm2 = np.zeros(numF)\n",
    "\n",
    "    for ai in range(num_alpha):\n",
    "        if ai % 10 == 0: print(1.*ai/num_alpha)\n",
    "        \n",
    "        for yi in range(numy):\n",
    "            flux_bin_mask = F > y[yi]*y_to_mJy\n",
    "            differential = dy[yi]*alpha[ai]**1.5*rho_P[j](y[yi]*alpha[ai])*dalpha[ai]\n",
    "            ymean[j,flux_bin_mask] += y[yi]*differential\n",
    "            y2mean[j,flux_bin_mask] += y[yi]**2*differential\n",
    "            norm1[flux_bin_mask] += differential\n",
    "\n",
    "        for zi in range(numz):\n",
    "            for Li in range(numPbins[j]):\n",
    "                flux_bin_mask = (F > P[j][Li]/alpha[ai]*y_to_mJy)&(F > z[zi]*alpha[ai]/P[j][Li]*y_to_mJy)\n",
    "                differential = dalpha[ai]*dz[zi]*alpha[ai]**2.5*rho_P[j](P[j][Li])*rho_P[j](z[zi]*alpha[ai]**2/P[j][Li])*dP[j][Li]/P[j][Li]\n",
    "                zmean[j,flux_bin_mask] += z[zi]*differential\n",
    "                norm2[flux_bin_mask] += differential \n",
    "        \n",
    "    ymean[j,:] /= norm1\n",
    "    y2mean[j,:] /= norm1\n",
    "    zmean[j,:] /= norm2\n",
    "\n",
    "#    print([ymean[j]/1.e16,y2mean[j]/1.e36,zmean[j]/1.e33])"
   ]
  },
  {
   "cell_type": "code",
   "execution_count": null,
   "metadata": {
    "collapsed": true
   },
   "outputs": [],
   "source": [
    "import pickle\n",
    "pickle.dump([ymean,y2mean,zmean,{'num_alpha':num_alpha,'numy':numy,'numz':numz,'num_F':num_F}], open(\"/home/ubuntu/21cmIRxcor/fg_xcor/ymean_y2mean_zmean_for_agn_and_sf.p\", \"wb\" ) )"
   ]
  },
  {
   "cell_type": "code",
   "execution_count": null,
   "metadata": {
    "collapsed": false
   },
   "outputs": [],
   "source": [
    "plt.semilogx(F,zmean[1,:],'.-')\n",
    "plt.semilogx(F,ymean[1,:]**2,'.-')\n",
    "#plt.xlim([.005,.04])\n",
    "plt.ylim([0.e28,4.e28])\n",
    "plt.xlim([.001,.02])"
   ]
  },
  {
   "cell_type": "code",
   "execution_count": null,
   "metadata": {
    "collapsed": false
   },
   "outputs": [],
   "source": [
    "j=1\n",
    "plt.semilogx(F,(zmean[j,:]-ymean[j,:]**2),'.-')\n",
    "plt.ylim([-.1e28,.2e28])\n",
    "plt.xlim([.001,.02])"
   ]
  },
  {
   "cell_type": "code",
   "execution_count": null,
   "metadata": {
    "collapsed": false
   },
   "outputs": [],
   "source": [
    "cols = ['r','b']\n",
    "matplotlib.rcParams.update({'font.size': 16})\n",
    "for j in range(2):\n",
    "    c = (zmean[j,:]-ymean[j,:]**2)/(y2mean[j,:]-ymean[j,:]**2)\n",
    "    plt.semilogx(F,c,cols[j]+'.-',label=labels[j])\n",
    "\n",
    "plt.xlabel('source mask depth (mJy)')\n",
    "plt.ylabel('c')\n",
    "plt.legend(fontsize=12)\n",
    "plt.ylim([-.1,.15])\n",
    "# plt.xlim([.005,.011])\n",
    "plt.title('nalpha=%d, numz=%d, numy=%d'%(num_alpha,numz,numy))"
   ]
  },
  {
   "cell_type": "code",
   "execution_count": 33,
   "metadata": {
    "collapsed": false
   },
   "outputs": [],
   "source": [
    "# num sources below mask\n",
    "\n",
    "# I'm being lazy here counting the sources below each F instead of looking at rho_F which I calculated above\n",
    "num_sources_below_F = [np.array([np.sum(F1_vals[j]<F[i])/len(F1_vals) for i in range(numF)]) for j in range(2)]"
   ]
  },
  {
   "cell_type": "code",
   "execution_count": 34,
   "metadata": {
    "collapsed": false
   },
   "outputs": [
    {
     "data": {
      "text/plain": [
       "(10000.0, 20000000.0)"
      ]
     },
     "execution_count": 34,
     "metadata": {},
     "output_type": "execute_result"
    },
    {
     "data": {
      "image/png": "[encoded data removed]",
      "text/plain": [
       "<matplotlib.figure.Figure at 0x7fdf58e27090>"
      ]
     },
     "metadata": {},
     "output_type": "display_data"
    }
   ],
   "source": [
    "for j in range(2):\n",
    "    plt.loglog(F,num_sources_below_F[j],cols[j],label=labels[j])\n",
    "    \n",
    "plt.ylim([1.e4,2.e7])"
   ]
  },
  {
   "cell_type": "code",
   "execution_count": 35,
   "metadata": {
    "collapsed": false
   },
   "outputs": [
    {
     "name": "stdout",
     "output_type": "stream",
     "text": [
      "1.567662e+14, 7.034090e+28, 2.758288e+28\n",
      "0.0657102285323\n",
      "1.370670e+14, 6.803885e+28, 1.975147e+28\n",
      "0.0195750019313\n"
     ]
    }
   ],
   "source": [
    "\n",
    "F0 = 1.e-2\n",
    "for j in range(2):\n",
    "    f1,f2 = F1_vals[j],F2_vals[j]\n",
    "    g = (f1<F0)&(f2<F0)\n",
    "    f1,f2 = f1[g],f2[g]\n",
    "    \n",
    "    print(\"%e, %e, %e\"%(np.mean(f1)/y_to_mJy,np.mean(f1**2)/y_to_mJy**2,np.mean(f1*f2)/y_to_mJy**2))\n",
    "    \n",
    "    c = (mean(f1*f2)-mean(f1)**2)/(mean(f1**2)-mean(f1)**2)\n",
    "    \n",
    "    print(c)"
   ]
  },
  {
   "cell_type": "code",
   "execution_count": 36,
   "metadata": {
    "collapsed": false
   },
   "outputs": [
    {
     "name": "stdout",
     "output_type": "stream",
     "text": [
      "2.004413e+14, 1.068823e+29, 2.906741e+28\n"
     ]
    },
    {
     "data": {
      "text/plain": [
       "-0.16654264225062443"
      ]
     },
     "execution_count": 36,
     "metadata": {},
     "output_type": "execute_result"
    }
   ],
   "source": [
    "Fi = int(148./4)\n",
    "j = 1\n",
    "print(\"%e, %e, %e\"%(ymean[j,Fi],y2mean[j,Fi],zmean[j,Fi]))\n",
    "(zmean[j,Fi]-ymean[j,Fi]**2)/(y2mean[j,Fi]-ymean[j,Fi]**2)"
   ]
  },
  {
   "cell_type": "code",
   "execution_count": 37,
   "metadata": {
    "collapsed": false,
    "scrolled": true
   },
   "outputs": [
    {
     "data": {
      "text/plain": [
       "(3.5, 6.5)"
      ]
     },
     "execution_count": 37,
     "metadata": {},
     "output_type": "execute_result"
    },
    {
     "data": {
      "image/png": "[encoded data removed]",
      "text/plain": [
       "<matplotlib.figure.Figure at 0x7fdf58cc7fd0>"
      ]
     },
     "metadata": {},
     "output_type": "display_data"
    }
   ],
   "source": [
    "j=1\n",
    "g = (F1_vals[j]<F0)&(F2_vals[j]<F0)\n",
    "hist,bin_edges = np.histogram(np.log10(F1_vals[j][g]/y_to_mJy),60)\n",
    "bin_centers = .5*(bin_edges[1:]+bin_edges[:-1])\n",
    "plt.plot(bin_centers,np.log10(hist),'b.-')\n",
    "\n",
    "g = (F1_vals[j]<F0)\n",
    "hist,bin_edges = np.histogram(np.log10(F1_vals[j][g]/y_to_mJy),60)\n",
    "bin_centers = .5*(bin_edges[1:]+bin_edges[:-1])\n",
    "plt.plot(bin_centers,np.log10(hist),'r.-')\n",
    "\n",
    "# plt.plot(np.log10(F),np.log10(rho_F)+offsets[j],'r')\n",
    "# plt.xlim([-6,5])\n",
    "plt.xlim([11,15])\n",
    "plt.ylim([3.5,6.5])"
   ]
  },
  {
   "cell_type": "code",
   "execution_count": null,
   "metadata": {
    "collapsed": false
   },
   "outputs": [],
   "source": [
    "j = 1\n",
    "y_to_mJy = 1.e29/(4*np.pi*Mpc2m**2)\n",
    "rho_y = np.zeros(numF)\n",
    "b = np.zeros(numF)\n",
    "for yi in range(numy):\n",
    "    for ai in range(num_alpha):\n",
    "        rho_y[yi] += dy[yi]*alpha[ai]**1.5*rho_P[j](y[yi]*alpha[ai])*dalpha[ai]\n",
    "        \n",
    "        L = 1.e-29*4*np.pi*F[yi]*alpha[ai]*Mpc2m**2\n",
    "        b[yi] += dF[yi]*alpha[ai]**1.5*rho_P[j](L)*dalpha[ai]\n",
    "        \n",
    "        if ai<5:\n",
    "            print([y[yi],1.e-29*4*np.pi*F[yi]*Mpc2m**2])\n"
   ]
  },
  {
   "cell_type": "code",
   "execution_count": null,
   "metadata": {
    "collapsed": false
   },
   "outputs": [],
   "source": [
    "plt.semilogy(np.log10(y),rho_y*1e-17,'k')\n",
    "\n",
    "plt.semilogy(np.log10(F/y_to_mJy),b,'r--')\n",
    "\n",
    "\n",
    "#plt.plot(bin_centers,np.log10(hist),'b.-')\n",
    "\n",
    "#plt.xlim([1.e11,1.e15])\n",
    "#plt.ylim([1.e5,1.e8])\n",
    "# plt.ylim([.1,10])\n",
    "# plt.xlim([12,16])"
   ]
  },
  {
   "cell_type": "code",
   "execution_count": null,
   "metadata": {
    "collapsed": true
   },
   "outputs": [],
   "source": []
  },
  {
   "cell_type": "code",
   "execution_count": null,
   "metadata": {
    "collapsed": true
   },
   "outputs": [],
   "source": []
  },
  {
   "cell_type": "code",
   "execution_count": null,
   "metadata": {
    "collapsed": true
   },
   "outputs": [],
   "source": []
  },
  {
   "cell_type": "code",
   "execution_count": null,
   "metadata": {
    "collapsed": true
   },
   "outputs": [],
   "source": []
  },
  {
   "cell_type": "code",
   "execution_count": 40,
   "metadata": {
    "collapsed": false,
    "scrolled": false
   },
   "outputs": [
    {
     "name": "stdout",
     "output_type": "stream",
     "text": [
      "[1.2556660896800835, 1.0444331092420798, 2.3038294341944781]\n",
      "[1.3878731337972114, 6.8354734027992992]\n",
      "\n",
      "[0.058541115805731736, 0.00012334323574006526, 0.011262998376811179]\n",
      "[0.058245838166190438, 9.248768412260302e-05]\n",
      "\n"
     ]
    }
   ],
   "source": [
    "for j in range(2):\n",
    "    print([np.mean(L1_vals[j]/dist_vals[j]**2)/1.e16, np.mean((L1_vals[j]/dist_vals[j]**2)**2)/1.e36, np.mean(L1_vals[j]*L2_vals[j]/dist_vals[j]**4)/1.e33])\n",
    "    print([np.mean(L2_vals[j]/dist_vals[j]**2)/1.e16, np.mean((L2_vals[j]/dist_vals[j]**2)**2)/1.e36])\n",
    "    print"
   ]
  },
  {
   "cell_type": "code",
   "execution_count": null,
   "metadata": {
    "collapsed": true
   },
   "outputs": [],
   "source": []
  },
  {
   "cell_type": "code",
   "execution_count": null,
   "metadata": {
    "collapsed": true
   },
   "outputs": [],
   "source": []
  },
  {
   "cell_type": "code",
   "execution_count": null,
   "metadata": {
    "collapsed": true
   },
   "outputs": [],
   "source": []
  }
 ],
 "metadata": {
  "kernelspec": {
   "display_name": "Python 2",
   "language": "python",
   "name": "python2"
  },
  "language_info": {
   "codemirror_mode": {
    "name": "ipython",
    "version": 2
   },
   "file_extension": ".py",
   "mimetype": "text/x-python",
   "name": "python",
   "nbconvert_exporter": "python",
   "pygments_lexer": "ipython2",
   "version": "2.7.11"
  }
 },
 "nbformat": 4,
 "nbformat_minor": 1
}
