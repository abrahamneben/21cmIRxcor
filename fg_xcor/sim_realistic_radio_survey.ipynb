{
 "cells": [
  {
   "cell_type": "code",
   "execution_count": 1,
   "metadata": {
    "collapsed": true
   },
   "outputs": [],
   "source": [
    "# simulate a flux limited, and non-flux limited radio and IR survey\n",
    "# from luminosity functions"
   ]
  },
  {
   "cell_type": "code",
   "execution_count": 2,
   "metadata": {
    "collapsed": false
   },
   "outputs": [],
   "source": [
    "import numpy as np\n",
    "import matplotlib\n",
    "%matplotlib inline\n",
    "import matplotlib.pyplot as plt\n",
    "\n",
    "from numpy import mean,sqrt"
   ]
  },
  {
   "cell_type": "code",
   "execution_count": 3,
   "metadata": {
    "collapsed": false
   },
   "outputs": [
    {
     "data": {
      "text/plain": [
       "<module 'cat_utils' from '/home/ubuntu/21cmIRxcor/cat_utils.pyc'>"
      ]
     },
     "execution_count": 3,
     "metadata": {},
     "output_type": "execute_result"
    }
   ],
   "source": [
    "import sys # needed to import cat_utils\n",
    "#sys.path.insert(0, '/Users/abrahamn/21cmIR/21cmIRxcor/')\n",
    "sys.path.insert(0,'/home/ubuntu/21cmIRxcor')\n",
    "\n",
    "import imp\n",
    "import cat_utils\n",
    "imp.reload(cat_utils)"
   ]
  },
  {
   "cell_type": "code",
   "execution_count": 4,
   "metadata": {
    "collapsed": false,
    "scrolled": true
   },
   "outputs": [],
   "source": [
    "# luminosity function of star forming galaxies at 1.4GHz\n",
    "# Sec. 5.3 in Mauch & Sadler 2006, https://arxiv.org/abs/astro-ph/0612018v1\n",
    "\n",
    "C_sf = 10.**(-2.83) # 1/(mag*Mpc^3)\n",
    "Pstar_sf = 10.**(21.18) # W/Hz\n",
    "alpha_sf = 1.02\n",
    "sigma_sf = 0.6\n",
    "\n",
    "numPbins_sf = 100\n",
    "Pmin_sf,Pmax_sf = 1.e19,1.e24\n",
    "Pedges_sf = 10.**np.linspace(np.log10(Pmin_sf),np.log10(Pmax_sf),numPbins_sf+1)\n",
    "dP_sf = (Pedges_sf[1:]-Pedges_sf[:-1])\n",
    "P_sf = .5*(Pedges_sf[1:]+Pedges_sf[:-1])\n",
    "\n",
    "# rho_mag(mag) dmag = rho_L(L) dL  ==> rho_L(L) = rho_mag(mag(L)) dmag/dL = rho_mag(mag(L)) 2.5/L\n",
    "# the above factor of 2.5/L is thus the factor needed to convert the magnitude luminosity functs in eqns. 5 and 6 in\n",
    "# the above cited paper into power luminosity functions\n",
    "def rho_P_sf(P):\n",
    "    return (2.5/P)*C_sf*(P/Pstar_sf)**(1-alpha_sf)*np.exp(-.5*(np.log10(1+P/Pstar_sf)/sigma_sf)**2)*(Pmin_sf<P)*(P<Pmax_sf)"
   ]
  },
  {
   "cell_type": "code",
   "execution_count": 5,
   "metadata": {
    "collapsed": false
   },
   "outputs": [
    {
     "data": {
      "text/plain": [
       "(1e+19, 1e+28)"
      ]
     },
     "execution_count": 5,
     "metadata": {},
     "output_type": "execute_result"
    },
    {
     "data": {
      "image/png": "[encoded data removed]",
      "text/plain": [
       "<matplotlib.figure.Figure at 0x7f501b435850>"
      ]
     },
     "metadata": {},
     "output_type": "display_data"
    }
   ],
   "source": [
    "# luminosity function of AGN at 1.4GHz\n",
    "# Sec. 5.3 in Mauch & Sadler 2006, https://arxiv.org/abs/astro-ph/0612018v1\n",
    "\n",
    "C_agn = 10.**(-5.5) # 1/(mag*Mpc^3)\n",
    "Pstar_agn = 10.**(24.59) # W/Hz\n",
    "alpha_agn = 1.27\n",
    "beta_agn = 0.49\n",
    "\n",
    "\n",
    "numPbins_agn = 100\n",
    "Pmin_agn,Pmax_agn = 1.e20,1.e27\n",
    "Pedges_agn = 10.**np.linspace(np.log10(Pmin_agn),np.log10(Pmax_agn),numPbins_agn+1)\n",
    "dP_agn = (Pedges_agn[1:]-Pedges_agn[:-1])\n",
    "P_agn = .5*(Pedges_agn[1:]+Pedges_agn[:-1])\n",
    "\n",
    "def rho_P_agn(P):\n",
    "    return (2.5/P)*C_agn/((P/Pstar_agn)**alpha_agn+(P/Pstar_agn)**beta_agn)*(Pmin_agn<P)*(P<Pmax_agn)\n",
    "\n",
    "plt.loglog(P_agn,rho_P_sf(P_agn)*dP_agn,'b.-',label='agn')\n",
    "plt.loglog(P_sf,rho_P_agn(P_sf)*dP_sf,'r.-',label='sf')\n",
    "plt.legend()\n",
    "plt.xlim([1.e19,1.e28])\n",
    "#plt.ylim([1.e-9,1.e-2])"
   ]
  },
  {
   "cell_type": "code",
   "execution_count": 6,
   "metadata": {
    "collapsed": false
   },
   "outputs": [],
   "source": [
    "# let's try to simulate an image of SF and AGN\n",
    "# want 20deg wide, let's simulate out to z=.5\n",
    "# let's ignore K corrections for now\n",
    "# let's ignore the expansion of the universe\n",
    "\n",
    "zmax = .7\n",
    "c_over_H0 = 4283. # Mpc\n",
    "los_min_Mpc,los_max_Mpc = 20.,c_over_H0*zmax\n",
    "Mpc2m = 1.e6*3.e16\n",
    "\n",
    "fov_deg = 20.\n",
    "fov_rad = fov_deg*np.pi/180\n",
    "trans_Mpc = 1.*fov_rad*los_max_Mpc"
   ]
  },
  {
   "cell_type": "code",
   "execution_count": 7,
   "metadata": {
    "collapsed": false,
    "scrolled": false
   },
   "outputs": [
    {
     "name": "stdout",
     "output_type": "stream",
     "text": [
      "706406 objects in L=1.087449e+20 bin with flux 0.000390 +/- 0.005716 mJy, 0 with flux greater than 10mJy\n",
      "653511 objects in L=1.277641e+20 bin with flux 0.000459 +/- 0.008629 mJy, 1 with flux greater than 10mJy\n",
      "602125 objects in L=1.501097e+20 bin with flux 0.000539 +/- 0.009172 mJy, 0 with flux greater than 10mJy\n",
      "557278 objects in L=1.763635e+20 bin with flux 0.000632 +/- 0.009334 mJy, 0 with flux greater than 10mJy\n",
      "515290 objects in L=2.072091e+20 bin with flux 0.000743 +/- 0.012833 mJy, 1 with flux greater than 10mJy\n",
      "474827 objects in L=2.434495e+20 bin with flux 0.000872 +/- 0.014073 mJy, 0 with flux greater than 10mJy\n",
      "440115 objects in L=2.860282e+20 bin with flux 0.001031 +/- 0.019010 mJy, 0 with flux greater than 10mJy\n",
      "405346 objects in L=3.360538e+20 bin with flux 0.001206 +/- 0.015952 mJy, 0 with flux greater than 10mJy\n",
      "375642 objects in L=3.948288e+20 bin with flux 0.001414 +/- 0.024326 mJy, 0 with flux greater than 10mJy\n",
      "346147 objects in L=4.638834e+20 bin with flux 0.001664 +/- 0.026282 mJy, 0 with flux greater than 10mJy\n",
      "320427 objects in L=5.450154e+20 bin with flux 0.001958 +/- 0.030671 mJy, 1 with flux greater than 10mJy\n",
      "294914 objects in L=6.403373e+20 bin with flux 0.002300 +/- 0.035391 mJy, 1 with flux greater than 10mJy\n",
      "274860 objects in L=7.523307e+20 bin with flux 0.002704 +/- 0.042225 mJy, 2 with flux greater than 10mJy\n",
      "252711 objects in L=8.839116e+20 bin with flux 0.003164 +/- 0.045785 mJy, 0 with flux greater than 10mJy\n",
      "233640 objects in L=1.038506e+21 bin with flux 0.003719 +/- 0.055286 mJy, 2 with flux greater than 10mJy\n",
      "214969 objects in L=1.220138e+21 bin with flux 0.004363 +/- 0.075464 mJy, 2 with flux greater than 10mJy\n",
      "198780 objects in L=1.433537e+21 bin with flux 0.005170 +/- 0.086327 mJy, 2 with flux greater than 10mJy\n",
      "184852 objects in L=1.684259e+21 bin with flux 0.006053 +/- 0.118390 mJy, 4 with flux greater than 10mJy\n",
      "170282 objects in L=1.978831e+21 bin with flux 0.007098 +/- 0.117415 mJy, 2 with flux greater than 10mJy\n",
      "156735 objects in L=2.324924e+21 bin with flux 0.008343 +/- 0.118743 mJy, 4 with flux greater than 10mJy\n",
      "144266 objects in L=2.731548e+21 bin with flux 0.009786 +/- 0.134236 mJy, 1 with flux greater than 10mJy\n",
      "133741 objects in L=3.209289e+21 bin with flux 0.011596 +/- 0.174735 mJy, 8 with flux greater than 10mJy\n",
      "123885 objects in L=3.770586e+21 bin with flux 0.013611 +/- 0.249094 mJy, 2 with flux greater than 10mJy\n",
      "114344 objects in L=4.430052e+21 bin with flux 0.015871 +/- 0.230203 mJy, 5 with flux greater than 10mJy\n",
      "105949 objects in L=5.204857e+21 bin with flux 0.018746 +/- 0.249492 mJy, 3 with flux greater than 10mJy\n",
      "97116 objects in L=6.115174e+21 bin with flux 0.021974 +/- 0.430975 mJy, 3 with flux greater than 10mJy\n",
      "89822 objects in L=7.184703e+21 bin with flux 0.025848 +/- 0.442218 mJy, 6 with flux greater than 10mJy\n",
      "82932 objects in L=8.441290e+21 bin with flux 0.030831 +/- 0.466623 mJy, 11 with flux greater than 10mJy\n",
      "76568 objects in L=9.917651e+21 bin with flux 0.035848 +/- 0.713462 mJy, 3 with flux greater than 10mJy\n",
      "70327 objects in L=1.165222e+22 bin with flux 0.042251 +/- 0.475709 mJy, 11 with flux greater than 10mJy\n",
      "65502 objects in L=1.369017e+22 bin with flux 0.048667 +/- 0.951499 mJy, 20 with flux greater than 10mJy\n",
      "60326 objects in L=1.608455e+22 bin with flux 0.058405 +/- 0.861895 mJy, 13 with flux greater than 10mJy\n",
      "55284 objects in L=1.889769e+22 bin with flux 0.067617 +/- 1.182198 mJy, 20 with flux greater than 10mJy\n",
      "51152 objects in L=2.220285e+22 bin with flux 0.079502 +/- 1.196551 mJy, 20 with flux greater than 10mJy\n",
      "47188 objects in L=2.608608e+22 bin with flux 0.093308 +/- 1.406432 mJy, 18 with flux greater than 10mJy\n",
      "44031 objects in L=3.064847e+22 bin with flux 0.109413 +/- 1.600726 mJy, 25 with flux greater than 10mJy\n",
      "40205 objects in L=3.600881e+22 bin with flux 0.130546 +/- 2.150481 mJy, 30 with flux greater than 10mJy\n",
      "36828 objects in L=4.230667e+22 bin with flux 0.154337 +/- 2.051523 mJy, 34 with flux greater than 10mJy\n",
      "33927 objects in L=4.970600e+22 bin with flux 0.178102 +/- 2.197159 mJy, 45 with flux greater than 10mJy\n",
      "31088 objects in L=5.839946e+22 bin with flux 0.209424 +/- 3.510994 mJy, 52 with flux greater than 10mJy\n",
      "28859 objects in L=6.861338e+22 bin with flux 0.247738 +/- 3.218343 mJy, 61 with flux greater than 10mJy\n",
      "26360 objects in L=8.061369e+22 bin with flux 0.285653 +/- 3.882780 mJy, 66 with flux greater than 10mJy\n",
      "24407 objects in L=9.471283e+22 bin with flux 0.340142 +/- 4.412305 mJy, 58 with flux greater than 10mJy\n",
      "22056 objects in L=1.112779e+23 bin with flux 0.399065 +/- 5.205268 mJy, 89 with flux greater than 10mJy\n",
      "20331 objects in L=1.307401e+23 bin with flux 0.470912 +/- 9.057413 mJy, 117 with flux greater than 10mJy\n",
      "18634 objects in L=1.536062e+23 bin with flux 0.545237 +/- 9.004957 mJy, 127 with flux greater than 10mJy\n",
      "16896 objects in L=1.804716e+23 bin with flux 0.646502 +/- 17.078175 mJy, 135 with flux greater than 10mJy\n",
      "15564 objects in L=2.120356e+23 bin with flux 0.747227 +/- 11.038853 mJy, 173 with flux greater than 10mJy\n",
      "14424 objects in L=2.491201e+23 bin with flux 0.872914 +/- 17.141380 mJy, 213 with flux greater than 10mJy\n",
      "13137 objects in L=2.926906e+23 bin with flux 1.029763 +/- 16.325585 mJy, 228 with flux greater than 10mJy\n",
      "11663 objects in L=3.438815e+23 bin with flux 1.228188 +/- 19.942637 mJy, 262 with flux greater than 10mJy\n",
      "10756 objects in L=4.040255e+23 bin with flux 1.448289 +/- 20.259754 mJy, 307 with flux greater than 10mJy\n",
      "9736 objects in L=4.746886e+23 bin with flux 1.726125 +/- 18.790144 mJy, 388 with flux greater than 10mJy\n",
      "8659 objects in L=5.577105e+23 bin with flux 2.077303 +/- 28.300560 mJy, 395 with flux greater than 10mJy\n",
      "7984 objects in L=6.552527e+23 bin with flux 2.394462 +/- 24.962809 mJy, 482 with flux greater than 10mJy\n",
      "7078 objects in L=7.698548e+23 bin with flux 2.783167 +/- 25.506643 mJy, 546 with flux greater than 10mJy\n",
      "6555 objects in L=9.045005e+23 bin with flux 3.206064 +/- 32.113776 mJy, 667 with flux greater than 10mJy\n",
      "5725 objects in L=1.062695e+24 bin with flux 3.632106 +/- 36.926466 mJy, 699 with flux greater than 10mJy\n",
      "5044 objects in L=1.248558e+24 bin with flux 4.391840 +/- 60.254722 mJy, 861 with flux greater than 10mJy\n",
      "4475 objects in L=1.466928e+24 bin with flux 5.351935 +/- 85.929979 mJy, 930 with flux greater than 10mJy\n",
      "4041 objects in L=1.723490e+24 bin with flux 6.552715 +/- 71.495474 mJy, 1028 with flux greater than 10mJy\n",
      "3557 objects in L=2.024924e+24 bin with flux 7.204340 +/- 109.988860 mJy, 1157 with flux greater than 10mJy\n",
      "3229 objects in L=2.379079e+24 bin with flux 8.915084 +/- 135.864922 mJy, 1082 with flux greater than 10mJy\n",
      "2771 objects in L=2.795174e+24 bin with flux 10.312493 +/- 261.876133 mJy, 951 with flux greater than 10mJy\n",
      "2456 objects in L=3.284043e+24 bin with flux 12.137516 +/- 155.351643 mJy, 839 with flux greater than 10mJy\n",
      "2050 objects in L=3.858414e+24 bin with flux 13.550481 +/- 216.376129 mJy, 673 with flux greater than 10mJy\n",
      "1759 objects in L=4.533241e+24 bin with flux 15.031454 +/- 138.103402 mJy, 616 with flux greater than 10mJy\n",
      "1552 objects in L=5.326094e+24 bin with flux 17.998844 +/- 163.225226 mJy, 514 with flux greater than 10mJy\n",
      "1270 objects in L=6.257615e+24 bin with flux 22.543542 +/- 203.788490 mJy, 441 with flux greater than 10mJy\n",
      "1163 objects in L=7.352056e+24 bin with flux 26.921197 +/- 255.443552 mJy, 381 with flux greater than 10mJy\n",
      "992 objects in L=8.637913e+24 bin with flux 26.626383 +/- 288.636092 mJy, 364 with flux greater than 10mJy\n",
      "815 objects in L=1.014866e+25 bin with flux 34.158112 +/- 430.392039 mJy, 283 with flux greater than 10mJy\n",
      "716 objects in L=1.192364e+25 bin with flux 46.097943 +/- 436.071465 mJy, 245 with flux greater than 10mJy\n",
      "568 objects in L=1.400905e+25 bin with flux 52.642386 +/- 1644.830585 mJy, 193 with flux greater than 10mJy\n",
      "492 objects in L=1.645920e+25 bin with flux 57.344569 +/- 553.606917 mJy, 181 with flux greater than 10mJy\n",
      "416 objects in L=1.933788e+25 bin with flux 61.600422 +/- 872.905282 mJy, 152 with flux greater than 10mJy\n",
      "344 objects in L=2.272003e+25 bin with flux 82.867277 +/- 1133.361943 mJy, 116 with flux greater than 10mJy\n",
      "299 objects in L=2.669370e+25 bin with flux 102.447392 +/- 545.085562 mJy, 94 with flux greater than 10mJy\n",
      "230 objects in L=3.136237e+25 bin with flux 111.324512 +/- 1427.508756 mJy, 79 with flux greater than 10mJy\n",
      "199 objects in L=3.684757e+25 bin with flux 136.477022 +/- 1211.128797 mJy, 74 with flux greater than 10mJy\n",
      "185 objects in L=4.329212e+25 bin with flux 160.896224 +/- 1338.239170 mJy, 59 with flux greater than 10mJy\n",
      "126 objects in L=5.086380e+25 bin with flux 196.259850 +/- 4322.698016 mJy, 50 with flux greater than 10mJy\n",
      "113 objects in L=5.975976e+25 bin with flux 259.452067 +/- 8110.387582 mJy, 36 with flux greater than 10mJy\n",
      "82 objects in L=7.021159e+25 bin with flux 228.377034 +/- 1152.258850 mJy, 25 with flux greater than 10mJy\n",
      "73 objects in L=8.249143e+25 bin with flux 249.592688 +/- 1782.507180 mJy, 24 with flux greater than 10mJy\n",
      "58 objects in L=9.691897e+25 bin with flux 292.005876 +/- 2553.524467 mJy, 16 with flux greater than 10mJy\n",
      "53 objects in L=1.138699e+26 bin with flux 261.990636 +/- 1986.981783 mJy, 16 with flux greater than 10mJy\n",
      "32 objects in L=1.337854e+26 bin with flux 569.543416 +/- 3999.893018 mJy, 8 with flux greater than 10mJy\n",
      "29 objects in L=1.571842e+26 bin with flux 942.017885 +/- 4532.941650 mJy, 7 with flux greater than 10mJy\n",
      "32 objects in L=1.846753e+26 bin with flux 979.826476 +/- 2006.073086 mJy, 11 with flux greater than 10mJy\n",
      "30 objects in L=2.169746e+26 bin with flux 620.793853 +/- 1025.576504 mJy, 14 with flux greater than 10mJy\n",
      "19 objects in L=2.549229e+26 bin with flux 2446.035407 +/- 5242.435660 mJy, 5 with flux greater than 10mJy\n",
      "17 objects in L=2.995083e+26 bin with flux 1501.348817 +/- 5610.555794 mJy, 7 with flux greater than 10mJy\n",
      "8 objects in L=3.518915e+26 bin with flux 716.823304 +/- 3973.437598 mJy, 3 with flux greater than 10mJy\n",
      "7 objects in L=4.134365e+26 bin with flux 549.277074 +/- 3280.492061 mJy, 4 with flux greater than 10mJy\n",
      "7 objects in L=4.857455e+26 bin with flux 4231.209003 +/- 14128.093624 mJy, 2 with flux greater than 10mJy\n",
      "5 objects in L=5.707012e+26 bin with flux 1206.607079 +/- 1068.956047 mJy, 3 with flux greater than 10mJy\n",
      "5 objects in L=6.705155e+26 bin with flux 7835.057578 +/- 22560.183368 mJy, 0 with flux greater than 10mJy\n",
      "4 objects in L=7.877870e+26 bin with flux 3183.939785 +/- 1519.728398 mJy, 1 with flux greater than 10mJy\n",
      "6 objects in L=9.255690e+26 bin with flux 4803.764291 +/- 6486.115259 mJy, 4 with flux greater than 10mJy\n",
      "using 3149382 sources\n",
      "1531509 objects in L=1.061009e+19 bin with flux 0.000038 +/- 0.000596 mJy, 0 with flux greater than 10mJy\n",
      "1526548 objects in L=1.190472e+19 bin with flux 0.000043 +/- 0.000700 mJy, 0 with flux greater than 10mJy\n",
      "1525234 objects in L=1.335731e+19 bin with flux 0.000048 +/- 0.000741 mJy, 0 with flux greater than 10mJy\n",
      "1519648 objects in L=1.498715e+19 bin with flux 0.000054 +/- 0.000881 mJy, 0 with flux greater than 10mJy\n",
      "1516568 objects in L=1.681586e+19 bin with flux 0.000060 +/- 0.000960 mJy, 0 with flux greater than 10mJy\n",
      "1514776 objects in L=1.886771e+19 bin with flux 0.000068 +/- 0.001041 mJy, 0 with flux greater than 10mJy\n",
      "1511530 objects in L=2.116992e+19 bin with flux 0.000076 +/- 0.001270 mJy, 0 with flux greater than 10mJy\n",
      "1509447 objects in L=2.375304e+19 bin with flux 0.000085 +/- 0.001365 mJy, 0 with flux greater than 10mJy\n",
      "1502007 objects in L=2.665135e+19 bin with flux 0.000096 +/- 0.001586 mJy, 0 with flux greater than 10mJy\n",
      "1501968 objects in L=2.990330e+19 bin with flux 0.000107 +/- 0.001667 mJy, 0 with flux greater than 10mJy\n",
      "1495607 objects in L=3.355206e+19 bin with flux 0.000121 +/- 0.001971 mJy, 0 with flux greater than 10mJy\n",
      "1492775 objects in L=3.764603e+19 bin with flux 0.000135 +/- 0.002115 mJy, 0 with flux greater than 10mJy\n",
      "1491261 objects in L=4.223954e+19 bin with flux 0.000152 +/- 0.002463 mJy, 0 with flux greater than 10mJy\n",
      "1485586 objects in L=4.739354e+19 bin with flux 0.000171 +/- 0.002603 mJy, 0 with flux greater than 10mJy\n",
      "1483828 objects in L=5.317643e+19 bin with flux 0.000191 +/- 0.002950 mJy, 0 with flux greater than 10mJy\n",
      "1481224 objects in L=5.966493e+19 bin with flux 0.000214 +/- 0.003479 mJy, 0 with flux greater than 10mJy\n",
      "1477115 objects in L=6.694516e+19 bin with flux 0.000241 +/- 0.004003 mJy, 0 with flux greater than 10mJy\n",
      "1468972 objects in L=7.511370e+19 bin with flux 0.000270 +/- 0.004421 mJy, 0 with flux greater than 10mJy\n",
      "1467922 objects in L=8.427896e+19 bin with flux 0.000302 +/- 0.004776 mJy, 0 with flux greater than 10mJy\n",
      "1463775 objects in L=9.456255e+19 bin with flux 0.000339 +/- 0.005734 mJy, 0 with flux greater than 10mJy\n",
      "1459546 objects in L=1.061009e+20 bin with flux 0.000381 +/- 0.006507 mJy, 0 with flux greater than 10mJy\n",
      "1457875 objects in L=1.190472e+20 bin with flux 0.000427 +/- 0.006901 mJy, 0 with flux greater than 10mJy\n",
      "1454480 objects in L=1.335731e+20 bin with flux 0.000480 +/- 0.007780 mJy, 0 with flux greater than 10mJy\n",
      "1447042 objects in L=1.498715e+20 bin with flux 0.000537 +/- 0.008992 mJy, 0 with flux greater than 10mJy\n",
      "1445561 objects in L=1.681586e+20 bin with flux 0.000604 +/- 0.009759 mJy, 0 with flux greater than 10mJy\n",
      "1438317 objects in L=1.886771e+20 bin with flux 0.000679 +/- 0.011761 mJy, 0 with flux greater than 10mJy\n",
      "1436124 objects in L=2.116992e+20 bin with flux 0.000762 +/- 0.013513 mJy, 1 with flux greater than 10mJy\n",
      "1431517 objects in L=2.375304e+20 bin with flux 0.000852 +/- 0.014791 mJy, 2 with flux greater than 10mJy\n",
      "1426468 objects in L=2.665135e+20 bin with flux 0.000960 +/- 0.016929 mJy, 1 with flux greater than 10mJy\n",
      "1419284 objects in L=2.990330e+20 bin with flux 0.001075 +/- 0.016697 mJy, 0 with flux greater than 10mJy\n",
      "1413745 objects in L=3.355206e+20 bin with flux 0.001206 +/- 0.018906 mJy, 0 with flux greater than 10mJy\n",
      "1408435 objects in L=3.764603e+20 bin with flux 0.001354 +/- 0.022788 mJy, 0 with flux greater than 10mJy\n",
      "1399335 objects in L=4.223954e+20 bin with flux 0.001511 +/- 0.025285 mJy, 3 with flux greater than 10mJy\n",
      "1392278 objects in L=4.739354e+20 bin with flux 0.001702 +/- 0.028279 mJy, 0 with flux greater than 10mJy\n",
      "1383432 objects in L=5.317643e+20 bin with flux 0.001910 +/- 0.031834 mJy, 3 with flux greater than 10mJy\n",
      "1369964 objects in L=5.966493e+20 bin with flux 0.002142 +/- 0.034454 mJy, 1 with flux greater than 10mJy\n",
      "1362585 objects in L=6.694516e+20 bin with flux 0.002408 +/- 0.038437 mJy, 1 with flux greater than 10mJy\n",
      "1347184 objects in L=7.511370e+20 bin with flux 0.002703 +/- 0.044291 mJy, 1 with flux greater than 10mJy\n",
      "1332901 objects in L=8.427896e+20 bin with flux 0.003031 +/- 0.049687 mJy, 4 with flux greater than 10mJy\n",
      "1316781 objects in L=9.456255e+20 bin with flux 0.003398 +/- 0.055118 mJy, 5 with flux greater than 10mJy\n",
      "1298306 objects in L=1.061009e+21 bin with flux 0.003809 +/- 0.060265 mJy, 4 with flux greater than 10mJy\n",
      "1278368 objects in L=1.190472e+21 bin with flux 0.004274 +/- 0.068575 mJy, 3 with flux greater than 10mJy\n",
      "1253619 objects in L=1.335731e+21 bin with flux 0.004803 +/- 0.076932 mJy, 7 with flux greater than 10mJy\n",
      "1224889 objects in L=1.498715e+21 bin with flux 0.005382 +/- 0.088197 mJy, 6 with flux greater than 10mJy\n",
      "1196919 objects in L=1.681586e+21 bin with flux 0.006047 +/- 0.093413 mJy, 4 with flux greater than 10mJy\n",
      "1162051 objects in L=1.886771e+21 bin with flux 0.006793 +/- 0.116654 mJy, 17 with flux greater than 10mJy\n",
      "1128345 objects in L=2.116992e+21 bin with flux 0.007603 +/- 0.120916 mJy, 8 with flux greater than 10mJy\n",
      "1089075 objects in L=2.375304e+21 bin with flux 0.008515 +/- 0.127323 mJy, 18 with flux greater than 10mJy\n",
      "1044203 objects in L=2.665135e+21 bin with flux 0.009597 +/- 0.174510 mJy, 12 with flux greater than 10mJy\n",
      "1001460 objects in L=2.990330e+21 bin with flux 0.010766 +/- 0.165167 mJy, 15 with flux greater than 10mJy\n",
      "955340 objects in L=3.355206e+21 bin with flux 0.012090 +/- 0.191889 mJy, 21 with flux greater than 10mJy\n",
      "905001 objects in L=3.764603e+21 bin with flux 0.013535 +/- 0.206233 mJy, 19 with flux greater than 10mJy\n",
      "853267 objects in L=4.223954e+21 bin with flux 0.015172 +/- 0.252712 mJy, 33 with flux greater than 10mJy\n",
      "800151 objects in L=4.739354e+21 bin with flux 0.016977 +/- 0.289378 mJy, 34 with flux greater than 10mJy\n",
      "747258 objects in L=5.317643e+21 bin with flux 0.019134 +/- 0.301501 mJy, 28 with flux greater than 10mJy\n",
      "690149 objects in L=5.966493e+21 bin with flux 0.021443 +/- 0.346916 mJy, 45 with flux greater than 10mJy\n",
      "635967 objects in L=6.694516e+21 bin with flux 0.024001 +/- 0.443010 mJy, 33 with flux greater than 10mJy\n",
      "584004 objects in L=7.511370e+21 bin with flux 0.026982 +/- 0.410008 mJy, 46 with flux greater than 10mJy\n",
      "529852 objects in L=8.427896e+21 bin with flux 0.030334 +/- 0.514818 mJy, 38 with flux greater than 10mJy\n",
      "480047 objects in L=9.456255e+21 bin with flux 0.033888 +/- 0.610858 mJy, 55 with flux greater than 10mJy\n",
      "429119 objects in L=1.061009e+22 bin with flux 0.038192 +/- 0.651175 mJy, 51 with flux greater than 10mJy\n",
      "382756 objects in L=1.190472e+22 bin with flux 0.042692 +/- 0.667648 mJy, 57 with flux greater than 10mJy\n",
      "338079 objects in L=1.335731e+22 bin with flux 0.048291 +/- 0.710492 mJy, 62 with flux greater than 10mJy\n",
      "298083 objects in L=1.498715e+22 bin with flux 0.053734 +/- 0.876712 mJy, 69 with flux greater than 10mJy\n",
      "259322 objects in L=1.681586e+22 bin with flux 0.060158 +/- 0.836217 mJy, 69 with flux greater than 10mJy\n",
      "224643 objects in L=1.886771e+22 bin with flux 0.067762 +/- 0.923434 mJy, 61 with flux greater than 10mJy\n",
      "192047 objects in L=2.116992e+22 bin with flux 0.075939 +/- 1.128296 mJy, 73 with flux greater than 10mJy\n",
      "165679 objects in L=2.375304e+22 bin with flux 0.085670 +/- 1.331172 mJy, 76 with flux greater than 10mJy\n",
      "139555 objects in L=2.665135e+22 bin with flux 0.095129 +/- 1.526481 mJy, 65 with flux greater than 10mJy\n",
      "117552 objects in L=2.990330e+22 bin with flux 0.106988 +/- 1.735663 mJy, 70 with flux greater than 10mJy\n",
      "97293 objects in L=3.355206e+22 bin with flux 0.120184 +/- 1.871513 mJy, 72 with flux greater than 10mJy\n",
      "81637 objects in L=3.764603e+22 bin with flux 0.134404 +/- 1.882427 mJy, 59 with flux greater than 10mJy\n",
      "67125 objects in L=4.223954e+22 bin with flux 0.152920 +/- 2.405977 mJy, 49 with flux greater than 10mJy\n",
      "54326 objects in L=4.739354e+22 bin with flux 0.170327 +/- 2.191348 mJy, 67 with flux greater than 10mJy\n",
      "44262 objects in L=5.317643e+22 bin with flux 0.193946 +/- 3.437928 mJy, 56 with flux greater than 10mJy\n",
      "35786 objects in L=5.966493e+22 bin with flux 0.209547 +/- 4.743232 mJy, 48 with flux greater than 10mJy\n",
      "28581 objects in L=6.694516e+22 bin with flux 0.239076 +/- 4.114610 mJy, 63 with flux greater than 10mJy\n",
      "22720 objects in L=7.511370e+22 bin with flux 0.270506 +/- 7.179913 mJy, 50 with flux greater than 10mJy\n",
      "17866 objects in L=8.427896e+22 bin with flux 0.299525 +/- 5.444031 mJy, 37 with flux greater than 10mJy\n",
      "14088 objects in L=9.456255e+22 bin with flux 0.338882 +/- 5.424137 mJy, 38 with flux greater than 10mJy\n",
      "10875 objects in L=1.061009e+23 bin with flux 0.382235 +/- 3.834297 mJy, 41 with flux greater than 10mJy\n",
      "8261 objects in L=1.190472e+23 bin with flux 0.430112 +/- 7.182767 mJy, 22 with flux greater than 10mJy\n",
      "6325 objects in L=1.335731e+23 bin with flux 0.479800 +/- 7.449727 mJy, 38 with flux greater than 10mJy\n",
      "4875 objects in L=1.498715e+23 bin with flux 0.546230 +/- 6.420469 mJy, 37 with flux greater than 10mJy\n",
      "3716 objects in L=1.681586e+23 bin with flux 0.626523 +/- 6.889377 mJy, 24 with flux greater than 10mJy\n",
      "2739 objects in L=1.886771e+23 bin with flux 0.702212 +/- 8.839145 mJy, 32 with flux greater than 10mJy\n",
      "2038 objects in L=2.116992e+23 bin with flux 0.797440 +/- 15.691083 mJy, 24 with flux greater than 10mJy\n",
      "1551 objects in L=2.375304e+23 bin with flux 0.822805 +/- 7.064186 mJy, 21 with flux greater than 10mJy\n",
      "1127 objects in L=2.665135e+23 bin with flux 0.963667 +/- 6.884042 mJy, 20 with flux greater than 10mJy\n",
      "767 objects in L=2.990330e+23 bin with flux 1.019899 +/- 10.084266 mJy, 10 with flux greater than 10mJy\n",
      "623 objects in L=3.355206e+23 bin with flux 1.081888 +/- 11.224378 mJy, 13 with flux greater than 10mJy\n",
      "397 objects in L=3.764603e+23 bin with flux 1.694263 +/- 11.202242 mJy, 14 with flux greater than 10mJy\n",
      "284 objects in L=4.223954e+23 bin with flux 1.713771 +/- 25.553906 mJy, 10 with flux greater than 10mJy\n",
      "206 objects in L=4.739354e+23 bin with flux 1.769416 +/- 13.103000 mJy, 12 with flux greater than 10mJy\n",
      "154 objects in L=5.317643e+23 bin with flux 1.937635 +/- 6.563659 mJy, 8 with flux greater than 10mJy\n",
      "110 objects in L=5.966493e+23 bin with flux 2.179023 +/- 12.751240 mJy, 10 with flux greater than 10mJy\n",
      "79 objects in L=6.694516e+23 bin with flux 2.654728 +/- 8.177714 mJy, 5 with flux greater than 10mJy\n",
      "48 objects in L=7.511370e+23 bin with flux 4.143809 +/- 10.756822 mJy, 1 with flux greater than 10mJy\n",
      "29 objects in L=8.427896e+23 bin with flux 2.921853 +/- 19.261244 mJy, 2 with flux greater than 10mJy\n",
      "22 objects in L=9.456255e+23 bin with flux 3.163347 +/- 15.014411 mJy, 2 with flux greater than 10mJy\n",
      "using 27404863 sources\n"
     ]
    }
   ],
   "source": [
    "\n",
    "labels = ['AGN','SF']\n",
    "P = [P_agn,P_sf]\n",
    "rho_P = [rho_P_agn,rho_P_sf]\n",
    "dP = [dP_agn,dP_sf]\n",
    "numPbins = [numPbins_agn,numPbins_sf]\n",
    "\n",
    "L1_vals_per_bin = [[],[]]\n",
    "thx_vals_per_bin = [[],[]]\n",
    "thy_vals_per_bin = [[],[]]\n",
    "dist_vals_per_bin = [[],[]]\n",
    "\n",
    "L1_vals = [[],[]]\n",
    "thx_vals = [[],[]]\n",
    "thy_vals = [[],[]]\n",
    "dist_vals = [[],[]]\n",
    "\n",
    "for j in range(2):\n",
    "    for i in range(numPbins[j]):\n",
    "        mean_num_objects_in_bin = rho_P[j](P[j][i])*dP[j][i]*trans_Mpc**2*(los_max_Mpc-los_min_Mpc)\n",
    "\n",
    "        num_objects_in_bin = np.random.poisson(mean_num_objects_in_bin)\n",
    "        los_vals_Mpc = np.random.uniform(los_min_Mpc,los_max_Mpc,num_objects_in_bin)\n",
    "        x_vals_Mpc = np.random.uniform(-trans_Mpc/2,trans_Mpc/2,num_objects_in_bin)\n",
    "        y_vals_Mpc = np.random.uniform(-trans_Mpc/2,trans_Mpc/2,num_objects_in_bin)\n",
    "        dists_Mpc = np.sqrt(x_vals_Mpc**2+y_vals_Mpc**2+los_vals_Mpc**2)\n",
    "\n",
    "        thx = np.arctan(x_vals_Mpc/los_vals_Mpc)*180./np.pi\n",
    "        thy = np.arctan(y_vals_Mpc/los_vals_Mpc)*180./np.pi\n",
    "\n",
    "        jy_vals = P[j][i]/(4.*np.pi*(dists_Mpc*Mpc2m)**2)/1.e-29\n",
    "        g = (np.abs(thx)<fov_deg/2)&(np.abs(thy)<fov_deg/2)\n",
    "\n",
    "        L1_vals_per_bin[j].append(P[j][i]+np.zeros(np.sum(g)))\n",
    "        thx_vals_per_bin[j].append(thx[g])\n",
    "        thy_vals_per_bin[j].append(thy[g])\n",
    "        dist_vals_per_bin[j].append(dists_Mpc[g])\n",
    "\n",
    "        print('%d objects in L=%e bin with flux %f +/- %f mJy, %d with flux greater than 10mJy'%(num_objects_in_bin,P[j][i],np.median(jy_vals),np.std(jy_vals),np.sum(jy_vals[g]>2)))\n",
    "\n",
    "    L1_vals[j] = np.concatenate(L1_vals_per_bin[j]).flatten()\n",
    "    thx_vals[j] = np.concatenate(thx_vals_per_bin[j]).flatten()\n",
    "    thy_vals[j] = np.concatenate(thy_vals_per_bin[j]).flatten()\n",
    "    dist_vals[j] = np.concatenate(dist_vals_per_bin[j]).flatten()\n",
    "\n",
    "    print('using %d sources'%(len(L1_vals[j])))"
   ]
  },
  {
   "cell_type": "code",
   "execution_count": 8,
   "metadata": {
    "collapsed": false
   },
   "outputs": [],
   "source": [
    "L2_vals = [np.random.choice(a=P[j],size=len(L1_vals[j]),p=rho_P[j](P[j])*dP[j]/np.sum(rho_P[j](P[j])*dP[j]),replace=True) for j in range(2)]"
   ]
  },
  {
   "cell_type": "code",
   "execution_count": 9,
   "metadata": {
    "collapsed": false
   },
   "outputs": [],
   "source": [
    "F1_vals = [L1_vals[j]/(4.*np.pi*(dist_vals[j]*Mpc2m)**2)/1.e-29 for j in range(2)]\n",
    "F2_vals = [L2_vals[j]/(4.*np.pi*(dist_vals[j]*Mpc2m)**2)/1.e-29 for j in range(2)]"
   ]
  },
  {
   "cell_type": "code",
   "execution_count": 10,
   "metadata": {
    "collapsed": false
   },
   "outputs": [],
   "source": [
    "# plt.loglog(L1_vals[0],L2_vals[0],'.',alpha=.005)\n",
    "# plt.title(labels[0])\n",
    "# plt.figure()\n",
    "# plt.loglog(L1_vals[1],L2_vals[1],'.',alpha=.005)\n",
    "# plt.title(labels[1])"
   ]
  },
  {
   "cell_type": "code",
   "execution_count": 11,
   "metadata": {
    "collapsed": false
   },
   "outputs": [],
   "source": [
    "# np.min(L1_vals[1])/(4.*np.pi*(np.max(dist_vals[1])*Mpc2m)**2)/1.e-29"
   ]
  },
  {
   "cell_type": "code",
   "execution_count": 12,
   "metadata": {
    "collapsed": false
   },
   "outputs": [
    {
     "name": "stdout",
     "output_type": "stream",
     "text": [
      "127801\n"
     ]
    }
   ],
   "source": [
    "mjy_min = .1\n",
    "print(np.sum(F1_vals[0]>mjy_min))\n",
    "g = [(F1_vals[j]>mjy_min)|(F2_vals[j]>mjy_min) for j in range(2)]\n",
    "\n",
    "cat1s = [cat_utils.Catalog(thx_vals[j][g[j]],thy_vals[j][g[j]],F1_vals[j][g[j]]) for j in range(2)]\n",
    "cat2s = [cat_utils.Catalog(thx_vals[j][g[j]],thy_vals[j][g[j]],F2_vals[j][g[j]]) for j in range(2)]"
   ]
  },
  {
   "cell_type": "code",
   "execution_count": 13,
   "metadata": {
    "collapsed": false
   },
   "outputs": [
    {
     "name": "stdout",
     "output_type": "stream",
     "text": [
      "0\n",
      "0.000432649014633\n",
      "-0.000472688961637\n",
      "1\n",
      "0.062566281995\n",
      "0.0489453221776\n"
     ]
    }
   ],
   "source": [
    "for j in range(2):\n",
    "    print(j)\n",
    "    gg = g[j]\n",
    "    print np.mean((F1_vals[j]-np.mean(F1_vals[j]))*(F2_vals[j]-np.mean(F2_vals[j]))) / np.sqrt(np.mean((F1_vals[j]-np.mean(F1_vals[j]))**2)*np.mean((F2_vals[j]-np.mean(F2_vals[j]))**2))\n",
    "    print np.mean((F1_vals[j][gg]-np.mean(F1_vals[j][gg]))*(F2_vals[j][gg]-np.mean(F2_vals[j][gg]))) / np.sqrt(np.mean((F1_vals[j][gg]-np.mean(F1_vals[j][gg]))**2)*np.mean((F2_vals[j][gg]-np.mean(F2_vals[j][gg]))**2))"
   ]
  },
  {
   "cell_type": "code",
   "execution_count": 14,
   "metadata": {
    "collapsed": false
   },
   "outputs": [],
   "source": [
    "# np.mean(L1_vals[0]/dist_vals[0]**2)/1.e16"
   ]
  },
  {
   "cell_type": "code",
   "execution_count": 15,
   "metadata": {
    "collapsed": false
   },
   "outputs": [],
   "source": [
    "# np.mean(L1_vals[0])/np.mean(dist_vals[0]**2)/1.e16"
   ]
  },
  {
   "cell_type": "code",
   "execution_count": 16,
   "metadata": {
    "collapsed": false,
    "scrolled": true
   },
   "outputs": [],
   "source": [
    "# dtheta_deg = 5./60\n",
    "\n",
    "# cat1imgs = []\n",
    "# cat2imgs = []\n",
    "\n",
    "# for j in range(2):\n",
    "#     cat1img,counts = cat_utils.cat2img(cat1s[j],bound_cat=cat1s[j],dtheta_deg=dtheta_deg,verbose=True)\n",
    "#     cat2img,counts = cat_utils.cat2img(cat2s[j],bound_cat=cat1s[j],dtheta_deg=dtheta_deg,verbose=True)\n",
    "    \n",
    "#     cat1imgs.append(cat1img)\n",
    "#     cat2imgs.append(cat2img)"
   ]
  },
  {
   "cell_type": "code",
   "execution_count": 17,
   "metadata": {
    "collapsed": false
   },
   "outputs": [],
   "source": [
    "# lmin,lmax = 0,3000\n",
    "# nbins = 10\n",
    "# cols = ['r','b']\n",
    "\n",
    "# plt.figure(figsize=(16,4))\n",
    "\n",
    "# for j in range(2):\n",
    "    \n",
    "#     lbins,pspec1,pspec2,xspec,bin_counts = cat_utils.calc_xspec(cat1imgs[j],cat2imgs[j],dtheta_deg,nbins,lmin,lmax,\\\n",
    "#                                                                 hann=True,uselogbins=False)\n",
    "#     c = xspec/np.sqrt(pspec1*pspec2)\n",
    "#     dc = np.sqrt(.5*(1+c**2)/(bin_counts/4))\n",
    "#     print(np.mean(c))\n",
    "\n",
    "#     plt.subplot(131)\n",
    "#     plt.loglog(lbins,pspec1,cols[j]+'.')\n",
    "#     plt.ylim([1.e-7,1.e-5])\n",
    "\n",
    "#     plt.subplot(132)\n",
    "#     plt.loglog(lbins,pspec2,cols[j]+'.')\n",
    "#     plt.ylim([1.e-7,1.e-5])\n",
    "\n",
    "#     plt.subplot(133)\n",
    "#     plt.errorbar(lbins+10*j,c,yerr=dc,fmt='o',color=cols[j],label=labels[j])\n",
    "#     plt.gca().set_xscale('log')\n",
    "#     plt.ylim([-.5,.5])\n",
    "#     plt.xlim([80,1.e4])\n",
    "#     plt.semilogx([1.e2,1.e4],[0,0],'k-')\n",
    "#     if j == 1: plt.legend(fontsize=10)\n",
    "\n",
    "# plt.savefig('sim_realistic_radio_survey_agn_sf_>%1.2fmjy.pdf'%mjy_min,bbox_inches='tight')"
   ]
  },
  {
   "cell_type": "code",
   "execution_count": 18,
   "metadata": {
    "collapsed": false
   },
   "outputs": [],
   "source": [
    "# for j in range(2):\n",
    "#     print labels[j]+'\\t'+str(np.mean((cat1imgs[j]-np.mean(cat1imgs[j]))*(cat2imgs[j]-np.mean(cat2imgs[j])))/np.sqrt(np.var(cat1imgs[j])*np.var(cat2imgs[j])))"
   ]
  },
  {
   "cell_type": "code",
   "execution_count": null,
   "metadata": {
    "collapsed": true
   },
   "outputs": [],
   "source": []
  },
  {
   "cell_type": "code",
   "execution_count": 19,
   "metadata": {
    "collapsed": false
   },
   "outputs": [],
   "source": [
    "# plt.hist(dist_vals[1],50)\n",
    "# plt.plot(np.arange(3000),np.arange(3000)**2*.22,'r')"
   ]
  },
  {
   "cell_type": "code",
   "execution_count": 20,
   "metadata": {
    "collapsed": false
   },
   "outputs": [],
   "source": [
    "# plt.hist(dist_vals[1]**2,50)\n",
    "# plt.plot(np.arange(0,1.e7,1000),360*np.sqrt(np.arange(0,1.e7,1000)),'r')"
   ]
  },
  {
   "cell_type": "code",
   "execution_count": 21,
   "metadata": {
    "collapsed": false
   },
   "outputs": [],
   "source": [
    "# a=plt.hist(np.log10(1./dist_vals[1]**2),150)\n",
    "# plt.plot(np.linspace(-7.2,-5),1.e-4*(10.**np.linspace(-7.2,-5))**(-2.5+1),'r') # the +1 takes into account the changing bin size due to the log x-axis\n",
    "# plt.xlim([-7.2,-5])\n",
    "# plt.ylim([0,.04e8])"
   ]
  },
  {
   "cell_type": "code",
   "execution_count": 22,
   "metadata": {
    "collapsed": false
   },
   "outputs": [],
   "source": [
    "# plt.hist(dist_vals[1]**4,50)\n",
    "# plt.plot(np.linspace(1.e5,4.e13,100),.7e9*(np.linspace(1.e5,4.e13,100)**(-.25)),'r')\n",
    "# plt.ylim([0,1.e6])"
   ]
  },
  {
   "cell_type": "code",
   "execution_count": 23,
   "metadata": {
    "collapsed": true
   },
   "outputs": [],
   "source": [
    "alpha0,alpha1 = los_min_Mpc**2,los_max_Mpc**2\n",
    "num_alpha = 400\n",
    "alpha_edges = 10.**np.linspace(np.log10(alpha0),np.log10(alpha1),num_alpha+1)\n",
    "dalpha = alpha_edges[1:]-alpha_edges[:-1]\n",
    "alpha = .5*(alpha_edges[1:]+alpha_edges[:-1])"
   ]
  },
  {
   "cell_type": "code",
   "execution_count": 24,
   "metadata": {
    "collapsed": false
   },
   "outputs": [],
   "source": [
    "numF = 400\n",
    "Fedges = 10.**np.linspace(-5.5,4,numF+1)\n",
    "dF = Fedges[1:]-Fedges[:-1]\n",
    "F = .5*(Fedges[1:]+Fedges[:-1])"
   ]
  },
  {
   "cell_type": "code",
   "execution_count": 25,
   "metadata": {
    "collapsed": false,
    "scrolled": false
   },
   "outputs": [
    {
     "name": "stderr",
     "output_type": "stream",
     "text": [
      "/home/ubuntu/anaconda2/lib/python2.7/site-packages/ipykernel/__main__.py:15: RuntimeWarning: divide by zero encountered in log10\n",
      "/home/ubuntu/anaconda2/lib/python2.7/site-packages/ipykernel/__main__.py:16: RuntimeWarning: divide by zero encountered in log10\n"
     ]
    },
    {
     "name": "stdout",
     "output_type": "stream",
     "text": [
      "[1.2710437580690435, 0.73435364236312828]\n",
      "[0.059952691677503923, 0.00025336380632932096]\n"
     ]
    },
    {
     "data": {
      "image/png": "[encoded data removed]",
      "text/plain": [
       "<matplotlib.figure.Figure at 0x7f5018866410>"
      ]
     },
     "metadata": {},
     "output_type": "display_data"
    }
   ],
   "source": [
    "offsets = [16.5,16.5]\n",
    "plt.figure(figsize=(12,5))\n",
    "for j in range(2):\n",
    "    rho_F = np.zeros(numF)\n",
    "    for i in range(numF):\n",
    "        for alphai in range(num_alpha):\n",
    "            L = 1.e-29*4*np.pi*F[i]*alpha[alphai]*Mpc2m**2\n",
    "            rho_F[i] += dalpha[alphai]*alpha[alphai]**1.5*rho_P[j](L)*dF[i]\n",
    "    \n",
    "    #rho_F1F2 = np.zeros(numF)\n",
    "    \n",
    "    plt.subplot(1,2,j+1)\n",
    "    hist,bin_edges = np.histogram(np.log10(F1_vals[j]),60)\n",
    "    bin_centers = .5*(bin_edges[1:]+bin_edges[:-1])\n",
    "    plt.plot(bin_centers,np.log10(hist),'b.-')\n",
    "    plt.plot(np.log10(F),np.log10(rho_F)+offsets[j],'r')\n",
    "    plt.xlim([-6,5])\n",
    "    \n",
    "    Fmean = np.sum(rho_F*F)*(1.e-29*4*np.pi*Mpc2m**2)/np.sum(rho_F)/1.e16\n",
    "    Fmeansq = np.sum(rho_F*F**2)*(1.e-29*4*np.pi*Mpc2m**2)**2/np.sum(rho_F)/1.e36\n",
    "    \n",
    "    print([Fmean,Fmeansq])\n",
    "    "
   ]
  },
  {
   "cell_type": "code",
   "execution_count": 26,
   "metadata": {
    "collapsed": false
   },
   "outputs": [
    {
     "name": "stdout",
     "output_type": "stream",
     "text": [
      "correlation for AGN is 0.0005, and the monte carlo gives 0.0006\n",
      "correlation for SF is 0.0694, and the monte carlo gives 0.0464\n"
     ]
    }
   ],
   "source": [
    "d0,d1 = los_min_Mpc,los_max_Mpc\n",
    "\n",
    "a = (d1**3-d0**3)/(3*d1*d0*(d1-d0))\n",
    "\n",
    "for j in range(2):\n",
    "    Lmean = np.sum(rho_P[j](P[j])*dP[j]*P[j])/np.sum(rho_P[j](P[j])*dP[j])\n",
    "    # np.mean(L1_vals[j]),Lmean\n",
    "    L2mean = np.sum(rho_P[j](P[j])*dP[j]*P[j]**2)/np.sum(rho_P[j](P[j])*dP[j])\n",
    "    # np.mean(L1_vals[j]**2),L2mean\n",
    "\n",
    "    c = (a-1)/(a*L2mean/Lmean**2-1)\n",
    "    \n",
    "    #c2 = np.mean((F1_vals[j]-np.mean(F1_vals[j]))*(F2_vals[j]-np.mean(F2_vals[j])))/np.var(F1_vals[j])\n",
    "    f1,f2 = F1_vals[j],F2_vals[j]\n",
    "    L1,L2 = L1_vals[j],L2_vals[j]\n",
    "    d = dist_vals[j]\n",
    "    \n",
    "    c2 = (mean(f1*f2)-mean(f1)**2)/(mean(f1**2)-mean(f1)**2)\n",
    "    #c2 = (mean(L1*L2)*mean(1./d**4)-mean(L1)**2*mean(1./d**2)**2)/(mean(L1**2)*mean(1./d**4)-mean(L1)**2*mean(1./d**2)**2)\n",
    "\n",
    "    print('correlation for %s is %1.4f, and the monte carlo gives %1.4f'%(labels[j],c,c2))"
   ]
  },
  {
   "cell_type": "code",
   "execution_count": 27,
   "metadata": {
    "collapsed": false
   },
   "outputs": [
    {
     "data": {
      "image/png": "[encoded data removed]",
      "text/plain": [
       "<matplotlib.figure.Figure at 0x7f501b446250>"
      ]
     },
     "metadata": {},
     "output_type": "display_data"
    },
    {
     "data": {
      "image/png": "[encoded data removed]",
      "text/plain": [
       "<matplotlib.figure.Figure at 0x7f5018650f50>"
      ]
     },
     "metadata": {},
     "output_type": "display_data"
    }
   ],
   "source": [
    "a=plt.hist(np.log10(L1_vals[0]/dist_vals[0]**2),150)\n",
    "plt.gca().set_yscale('log')\n",
    "plt.figure()\n",
    "a=plt.hist(np.log10(L1_vals[0]*L2_vals[0]/dist_vals[0]**4),150)\n",
    "plt.gca().set_yscale('log')"
   ]
  },
  {
   "cell_type": "code",
   "execution_count": 28,
   "metadata": {
    "collapsed": true
   },
   "outputs": [],
   "source": [
    "numy = 100\n",
    "yedges = 10.**np.linspace(13,21,numy+1)\n",
    "dy = yedges[1:]-yedges[:-1]\n",
    "y = .5*(yedges[1:]+yedges[:-1])\n",
    "\n",
    "numz = 100\n",
    "zedges = 10.**np.linspace(26,39,numz+1)\n",
    "dz = zedges[1:]-zedges[:-1]\n",
    "z = .5*(zedges[1:]+zedges[:-1])"
   ]
  },
  {
   "cell_type": "code",
   "execution_count": 29,
   "metadata": {
    "collapsed": false
   },
   "outputs": [
    {
     "data": {
      "text/plain": [
       "2"
      ]
     },
     "execution_count": 29,
     "metadata": {},
     "output_type": "execute_result"
    }
   ],
   "source": [
    "1+1"
   ]
  },
  {
   "cell_type": "code",
   "execution_count": 30,
   "metadata": {
    "collapsed": false
   },
   "outputs": [
    {
     "name": "stdout",
     "output_type": "stream",
     "text": [
      "[1.2689706046560683, 0.68672984782168689, 0.61910167659764126]\n",
      "[0.080281302765852186, 0.00033877123685287691, 0.018877799260523281]\n"
     ]
    }
   ],
   "source": [
    "# calculate the correlations for the flux-limited case\n",
    "# z refers to L1*L2/d^4\n",
    "# y refers to L/d^2\n",
    "# alpha refers to d^2\n",
    "# beta refers to d^4\n",
    "\n",
    "ymean = [0.,0.]\n",
    "y2mean = [0.,0.]\n",
    "zmean = [0.,0.]\n",
    "\n",
    "for j in range(2):\n",
    "    norm = 0.\n",
    "    \n",
    "    for yi in range(numy): # put all the a's in the same loop\n",
    "        for ai in range(num_alpha):\n",
    "            differential = dy[yi]*alpha[ai]**1.5*rho_P[j](y[yi]*alpha[ai])*dalpha[ai]\n",
    "            ymean[j] += y[yi]*differential\n",
    "            y2mean[j] += y[yi]**2*differential\n",
    "            norm += differential\n",
    "    ymean[j] /= norm\n",
    "    y2mean[j] /= norm\n",
    "    \n",
    "    norm = 0.\n",
    "    for zi in range(numz):\n",
    "        for ai in range(num_alpha):\n",
    "            for Li in range(numPbins[j]):\n",
    "                differential = dalpha[ai]*dz[zi]*alpha[ai]**2.5*rho_P[j](P[j][Li])*rho_P[j](z[zi]*alpha[ai]**2/P[j][Li])*dP[j][Li]/P[j][Li]\n",
    "                zmean[j] += z[zi]*differential \n",
    "                norm += differential \n",
    "    zmean[j] /= norm\n",
    "    \n",
    "    print([ymean[j]/1.e16,y2mean[j]/1.e36,zmean[j]/1.e33])"
   ]
  },
  {
   "cell_type": "code",
   "execution_count": 33,
   "metadata": {
    "collapsed": false
   },
   "outputs": [
    {
     "name": "stdout",
     "output_type": "stream",
     "text": [
      "0.000667191728275\n",
      "0.053924428293\n"
     ]
    }
   ],
   "source": [
    "for j in range(2):\n",
    "    c = (zmean[j]-ymean[j]**2)/(y2mean[j]-ymean[j]**2)\n",
    "    print(c)"
   ]
  },
  {
   "cell_type": "code",
   "execution_count": 32,
   "metadata": {
    "collapsed": false
   },
   "outputs": [
    {
     "name": "stdout",
     "output_type": "stream",
     "text": [
      "[1.2685637716628209, 1.4815869552790237, 1.104177373082901]\n",
      "[1.4133571175196027, 3.0849722013665035]\n",
      "\n",
      "[0.058912039214390387, 0.00037637165315090843, 0.017781470331301057]\n",
      "[0.058985606088734599, 0.00020683642116975734]\n",
      "\n"
     ]
    }
   ],
   "source": [
    "for j in range(2):\n",
    "    print([np.mean(L1_vals[j]/dist_vals[j]**2)/1.e16, np.mean((L1_vals[j]/dist_vals[j]**2)**2)/1.e36, np.mean(L1_vals[j]*L2_vals[j]/dist_vals[j]**4)/1.e33])\n",
    "    print([np.mean(L2_vals[j]/dist_vals[j]**2)/1.e16, np.mean((L2_vals[j]/dist_vals[j]**2)**2)/1.e36])\n",
    "    print"
   ]
  },
  {
   "cell_type": "code",
   "execution_count": null,
   "metadata": {
    "collapsed": true
   },
   "outputs": [],
   "source": []
  },
  {
   "cell_type": "code",
   "execution_count": null,
   "metadata": {
    "collapsed": true
   },
   "outputs": [],
   "source": []
  },
  {
   "cell_type": "code",
   "execution_count": null,
   "metadata": {
    "collapsed": true
   },
   "outputs": [],
   "source": []
  }
 ],
 "metadata": {
  "kernelspec": {
   "display_name": "Python 2",
   "language": "python",
   "name": "python2"
  },
  "language_info": {
   "codemirror_mode": {
    "name": "ipython",
    "version": 2
   },
   "file_extension": ".py",
   "mimetype": "text/x-python",
   "name": "python",
   "nbconvert_exporter": "python",
   "pygments_lexer": "ipython2",
   "version": "2.7.11"
  }
 },
 "nbformat": 4,
 "nbformat_minor": 1
}
