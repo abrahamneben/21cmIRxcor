{
 "cells": [
  {
   "cell_type": "code",
   "execution_count": 170,
   "metadata": {
    "collapsed": true
   },
   "outputs": [],
   "source": [
    "# simulate a flux limited, and non-flux limited radio and IR survey\n",
    "# from luminosity functions"
   ]
  },
  {
   "cell_type": "code",
   "execution_count": 303,
   "metadata": {
    "collapsed": true
   },
   "outputs": [],
   "source": [
    "import numpy as np\n",
    "import matplotlib\n",
    "%matplotlib inline\n",
    "import matplotlib.pyplot as plt"
   ]
  },
  {
   "cell_type": "code",
   "execution_count": 304,
   "metadata": {
    "collapsed": false
   },
   "outputs": [
    {
     "data": {
      "text/plain": [
       "<module 'cat_utils' from '/Users/abrahamn/21cmIR/21cmIRxcor/cat_utils.pyc'>"
      ]
     },
     "execution_count": 304,
     "metadata": {},
     "output_type": "execute_result"
    }
   ],
   "source": [
    "import sys # needed to import cat_utils\n",
    "sys.path.insert(0, '/Users/abrahamn/21cmIR/21cmIRxcor/')\n",
    "\n",
    "import imp\n",
    "import cat_utils\n",
    "imp.reload(cat_utils)"
   ]
  },
  {
   "cell_type": "code",
   "execution_count": 317,
   "metadata": {
    "collapsed": false,
    "scrolled": true
   },
   "outputs": [],
   "source": [
    "numPbins = 50\n",
    "Pmin,Pmax = 1.e19,1.e24\n",
    "P_sf = 10.**np.linspace(np.log10(Pmin),np.log10(Pmax),numPbins+1)\n",
    "dp_sf = P_sf[1:]-P_sf[:-1]\n",
    "P0 = 1.e19\n",
    "def rho_P(P):\n",
    "    return 1.e-22*(P/P0)**(-2.)*(Pmin<=P)*(P<=Pmax)"
   ]
  },
  {
   "cell_type": "code",
   "execution_count": 318,
   "metadata": {
    "collapsed": false
   },
   "outputs": [],
   "source": [
    "zmax = .5\n",
    "c_over_H0 = 4283. # Mpc\n",
    "los_min_Mpc,los_max_Mpc = 20.,c_over_H0*zmax\n",
    "Mpc2m = 1.e6*3.e16"
   ]
  },
  {
   "cell_type": "code",
   "execution_count": 319,
   "metadata": {
    "collapsed": false,
    "scrolled": false
   },
   "outputs": [
    {
     "name": "stdout",
     "output_type": "stream",
     "text": [
      "306898 objects in L=1.000000e+19 bin\n",
      "244292 objects in L=1.258925e+19 bin\n",
      "192950 objects in L=1.584893e+19 bin\n",
      "153959 objects in L=1.995262e+19 bin\n",
      "122456 objects in L=2.511886e+19 bin\n",
      "97136 objects in L=3.162278e+19 bin\n",
      "77749 objects in L=3.981072e+19 bin\n",
      "61167 objects in L=5.011872e+19 bin\n",
      "48880 objects in L=6.309573e+19 bin\n",
      "38790 objects in L=7.943282e+19 bin\n",
      "30779 objects in L=1.000000e+20 bin\n",
      "24572 objects in L=1.258925e+20 bin\n",
      "19488 objects in L=1.584893e+20 bin\n",
      "15317 objects in L=1.995262e+20 bin\n",
      "12008 objects in L=2.511886e+20 bin\n",
      "9592 objects in L=3.162278e+20 bin\n",
      "7689 objects in L=3.981072e+20 bin\n",
      "6130 objects in L=5.011872e+20 bin\n",
      "4935 objects in L=6.309573e+20 bin\n",
      "3803 objects in L=7.943282e+20 bin\n",
      "3001 objects in L=1.000000e+21 bin\n",
      "2454 objects in L=1.258925e+21 bin\n",
      "1949 objects in L=1.584893e+21 bin\n",
      "1549 objects in L=1.995262e+21 bin\n",
      "1291 objects in L=2.511886e+21 bin\n",
      "963 objects in L=3.162278e+21 bin\n",
      "806 objects in L=3.981072e+21 bin\n",
      "634 objects in L=5.011872e+21 bin\n",
      "498 objects in L=6.309573e+21 bin\n",
      "360 objects in L=7.943282e+21 bin\n",
      "321 objects in L=1.000000e+22 bin\n",
      "225 objects in L=1.258925e+22 bin\n",
      "202 objects in L=1.584893e+22 bin\n",
      "163 objects in L=1.995262e+22 bin\n",
      "121 objects in L=2.511886e+22 bin\n",
      "88 objects in L=3.162278e+22 bin\n",
      "81 objects in L=3.981072e+22 bin\n",
      "67 objects in L=5.011872e+22 bin\n",
      "45 objects in L=6.309573e+22 bin\n",
      "34 objects in L=7.943282e+22 bin\n",
      "42 objects in L=1.000000e+23 bin\n",
      "25 objects in L=1.258925e+23 bin\n",
      "18 objects in L=1.584893e+23 bin\n",
      "13 objects in L=1.995262e+23 bin\n",
      "15 objects in L=2.511886e+23 bin\n",
      "8 objects in L=3.162278e+23 bin\n",
      "8 objects in L=3.981072e+23 bin\n",
      "8 objects in L=5.011872e+23 bin\n",
      "2 objects in L=6.309573e+23 bin\n",
      "4 objects in L=7.943282e+23 bin\n",
      "using 1493585 sources\n"
     ]
    }
   ],
   "source": [
    "L1_vals_per_bin = []\n",
    "dist_vals_per_bin = []\n",
    "\n",
    "for i in range(numPbins):\n",
    "    mean_num_objects_in_bin = rho_P(P_sf[i])*dp_sf[i]*trans_Mpc**2*(los_max_Mpc-los_min_Mpc)\n",
    "    num_objects_in_bin = np.random.poisson(mean_num_objects_in_bin)\n",
    "    dists_Mpc = np.random.uniform(los_min_Mpc,los_max_Mpc,num_objects_in_bin)\n",
    "    \n",
    "    jy_vals = P_sf[i]/(4.*np.pi*(dists_Mpc*Mpc2m)**2)/1.e-29\n",
    "\n",
    "    L1_vals_per_bin.append(P_sf[i]+np.zeros(num_objects_in_bin))\n",
    "    dist_vals_per_bin.append(dists_Mpc)\n",
    "\n",
    "    print('%d objects in L=%e bin'%(num_objects_in_bin,P_sf[i]))\n",
    "\n",
    "L1_vals = np.concatenate(L1_vals_per_bin).flatten()\n",
    "dist_vals = np.concatenate(dist_vals_per_bin).flatten()\n",
    "\n",
    "print('using %d sources'%(len(L1_vals)))"
   ]
  },
  {
   "cell_type": "code",
   "execution_count": 331,
   "metadata": {
    "collapsed": false
   },
   "outputs": [
    {
     "data": {
      "text/plain": [
       "[<matplotlib.lines.Line2D at 0x120cc5d10>]"
      ]
     },
     "execution_count": 331,
     "metadata": {},
     "output_type": "execute_result"
    },
    {
     "data": {
      "image/png": "[encoded data removed]",
      "text/plain": [
       "<matplotlib.figure.Figure at 0x11b62b6d0>"
      ]
     },
     "metadata": {},
     "output_type": "display_data"
    }
   ],
   "source": [
    "a=plt.hist(np.log10(L1_vals),60,histtype='step')\n",
    "plt.gca().set_yscale('log')\n",
    "plt.plot(np.linspace(19,23),(10.**np.linspace(19,23))**(-2+1)*3e24,'r')\n",
    "#plt.ylim([0,100000])"
   ]
  },
  {
   "cell_type": "code",
   "execution_count": 346,
   "metadata": {
    "collapsed": false
   },
   "outputs": [
    {
     "name": "stderr",
     "output_type": "stream",
     "text": [
      "/Users/abrahamn/anaconda2/lib/python2.7/site-packages/ipykernel/__main__.py:3: RuntimeWarning: divide by zero encountered in power\n",
      "  app.launch_new_instance()\n"
     ]
    },
    {
     "data": {
      "text/plain": [
       "(11628.716412789583, 100000)"
      ]
     },
     "execution_count": 346,
     "metadata": {},
     "output_type": "execute_result"
    },
    {
     "data": {
      "image/png": "[encoded data removed]",
      "text/plain": [
       "<matplotlib.figure.Figure at 0x12438fc90>"
      ]
     },
     "metadata": {},
     "output_type": "display_data"
    }
   ],
   "source": [
    "a=plt.hist(dist_vals**2,60,histtype='step')\n",
    "plt.gca().set_yscale('log')\n",
    "plt.plot(np.arange(0,5.e6,1.e3),2.6e7*np.arange(0,5.e6,1.e3)**(-.5),'r')\n",
    "plt.ylim([0,100000])"
   ]
  },
  {
   "cell_type": "code",
   "execution_count": 335,
   "metadata": {
    "collapsed": false
   },
   "outputs": [],
   "source": [
    "# L2_vals = np.random.choice(a=P_sf,size=len(L1_vals),p=phi_sf_in_bins/np.sum(phi_sf_in_bins),replace=True)"
   ]
  },
  {
   "cell_type": "code",
   "execution_count": 336,
   "metadata": {
    "collapsed": false
   },
   "outputs": [],
   "source": [
    "F1_vals = L1_vals/(4.*np.pi*(dist_vals*Mpc2m)**2)/1.e-29\n",
    "# F2_vals = L2_vals/(4.*np.pi*(dist_vals*Mpc2m)**2)/1.e-29"
   ]
  },
  {
   "cell_type": "code",
   "execution_count": 338,
   "metadata": {
    "collapsed": false
   },
   "outputs": [
    {
     "data": {
      "image/png": "[encoded data removed]",
      "text/plain": [
       "<matplotlib.figure.Figure at 0x11b5f3a50>"
      ]
     },
     "metadata": {},
     "output_type": "display_data"
    }
   ],
   "source": [
    "plt.hist(np.log10(F1_vals),30)\n",
    "plt.gca().set_yscale('log')"
   ]
  },
  {
   "cell_type": "code",
   "execution_count": null,
   "metadata": {
    "collapsed": true
   },
   "outputs": [],
   "source": []
  },
  {
   "cell_type": "code",
   "execution_count": 392,
   "metadata": {
    "collapsed": true
   },
   "outputs": [],
   "source": [
    "alpha0,alpha1 = los_min_Mpc**2,los_max_Mpc**2\n",
    "num_alpha = 50\n",
    "alpha_edges = 10.**np.linspace(np.log10(alpha0),np.log10(alpha1),num_alpha+1)\n",
    "dalpha = alpha_edges[1:]-alpha_edges[:-1]\n",
    "alpha = .5*(alpha_edges[1:]+alpha_edges[:-1])"
   ]
  },
  {
   "cell_type": "code",
   "execution_count": 393,
   "metadata": {
    "collapsed": false
   },
   "outputs": [],
   "source": [
    "numF = 50\n",
    "Fedges = 10.**np.linspace(-5,3,numF+1)\n",
    "dF = Fedges[1:]-Fedges[:-1]\n",
    "F = .5*(Fedges[1:]+Fedges[:-1])"
   ]
  },
  {
   "cell_type": "code",
   "execution_count": 394,
   "metadata": {
    "collapsed": false
   },
   "outputs": [],
   "source": [
    "rho_F = np.zeros(numF)\n",
    "for i in range(numF):\n",
    "    for alphai in range(num_alpha):\n",
    "        L = 1.e-29*4*np.pi*F[i]*alpha[alphai]*Mpc2m**2\n",
    "        rho_F[i] += dalpha[alphai]*alpha[alphai]**.5*rho_P(L)*dF[i]"
   ]
  },
  {
   "cell_type": "code",
   "execution_count": 395,
   "metadata": {
    "collapsed": false
   },
   "outputs": [
    {
     "name": "stderr",
     "output_type": "stream",
     "text": [
      "/Users/abrahamn/anaconda2/lib/python2.7/site-packages/ipykernel/__main__.py:4: RuntimeWarning: divide by zero encountered in log10\n"
     ]
    },
    {
     "data": {
      "text/plain": [
       "(-6, 3)"
      ]
     },
     "execution_count": 395,
     "metadata": {},
     "output_type": "execute_result"
    },
    {
     "data": {
      "image/png": "[encoded data removed]",
      "text/plain": [
       "<matplotlib.figure.Figure at 0x12553f810>"
      ]
     },
     "metadata": {},
     "output_type": "display_data"
    }
   ],
   "source": [
    "hist,bin_edges = np.histogram(np.log10(1.e29*L1_vals/(4*np.pi*Mpc2m**2*dist_vals**2)),20)\n",
    "bin_centers = .5*(bin_edges[1:]+bin_edges[:-1])\n",
    "plt.plot(bin_centers,np.log10(hist),'b.-')\n",
    "plt.plot(np.log10(F),np.log10(rho_F)+23,'r')\n",
    "plt.xlim([-6,3])\n",
    "#plt.ylim([0,7])"
   ]
  },
  {
   "cell_type": "code",
   "execution_count": null,
   "metadata": {
    "collapsed": true
   },
   "outputs": [],
   "source": []
  },
  {
   "cell_type": "code",
   "execution_count": null,
   "metadata": {
    "collapsed": true
   },
   "outputs": [],
   "source": []
  },
  {
   "cell_type": "code",
   "execution_count": null,
   "metadata": {
    "collapsed": true
   },
   "outputs": [],
   "source": []
  },
  {
   "cell_type": "code",
   "execution_count": null,
   "metadata": {
    "collapsed": true
   },
   "outputs": [],
   "source": []
  },
  {
   "cell_type": "code",
   "execution_count": null,
   "metadata": {
    "collapsed": true
   },
   "outputs": [],
   "source": []
  }
 ],
 "metadata": {
  "kernelspec": {
   "display_name": "Python 2",
   "language": "python",
   "name": "python2"
  },
  "language_info": {
   "codemirror_mode": {
    "name": "ipython",
    "version": 2
   },
   "file_extension": ".py",
   "mimetype": "text/x-python",
   "name": "python",
   "nbconvert_exporter": "python",
   "pygments_lexer": "ipython2",
   "version": "2.7.12"
  }
 },
 "nbformat": 4,
 "nbformat_minor": 1
}
