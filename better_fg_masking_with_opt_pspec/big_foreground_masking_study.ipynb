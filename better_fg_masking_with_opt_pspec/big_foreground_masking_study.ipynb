{
 "cells": [
  {
   "cell_type": "code",
   "execution_count": 6,
   "metadata": {
    "collapsed": true
   },
   "outputs": [],
   "source": [
    "import numpy as np\n",
    "import matplotlib\n",
    "%matplotlib inline\n",
    "import matplotlib.pyplot as plt\n",
    "import cPickle as pickle\n",
    "\n",
    "from astropy.io import fits\n",
    "from astropy import wcs\n",
    "import pickle\n",
    "\n",
    "import sys\n",
    "import imp\n",
    "sys.path.insert(0, '/home/abrahamn/21cmIRxcor/')\n",
    "import cat_utils\n",
    "imp.reload(cat_utils)\n",
    "from scipy.optimize import curve_fit\n",
    "import scipy\n",
    "\n",
    "from numpy import sqrt,matrix,transpose,array,fft,pi,zeros,meshgrid,random,linspace,arange,where,exp,conj,real,trace\n",
    "from scipy.linalg import sqrtm,inv"
   ]
  },
  {
   "cell_type": "code",
   "execution_count": 7,
   "metadata": {
    "collapsed": true
   },
   "outputs": [],
   "source": [
    "# LOAD LITERATURE IR POWER SPECTRA (Zemcov+ 14)\n",
    "\n",
    "dat_dir = '../zemcov14_data/'\n",
    "ell_Cell_ciber = np.genfromtxt(dat_dir+'zemcov14_CIBER_data_with_errors_Cl.txt',skip_header=4,delimiter=',')\n",
    "ell_Cell_eormodel = np.genfromtxt(dat_dir+'zemcov14_eor_Cl.txt',skip_header=1,delimiter=',')\n",
    "\n",
    "# these are in nW/m^2/sr, but I want to convert them to kJy/sr\n",
    "# I have to divide by the bandwidth of 0.5um\n",
    "lamda_m = 1.1e-6\n",
    "freq_Hz = 3.e8/lamda_m\n",
    "convert_to_kJy_per_sr = 1.e-9/freq_Hz/(1.e3*1.e-26)\n",
    "\n",
    "ell_Cell_ciber[:,1] *= convert_to_kJy_per_sr\n",
    "ell_Cell_eormodel[:,1] *= convert_to_kJy_per_sr"
   ]
  },
  {
   "cell_type": "code",
   "execution_count": 8,
   "metadata": {
    "collapsed": false
   },
   "outputs": [
    {
     "name": "stdout",
     "output_type": "stream",
     "text": [
      "['0299I_0303I_0307I_0319I_0323I_0327I_0339I_0343I_0347I', '0298I_0302I_0306I_0318I_0322I_0326I_0338I_0342I_0346I', '0301I_0305I_0309I_0321I_0325I_0329I_0341I_0345I_0349I', '0300I_0304I_0308I_0320I_0324I_0328I_0340I_0344I_0348I']\n",
      "['0299I_0303I_0307I_0319I_0323I_0327I_0339I_0343I_0347I', '0298I_0302I_0306I_0318I_0322I_0326I_0338I_0342I_0346I', '0301I_0305I_0309I_0321I_0325I_0329I_0341I_0345I_0349I', '0300I_0304I_0308I_0320I_0324I_0328I_0340I_0344I_0348I']\n"
     ]
    }
   ],
   "source": [
    "label_groups = [ \\\n",
    "'02a57694o0299I 02a57694o0303I 02a57694o0307I 02a57694o0319I 02a57694o0323I 02a57694o0327I 02a57694o0339I 02a57694o0343I 02a57694o0347I', \\\n",
    "'02a57694o0298I 02a57694o0302I 02a57694o0306I 02a57694o0318I 02a57694o0322I 02a57694o0326I 02a57694o0338I 02a57694o0342I 02a57694o0346I',\\\n",
    "'02a57694o0301I 02a57694o0305I 02a57694o0309I 02a57694o0321I 02a57694o0325I 02a57694o0329I 02a57694o0341I 02a57694o0345I 02a57694o0349I',\\\n",
    "'02a57694o0300I 02a57694o0304I 02a57694o0308I 02a57694o0320I 02a57694o0324I 02a57694o0328I 02a57694o0340I 02a57694o0344I 02a57694o0348I']\n",
    "\n",
    "analysis_names = ['_'.join([l.split('o')[1] for l in labelgroup.split()]) for labelgroup in label_groups]\n",
    "print(analysis_names)\n",
    "\n",
    "run = 'ATLAS_mwa57694_rereduction'\n",
    "xcor_data_dir = '/home/abrahamn/xcor_data/'\n",
    "raw_frames_root = xcor_data_dir+run+'/'\n",
    "analysis_roots = [xcor_data_dir+'analysis/'+run+'/' + a + '/' for a in analysis_names]\n",
    "print(analysis_names)"
   ]
  },
  {
   "cell_type": "code",
   "execution_count": 9,
   "metadata": {
    "collapsed": false
   },
   "outputs": [
    {
     "name": "stdout",
     "output_type": "stream",
     "text": [
      "loading/home/abrahamn/xcor_data/analysis/ATLAS_mwa57694_rereduction/0299I_0303I_0307I_0319I_0323I_0327I_0339I_0343I_0347I/0299I_0303I_0307I_0319I_0323I_0327I_0339I_0343I_0347I.sex\n",
      "loading/home/abrahamn/xcor_data/analysis/ATLAS_mwa57694_rereduction/0298I_0302I_0306I_0318I_0322I_0326I_0338I_0342I_0346I/0298I_0302I_0306I_0318I_0322I_0326I_0338I_0342I_0346I.sex\n",
      "loading/home/abrahamn/xcor_data/analysis/ATLAS_mwa57694_rereduction/0301I_0305I_0309I_0321I_0325I_0329I_0341I_0345I_0349I/0301I_0305I_0309I_0321I_0325I_0329I_0341I_0345I_0349I.sex\n",
      "loading/home/abrahamn/xcor_data/analysis/ATLAS_mwa57694_rereduction/0300I_0304I_0308I_0320I_0324I_0328I_0340I_0344I_0348I/0300I_0304I_0308I_0320I_0324I_0328I_0340I_0344I_0348I.sex\n"
     ]
    }
   ],
   "source": [
    "secats = []\n",
    "for i in range(4):\n",
    "    secat = cat_utils.IRCatalog(se_path=analysis_roots[i]+analysis_names[i]+'.sex',se_magzpt=20.46)\n",
    "    g = secat.jy_all>1.e-10\n",
    "    secat = cat_utils.Catalog(secat.ra_all[g],secat.dec_all[g],secat.jy_all[g],a=secat.a[g],b=secat.b[g])\n",
    "    \n",
    "    secats.append(secat)"
   ]
  },
  {
   "cell_type": "code",
   "execution_count": 12,
   "metadata": {
    "collapsed": false
   },
   "outputs": [
    {
     "name": "stderr",
     "output_type": "stream",
     "text": [
      "WARNING: FITSFixedWarning: 'datfix' made the change 'Changed '' to '2016-11-02T08:08:01.338''. [astropy.wcs.wcs]\n"
     ]
    },
    {
     "name": "stdout",
     "output_type": "stream",
     "text": [
      "(2.7401479326601912, -24.789017138633387)\n"
     ]
    },
    {
     "name": "stderr",
     "output_type": "stream",
     "text": [
      "WARNING: FITSFixedWarning: 'datfix' made the change 'Changed '' to '2016-11-02T08:07:12.937''. [astropy.wcs.wcs]\n"
     ]
    },
    {
     "name": "stdout",
     "output_type": "stream",
     "text": [
      "(357.24780231196945, -24.689997090704114)\n"
     ]
    },
    {
     "name": "stderr",
     "output_type": "stream",
     "text": [
      "WARNING: FITSFixedWarning: 'datfix' made the change 'Changed '' to '2016-11-02T08:09:36.897''. [astropy.wcs.wcs]\n"
     ]
    },
    {
     "name": "stdout",
     "output_type": "stream",
     "text": [
      "(2.8473810974648135, -29.130555545466265)\n"
     ]
    },
    {
     "name": "stderr",
     "output_type": "stream",
     "text": [
      "WARNING: FITSFixedWarning: 'datfix' made the change 'Changed '' to '2016-11-02T08:08:49.766''. [astropy.wcs.wcs]\n"
     ]
    },
    {
     "name": "stdout",
     "output_type": "stream",
     "text": [
      "(357.1338790636421, -29.228966964566052)\n"
     ]
    },
    {
     "data": {
      "image/png": "[encoded data removed]",
      "text/plain": [
       "<matplotlib.figure.Figure at 0x7f46a04e2650>"
      ]
     },
     "metadata": {},
     "output_type": "display_data"
    },
    {
     "data": {
      "image/png": "[encoded data removed]",
      "text/plain": [
       "<matplotlib.figure.Figure at 0x7f46a04ebe50>"
      ]
     },
     "metadata": {},
     "output_type": "display_data"
    },
    {
     "data": {
      "image/png": "[encoded data removed]",
      "text/plain": [
       "<matplotlib.figure.Figure at 0x7f4671f15f10>"
      ]
     },
     "metadata": {},
     "output_type": "display_data"
    },
    {
     "data": {
      "image/png": "[encoded data removed]",
      "text/plain": [
       "<matplotlib.figure.Figure at 0x7f4671fae4d0>"
      ]
     },
     "metadata": {},
     "output_type": "display_data"
    }
   ],
   "source": [
    "imgs = []\n",
    "ws = []\n",
    "x_meds = []\n",
    "y_meds = []\n",
    "racents = []\n",
    "deccents = []\n",
    "\n",
    "for i in range(4):\n",
    "    img_fits_path = analysis_roots[i]+analysis_names[i]+'.fits'\n",
    "\n",
    "    hdulist_img = fits.open(img_fits_path)\n",
    "    img = hdulist_img[0].data\n",
    "    h = hdulist_img[0].header\n",
    "    n = img.shape[0]\n",
    "    hdulist_img.close()\n",
    "    w = wcs.WCS(h)\n",
    "    asec_per_pixel = np.abs(h['CD1_1'])*3600\n",
    "    \n",
    "    plt.figure()\n",
    "    plt.imshow(img[::10,::10]>0)\n",
    "\n",
    "    x,y = np.where(img != 0)\n",
    "    x_med, y_med = int(np.median(x)),int(np.median(y))\n",
    "    \n",
    "    radeccent = w.wcs_pix2world(x_med,y_med,0)\n",
    "    racent,deccent = 1.*radeccent[0],1.*radeccent[1]\n",
    "    print(racent,deccent)\n",
    "    \n",
    "    imgs.append(img)\n",
    "    ws.append(w)\n",
    "    x_meds.append(x_med)\n",
    "    y_meds.append(y_med)\n",
    "    racents.append(racent)\n",
    "    deccents.append(deccent)"
   ]
  },
  {
   "cell_type": "code",
   "execution_count": 13,
   "metadata": {
    "collapsed": false
   },
   "outputs": [],
   "source": [
    "def mask_circle_in_image(m,xcent,ycent,r):    \n",
    "    if r == 0: return\n",
    "    \n",
    "    n=m.shape[0]\n",
    "    if not ((0<=xcent<n) and (0<=ycent<n)): return\n",
    "    for y in range(-int(r),int(r)+1): # x is the x distance from circle center\n",
    "        if not (0 <= ycent+y < n): continue\n",
    "        #print(n)\n",
    "        #print(int(xcent-np.sqrt(r**2-y**2)),int(xcent+np.sqrt(r**2-y**2)))\n",
    "        #rint(max(0,int(xcent-np.sqrt(r**2-y**2))),min(n,int(xcent+np.sqrt(r**2-y**2))),)\n",
    "        m[ycent+y,max(0,int(xcent-np.sqrt(r**2-y**2))):min(n,int(xcent+np.sqrt(r**2-y**2)))] = 0\n",
    "        \n",
    "def gauss(x, *p):\n",
    "    A, mu, sigma = p\n",
    "    return A*np.exp(-(x-mu)**2/(2.*sigma**2))\n",
    "\n",
    "def bin_image_with_mask(img,mask,n_coarse,coarse_bin_factor,min_fraction_unmasked=.5,gauss_fit_min=.1,bin_method='fit'): # or 'avg'\n",
    "    img_binned = np.zeros((n_coarse,n_coarse))\n",
    "    \n",
    "    binedges = np.linspace(300,400,200) # for the hist gaussian fitting\n",
    "    \n",
    "    print(bin_method)\n",
    "    \n",
    "    for i in range(n_coarse):\n",
    "        if i % 15 == 0: print('%1.3f '%(1.*i/n_coarse)),\n",
    "        for j in range(n_coarse):\n",
    "            img_in_this_coarse_bin = img[i*coarse_bin_factor:(i+1)*coarse_bin_factor,j*coarse_bin_factor:(j+1)*coarse_bin_factor]\n",
    "            mask_in_this_coarse_bin = mask[i*coarse_bin_factor:(i+1)*coarse_bin_factor,j*coarse_bin_factor:(j+1)*coarse_bin_factor]\n",
    "            if np.any(img_in_this_coarse_bin==0) or np.sum(mask_in_this_coarse_bin)<min_fraction_unmasked*coarse_bin_factor**2: continue\n",
    "\n",
    "            unmasked_img_vals = img_in_this_coarse_bin[1==mask_in_this_coarse_bin]\n",
    "                \n",
    "            if bin_method == 'avg':\n",
    "                img_binned[i,j] = np.mean(unmasked_img_vals)\n",
    "            elif bin_method == 'fit':\n",
    "                counts,binedges = np.histogram(unmasked_img_vals,binedges)\n",
    "                bins = .5*(binedges[1:]+binedges[:-1])\n",
    "                g = counts>np.max(counts)*gauss_fit_min\n",
    "\n",
    "                try:\n",
    "                    coeff, var_matrix = curve_fit(gauss, bins[g], counts[g],\\\n",
    "                                                  p0=[np.max(counts),np.median(img_in_this_coarse_bin[1==mask_in_this_coarse_bin]),10],\\\n",
    "                                                  sigma=np.sqrt(counts[g]))\n",
    "                    img_binned[i,j] = coeff[1]\n",
    "                except:\n",
    "                    pass\n",
    "    return img_binned"
   ]
  },
  {
   "cell_type": "code",
   "execution_count": 15,
   "metadata": {
    "collapsed": true
   },
   "outputs": [],
   "source": [
    "def make_hann_2D(n):\n",
    "    w = scipy.signal.hann(n)\n",
    "    wx,wy = np.meshgrid(w,w)\n",
    "    w2 = wx*wy\n",
    "    return w2, sqrt(np.mean(w2**2))\n",
    "\n",
    "def make_bins(lmin,lmax,nbins,uselogbins):\n",
    "    if uselogbins: \n",
    "        lbinedges = 10.**linspace(np.log10(lmin),np.log10(lmax),nbins+1)\n",
    "    else:\n",
    "        lbinedges = linspace(lmin,lmax,nbins+1)\n",
    "    lbincenters = .5*(lbinedges[0:nbins]+lbinedges[1:nbins+1])\n",
    "    return lbincenters,lbinedges\n",
    "\n",
    "def vec2arr(v):\n",
    "    return np.array(v).flatten()\n",
    "\n",
    "def img2PS(img,dtheta_rad,nbins,lmin,lmax,uselogbins=True,usehann=False,filt_small_lx_and_ly_bins=False):\n",
    "    lbincenters,lbinedges = make_bins(lmin,lmax,nbins,uselogbins)\n",
    "\n",
    "    n = img.shape[0]\n",
    "    lvals = fft.fftfreq(n)*2*np.pi/dtheta_rad\n",
    "    lx,ly = meshgrid(lvals,lvals)\n",
    "    dl = np.abs(lvals[1]-lvals[0])\n",
    "    lmag  = sqrt(lx**2+ly**2)\n",
    "    print(np.max(lmag))\n",
    "    ft_mask = (np.abs(lx)>2*dl)&(np.abs(ly)>2*dl)\n",
    "\n",
    "    wind,windrms = np.ones((n,n)),1\n",
    "    if usehann: wind,windrms = make_hann_2D(n)\n",
    "    img_ft = fft.fft2((img-img.mean())*wind)/windrms\n",
    "    \n",
    "    pspec_binned = np.zeros(nbins)\n",
    "\n",
    "    bin_counts = np.zeros(nbins)\n",
    "    for bini in range(nbins):\n",
    "        inbin = (lmag>lbinedges[bini])&(lmag<lbinedges[bini+1])\n",
    "        if filt_small_lx_and_ly_bins: inbin &= ft_mask\n",
    "        bin_counts[bini] = np.sum(inbin)\n",
    "\n",
    "        pspec_binned[bini] = np.mean(np.abs(img_ft[inbin])**2)\n",
    "\n",
    "    pspec_norm = (dtheta_rad**2)/(n**2)\n",
    "    return lbincenters,pspec_binned*pspec_norm,bin_counts\n",
    "\n",
    "def img2optPS(img_meas,pguess_method,dtheta_rad,nbins,lmin,lmax,uselogbins=True,interp_pguess=False,verbose=False,filt_small_lx_and_ly_bins=False):\n",
    "    n = img_meas.shape[0]\n",
    "    norm = (dtheta_rad**2)/(n**2)*n**4\n",
    "    xir = matrix(img_meas.flatten()).T\n",
    "\n",
    "    lbincenters,lbinedges = make_bins(lmin,lmax,nbins,uselogbins=uselogbins)\n",
    "\n",
    "    lvals = fft.fftfreq(n)*2*pi/dtheta_rad # ell values\n",
    "    dl = np.abs(lvals[1]-lvals[0])\n",
    "    print('\\ndl = %d'%(lvals[1]-lvals[0]))\n",
    "    lxgrid,lygrid = meshgrid(lvals,lvals)\n",
    "    lmaggrid = sqrt(lxgrid**2+lygrid**2)\n",
    "\n",
    "    if verbose:\n",
    "        for bini in range(nbins):\n",
    "            if filt_small_lx_and_ly_bins:\n",
    "                smallell = (np.abs(lxgrid)>2*dl)&(np.abs(lygrid)>2*dl)\n",
    "                print('%d cells in \\ell=%1.1f bin'%(np.sum((lbinedges[bini]<lmaggrid)&(lmaggrid<lbinedges[bini+1])&smallell),lbincenters[bini]))\n",
    "            else:\n",
    "                print('%d cells in \\ell=%1.1f bin'%(np.sum((lbinedges[bini]<lmaggrid)&(lmaggrid<lbinedges[bini+1])),lbincenters[bini]))\n",
    "    \n",
    "    thvals = (arange(n)-n/2)*dtheta_rad # theta values\n",
    "    thxgrid,thygrid = meshgrid(thvals,thvals)\n",
    "    \n",
    "    def gen_Ccommabini(bini):\n",
    "        inbin = (lmaggrid>=lbinedges[bini])*(lmaggrid<lbinedges[bini+1])\n",
    "        if filt_small_lx_and_ly_bins: inbin &= (np.abs(lxgrid)>2*dl)&(np.abs(lygrid)>2*dl)\n",
    "        ivals_inbin,jvals_inbin = where(inbin)\n",
    "\n",
    "        lxvals,thxvals = meshgrid(lxgrid[ivals_inbin,jvals_inbin],thxgrid.flatten()) # ell_x and theta_x\n",
    "        lyvals,thyvals = meshgrid(lygrid[ivals_inbin,jvals_inbin],thygrid.flatten()) # ell_y and theta_y\n",
    "        Ccommabini_0 = matrix(exp(1j*(lxvals*thxvals+lyvals*thyvals)))\n",
    "        Ccommabini = Ccommabini_0*conj(Ccommabini_0.T)\n",
    "        return Ccommabini\n",
    "    #Ccomma_mats = [gen_Ccommabini(bini) for bini in range(nbins)]\n",
    "\n",
    "\n",
    "    # put in a guess of the data covariance\n",
    "    print('a '),\n",
    "    # generate the fourier transform matrix\n",
    "    lxvals,thxvals = meshgrid(lxgrid.flatten(),thxgrid.flatten()) # ell_x and theta_x\n",
    "    lyvals,thyvals = meshgrid(lygrid.flatten(),thygrid.flatten()) # ell_y and theta_y\n",
    "    F = matrix(exp(1j*(lxvals*thxvals+lyvals*thyvals)))/n**2\n",
    "    \n",
    "    if pguess_method == 'zemcov':\n",
    "        pguess = np.interp(lbincenters,ell_Cell_ciber[1::3,0],ell_Cell_ciber[1::3,1]**2/ell_Cell_ciber[1::3,0]**2)\n",
    "    else:\n",
    "        pguess = 1./lbincenters**pguess_method\n",
    "    \n",
    "    Cguess_ft = matrix(np.diag( 10.**np.interp(np.log10(lmaggrid.flatten()),np.log10(lbincenters),np.log10(pguess/norm/n**2)) ))   \n",
    "    Csignal = F*Cguess_ft*conj(F).T\n",
    "            \n",
    "    print('c '),\n",
    "    Cmask = 1.e5*np.matrix(np.diag(img_meas.flatten()==0)) # IS THIS A REASONABLE NUMBER ??\n",
    "    print('d '),\n",
    "    Cinv = inv(Csignal + Cmask)\n",
    "\n",
    "    print('e '),\n",
    "    # calculate q_alpha\n",
    "    q = np.matrix(np.zeros((nbins,1)))\n",
    "    Ccomma_times_Cinv_mats = []\n",
    "    print('\\nbins: '),\n",
    "    for bini in range(nbins):\n",
    "        print(bini),\n",
    "        Ccommabini_times_Cinv = gen_Ccommabini(bini)*Cinv\n",
    "        Ccomma_times_Cinv_mats.append(Ccommabini_times_Cinv)\n",
    "        q[bini] = .5*real(xir.T*Cinv*Ccommabini_times_Cinv*xir).item()\n",
    "\n",
    "    # calculate Fisher matrix\n",
    "\n",
    "    Fish = np.matrix(np.zeros((nbins,nbins)))\n",
    "    print('\\nfisher row: '),\n",
    "    for i in range(nbins):\n",
    "        print(i),\n",
    "        for j in range(i,nbins):\n",
    "            Fish[i,j] = np.real(.5*trace(Ccomma_times_Cinv_mats[i]*Ccomma_times_Cinv_mats[j]))\n",
    "            Fish[j,i] = Fish[i,j]\n",
    "    \n",
    "    p0 = vec2arr(sqrtm(inv(Fish))*q)*norm/vec2arr(np.max(sqrt(Fish),axis=0))\n",
    "    p1 = vec2arr(inv(Fish)*q*norm)\n",
    "\n",
    "    return lbincenters,p0,Fish"
   ]
  },
  {
   "cell_type": "code",
   "execution_count": 16,
   "metadata": {
    "collapsed": false
   },
   "outputs": [],
   "source": [
    "def rawimg2pspec(img,w,secat,mask_coef1=10,mask_coef2=12,mask_above_median_adu_plus=1.e9,\\\n",
    "             target_coarse_res_amin=3.5,min_fraction_unmasked=.5,gauss_fit_min=.1,\\\n",
    "             fov_deg=4.,ps_method='oqe',filt_small_lx_and_ly_bins=True,lmin=350,lmax=4360,nbins=8,\\\n",
    "             uselogbins=True,use_fft_hann=False,masked_img_zoom_skip=1,bin_method='avg',pguess_method='zemcov'):\n",
    "    \n",
    "    mask = np.ones(img.shape)\n",
    "    px,py = w.wcs_world2pix(secat.ra,secat.dec,1)\n",
    "\n",
    "    print('masking sources')\n",
    "    for i in range(len(secat.ra)):\n",
    "        if i % 2500 == 0: print('%1.3f '%(1.*i/len(secat.ra))),\n",
    "        mask_circle_in_image(mask,px[i],py[i],mask_coef1*secat.jy[i]/asec_per_pixel+mask_coef2*min(secat.a[i],secat.b[i]))\n",
    "        \n",
    "    \n",
    "    mask *= img < mask_above_median_adu_plus + np.median(img[img>0]) # to active this, set mask_above_median_adu_plus = 10    \n",
    "    \n",
    "    dd = 300\n",
    "    x,y = np.where(img != 0)\n",
    "    x_med, y_med = int(np.median(x)),int(np.median(y))\n",
    "    x0,x1 = x_med-dd,x_med+dd\n",
    "    y0,y1 = y_med-dd,y_med+dd\n",
    "    skip = masked_img_zoom_skip\n",
    "    masked_img_zoom = img[x0:x1:skip,y0:y1:skip]*mask[x0:x1:skip,y0:y1:skip]\n",
    "    \n",
    "    target_coarse_res_asec = target_coarse_res_amin*60\n",
    "    fine_pixel_asec = 1.86\n",
    "    coarse_bin_factor = int(np.round(target_coarse_res_asec/fine_pixel_asec))\n",
    "    dtheta_coarse_rad = fine_pixel_asec*coarse_bin_factor/3600*np.pi/180\n",
    "\n",
    "    n_coarse = int(np.floor(1.*n/coarse_bin_factor))\n",
    "    n_fine_max = n_coarse*coarse_bin_factor\n",
    "    print('n_coarse = %d, coarse_bin_factor = %d'%(n_coarse,coarse_bin_factor))\n",
    "    \n",
    "    print('binning image')\n",
    "    img_coarse = bin_image_with_mask(img,mask,n_coarse,coarse_bin_factor,min_fraction_unmasked,gauss_fit_min,bin_method=bin_method)\n",
    "    \n",
    "    d = int(fov_deg*np.pi/180/dtheta_coarse_rad)\n",
    "    dtheta_rad = fine_pixel_asec/3600*np.pi/180\n",
    "    x0 = int(x_med*dtheta_rad/dtheta_coarse_rad-d/2+1)\n",
    "    x1 = x0+d\n",
    "    y0 = int(y_med*dtheta_rad/dtheta_coarse_rad-d/2+1)\n",
    "    y1 = y0+d\n",
    "\n",
    "    magzpt,exp_time_sec = 20.56,30\n",
    "    adu2jy_per_sr = 3.631*(10**(-magzpt/2.5))/exp_time_sec/dtheta_coarse_rad**2*coarse_bin_factor**2\n",
    "\n",
    "    img_kjy_per_sr = adu2jy_per_sr*img_coarse[x0:x1,y0:y1]\n",
    "    img_kjy_per_sr_meansub = np.array(img_kjy_per_sr)\n",
    "    img_kjy_per_sr_meansub[img_kjy_per_sr_meansub!=0] -= np.mean(img_kjy_per_sr_meansub[img_kjy_per_sr_meansub!=0])\n",
    "\n",
    "    lbins,pspec,bin_counts = img2PS(img_kjy_per_sr_meansub,dtheta_coarse_rad,nbins,lmin,lmax,\\\n",
    "                                     uselogbins=True,usehann=use_fft_hann,\\\n",
    "                                     filt_small_lx_and_ly_bins=filt_small_lx_and_ly_bins)\n",
    "    \n",
    "    if ps_method == 'oqe':\n",
    "        lbins,pspec,Fish = img2optPS(img_kjy_per_sr_meansub,pguess_method,dtheta_coarse_rad,nbins,lmin,lmax,\\\n",
    "                                  uselogbins=uselogbins,interp_pguess=True,verbose=True,\\\n",
    "                                  filt_small_lx_and_ly_bins=filt_small_lx_and_ly_bins)\n",
    "    \n",
    "    print('done')\n",
    "    return lbins,pspec,img_kjy_per_sr,masked_img_zoom"
   ]
  },
  {
   "cell_type": "code",
   "execution_count": 25,
   "metadata": {
    "collapsed": false
   },
   "outputs": [
    {
     "name": "stdout",
     "output_type": "stream",
     "text": [
      "masking sources\n",
      "0.000  0.049  0.098  0.147  0.196  0.245 "
     ]
    },
    {
     "name": "stderr",
     "output_type": "stream",
     "text": [
      "/home/abrahamn/anaconda2/lib/python2.7/site-packages/ipykernel/__main__.py:11: DeprecationWarning: using a non-integer number instead of an integer will result in an error in the future\n"
     ]
    },
    {
     "name": "stdout",
     "output_type": "stream",
     "text": [
      " 0.295  0.344  0.393  0.442  0.491  0.540  0.589  0.638  0.687  0.736  0.786  0.835  0.884  0.933  0.982  n_coarse = 205, coarse_bin_factor = 113\n",
      "binning image\n",
      "avg\n",
      "0.000  0.073  0.146  0.220  0.293  0.366  0.439  0.512  0.585  0.659  0.732  0.805  0.878  0.951  4360.12174526\n",
      "done\n",
      "masking sources\n",
      "0.000  0.049  0.098  0.147  0.196  0.245  0.295  0.344  0.393  0.442  0.491  0.540  0.589  0.638  0.687  0.736  0.786  0.835  0.884  0.933  0.982  n_coarse = 205, coarse_bin_factor = 113\n",
      "binning image\n",
      "avg\n",
      "0.000  0.073  0.146  0.220  0.293  0.366  0.439  0.512  0.585  0.659  0.732  0.805  0.878  0.951  4360.12174526\n",
      "\n",
      "dl = 90\n",
      "44 cells in \\ell=414.9 bin\n",
      "80 cells in \\ell=568.6 bin\n",
      "136 cells in \\ell=779.4 bin\n",
      "288 cells in \\ell=1068.3 bin\n",
      "500 cells in \\ell=1464.2 bin\n",
      "968 cells in \\ell=2007.0 bin\n",
      "1754 cells in \\ell=2750.9 bin\n",
      "808 cells in \\ell=3770.5 bin\n",
      "a "
     ]
    },
    {
     "name": "stderr",
     "output_type": "stream",
     "text": [
      "/home/abrahamn/anaconda2/lib/python2.7/site-packages/ipykernel/__main__.py:95: RuntimeWarning: divide by zero encountered in log10\n"
     ]
    },
    {
     "name": "stdout",
     "output_type": "stream",
     "text": [
      " c  d  e  \n",
      "bins:  0 1 2 3 4 5 6 7 \n",
      "fisher row:  0 1 2 3 4 5 6 7 done\n",
      "masking sources\n",
      "0.000  0.049  0.098  0.147  0.196  0.245  0.295  0.344  0.393  0.442  0.491  0.540  0.589  0.638  0.687  0.736  0.786  0.835  0.884  0.933  0.982  n_coarse = 205, coarse_bin_factor = 113\n",
      "binning image\n",
      "avg\n",
      "0.000  0.073  0.146  0.220  0.293  0.366  0.439  0.512  0.585  0.659  0.732  0.805  0.878  0.951  4360.12174526\n",
      "\n",
      "dl = 90\n",
      "44 cells in \\ell=414.9 bin\n",
      "80 cells in \\ell=568.6 bin\n",
      "136 cells in \\ell=779.4 bin\n",
      "288 cells in \\ell=1068.3 bin\n",
      "500 cells in \\ell=1464.2 bin\n",
      "968 cells in \\ell=2007.0 bin\n",
      "1754 cells in \\ell=2750.9 bin\n",
      "808 cells in \\ell=3770.5 bin\n",
      "a  c  d  e  \n",
      "bins:  0 1 2 3 4 5 6 7 \n",
      "fisher row:  0 1 2 3 4 5 6 7 done\n",
      "masking sources\n",
      "0.000  0.049  0.098  0.147  0.196  0.245  0.295  0.344  0.393  0.442  0.491  0.540  0.589  0.638  0.687  0.736  0.786  0.835  0.884  0.933  0.982  n_coarse = 205, coarse_bin_factor = 113\n",
      "binning image\n",
      "avg\n",
      "0.000  0.073  0.146  0.220  0.293  0.366  0.439  0.512  0.585  0.659  0.732  0.805  0.878  0.951  4360.12174526\n",
      "\n",
      "dl = 90\n",
      "12 cells in \\ell=414.9 bin\n",
      "40 cells in \\ell=568.6 bin\n",
      "88 cells in \\ell=779.4 bin\n",
      "208 cells in \\ell=1068.3 bin\n",
      "400 cells in \\ell=1464.2 bin\n",
      "828 cells in \\ell=2007.0 bin\n",
      "1584 cells in \\ell=2750.9 bin\n",
      "808 cells in \\ell=3770.5 bin\n",
      "a  c  d  e  \n",
      "bins:  0 1 2 3 4 5 6 7 \n",
      "fisher row:  0 1 2 3 4 5 6 7 done\n",
      "masking sources\n",
      "0.000  0.048  0.096  0.144  0.192  0.240  0.288  0.336  0.384  0.432  0.480  0.528  0.576  0.624  0.672  0.720  0.768  0.816  0.864  0.912  0.960  n_coarse = 205, coarse_bin_factor = 113\n",
      "binning image\n",
      "avg\n",
      "0.000  0.073  0.146  0.220  0.293  0.366  0.439  0.512  0.585  0.659  0.732  0.805  0.878  0.951  4360.12174526\n",
      "done\n",
      "masking sources\n",
      "0.000  0.048  0.096  0.144  0.192  0.240  0.288  0.336  0.384  0.432  0.480  0.528  0.576  0.624  0.672  0.720  0.768  0.816  0.864  0.912  0.960  n_coarse = 205, coarse_bin_factor = 113\n",
      "binning image\n",
      "avg\n",
      "0.000  0.073  0.146  0.220  0.293  0.366  0.439  0.512  0.585  0.659  0.732  0.805  0.878  0.951  4360.12174526\n",
      "\n",
      "dl = 90\n",
      "44 cells in \\ell=414.9 bin\n",
      "80 cells in \\ell=568.6 bin\n",
      "136 cells in \\ell=779.4 bin\n",
      "288 cells in \\ell=1068.3 bin\n",
      "500 cells in \\ell=1464.2 bin\n",
      "968 cells in \\ell=2007.0 bin\n",
      "1754 cells in \\ell=2750.9 bin\n",
      "808 cells in \\ell=3770.5 bin\n",
      "a  c  d  e  \n",
      "bins:  0 1 2 3 4 5 6 7 \n",
      "fisher row:  0 1 2 3 4 5 6 7 done\n",
      "masking sources\n",
      "0.000  0.048  0.096  0.144  0.192  0.240  0.288  0.336  0.384  0.432  0.480  0.528  0.576  0.624  0.672  0.720  0.768  0.816  0.864  0.912  0.960  n_coarse = 205, coarse_bin_factor = 113\n",
      "binning image\n",
      "avg\n",
      "0.000  0.073  0.146  0.220  0.293  0.366  0.439  0.512  0.585  0.659  0.732  0.805  0.878  0.951  4360.12174526\n",
      "\n",
      "dl = 90\n",
      "44 cells in \\ell=414.9 bin\n",
      "80 cells in \\ell=568.6 bin\n",
      "136 cells in \\ell=779.4 bin\n",
      "288 cells in \\ell=1068.3 bin\n",
      "500 cells in \\ell=1464.2 bin\n",
      "968 cells in \\ell=2007.0 bin\n",
      "1754 cells in \\ell=2750.9 bin\n",
      "808 cells in \\ell=3770.5 bin\n",
      "a  c  d  e  \n",
      "bins:  0 1 2 3 4 5 6 7 \n",
      "fisher row:  0 1 2 3 4 5 6 7 done\n",
      "masking sources\n",
      "0.000  0.048  0.096  0.144  0.192  0.240  0.288  0.336  0.384  0.432  0.480  0.528  0.576  0.624  0.672  0.720  0.768  0.816  0.864  0.912  0.960  n_coarse = 205, coarse_bin_factor = 113\n",
      "binning image\n",
      "avg\n",
      "0.000  0.073  0.146  0.220  0.293  0.366  0.439  0.512  0.585  0.659  0.732  0.805  0.878  0.951  4360.12174526\n",
      "\n",
      "dl = 90\n",
      "12 cells in \\ell=414.9 bin\n",
      "40 cells in \\ell=568.6 bin\n",
      "88 cells in \\ell=779.4 bin\n",
      "208 cells in \\ell=1068.3 bin\n",
      "400 cells in \\ell=1464.2 bin\n",
      "828 cells in \\ell=2007.0 bin\n",
      "1584 cells in \\ell=2750.9 bin\n",
      "808 cells in \\ell=3770.5 bin\n",
      "a  c  d  e  \n",
      "bins:  0 1 2 3 4 5 6 7 \n",
      "fisher row:  0 1 2 3 4 5 6 7 done\n",
      "masking sources\n",
      "0.000  0.050  0.100  0.150  0.199  0.249  0.299  0.349  0.399  0.449  0.499  0.548  0.598  0.648  0.698  0.748  0.798  0.848  0.898  0.947  0.997  n_coarse = 205, coarse_bin_factor = 113\n",
      "binning image\n",
      "avg\n",
      "0.000  0.073  0.146  0.220  0.293  0.366  0.439  0.512  0.585  0.659  0.732  0.805  0.878  0.951  4360.12174526\n",
      "done\n",
      "masking sources\n",
      "0.000  0.050  0.100  0.150  0.199  0.249  0.299  0.349  0.399  0.449  0.499  0.548  0.598  0.648  0.698  0.748  0.798  0.848  0.898  0.947  0.997  n_coarse = 205, coarse_bin_factor = 113\n",
      "binning image\n",
      "avg\n",
      "0.000  0.073  0.146  0.220  0.293  0.366  0.439  0.512  0.585  0.659  0.732  0.805  0.878  0.951  4360.12174526\n",
      "\n",
      "dl = 90\n",
      "44 cells in \\ell=414.9 bin\n",
      "80 cells in \\ell=568.6 bin\n",
      "136 cells in \\ell=779.4 bin\n",
      "288 cells in \\ell=1068.3 bin\n",
      "500 cells in \\ell=1464.2 bin\n",
      "968 cells in \\ell=2007.0 bin\n",
      "1754 cells in \\ell=2750.9 bin\n",
      "808 cells in \\ell=3770.5 bin\n",
      "a  c  d  e  \n",
      "bins:  0 1 2 3 4 5 6 7 \n",
      "fisher row:  0 1 2 3 4 5 6 7 done\n",
      "masking sources\n",
      "0.000  0.050  0.100  0.150  0.199  0.249  0.299  0.349  0.399  0.449  0.499  0.548  0.598  0.648  0.698  0.748  0.798  0.848  0.898  0.947  0.997  n_coarse = 205, coarse_bin_factor = 113\n",
      "binning image\n",
      "avg\n",
      "0.000  0.073  0.146  0.220  0.293  0.366  0.439  0.512  0.585  0.659  0.732  0.805  0.878  0.951  4360.12174526\n",
      "\n",
      "dl = 90\n",
      "44 cells in \\ell=414.9 bin\n",
      "80 cells in \\ell=568.6 bin\n",
      "136 cells in \\ell=779.4 bin\n",
      "288 cells in \\ell=1068.3 bin\n",
      "500 cells in \\ell=1464.2 bin\n",
      "968 cells in \\ell=2007.0 bin\n",
      "1754 cells in \\ell=2750.9 bin\n",
      "808 cells in \\ell=3770.5 bin\n",
      "a  c  d  e  \n",
      "bins:  0 1 2 3 4 5 6 7 \n",
      "fisher row:  0 1 2 3 4 5 6 7 done\n",
      "masking sources\n",
      "0.000  0.050  0.100  0.150  0.199  0.249  0.299  0.349  0.399  0.449  0.499  0.548  0.598  0.648  0.698  0.748  0.798  0.848  0.898  0.947  0.997  n_coarse = 205, coarse_bin_factor = 113\n",
      "binning image\n",
      "avg\n",
      "0.000  0.073  0.146  0.220  0.293  0.366  0.439  0.512  0.585  0.659  0.732  0.805  0.878  0.951  4360.12174526\n",
      "\n",
      "dl = 90\n",
      "12 cells in \\ell=414.9 bin\n",
      "40 cells in \\ell=568.6 bin\n",
      "88 cells in \\ell=779.4 bin\n",
      "208 cells in \\ell=1068.3 bin\n",
      "400 cells in \\ell=1464.2 bin\n",
      "828 cells in \\ell=2007.0 bin\n",
      "1584 cells in \\ell=2750.9 bin\n",
      "808 cells in \\ell=3770.5 bin\n",
      "a  c  d  e  \n",
      "bins:  0 1 2 3 4 5 6 7 \n",
      "fisher row:  0 1 2 3 4 5 6 7 done\n",
      "masking sources\n",
      "0.000  0.051  0.102  0.152  0.203  0.254  0.305  0.356  0.406  0.457  0.508  0.559  0.610  0.660  0.711  0.762  0.813  0.864  0.914  0.965  n_coarse = 205, coarse_bin_factor = 113\n",
      "binning image\n",
      "avg\n",
      "0.000  0.073  0.146  0.220  0.293  0.366  0.439  0.512  0.585  0.659  0.732  0.805  0.878  0.951  4360.12174526\n",
      "done\n",
      "masking sources\n",
      "0.000  0.051  0.102  0.152  0.203  0.254  0.305  0.356  0.406  0.457  0.508  0.559  0.610  0.660  0.711  0.762  0.813  0.864  0.914  0.965  n_coarse = 205, coarse_bin_factor = 113\n",
      "binning image\n",
      "avg\n",
      "0.000  0.073  0.146  0.220  0.293  0.366  0.439  0.512  0.585  0.659  0.732  0.805  0.878  0.951  4360.12174526\n",
      "\n",
      "dl = 90\n",
      "44 cells in \\ell=414.9 bin\n",
      "80 cells in \\ell=568.6 bin\n",
      "136 cells in \\ell=779.4 bin\n",
      "288 cells in \\ell=1068.3 bin\n",
      "500 cells in \\ell=1464.2 bin\n",
      "968 cells in \\ell=2007.0 bin\n",
      "1754 cells in \\ell=2750.9 bin\n",
      "808 cells in \\ell=3770.5 bin\n",
      "a  c  d  e  \n",
      "bins:  0 1 2 3 4 5 6 7 \n",
      "fisher row:  0 1 2 3 4 5 6 7 done\n",
      "masking sources\n",
      "0.000  0.051  0.102  0.152  0.203  0.254  0.305  0.356  0.406  0.457  0.508  0.559  0.610  0.660  0.711  0.762  0.813  0.864  0.914  0.965  n_coarse = 205, coarse_bin_factor = 113\n",
      "binning image\n",
      "avg\n",
      "0.000  0.073  0.146  0.220  0.293  0.366  0.439  0.512  0.585  0.659  0.732  0.805  0.878  0.951  4360.12174526\n",
      "\n",
      "dl = 90\n",
      "44 cells in \\ell=414.9 bin\n",
      "80 cells in \\ell=568.6 bin\n",
      "136 cells in \\ell=779.4 bin\n",
      "288 cells in \\ell=1068.3 bin\n",
      "500 cells in \\ell=1464.2 bin\n",
      "968 cells in \\ell=2007.0 bin\n",
      "1754 cells in \\ell=2750.9 bin\n",
      "808 cells in \\ell=3770.5 bin\n",
      "a  c  d  e  \n",
      "bins:  0 1 2 3 4 5 6 7 \n",
      "fisher row:  0 1 2 3 4 5 6 7 done\n",
      "masking sources\n",
      "0.000  0.051  0.102  0.152  0.203  0.254  0.305  0.356  0.406  0.457  0.508  0.559  0.610  0.660  0.711  0.762  0.813  0.864  0.914  0.965  n_coarse = 205, coarse_bin_factor = 113\n",
      "binning image\n",
      "avg\n",
      "0.000  0.073  0.146  0.220  0.293  0.366  0.439  0.512  0.585  0.659  0.732  0.805  0.878  0.951  4360.12174526\n",
      "\n",
      "dl = 90\n",
      "12 cells in \\ell=414.9 bin\n",
      "40 cells in \\ell=568.6 bin\n",
      "88 cells in \\ell=779.4 bin\n",
      "208 cells in \\ell=1068.3 bin\n",
      "400 cells in \\ell=1464.2 bin\n",
      "828 cells in \\ell=2007.0 bin\n",
      "1584 cells in \\ell=2750.9 bin\n",
      "808 cells in \\ell=3770.5 bin\n",
      "a  c  d  e  \n",
      "bins:  0 1 2 3 4 5 6 7 \n",
      "fisher row:  0 1 2 3 4 5 6 7 done\n"
     ]
    }
   ],
   "source": [
    "nbins = 8\n",
    "\n",
    "lbins_pspec_img_zoom_list = [[],[],[],[]]\n",
    "\n",
    "for i in range(4):\n",
    "    lbins_pspec_img_zoom_list[i].append(rawimg2pspec(imgs[i],ws[i],secats[i],mask_coef1=10,mask_coef2=0,mask_above_median_adu_plus=1.e9,\\\n",
    "                    min_fraction_unmasked=.1,ps_method='fft',filt_small_lx_and_ly_bins=False,pguess_method='zemcov',nbins=nbins))\n",
    "\n",
    "    lbins_pspec_img_zoom_list[i].append(rawimg2pspec(imgs[i],ws[i],secats[i],mask_coef1=10,mask_coef2=5,mask_above_median_adu_plus=1.e9,\\\n",
    "                    min_fraction_unmasked=.1,ps_method='oqe',filt_small_lx_and_ly_bins=False,pguess_method='zemcov',nbins=nbins))\n",
    "\n",
    "    lbins_pspec_img_zoom_list[i].append(rawimg2pspec(imgs[i],ws[i],secats[i],mask_coef1=10,mask_coef2=12,mask_above_median_adu_plus=10.,\\\n",
    "                    min_fraction_unmasked=.1,ps_method='oqe',filt_small_lx_and_ly_bins=False,pguess_method='zemcov',nbins=nbins))\n",
    "\n",
    "    lbins_pspec_img_zoom_list[i].append(rawimg2pspec(imgs[i],ws[i],secats[i],mask_coef1=10,mask_coef2=12,mask_above_median_adu_plus=10.,\\\n",
    "                    min_fraction_unmasked=.1,ps_method='oqe',filt_small_lx_and_ly_bins=True,pguess_method='zemcov',nbins=nbins))"
   ]
  },
  {
   "cell_type": "code",
   "execution_count": 28,
   "metadata": {
    "collapsed": false
   },
   "outputs": [],
   "source": [
    "d = '/home/abrahamn/xcor_data/analysis/ATLAS_mwa57694_rereduction/'\n",
    "pickle.dump( lbins_pspec_img_zoom_list, open( d+\"lbins_pspec_img_zoom_list_4frames.p\", \"wb\" ) )\n",
    "\n",
    "#lbins_pspec_img_zoom_list = pickle.load(open( d+\"lbins_pspec_img_zoom_list.p\", \"rb\" ) )"
   ]
  },
  {
   "cell_type": "code",
   "execution_count": 30,
   "metadata": {
    "collapsed": false
   },
   "outputs": [
    {
     "data": {
      "image/png": "[encoded data removed]",
      "text/plain": [
       "<matplotlib.figure.Figure at 0x7f467195e050>"
      ]
     },
     "metadata": {},
     "output_type": "display_data"
    }
   ],
   "source": [
    "stys = ['r.:','c.--','b.-.','k.-']\n",
    "matplotlib.rcParams.update({'font.size': 14})\n",
    "\n",
    "plt.figure(figsize=(6,6))\n",
    "labels = ['Raw','Mask sources to 5$\\sigma$','Mask sources to 12$\\sigma$ and >100kJy/sr','& exclude $|\\ell_x|,|\\ell_y|<200$' ]\n",
    "\n",
    "for framei in range(4):\n",
    "    for j in range(4):\n",
    "        l = labels[j] if framei == 0 else ''\n",
    "        lbins,pspec,img_kjy_per_sr_meansub,masked_img_zoom = lbins_pspec_img_zoom_list[framei][j]\n",
    "        plt.loglog(lbins,sqrt(lbins**2*pspec/(2*pi)),stys[j],label=l)\n",
    "\n",
    "plt.errorbar(ell_Cell_ciber[1::3,0],ell_Cell_ciber[1::3,1],yerr=[np.abs(ell_Cell_ciber[1::3,1]-ell_Cell_ciber[0::3,1]),\\\n",
    "                                                                 np.abs(ell_Cell_ciber[2::3,1]-ell_Cell_ciber[1::3,1])],fmt='o',label='CIBER 1.1um')\n",
    "\n",
    "plt.loglog(ell_Cell_eormodel[:,0],ell_Cell_eormodel[:,1],'k:',label='EOR theory')\n",
    "\n",
    "plt.legend(fontsize=10,loc=4)\n",
    "plt.ylim([.02,100])\n",
    "plt.xlim([300,1.e4])\n",
    "plt.xlabel('$\\ell$',fontsize=16)\n",
    "plt.ylabel('$\\Delta(\\ell)$ (kJy/sr)',fontsize=16)\n",
    "\n",
    "plt.savefig('big_foreground_masking_study_pspecs.pdf',bbox_inches='tight')"
   ]
  },
  {
   "cell_type": "code",
   "execution_count": null,
   "metadata": {
    "collapsed": false,
    "scrolled": false
   },
   "outputs": [
    {
     "name": "stdout",
     "output_type": "stream",
     "text": [
      "\n",
      "dl = 90\n"
     ]
    },
    {
     "name": "stderr",
     "output_type": "stream",
     "text": [
      "/home/abrahamn/anaconda2/lib/python2.7/site-packages/ipykernel/__main__.py:46: RuntimeWarning: divide by zero encountered in log10\n"
     ]
    },
    {
     "name": "stdout",
     "output_type": "stream",
     "text": [
      "\n",
      "dl = 90\n",
      "\n",
      "dl = 90\n",
      "\n",
      "dl = 90\n"
     ]
    }
   ],
   "source": [
    "plt.figure(figsize=(14,15))\n",
    "\n",
    "magzpt,exp_time_sec = 20.56,30\n",
    "dtheta_rad = asec_per_pixel/3600.*np.pi/180\n",
    "adu2kjy_per_sr = 3.631*(10**(-magzpt/2.5))/exp_time_sec/dtheta_rad**2\n",
    "\n",
    "for j in range(4):\n",
    "    lbins,pspec,img_kjy_per_sr,masked_img_zoom = lbins_pspec_img_zoom_list[0][j]\n",
    "        \n",
    "    plt.subplot(4,3,3*j+1)\n",
    "    d=500\n",
    "    plt.imshow(adu2kjy_per_sr*masked_img_zoom[200:200+d,200:200+d]/1.e3,interpolation='nearest',cmap='gray_r',rasterized=True,\\\n",
    "              vmin=3.2,vmax=3.4,extent=[-asec_per_pixel/60*d/2,asec_per_pixel/60*d/2,-asec_per_pixel/60*d/2,asec_per_pixel/60*d/2])\n",
    "    cbar = plt.colorbar()\n",
    "    cbar.set_ticks(3.2+.05*np.arange(5))\n",
    "    plt.ylabel('$\\\\theta_y$ (arcmin)',fontsize=16)\n",
    "    if j == 2: plt.xlabel('$\\\\theta_x$ (arcmin)',fontsize=16)\n",
    "    if j == 0: plt.title('Zoom in on 12\\' field\\n 1.86\\'\\' resolution ($10^3$ kJy/sr)',fontsize=12)\n",
    "\n",
    "        \n",
    "    plt.subplot(4,3,3*j+2)\n",
    "    n_coarse = img_kjy_per_sr.shape[0]\n",
    "    dtheta_coarse_amin = 3.5\n",
    "    dtheta_coarse_rad = dtheta_coarse_amin/60.*np.pi/180\n",
    "    plt.imshow(img_kjy_per_sr/1.e3,interpolation='nearest',cmap='gray_r',vmin=3.2,vmax=3.4,rasterized=True,\\\n",
    "              extent=[-dtheta_coarse_amin*n_coarse/2,dtheta_coarse_amin*n_coarse/2,-dtheta_coarse_amin*n_coarse/2,dtheta_coarse_amin*n_coarse/2])\n",
    "    cbar = plt.colorbar()\n",
    "    cbar.set_ticks(3.2+.05*np.arange(5))\n",
    "    if j == 2: plt.xlabel('$\\\\theta_x$ (arcmin)',fontsize=16)\n",
    "    if j == 0: plt.title('Whole 4 deg field,\\n 3.5\\' resolution ($10^3$ kJy/sr)',fontsize=12)\n",
    "\n",
    "        \n",
    "    plt.subplot(4,3,3*j+3)\n",
    "    pspec_norm = (dtheta_coarse_rad**2)/(n_coarse**2)\n",
    "    img_kjy_per_sr_meansub = array(img_kjy_per_sr)\n",
    "    img_kjy_per_sr_meansub[img_kjy_per_sr_meansub!=0] -= np.mean(img_kjy_per_sr_meansub[img_kjy_per_sr_meansub!=0])\n",
    "    pspec2d = np.abs(np.fft.fft2(img_kjy_per_sr_meansub))**2*pspec_norm\n",
    "    \n",
    "    lvals = fft.fftfreq(n_coarse)*2*pi/dtheta_coarse_rad # ell values\n",
    "    dl = np.abs(lvals[1]-lvals[0])\n",
    "    print('\\ndl = %d'%(lvals[1]-lvals[0]))\n",
    "    lxgrid,lygrid = meshgrid(lvals,lvals)\n",
    "    lmaggrid = sqrt(lxgrid**2+lygrid**2)\n",
    "    delta = np.fft.fftshift(sqrt(lmaggrid**2*pspec2d/(2*pi)))\n",
    "    \n",
    "    if j == 3: delta *= 1.*np.fft.fftshift((np.abs(lxgrid)>2*dl)*(np.abs(lygrid)>2*dl))\n",
    "    \n",
    "    plt.imshow(np.log10(delta),vmin=-1,vmax=2,rasterized=True,\\\n",
    "               interpolation='nearest',cmap='gray',extent=[-n_coarse/2*dl/1.e3,n_coarse/2*dl/1.e3,-n_coarse/2*dl/1.e3,n_coarse/2*dl/1.e3])\n",
    "    if j == 0: plt.title('Fourier transform of\\n whole 4 deg field',fontsize=12)\n",
    "    plt.ylabel('$1000\\ell_y$',fontsize=16)\n",
    "    if j == 2: plt.xlabel('$1000\\ell_x$',fontsize=16)\n",
    "    plt.colorbar()\n",
    "    \n",
    "        \n",
    "    plt.xlim([-n_coarse/2*dl/1.e3,n_coarse/2*dl/1.e3])\n",
    "    plt.ylim([-n_coarse/2*dl/1.e3,n_coarse/2*dl/1.e3])\n",
    "    \n",
    "plt.tight_layout()\n",
    "plt.savefig('big_foreground_masking_study.pdf',bbox_inches='tight')"
   ]
  },
  {
   "cell_type": "code",
   "execution_count": 147,
   "metadata": {
    "collapsed": false
   },
   "outputs": [
    {
     "data": {
      "text/plain": [
       "88.864719034976289"
      ]
     },
     "execution_count": 147,
     "metadata": {},
     "output_type": "execute_result"
    }
   ],
   "source": [
    "10*adu2kjy_per_sr"
   ]
  },
  {
   "cell_type": "code",
   "execution_count": 148,
   "metadata": {
    "collapsed": false
   },
   "outputs": [
    {
     "data": {
      "text/plain": [
       "90.756302521008394"
      ]
     },
     "execution_count": 148,
     "metadata": {},
     "output_type": "execute_result"
    }
   ],
   "source": [
    "dl"
   ]
  },
  {
   "cell_type": "code",
   "execution_count": null,
   "metadata": {
    "collapsed": true
   },
   "outputs": [],
   "source": []
  },
  {
   "cell_type": "code",
   "execution_count": null,
   "metadata": {
    "collapsed": true
   },
   "outputs": [],
   "source": []
  }
 ],
 "metadata": {
  "kernelspec": {
   "display_name": "Python 2",
   "language": "python",
   "name": "python2"
  },
  "language_info": {
   "codemirror_mode": {
    "name": "ipython",
    "version": 2
   },
   "file_extension": ".py",
   "mimetype": "text/x-python",
   "name": "python",
   "nbconvert_exporter": "python",
   "pygments_lexer": "ipython2",
   "version": "2.7.13"
  }
 },
 "nbformat": 4,
 "nbformat_minor": 0
}
