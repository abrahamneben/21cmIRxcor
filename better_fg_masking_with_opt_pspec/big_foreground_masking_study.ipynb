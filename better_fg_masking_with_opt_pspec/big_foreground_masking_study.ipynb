{
 "cells": [
  {
   "cell_type": "code",
   "execution_count": 15,
   "metadata": {
    "collapsed": true
   },
   "outputs": [],
   "source": [
    "import numpy as np\n",
    "import matplotlib\n",
    "%matplotlib inline\n",
    "import matplotlib.pyplot as plt\n",
    "import cPickle as pickle\n",
    "\n",
    "from astropy.io import fits\n",
    "from astropy import wcs\n",
    "\n",
    "import sys\n",
    "import imp\n",
    "sys.path.insert(0, '/home/abrahamn/21cmIRxcor/')\n",
    "import cat_utils\n",
    "imp.reload(cat_utils)\n",
    "from scipy.optimize import curve_fit\n",
    "import scipy\n",
    "\n",
    "from numpy import sqrt,matrix,transpose,array,fft,pi,zeros,meshgrid,random,linspace,arange,where,exp,conj,real,trace\n",
    "from scipy.linalg import sqrtm,inv"
   ]
  },
  {
   "cell_type": "code",
   "execution_count": 16,
   "metadata": {
    "collapsed": false
   },
   "outputs": [
    {
     "name": "stdout",
     "output_type": "stream",
     "text": [
      "0.366666666667\n"
     ]
    }
   ],
   "source": [
    "# LOAD LITERATURE IR POWER SPECTRA (Zemcov+ 14)\n",
    "\n",
    "dat_dir = '../zemcov14_data/'\n",
    "ell_Cell_ciber = np.genfromtxt(dat_dir+'zemcov14_CIBER_data_with_errors_Cl.txt',skip_header=4,delimiter=',')\n",
    "ell_Cell_eormodel = np.genfromtxt(dat_dir+'zemcov14_eor_Cl.txt',skip_header=1,delimiter=',')\n",
    "\n",
    "# CIBER's measurements are of \\lambda*I_\\lambda, which can be converted to I_f by dividing by f \n",
    "# see https://www.evernote.com/shard/s316/nl/2147483647/1d5cc7be-446f-4933-9450-629dd63020c4/\n",
    "convert_to_kJy_per_sr = 1.e-9/(3.e8/1.1e-6)/(1.e3*1.e-26)\n",
    "print(convert_to_kJy_per_sr)\n",
    "\n",
    "ciber_ell = ell_Cell_ciber[1::3,0]\n",
    "ciber_dell = ciber_ell[1:]-ciber_ell[:-1]\n",
    "ciber_delta = ell_Cell_ciber[1::3,1]*convert_to_kJy_per_sr\n",
    "ciber_ddelta_plus = np.abs(ell_Cell_ciber[1::3,1]-ell_Cell_ciber[0::3,1])*convert_to_kJy_per_sr\n",
    "ciber_ddelta_minus = np.abs(ell_Cell_ciber[2::3,1]-ell_Cell_ciber[1::3,1])*convert_to_kJy_per_sr\n",
    "ciber_ddelta = (ciber_ddelta_plus+ciber_ddelta_minus)/2.+1.e-3\n",
    "\n",
    "eormodel_ell = ell_Cell_eormodel[:,1]*convert_to_kJy_per_sr\n",
    "eormodel_delta = ell_Cell_eormodel[:,1]*convert_to_kJy_per_sr"
   ]
  },
  {
   "cell_type": "code",
   "execution_count": 17,
   "metadata": {
    "collapsed": false
   },
   "outputs": [
    {
     "name": "stderr",
     "output_type": "stream",
     "text": [
      "/home/abrahamn/anaconda2/lib/python2.7/site-packages/ipykernel/__main__.py:2: VisibleDeprecationWarning: boolean index did not match indexed array along dimension 0; dimension is 19 but corresponding boolean dimension is 20\n",
      "  from ipykernel import kernelapp as app\n"
     ]
    },
    {
     "data": {
      "text/plain": [
       "(array([  592.66269736,   831.33456303,  1183.19133522,  1635.35238825,\n",
       "         2261.35979898]),\n",
       " array([ 238.67186567,  351.85677219,  452.16105303,  626.00741073,\n",
       "         864.18721769]))"
      ]
     },
     "execution_count": 17,
     "metadata": {},
     "output_type": "execute_result"
    }
   ],
   "source": [
    "g = (ciber_ell>500)&(ciber_ell<2300)\n",
    "ciber_ell[g],ciber_dell[g]"
   ]
  },
  {
   "cell_type": "code",
   "execution_count": 18,
   "metadata": {
    "collapsed": false
   },
   "outputs": [
    {
     "data": {
      "text/plain": [
       "array([ 2.98796061,  2.45378737,  1.42316056,  1.57462726,  1.92427965])"
      ]
     },
     "execution_count": 18,
     "metadata": {},
     "output_type": "execute_result"
    }
   ],
   "source": [
    "ciber_delta[g]/convert_to_kJy_per_sr"
   ]
  },
  {
   "cell_type": "code",
   "execution_count": 19,
   "metadata": {
    "collapsed": false
   },
   "outputs": [
    {
     "data": {
      "text/plain": [
       "1.9221911519071804"
      ]
     },
     "execution_count": 19,
     "metadata": {},
     "output_type": "execute_result"
    }
   ],
   "source": [
    "np.sum(ciber_dell[np.where(g)[0]]*ciber_delta[g])/np.sum(ciber_dell[np.where(g)[0]])/convert_to_kJy_per_sr"
   ]
  },
  {
   "cell_type": "code",
   "execution_count": 20,
   "metadata": {
    "collapsed": false
   },
   "outputs": [
    {
     "name": "stdout",
     "output_type": "stream",
     "text": [
      "['0299I_0303I_0307I_0319I_0323I_0327I_0339I_0343I_0347I', '0298I_0302I_0306I_0318I_0322I_0326I_0338I_0342I_0346I', '0301I_0305I_0309I_0321I_0325I_0329I_0341I_0345I_0349I', '0300I_0304I_0308I_0320I_0324I_0328I_0340I_0344I_0348I']\n",
      "['0299I_0303I_0307I_0319I_0323I_0327I_0339I_0343I_0347I', '0298I_0302I_0306I_0318I_0322I_0326I_0338I_0342I_0346I', '0301I_0305I_0309I_0321I_0325I_0329I_0341I_0345I_0349I', '0300I_0304I_0308I_0320I_0324I_0328I_0340I_0344I_0348I']\n"
     ]
    }
   ],
   "source": [
    "label_groups = [ \\\n",
    "'02a57694o0299I 02a57694o0303I 02a57694o0307I 02a57694o0319I 02a57694o0323I 02a57694o0327I 02a57694o0339I 02a57694o0343I 02a57694o0347I', \\\n",
    "'02a57694o0298I 02a57694o0302I 02a57694o0306I 02a57694o0318I 02a57694o0322I 02a57694o0326I 02a57694o0338I 02a57694o0342I 02a57694o0346I',\\\n",
    "'02a57694o0301I 02a57694o0305I 02a57694o0309I 02a57694o0321I 02a57694o0325I 02a57694o0329I 02a57694o0341I 02a57694o0345I 02a57694o0349I',\\\n",
    "'02a57694o0300I 02a57694o0304I 02a57694o0308I 02a57694o0320I 02a57694o0324I 02a57694o0328I 02a57694o0340I 02a57694o0344I 02a57694o0348I']\n",
    "\n",
    "analysis_names = ['_'.join([l.split('o')[1] for l in labelgroup.split()]) for labelgroup in label_groups]\n",
    "print(analysis_names)\n",
    "\n",
    "run = 'ATLAS_mwa57694_rereduction'\n",
    "xcor_data_dir = '/home/abrahamn/xcor_data/'\n",
    "raw_frames_root = xcor_data_dir+run+'/'\n",
    "analysis_roots = [xcor_data_dir+'analysis/'+run+'/' + a + '/' for a in analysis_names]\n",
    "print(analysis_names)"
   ]
  },
  {
   "cell_type": "code",
   "execution_count": 22,
   "metadata": {
    "collapsed": false
   },
   "outputs": [
    {
     "data": {
      "text/plain": [
       "'/home/abrahamn/xcor_data/analysis/ATLAS_mwa57694_rereduction/0299I_0303I_0307I_0319I_0323I_0327I_0339I_0343I_0347I/0299I_0303I_0307I_0319I_0323I_0327I_0339I_0343I_0347I_secat_best_magoffset=0.274.p'"
      ]
     },
     "execution_count": 22,
     "metadata": {},
     "output_type": "execute_result"
    }
   ],
   "source": [
    "analysis_roots[i]+analysis_names[i]+'_secat_best_magoffset=0.274.p'"
   ]
  },
  {
   "cell_type": "code",
   "execution_count": 23,
   "metadata": {
    "collapsed": false
   },
   "outputs": [],
   "source": [
    "secats = []\n",
    "for i in range(4):\n",
    "#     secat = cat_utils.IRCatalog(se_path=analysis_roots[i]+analysis_names[i]+'.sex',se_magzpt=20.46)\n",
    "    secat = pickle.load(open( analysis_roots[i]+analysis_names[i]+'_secat_best_magoffset=0.274.p', \"rb\" ) )\n",
    "    g = secat.jy_all>1.e-10\n",
    "    secat = cat_utils.Catalog(secat.ra_all[g],secat.dec_all[g],secat.jy_all[g],a=secat.a[g],b=secat.b[g])\n",
    "    \n",
    "    secats.append(secat)"
   ]
  },
  {
   "cell_type": "code",
   "execution_count": 24,
   "metadata": {
    "collapsed": false
   },
   "outputs": [
    {
     "name": "stdout",
     "output_type": "stream",
     "text": [
      "(2.7401479326601912, -24.789017138633387)\n",
      "(357.24780231196945, -24.689997090704114)\n",
      "(2.8473810974648135, -29.130555545466265)\n",
      "(357.1338790636421, -29.228966964566052)\n"
     ]
    },
    {
     "data": {
      "image/png": "[encoded data removed]",
      "text/plain": [
       "<matplotlib.figure.Figure at 0x7fca5a2cd350>"
      ]
     },
     "metadata": {},
     "output_type": "display_data"
    },
    {
     "data": {
      "image/png": "[encoded data removed]",
      "text/plain": [
       "<matplotlib.figure.Figure at 0x7fca5a1e1f50>"
      ]
     },
     "metadata": {},
     "output_type": "display_data"
    },
    {
     "data": {
      "image/png": "[encoded data removed]",
      "text/plain": [
       "<matplotlib.figure.Figure at 0x7fca59e419d0>"
      ]
     },
     "metadata": {},
     "output_type": "display_data"
    },
    {
     "data": {
      "image/png": "[encoded data removed]",
      "text/plain": [
       "<matplotlib.figure.Figure at 0x7fca59e11410>"
      ]
     },
     "metadata": {},
     "output_type": "display_data"
    }
   ],
   "source": [
    "imgs = []\n",
    "ws = []\n",
    "x_meds = []\n",
    "y_meds = []\n",
    "racents = []\n",
    "deccents = []\n",
    "\n",
    "for i in range(4):\n",
    "    img_fits_path = analysis_roots[i]+analysis_names[i]+'.fits'\n",
    "\n",
    "    hdulist_img = fits.open(img_fits_path)\n",
    "    img = hdulist_img[0].data\n",
    "    h = hdulist_img[0].header\n",
    "    n = img.shape[0]\n",
    "    hdulist_img.close()\n",
    "    w = wcs.WCS(h)\n",
    "    asec_per_pixel = np.abs(h['CD1_1'])*3600\n",
    "    \n",
    "    plt.figure()\n",
    "    plt.imshow(img[::10,::10]>0)\n",
    "\n",
    "    x,y = np.where(img != 0)\n",
    "    x_med, y_med = int(np.median(x)),int(np.median(y))\n",
    "    \n",
    "    radeccent = w.wcs_pix2world(x_med,y_med,0)\n",
    "    racent,deccent = 1.*radeccent[0],1.*radeccent[1]\n",
    "    print(racent,deccent)\n",
    "    \n",
    "    imgs.append(img)\n",
    "    ws.append(w)\n",
    "    x_meds.append(x_med)\n",
    "    y_meds.append(y_med)\n",
    "    racents.append(racent)\n",
    "    deccents.append(deccent)"
   ]
  },
  {
   "cell_type": "code",
   "execution_count": 25,
   "metadata": {
    "collapsed": false
   },
   "outputs": [],
   "source": [
    "def mask_circle_in_image(m,xcent,ycent,r):    \n",
    "    if r == 0: return\n",
    "    \n",
    "    n=m.shape[0]\n",
    "    if not ((0<=xcent<n) and (0<=ycent<n)): return\n",
    "    for y in range(-int(r),int(r)+1): # x is the x distance from circle center\n",
    "        if not (0 <= ycent+y < n): continue\n",
    "        #print(n)\n",
    "        #print(int(xcent-np.sqrt(r**2-y**2)),int(xcent+np.sqrt(r**2-y**2)))\n",
    "        #rint(max(0,int(xcent-np.sqrt(r**2-y**2))),min(n,int(xcent+np.sqrt(r**2-y**2))),)\n",
    "        m[ycent+y,max(0,int(xcent-np.sqrt(r**2-y**2))):min(n,int(xcent+np.sqrt(r**2-y**2)))] = 0\n",
    "        \n",
    "def gauss(x, *p):\n",
    "    A, mu, sigma = p\n",
    "    return A*np.exp(-(x-mu)**2/(2.*sigma**2))\n",
    "\n",
    "def bin_image_with_mask(img,mask,n_coarse,coarse_bin_factor,min_fraction_unmasked=.5,gauss_fit_min=.1,bin_method='fit'): # or 'avg'\n",
    "    img_binned = np.zeros((n_coarse,n_coarse))\n",
    "    \n",
    "    binedges = np.linspace(300,400,200) # for the hist gaussian fitting\n",
    "    \n",
    "    print(bin_method)\n",
    "    \n",
    "    for i in range(n_coarse):\n",
    "        if i % 15 == 0: print('%1.3f '%(1.*i/n_coarse)),\n",
    "        for j in range(n_coarse):\n",
    "            img_in_this_coarse_bin = img[i*coarse_bin_factor:(i+1)*coarse_bin_factor,j*coarse_bin_factor:(j+1)*coarse_bin_factor]\n",
    "            mask_in_this_coarse_bin = mask[i*coarse_bin_factor:(i+1)*coarse_bin_factor,j*coarse_bin_factor:(j+1)*coarse_bin_factor]\n",
    "            if np.any(img_in_this_coarse_bin==0) or np.sum(mask_in_this_coarse_bin)<min_fraction_unmasked*coarse_bin_factor**2: continue\n",
    "\n",
    "            unmasked_img_vals = img_in_this_coarse_bin[1==mask_in_this_coarse_bin]\n",
    "                \n",
    "            if bin_method == 'avg':\n",
    "                img_binned[i,j] = np.mean(unmasked_img_vals)\n",
    "            elif bin_method == 'fit':\n",
    "                counts,binedges = np.histogram(unmasked_img_vals,binedges)\n",
    "                bins = .5*(binedges[1:]+binedges[:-1])\n",
    "                g = counts>np.max(counts)*gauss_fit_min\n",
    "\n",
    "                try:\n",
    "                    coeff, var_matrix = curve_fit(gauss, bins[g], counts[g],\\\n",
    "                                                  p0=[np.max(counts),np.median(img_in_this_coarse_bin[1==mask_in_this_coarse_bin]),10],\\\n",
    "                                                  sigma=np.sqrt(counts[g]))\n",
    "                    img_binned[i,j] = coeff[1]\n",
    "                except:\n",
    "                    pass\n",
    "    return img_binned"
   ]
  },
  {
   "cell_type": "code",
   "execution_count": 26,
   "metadata": {
    "collapsed": false
   },
   "outputs": [],
   "source": [
    "def make_hann_2D(n):\n",
    "    w = scipy.signal.hann(n)\n",
    "    wx,wy = np.meshgrid(w,w)\n",
    "    w2 = wx*wy\n",
    "    return w2, sqrt(np.mean(w2**2))\n",
    "\n",
    "def make_bins(lmin,lmax,nbins,uselogbins):\n",
    "    if uselogbins: \n",
    "        lbinedges = 10.**linspace(np.log10(lmin),np.log10(lmax),nbins+1)\n",
    "    else:\n",
    "        lbinedges = linspace(lmin,lmax,nbins+1)\n",
    "    lbincenters = .5*(lbinedges[0:nbins]+lbinedges[1:nbins+1])\n",
    "    return lbincenters,lbinedges\n",
    "\n",
    "def vec2arr(v):\n",
    "    return np.array(v).flatten()\n",
    "\n",
    "def img2PS(img,dtheta_rad,nbins,lmin,lmax,uselogbins=True,usehann=False,filt_small_lx_and_ly_bins=False):\n",
    "    lbincenters,lbinedges = make_bins(lmin,lmax,nbins,uselogbins)\n",
    "\n",
    "    n = img.shape[0]\n",
    "    lvals = fft.fftfreq(n)*2*np.pi/dtheta_rad\n",
    "    lx,ly = meshgrid(lvals,lvals)\n",
    "    dl = np.abs(lvals[1]-lvals[0])\n",
    "    lmag  = sqrt(lx**2+ly**2)\n",
    "    print(np.max(lmag))\n",
    "    ft_mask = (np.abs(lx)>2*dl)&(np.abs(ly)>2*dl)\n",
    "\n",
    "    wind,windrms = np.ones((n,n)),1\n",
    "    if usehann: wind,windrms = make_hann_2D(n)\n",
    "    img_ft = fft.fft2((img-img.mean())*wind)/windrms\n",
    "    \n",
    "    pspec_binned = np.zeros(nbins)\n",
    "\n",
    "    bin_counts = np.zeros(nbins)\n",
    "    for bini in range(nbins):\n",
    "        inbin = (lmag>lbinedges[bini])&(lmag<lbinedges[bini+1])\n",
    "        if filt_small_lx_and_ly_bins: inbin &= ft_mask\n",
    "        bin_counts[bini] = np.sum(inbin)\n",
    "\n",
    "        pspec_binned[bini] = np.mean(np.abs(img_ft[inbin])**2)\n",
    "\n",
    "    pspec_norm = (dtheta_rad**2)/(n**2)\n",
    "    return lbincenters,pspec_binned*pspec_norm,bin_counts\n",
    "\n",
    "def img2optPS(img_meas,pguess_method,dtheta_rad,nbins,lmin,lmax,uselogbins=True,interp_pguess=False,verbose=False,filt_small_lx_and_ly_bins=False):\n",
    "    n = img_meas.shape[0]\n",
    "    norm = (dtheta_rad**2)/(n**2)*n**4\n",
    "    xir = matrix(img_meas.flatten()).T\n",
    "\n",
    "    lbincenters,lbinedges = make_bins(lmin,lmax,nbins,uselogbins=uselogbins)\n",
    "\n",
    "    lvals = fft.fftfreq(n)*2*pi/dtheta_rad # ell values\n",
    "    dl = np.abs(lvals[1]-lvals[0])\n",
    "    print('\\ndl = %d'%(lvals[1]-lvals[0]))\n",
    "    lxgrid,lygrid = meshgrid(lvals,lvals)\n",
    "    lmaggrid = sqrt(lxgrid**2+lygrid**2)\n",
    "\n",
    "    if verbose:\n",
    "        for bini in range(nbins):\n",
    "            if filt_small_lx_and_ly_bins:\n",
    "                smallell = (np.abs(lxgrid)>2*dl)&(np.abs(lygrid)>2*dl)\n",
    "                print('%d cells in \\ell=%1.1f bin'%(np.sum((lbinedges[bini]<lmaggrid)&(lmaggrid<lbinedges[bini+1])&smallell),lbincenters[bini]))\n",
    "            else:\n",
    "                print('%d cells in \\ell=%1.1f bin'%(np.sum((lbinedges[bini]<lmaggrid)&(lmaggrid<lbinedges[bini+1])),lbincenters[bini]))\n",
    "    \n",
    "    thvals = (arange(n)-n/2)*dtheta_rad # theta values\n",
    "    thxgrid,thygrid = meshgrid(thvals,thvals)\n",
    "    \n",
    "    def gen_Ccommabini(bini):\n",
    "        inbin = (lmaggrid>=lbinedges[bini])*(lmaggrid<lbinedges[bini+1])\n",
    "        if filt_small_lx_and_ly_bins: inbin &= (np.abs(lxgrid)>2*dl)&(np.abs(lygrid)>2*dl)\n",
    "        ivals_inbin,jvals_inbin = where(inbin)\n",
    "\n",
    "        lxvals,thxvals = meshgrid(lxgrid[ivals_inbin,jvals_inbin],thxgrid.flatten()) # ell_x and theta_x\n",
    "        lyvals,thyvals = meshgrid(lygrid[ivals_inbin,jvals_inbin],thygrid.flatten()) # ell_y and theta_y\n",
    "        Ccommabini_0 = matrix(exp(1j*(lxvals*thxvals+lyvals*thyvals)))\n",
    "        Ccommabini = Ccommabini_0*conj(Ccommabini_0.T)\n",
    "        return Ccommabini\n",
    "    #Ccomma_mats = [gen_Ccommabini(bini) for bini in range(nbins)]\n",
    "\n",
    "\n",
    "    # put in a guess of the data covariance\n",
    "    print('a '),\n",
    "    # generate the fourier transform matrix\n",
    "    lxvals,thxvals = meshgrid(lxgrid.flatten(),thxgrid.flatten()) # ell_x and theta_x\n",
    "    lyvals,thyvals = meshgrid(lygrid.flatten(),thygrid.flatten()) # ell_y and theta_y\n",
    "    F = matrix(exp(1j*(lxvals*thxvals+lyvals*thyvals)))/n**2\n",
    "    \n",
    "    if pguess_method == 'zemcov':\n",
    "        pguess = np.interp(lbincenters,ell_Cell_ciber[1::3,0],ell_Cell_ciber[1::3,1]**2/ell_Cell_ciber[1::3,0]**2)\n",
    "    else:\n",
    "        pguess = 1./lbincenters**pguess_method\n",
    "    \n",
    "    Cguess_ft = matrix(np.diag( 10.**np.interp(np.log10(lmaggrid.flatten()),np.log10(lbincenters),np.log10(pguess/norm/n**2)) ))   \n",
    "    Csignal = F*Cguess_ft*conj(F).T\n",
    "            \n",
    "    print('c '),\n",
    "    Cmask = 1.e5*np.matrix(np.diag(img_meas.flatten()==0)) # IS THIS A REASONABLE NUMBER ??\n",
    "    print('d '),\n",
    "    Cinv = inv(Csignal + Cmask)\n",
    "\n",
    "    print('e '),\n",
    "    # calculate q_alpha\n",
    "    q = np.matrix(np.zeros((nbins,1)))\n",
    "    Ccomma_times_Cinv_mats = []\n",
    "    print('\\nbins: '),\n",
    "    for bini in range(nbins):\n",
    "        print(bini),\n",
    "        Ccommabini_times_Cinv = gen_Ccommabini(bini)*Cinv\n",
    "        Ccomma_times_Cinv_mats.append(Ccommabini_times_Cinv)\n",
    "        q[bini] = .5*real(xir.T*Cinv*Ccommabini_times_Cinv*xir).item()\n",
    "\n",
    "    # calculate Fisher matrix\n",
    "\n",
    "    Fish = np.matrix(np.zeros((nbins,nbins)))\n",
    "    print('\\nfisher row: '),\n",
    "    for i in range(nbins):\n",
    "        print(i),\n",
    "        for j in range(i,nbins):\n",
    "            Fish[i,j] = np.real(.5*trace(Ccomma_times_Cinv_mats[i]*Ccomma_times_Cinv_mats[j]))\n",
    "            Fish[j,i] = Fish[i,j]\n",
    "    \n",
    "    p0 = vec2arr(sqrtm(inv(Fish))*q)*norm/vec2arr(np.max(sqrt(Fish),axis=0))\n",
    "    p1 = vec2arr(inv(Fish)*q*norm)\n",
    "\n",
    "    return lbincenters,p0,Fish"
   ]
  },
  {
   "cell_type": "code",
   "execution_count": 27,
   "metadata": {
    "collapsed": false
   },
   "outputs": [],
   "source": [
    "def rawimg2pspec(img,w,analysis_name,secat,mask_coef1=10,mask_coef2=12,mask_above_median_adu_plus=1.e9,\\\n",
    "             target_coarse_res_amin=3.5,min_fraction_unmasked=.5,gauss_fit_min=.1,\\\n",
    "             fov_deg=4.,ps_method='oqe',filt_small_lx_and_ly_bins=True,lmin=350,lmax=4360,nbins=8,\\\n",
    "             uselogbins=True,use_fft_hann=False,masked_img_zoom_skip=1,bin_method='avg',pguess_method='zemcov',\\\n",
    "                 max_adu=25000.,mask_rad_asec_around_max_adu=400.,only_compute_masking_stats=False):\n",
    "    \n",
    "    params = {'analysis_name':analysis_name,\\\n",
    "             'mask_coef1':mask_coef1,\\\n",
    "             'mask_coef2':mask_coef2,\\\n",
    "             'mask_above_median_adu_plus':mask_above_median_adu_plus,\\\n",
    "             'target_coarse_res_amin':target_coarse_res_amin,\\\n",
    "             'min_fraction_unmasked':min_fraction_unmasked,\\\n",
    "             'gauss_fit_min':gauss_fit_min,\\\n",
    "             'fov_deg':fov_deg,\\\n",
    "             'ps_method':ps_method,\\\n",
    "             'filt_small_lx_and_ly_bins':filt_small_lx_and_ly_bins,\\\n",
    "             'lmin':lmin,\\\n",
    "             'lmax':lmax,\\\n",
    "             'nbins':nbins,\\\n",
    "             'uselogbins':uselogbins,\\\n",
    "             'use_fft_hann':use_fft_hann,\\\n",
    "             'masked_img_zoom_skip':masked_img_zoom_skip,\\\n",
    "             'bin_method':bin_method,\n",
    "             'pguess_method':pguess_method,\\\n",
    "             'max_adu':max_adu,\\\n",
    "             'mask_rad_asec_around_max_adu':mask_rad_asec_around_max_adu}\n",
    "    \n",
    "    mask = np.ones(img.shape)\n",
    "    px,py = w.wcs_world2pix(secat.ra,secat.dec,1)\n",
    "\n",
    "    print('masking sources')\n",
    "    for i in range(len(secat.ra)):\n",
    "        if i % 2500 == 0: print('%1.3f '%(1.*i/len(secat.ra))),\n",
    "        mask_circle_in_image(mask,px[i],py[i],mask_coef1*secat.jy[i]/asec_per_pixel+mask_coef2*min(secat.a[i],secat.b[i]))\n",
    "    \n",
    "    print('\\nmasking around nearly saturated pixels')\n",
    "    xbad,ybad = np.where(img>max_adu)\n",
    "    for i in range(len(xbad)):\n",
    "        if i % 2500 == 0: print('%1.3f '%(1.*i/len(xbad))),\n",
    "        mask_circle_in_image(mask,ybad[i],xbad[i],mask_rad_asec_around_max_adu/asec_per_pixel)\n",
    "    \n",
    "    mask *= img < mask_above_median_adu_plus + np.median(img[img>0]) # to active this, set mask_above_median_adu_plus = 10    \n",
    "    \n",
    "    mask_stats = []\n",
    "    if only_compute_masking_stats:\n",
    "        mask_stats.append(100.*np.sum(img>65000)/np.sum(img>0))\n",
    "        mask_stats.append(100.*np.sum(img>max_adu)/np.sum(img>0))\n",
    "        mask_stats.append(100.*np.sum(mask==0)/np.sum(img>0))\n",
    "    \n",
    "    dd = 300\n",
    "    x,y = np.where(img != 0)\n",
    "    x_med, y_med = int(np.median(x)),int(np.median(y))\n",
    "    x0,x1 = x_med-dd,x_med+dd\n",
    "    y0,y1 = y_med-dd,y_med+dd\n",
    "    skip = masked_img_zoom_skip\n",
    "    masked_img_zoom = img[x0:x1:skip,y0:y1:skip]*mask[x0:x1:skip,y0:y1:skip]\n",
    "    target_coarse_res_asec = target_coarse_res_amin*60.\n",
    "    fine_pixel_asec = 1.86\n",
    "    coarse_bin_factor = int(np.round(target_coarse_res_asec/fine_pixel_asec))\n",
    "    dtheta_coarse_rad = fine_pixel_asec*coarse_bin_factor/3600*np.pi/180\n",
    "    params['actual_coarse_res_amin'] = fine_pixel_asec/60*coarse_bin_factor\n",
    "    params['coarse_bin_factor'] = coarse_bin_factor\n",
    "    \n",
    "    n_coarse = int(np.floor(1.*n/coarse_bin_factor))\n",
    "    \n",
    "    n_fine_max = n_coarse*coarse_bin_factor\n",
    "    print('n_coarse = %d, coarse_bin_factor = %d'%(n_coarse,coarse_bin_factor))\n",
    "    \n",
    "    print('binning image')\n",
    "    img_coarse = bin_image_with_mask(img,mask,n_coarse,coarse_bin_factor,min_fraction_unmasked,gauss_fit_min,bin_method=bin_method)\n",
    "    \n",
    "    d = int(fov_deg*np.pi/180/dtheta_coarse_rad)\n",
    "    dtheta_rad = fine_pixel_asec/3600*np.pi/180\n",
    "    x0 = int(x_med*dtheta_rad/dtheta_coarse_rad-d/2+1)\n",
    "    x1 = x0+d\n",
    "    y0 = int(y_med*dtheta_rad/dtheta_coarse_rad-d/2+1)\n",
    "    y1 = y0+d\n",
    "    \n",
    "    params['x0'],params['x1'],params['y0'],params['y1'] = x0,x1,y0,y1\n",
    "    params['n_frame'] = d\n",
    "\n",
    "    magzpt,exp_time_sec = 20.56+0.274,30\n",
    "    params['magzpt'] = magzpt\n",
    "    adu2jy_per_sr = 3.631*(10**(-magzpt/2.5))/exp_time_sec/dtheta_coarse_rad**2*coarse_bin_factor**2\n",
    "\n",
    "    img_kjy_per_sr = adu2jy_per_sr*img_coarse\n",
    "    img_kjy_per_sr_crop = np.array(img_kjy_per_sr[x0:x1,y0:y1])\n",
    "    img_kjy_per_sr_meansub_crop = np.array(img_kjy_per_sr_crop)\n",
    "    img_kjy_per_sr_meansub_crop[img_kjy_per_sr_meansub_crop!=0] -= np.mean(img_kjy_per_sr_meansub_crop[img_kjy_per_sr_meansub_crop!=0])\n",
    "\n",
    "    \n",
    "    \n",
    "    mask_stats.append(100.*np.sum(img_kjy_per_sr_meansub_crop==0)/np.sum(img_kjy_per_sr_meansub_crop>=0))\n",
    "    \n",
    "    lbins=None\n",
    "    pspec=None\n",
    "    if ps_method == 'fft':\n",
    "        lbins,pspec,bin_counts = img2PS(img_kjy_per_sr_meansub_crop,dtheta_coarse_rad,nbins,lmin,lmax,\\\n",
    "                                         uselogbins=True,usehann=use_fft_hann,\\\n",
    "                                         filt_small_lx_and_ly_bins=filt_small_lx_and_ly_bins)    \n",
    "    elif ps_method == 'oqe':\n",
    "        lbins,pspec,Fish = img2optPS(img_kjy_per_sr_meansub_crop,pguess_method,dtheta_coarse_rad,nbins,lmin,lmax,\\\n",
    "                                  uselogbins=uselogbins,interp_pguess=True,verbose=True,\\\n",
    "                                  filt_small_lx_and_ly_bins=filt_small_lx_and_ly_bins)\n",
    "    \n",
    "    print('done')\n",
    "    return {'lbins':lbins,'pspec':pspec,'img_kjy_per_sr_crop':img_kjy_per_sr_crop,\\\n",
    "            'masked_img_zoom':masked_img_zoom,'params':params,'img_kjy_per_sr':img_kjy_per_sr}"
   ]
  },
  {
   "cell_type": "code",
   "execution_count": 28,
   "metadata": {
    "collapsed": false
   },
   "outputs": [],
   "source": [
    "# # run image masking and power spectrum estimation\n",
    "\n",
    "# d = '/home/abrahamn/xcor_data/analysis/ATLAS_mwa57694_rereduction/'\n",
    "\n",
    "# max_adu = 45000\n",
    "# mask_rad_asec_around_max_adu = 250\n",
    "# target_coarse_res_amin=6\n",
    "# for i in range(4):\n",
    "#     masked_img_dat = rawimg2pspec(imgs[i],ws[i],analysis_names[i],secats[i],mask_coef1=0,mask_coef2=12,mask_above_median_adu_plus=10.,\\\n",
    "#                     min_fraction_unmasked=.2,ps_method='none',filt_small_lx_and_ly_bins=True,\\\n",
    "#                     max_adu=max_adu,mask_rad_asec_around_max_adu=mask_rad_asec_around_max_adu,target_coarse_res_amin=target_coarse_res_amin,fov_deg=3.9)\n",
    "    \n",
    "#     pickle.dump( masked_img_dat, open( d+analysis_names[i]+'_'+str(target_coarse_res_amin)+\"amin.p\", \"wb\" ) )"
   ]
  },
  {
   "cell_type": "code",
   "execution_count": 29,
   "metadata": {
    "collapsed": false
   },
   "outputs": [
    {
     "name": "stdout",
     "output_type": "stream",
     "text": [
      "masking sources\n",
      "0.000  0.049  0.098  0.147  0.197  0.246  0.295  0.344  0.393  0.442  0.491  0.540  0.590  0.639  0.688  0.737  0.786  0.835  0.884  0.934  0.983  \n",
      "masking around nearly saturated pixels\n",
      "0.000  0.211  0.423  0.634  0.845  n_coarse = 205, coarse_bin_factor = 113\n",
      "binning image\n",
      "avg\n",
      "0.000  0.073  0.146  0.220  0.293  0.366  0.439  0.512  0.585  0.659  0.732  0.805  0.878  0.951  \n",
      "dl = 90\n",
      "44 cells in \\ell=414.9 bin\n",
      "80 cells in \\ell=568.6 bin\n",
      "136 cells in \\ell=779.4 bin\n",
      "288 cells in \\ell=1068.3 bin\n",
      "500 cells in \\ell=1464.2 bin\n",
      "968 cells in \\ell=2007.0 bin\n",
      "1754 cells in \\ell=2750.9 bin\n",
      "808 cells in \\ell=3770.5 bin\n",
      "a "
     ]
    },
    {
     "name": "stderr",
     "output_type": "stream",
     "text": [
      "/home/abrahamn/anaconda2/lib/python2.7/site-packages/ipykernel/__main__.py:95: RuntimeWarning: divide by zero encountered in log10\n"
     ]
    },
    {
     "name": "stdout",
     "output_type": "stream",
     "text": [
      " c  d  e  \n",
      "bins:  0 1 2 3 4 5 6"
     ]
    },
    {
     "ename": "KeyboardInterrupt",
     "evalue": "",
     "output_type": "error",
     "traceback": [
      "\u001b[1;31m---------------------------------------------------------------------------\u001b[0m",
      "\u001b[1;31mKeyboardInterrupt\u001b[0m                         Traceback (most recent call last)",
      "\u001b[1;32m<ipython-input-29-5d5f679a1270>\u001b[0m in \u001b[0;36m<module>\u001b[1;34m()\u001b[0m\n\u001b[0;32m      7\u001b[0m \u001b[0mmask_rad_asec_around_max_adu\u001b[0m \u001b[1;33m=\u001b[0m \u001b[1;36m250\u001b[0m\u001b[1;33m\u001b[0m\u001b[0m\n\u001b[0;32m      8\u001b[0m \u001b[1;32mfor\u001b[0m \u001b[0mi\u001b[0m \u001b[1;32min\u001b[0m \u001b[0mrange\u001b[0m\u001b[1;33m(\u001b[0m\u001b[1;36m4\u001b[0m\u001b[1;33m)\u001b[0m\u001b[1;33m:\u001b[0m\u001b[1;33m\u001b[0m\u001b[0m\n\u001b[1;32m----> 9\u001b[1;33m     \u001b[0mlbins_pspec_img_zoom_list\u001b[0m\u001b[1;33m[\u001b[0m\u001b[0mi\u001b[0m\u001b[1;33m]\u001b[0m\u001b[1;33m.\u001b[0m\u001b[0mappend\u001b[0m\u001b[1;33m(\u001b[0m\u001b[0mrawimg2pspec\u001b[0m\u001b[1;33m(\u001b[0m\u001b[0mimgs\u001b[0m\u001b[1;33m[\u001b[0m\u001b[0mi\u001b[0m\u001b[1;33m]\u001b[0m\u001b[1;33m,\u001b[0m\u001b[0mws\u001b[0m\u001b[1;33m[\u001b[0m\u001b[0mi\u001b[0m\u001b[1;33m]\u001b[0m\u001b[1;33m,\u001b[0m\u001b[0manalysis_names\u001b[0m\u001b[1;33m[\u001b[0m\u001b[0mi\u001b[0m\u001b[1;33m]\u001b[0m\u001b[1;33m,\u001b[0m\u001b[0msecats\u001b[0m\u001b[1;33m[\u001b[0m\u001b[0mi\u001b[0m\u001b[1;33m]\u001b[0m\u001b[1;33m,\u001b[0m\u001b[0mmask_coef1\u001b[0m\u001b[1;33m=\u001b[0m\u001b[1;36m0\u001b[0m\u001b[1;33m,\u001b[0m\u001b[0mmask_coef2\u001b[0m\u001b[1;33m=\u001b[0m\u001b[1;36m0\u001b[0m\u001b[1;33m,\u001b[0m\u001b[0mmask_above_median_adu_plus\u001b[0m\u001b[1;33m=\u001b[0m\u001b[1;36m1.e9\u001b[0m\u001b[1;33m,\u001b[0m                    \u001b[0mmin_fraction_unmasked\u001b[0m\u001b[1;33m=\u001b[0m\u001b[1;36m.1\u001b[0m\u001b[1;33m,\u001b[0m\u001b[0mps_method\u001b[0m\u001b[1;33m=\u001b[0m\u001b[1;34m'oqe'\u001b[0m\u001b[1;33m,\u001b[0m\u001b[0mfilt_small_lx_and_ly_bins\u001b[0m\u001b[1;33m=\u001b[0m\u001b[0mFalse\u001b[0m\u001b[1;33m,\u001b[0m\u001b[0mpguess_method\u001b[0m\u001b[1;33m=\u001b[0m\u001b[1;34m'zemcov'\u001b[0m\u001b[1;33m,\u001b[0m\u001b[0mnbins\u001b[0m\u001b[1;33m=\u001b[0m\u001b[0mnbins\u001b[0m\u001b[1;33m,\u001b[0m                    \u001b[0mmax_adu\u001b[0m\u001b[1;33m=\u001b[0m\u001b[0mmax_adu\u001b[0m\u001b[1;33m,\u001b[0m\u001b[0mmask_rad_asec_around_max_adu\u001b[0m\u001b[1;33m=\u001b[0m\u001b[0mmask_rad_asec_around_max_adu\u001b[0m\u001b[1;33m)\u001b[0m\u001b[1;33m)\u001b[0m\u001b[1;33m\u001b[0m\u001b[0m\n\u001b[0m\u001b[0;32m     10\u001b[0m \u001b[1;33m\u001b[0m\u001b[0m\n\u001b[0;32m     11\u001b[0m     \u001b[0mlbins_pspec_img_zoom_list\u001b[0m\u001b[1;33m[\u001b[0m\u001b[0mi\u001b[0m\u001b[1;33m]\u001b[0m\u001b[1;33m.\u001b[0m\u001b[0mappend\u001b[0m\u001b[1;33m(\u001b[0m\u001b[0mrawimg2pspec\u001b[0m\u001b[1;33m(\u001b[0m\u001b[0mimgs\u001b[0m\u001b[1;33m[\u001b[0m\u001b[0mi\u001b[0m\u001b[1;33m]\u001b[0m\u001b[1;33m,\u001b[0m\u001b[0mws\u001b[0m\u001b[1;33m[\u001b[0m\u001b[0mi\u001b[0m\u001b[1;33m]\u001b[0m\u001b[1;33m,\u001b[0m\u001b[0manalysis_names\u001b[0m\u001b[1;33m[\u001b[0m\u001b[0mi\u001b[0m\u001b[1;33m]\u001b[0m\u001b[1;33m,\u001b[0m\u001b[0msecats\u001b[0m\u001b[1;33m[\u001b[0m\u001b[0mi\u001b[0m\u001b[1;33m]\u001b[0m\u001b[1;33m,\u001b[0m\u001b[0mmask_coef1\u001b[0m\u001b[1;33m=\u001b[0m\u001b[1;36m0\u001b[0m\u001b[1;33m,\u001b[0m\u001b[0mmask_coef2\u001b[0m\u001b[1;33m=\u001b[0m\u001b[1;36m5\u001b[0m\u001b[1;33m,\u001b[0m\u001b[0mmask_above_median_adu_plus\u001b[0m\u001b[1;33m=\u001b[0m\u001b[1;36m1.e9\u001b[0m\u001b[1;33m,\u001b[0m                    \u001b[0mmin_fraction_unmasked\u001b[0m\u001b[1;33m=\u001b[0m\u001b[1;36m.1\u001b[0m\u001b[1;33m,\u001b[0m\u001b[0mps_method\u001b[0m\u001b[1;33m=\u001b[0m\u001b[1;34m'oqe'\u001b[0m\u001b[1;33m,\u001b[0m\u001b[0mfilt_small_lx_and_ly_bins\u001b[0m\u001b[1;33m=\u001b[0m\u001b[0mFalse\u001b[0m\u001b[1;33m,\u001b[0m\u001b[0mpguess_method\u001b[0m\u001b[1;33m=\u001b[0m\u001b[1;34m'zemcov'\u001b[0m\u001b[1;33m,\u001b[0m\u001b[0mnbins\u001b[0m\u001b[1;33m=\u001b[0m\u001b[0mnbins\u001b[0m\u001b[1;33m,\u001b[0m                    \u001b[0mmax_adu\u001b[0m\u001b[1;33m=\u001b[0m\u001b[0mmax_adu\u001b[0m\u001b[1;33m,\u001b[0m\u001b[0mmask_rad_asec_around_max_adu\u001b[0m\u001b[1;33m=\u001b[0m\u001b[0mmask_rad_asec_around_max_adu\u001b[0m\u001b[1;33m)\u001b[0m\u001b[1;33m)\u001b[0m\u001b[1;33m\u001b[0m\u001b[0m\n",
      "\u001b[1;32m<ipython-input-27-fab562b72e23>\u001b[0m in \u001b[0;36mrawimg2pspec\u001b[1;34m(img, w, analysis_name, secat, mask_coef1, mask_coef2, mask_above_median_adu_plus, target_coarse_res_amin, min_fraction_unmasked, gauss_fit_min, fov_deg, ps_method, filt_small_lx_and_ly_bins, lmin, lmax, nbins, uselogbins, use_fft_hann, masked_img_zoom_skip, bin_method, pguess_method, max_adu, mask_rad_asec_around_max_adu, only_compute_masking_stats)\u001b[0m\n\u001b[0;32m     78\u001b[0m         \u001b[0mlbins\u001b[0m\u001b[1;33m,\u001b[0m\u001b[0mpspec\u001b[0m\u001b[1;33m,\u001b[0m\u001b[0mbin_counts\u001b[0m \u001b[1;33m=\u001b[0m \u001b[0mimg2PS\u001b[0m\u001b[1;33m(\u001b[0m\u001b[0mimg_kjy_per_sr_meansub_crop\u001b[0m\u001b[1;33m,\u001b[0m\u001b[0mdtheta_coarse_rad\u001b[0m\u001b[1;33m,\u001b[0m\u001b[0mnbins\u001b[0m\u001b[1;33m,\u001b[0m\u001b[0mlmin\u001b[0m\u001b[1;33m,\u001b[0m\u001b[0mlmax\u001b[0m\u001b[1;33m,\u001b[0m                                         \u001b[0muselogbins\u001b[0m\u001b[1;33m=\u001b[0m\u001b[0mTrue\u001b[0m\u001b[1;33m,\u001b[0m\u001b[0musehann\u001b[0m\u001b[1;33m=\u001b[0m\u001b[0muse_fft_hann\u001b[0m\u001b[1;33m,\u001b[0m                                         \u001b[0mfilt_small_lx_and_ly_bins\u001b[0m\u001b[1;33m=\u001b[0m\u001b[0mfilt_small_lx_and_ly_bins\u001b[0m\u001b[1;33m)\u001b[0m\u001b[1;33m\u001b[0m\u001b[0m\n\u001b[0;32m     79\u001b[0m     \u001b[1;32melif\u001b[0m \u001b[0mps_method\u001b[0m \u001b[1;33m==\u001b[0m \u001b[1;34m'oqe'\u001b[0m\u001b[1;33m:\u001b[0m\u001b[1;33m\u001b[0m\u001b[0m\n\u001b[1;32m---> 80\u001b[1;33m         \u001b[0mlbins\u001b[0m\u001b[1;33m,\u001b[0m\u001b[0mpspec\u001b[0m\u001b[1;33m,\u001b[0m\u001b[0mFish\u001b[0m \u001b[1;33m=\u001b[0m \u001b[0mimg2optPS\u001b[0m\u001b[1;33m(\u001b[0m\u001b[0mimg_kjy_per_sr_meansub_crop\u001b[0m\u001b[1;33m,\u001b[0m\u001b[0mpguess_method\u001b[0m\u001b[1;33m,\u001b[0m\u001b[0mdtheta_coarse_rad\u001b[0m\u001b[1;33m,\u001b[0m\u001b[0mnbins\u001b[0m\u001b[1;33m,\u001b[0m\u001b[0mlmin\u001b[0m\u001b[1;33m,\u001b[0m\u001b[0mlmax\u001b[0m\u001b[1;33m,\u001b[0m                                  \u001b[0muselogbins\u001b[0m\u001b[1;33m=\u001b[0m\u001b[0muselogbins\u001b[0m\u001b[1;33m,\u001b[0m\u001b[0minterp_pguess\u001b[0m\u001b[1;33m=\u001b[0m\u001b[0mTrue\u001b[0m\u001b[1;33m,\u001b[0m\u001b[0mverbose\u001b[0m\u001b[1;33m=\u001b[0m\u001b[0mTrue\u001b[0m\u001b[1;33m,\u001b[0m                                  \u001b[0mfilt_small_lx_and_ly_bins\u001b[0m\u001b[1;33m=\u001b[0m\u001b[0mfilt_small_lx_and_ly_bins\u001b[0m\u001b[1;33m)\u001b[0m\u001b[1;33m\u001b[0m\u001b[0m\n\u001b[0m\u001b[0;32m     81\u001b[0m \u001b[1;33m\u001b[0m\u001b[0m\n\u001b[0;32m     82\u001b[0m     \u001b[1;32mprint\u001b[0m\u001b[1;33m(\u001b[0m\u001b[1;34m'done'\u001b[0m\u001b[1;33m)\u001b[0m\u001b[1;33m\u001b[0m\u001b[0m\n",
      "\u001b[1;32m<ipython-input-26-4f44819d62f7>\u001b[0m in \u001b[0;36mimg2optPS\u001b[1;34m(img_meas, pguess_method, dtheta_rad, nbins, lmin, lmax, uselogbins, interp_pguess, verbose, filt_small_lx_and_ly_bins)\u001b[0m\n\u001b[0;32m    108\u001b[0m     \u001b[1;32mfor\u001b[0m \u001b[0mbini\u001b[0m \u001b[1;32min\u001b[0m \u001b[0mrange\u001b[0m\u001b[1;33m(\u001b[0m\u001b[0mnbins\u001b[0m\u001b[1;33m)\u001b[0m\u001b[1;33m:\u001b[0m\u001b[1;33m\u001b[0m\u001b[0m\n\u001b[0;32m    109\u001b[0m         \u001b[1;32mprint\u001b[0m\u001b[1;33m(\u001b[0m\u001b[0mbini\u001b[0m\u001b[1;33m)\u001b[0m\u001b[1;33m,\u001b[0m\u001b[1;33m\u001b[0m\u001b[0m\n\u001b[1;32m--> 110\u001b[1;33m         \u001b[0mCcommabini_times_Cinv\u001b[0m \u001b[1;33m=\u001b[0m \u001b[0mgen_Ccommabini\u001b[0m\u001b[1;33m(\u001b[0m\u001b[0mbini\u001b[0m\u001b[1;33m)\u001b[0m\u001b[1;33m*\u001b[0m\u001b[0mCinv\u001b[0m\u001b[1;33m\u001b[0m\u001b[0m\n\u001b[0m\u001b[0;32m    111\u001b[0m         \u001b[0mCcomma_times_Cinv_mats\u001b[0m\u001b[1;33m.\u001b[0m\u001b[0mappend\u001b[0m\u001b[1;33m(\u001b[0m\u001b[0mCcommabini_times_Cinv\u001b[0m\u001b[1;33m)\u001b[0m\u001b[1;33m\u001b[0m\u001b[0m\n\u001b[0;32m    112\u001b[0m         \u001b[0mq\u001b[0m\u001b[1;33m[\u001b[0m\u001b[0mbini\u001b[0m\u001b[1;33m]\u001b[0m \u001b[1;33m=\u001b[0m \u001b[1;36m.5\u001b[0m\u001b[1;33m*\u001b[0m\u001b[0mreal\u001b[0m\u001b[1;33m(\u001b[0m\u001b[0mxir\u001b[0m\u001b[1;33m.\u001b[0m\u001b[0mT\u001b[0m\u001b[1;33m*\u001b[0m\u001b[0mCinv\u001b[0m\u001b[1;33m*\u001b[0m\u001b[0mCcommabini_times_Cinv\u001b[0m\u001b[1;33m*\u001b[0m\u001b[0mxir\u001b[0m\u001b[1;33m)\u001b[0m\u001b[1;33m.\u001b[0m\u001b[0mitem\u001b[0m\u001b[1;33m(\u001b[0m\u001b[1;33m)\u001b[0m\u001b[1;33m\u001b[0m\u001b[0m\n",
      "\u001b[1;32m/home/abrahamn/anaconda2/lib/python2.7/site-packages/numpy/matrixlib/defmatrix.pyc\u001b[0m in \u001b[0;36m__mul__\u001b[1;34m(self, other)\u001b[0m\n\u001b[0;32m    341\u001b[0m         \u001b[1;32mif\u001b[0m \u001b[0misinstance\u001b[0m\u001b[1;33m(\u001b[0m\u001b[0mother\u001b[0m\u001b[1;33m,\u001b[0m \u001b[1;33m(\u001b[0m\u001b[0mN\u001b[0m\u001b[1;33m.\u001b[0m\u001b[0mndarray\u001b[0m\u001b[1;33m,\u001b[0m \u001b[0mlist\u001b[0m\u001b[1;33m,\u001b[0m \u001b[0mtuple\u001b[0m\u001b[1;33m)\u001b[0m\u001b[1;33m)\u001b[0m \u001b[1;33m:\u001b[0m\u001b[1;33m\u001b[0m\u001b[0m\n\u001b[0;32m    342\u001b[0m             \u001b[1;31m# This promotes 1-D vectors to row vectors\u001b[0m\u001b[1;33m\u001b[0m\u001b[1;33m\u001b[0m\u001b[0m\n\u001b[1;32m--> 343\u001b[1;33m             \u001b[1;32mreturn\u001b[0m \u001b[0mN\u001b[0m\u001b[1;33m.\u001b[0m\u001b[0mdot\u001b[0m\u001b[1;33m(\u001b[0m\u001b[0mself\u001b[0m\u001b[1;33m,\u001b[0m \u001b[0masmatrix\u001b[0m\u001b[1;33m(\u001b[0m\u001b[0mother\u001b[0m\u001b[1;33m)\u001b[0m\u001b[1;33m)\u001b[0m\u001b[1;33m\u001b[0m\u001b[0m\n\u001b[0m\u001b[0;32m    344\u001b[0m         \u001b[1;32mif\u001b[0m \u001b[0misscalar\u001b[0m\u001b[1;33m(\u001b[0m\u001b[0mother\u001b[0m\u001b[1;33m)\u001b[0m \u001b[1;32mor\u001b[0m \u001b[1;32mnot\u001b[0m \u001b[0mhasattr\u001b[0m\u001b[1;33m(\u001b[0m\u001b[0mother\u001b[0m\u001b[1;33m,\u001b[0m \u001b[1;34m'__rmul__'\u001b[0m\u001b[1;33m)\u001b[0m \u001b[1;33m:\u001b[0m\u001b[1;33m\u001b[0m\u001b[0m\n\u001b[0;32m    345\u001b[0m             \u001b[1;32mreturn\u001b[0m \u001b[0mN\u001b[0m\u001b[1;33m.\u001b[0m\u001b[0mdot\u001b[0m\u001b[1;33m(\u001b[0m\u001b[0mself\u001b[0m\u001b[1;33m,\u001b[0m \u001b[0mother\u001b[0m\u001b[1;33m)\u001b[0m\u001b[1;33m\u001b[0m\u001b[0m\n",
      "\u001b[1;31mKeyboardInterrupt\u001b[0m: "
     ]
    }
   ],
   "source": [
    "# run image masking and power spectrum estimation\n",
    "\n",
    "nbins = 8\n",
    "\n",
    "lbins_pspec_img_zoom_list = [[],[],[],[]]\n",
    "max_adu = 45000\n",
    "mask_rad_asec_around_max_adu = 250\n",
    "for i in range(4):\n",
    "    lbins_pspec_img_zoom_list[i].append(rawimg2pspec(imgs[i],ws[i],analysis_names[i],secats[i],mask_coef1=0,mask_coef2=0,mask_above_median_adu_plus=1.e9,\\\n",
    "                    min_fraction_unmasked=.1,ps_method='oqe',filt_small_lx_and_ly_bins=False,pguess_method='zemcov',nbins=nbins,\\\n",
    "                    max_adu=max_adu,mask_rad_asec_around_max_adu=mask_rad_asec_around_max_adu))\n",
    "\n",
    "    lbins_pspec_img_zoom_list[i].append(rawimg2pspec(imgs[i],ws[i],analysis_names[i],secats[i],mask_coef1=0,mask_coef2=5,mask_above_median_adu_plus=1.e9,\\\n",
    "                    min_fraction_unmasked=.1,ps_method='oqe',filt_small_lx_and_ly_bins=False,pguess_method='zemcov',nbins=nbins,\\\n",
    "                    max_adu=max_adu,mask_rad_asec_around_max_adu=mask_rad_asec_around_max_adu))\n",
    "\n",
    "    lbins_pspec_img_zoom_list[i].append(rawimg2pspec(imgs[i],ws[i],analysis_names[i],secats[i],mask_coef1=0,mask_coef2=12,mask_above_median_adu_plus=10.,\\\n",
    "                    min_fraction_unmasked=.1,ps_method='oqe',filt_small_lx_and_ly_bins=False,pguess_method='zemcov',nbins=nbins,\\\n",
    "                    max_adu=max_adu,mask_rad_asec_around_max_adu=mask_rad_asec_around_max_adu))\n",
    "\n",
    "    lbins_pspec_img_zoom_list[i].append(rawimg2pspec(imgs[i],ws[i],analysis_names[i],secats[i],mask_coef1=0,mask_coef2=12,mask_above_median_adu_plus=10.,\\\n",
    "                    min_fraction_unmasked=.1,ps_method='oqe',filt_small_lx_and_ly_bins=True,pguess_method='zemcov',nbins=nbins,\\\n",
    "                    max_adu=max_adu,mask_rad_asec_around_max_adu=mask_rad_asec_around_max_adu))\n",
    "    \n",
    "d = '/home/abrahamn/xcor_data/analysis/ATLAS_mwa57694_rereduction/'\n",
    "pickle.dump( lbins_pspec_img_zoom_list, open( d+\"lbins_pspec_img_zoom_list_4frames_magoffset=20.56+0.274.p\", \"wb\" ) )"
   ]
  },
  {
   "cell_type": "code",
   "execution_count": 85,
   "metadata": {
    "collapsed": false
   },
   "outputs": [
    {
     "name": "stdout",
     "output_type": "stream",
     "text": [
      "0299I_0303I_0307I_0319I_0323I_0327I_0339I_0343I_0347I\n",
      "Mask 4' around saturated pixels                    0.00064  0.00727  13.87819  7.30969 \n",
      "& Mask sources to 5$\\sigma$                        0.00064  0.00727  19.13882  7.33131 \n",
      "& Mask sources to 12$\\sigma$ and >100kJy/sr        0.00064  0.00727  47.10545  8.00173 \n",
      "& exclude $|\\ell_x|,|\\ell_y|<200$                  0.00064  0.00727  47.10545  8.00173 \n",
      "\n",
      "\n",
      "0298I_0302I_0306I_0318I_0322I_0326I_0338I_0342I_0346I\n",
      "Mask 4' around saturated pixels                    0.00028  0.00534  13.79579  7.46107 \n",
      "& Mask sources to 5$\\sigma$                        0.00028  0.00534  19.24692  7.56920 \n",
      "& Mask sources to 12$\\sigma$ and >100kJy/sr        0.00028  0.00534  47.69048  8.08824 \n",
      "& exclude $|\\ell_x|,|\\ell_y|<200$                  0.00028  0.00534  47.69048  8.08824 \n",
      "\n",
      "\n",
      "0301I_0305I_0309I_0321I_0325I_0329I_0341I_0345I_0349I\n",
      "Mask 4' around saturated pixels                    0.00108  0.00963  14.99135  8.91003 \n",
      "& Mask sources to 5$\\sigma$                        0.00108  0.00963  19.82396  8.97491 \n",
      "& Mask sources to 12$\\sigma$ and >100kJy/sr        0.00108  0.00963  45.81712  9.68858 \n",
      "& exclude $|\\ell_x|,|\\ell_y|<200$                  0.00108  0.00963  45.81712  9.68858 \n",
      "\n",
      "\n",
      "0300I_0304I_0308I_0320I_0324I_0328I_0340I_0344I_0348I\n",
      "Mask 4' around saturated pixels                    0.00040  0.00725  14.04305  7.74221 \n",
      "& Mask sources to 5$\\sigma$                        0.00040  0.00725  18.57771  7.85035 \n",
      "& Mask sources to 12$\\sigma$ and >100kJy/sr        0.00040  0.00725  43.54470  8.43426 \n",
      "& exclude $|\\ell_x|,|\\ell_y|<200$                  0.00040  0.00725  43.54470  8.43426 \n",
      "\n",
      "\n"
     ]
    }
   ],
   "source": [
    "labels = ['Mask 4\\' around saturated pixels','& Mask sources to 5$\\sigma$','& Mask sources to 12$\\sigma$ and >100kJy/sr','& exclude $|\\ell_x|,|\\ell_y|<200$' ]\n",
    "\n",
    "masking_stats = np.array(lbins_pspec_img_zoom_list)\n",
    "\n",
    "for i in range(4):\n",
    "    print(analysis_names[i])\n",
    "    for j in range(4):\n",
    "        print('%-50s'%labels[j]),\n",
    "        for k in range(4):\n",
    "            print('%1.5f '%masking_stats[i,j,k]),\n",
    "        print\n",
    "    print('\\n')"
   ]
  },
  {
   "cell_type": "code",
   "execution_count": 86,
   "metadata": {
    "collapsed": false
   },
   "outputs": [
    {
     "name": "stdout",
     "output_type": "stream",
     "text": [
      "Mask 4' around saturated pixels                    99.99940  99.99263  85.82290  92.14425 \n",
      "& Mask sources to 5$\\sigma$                        99.99940  99.99263  80.80315  92.06856 \n",
      "& Mask sources to 12$\\sigma$ and >100kJy/sr        99.99940  99.99263  53.96056  91.44680 \n",
      "& exclude $|\\ell_x|,|\\ell_y|<200$                  99.99940  99.99263  53.96056  91.44680 \n",
      "\n",
      "\n"
     ]
    }
   ],
   "source": [
    "for j in range(4):\n",
    "    print('%-50s'%labels[j]),\n",
    "    for k in range(4):\n",
    "        print('%1.5f '%(100.-np.mean(masking_stats[:,j,k]))),\n",
    "    print\n",
    "print('\\n')"
   ]
  },
  {
   "cell_type": "code",
   "execution_count": 9,
   "metadata": {
    "collapsed": false
   },
   "outputs": [],
   "source": [
    "d = '/home/abrahamn/xcor_data/analysis/ATLAS_mwa57694_rereduction/'\n",
    "lbins_pspec_img_zoom_list = pickle.load(open( d+\"lbins_pspec_img_zoom_list_4frames_2.p\", \"rb\" ) )\n",
    "#lbins_pspec_img_zoom_list = pickle.load(open( d+\"lbins_pspec_img_zoom_list_4frames_1.p\", \"rb\" ) )"
   ]
  },
  {
   "cell_type": "code",
   "execution_count": 10,
   "metadata": {
    "collapsed": false
   },
   "outputs": [
    {
     "data": {
      "text/plain": [
       "{'analysis_name': '0299I_0303I_0307I_0319I_0323I_0327I_0339I_0343I_0347I',\n",
       " 'bin_method': 'avg',\n",
       " 'filt_small_lx_and_ly_bins': False,\n",
       " 'fov_deg': 4.0,\n",
       " 'gauss_fit_min': 0.1,\n",
       " 'lmax': 4360,\n",
       " 'lmin': 350,\n",
       " 'mask_above_median_adu_plus': 1000000000.0,\n",
       " 'mask_coef1': 0,\n",
       " 'mask_coef2': 0,\n",
       " 'mask_rad_asec_around_max_adu': 250,\n",
       " 'masked_img_zoom_skip': 1,\n",
       " 'max_adu': 45000,\n",
       " 'min_fraction_unmasked': 0.1,\n",
       " 'nbins': 8,\n",
       " 'pguess_method': 'zemcov',\n",
       " 'ps_method': 'oqe',\n",
       " 'target_coarse_res_amin': 3.5,\n",
       " 'use_fft_hann': False,\n",
       " 'uselogbins': True}"
      ]
     },
     "execution_count": 10,
     "metadata": {},
     "output_type": "execute_result"
    }
   ],
   "source": [
    "lbins_pspec_img_zoom_list[0][0][4]"
   ]
  },
  {
   "cell_type": "code",
   "execution_count": null,
   "metadata": {
    "collapsed": false
   },
   "outputs": [],
   "source": []
  },
  {
   "cell_type": "code",
   "execution_count": 43,
   "metadata": {
    "collapsed": false
   },
   "outputs": [
    {
     "data": {
      "text/plain": [
       "[<matplotlib.lines.Line2D at 0x7ff8e68e1150>]"
      ]
     },
     "execution_count": 43,
     "metadata": {},
     "output_type": "execute_result"
    },
    {
     "data": {
      "image/png": "[encoded data removed]",
      "text/plain": [
       "<matplotlib.figure.Figure at 0x7ff8e68e1310>"
      ]
     },
     "metadata": {},
     "output_type": "display_data"
    }
   ],
   "source": [
    "lbins = lbins_pspec_img_zoom_list[0][0][0]\n",
    "for i in range(4):\n",
    "    plt.loglog(lbins,sqrt(lbins**2*lbins_pspec_img_zoom_list[i][3][1]/(2*pi)))\n",
    "    \n",
    "mean_best_fg_sub_over_all_fields = np.mean(np.array(lbins_pspec_img_zoom_list)[:,3,1])\n",
    "plt.loglog(lbins,sqrt(lbins**2*mean_best_fg_sub_over_all_fields/(2*pi)),'k-')"
   ]
  },
  {
   "cell_type": "code",
   "execution_count": 38,
   "metadata": {
    "collapsed": false
   },
   "outputs": [
    {
     "data": {
      "text/plain": [
       "array([  568.63451811,   779.40022166,  1068.28672227,  1464.24967464,\n",
       "        2006.97721406])"
      ]
     },
     "execution_count": 38,
     "metadata": {},
     "output_type": "execute_result"
    }
   ],
   "source": [
    "lbins[1:6]"
   ]
  },
  {
   "cell_type": "code",
   "execution_count": 45,
   "metadata": {
    "collapsed": false
   },
   "outputs": [
    {
     "data": {
      "text/plain": [
       "array([  153.77036206,   210.76570355,   288.88650061,   395.96295237,\n",
       "         542.72753942,   743.89076121,  1019.61559791])"
      ]
     },
     "execution_count": 45,
     "metadata": {},
     "output_type": "execute_result"
    }
   ],
   "source": [
    "dlbins = lbins[1:]-lbins[:-1]\n",
    "dlbins"
   ]
  },
  {
   "cell_type": "code",
   "execution_count": 53,
   "metadata": {
    "collapsed": false
   },
   "outputs": [
    {
     "name": "stdout",
     "output_type": "stream",
     "text": [
      "(0.90420519479107986, 0.025823099181402562)\n",
      "(3.1913124522038112, 0.091140350052009045)\n"
     ]
    }
   ],
   "source": [
    "vals = np.array([np.sum(dlbins[1:6]*sqrt(lbins[1:6]**2/(2*np.pi)*lbins_pspec_img_zoom_list[i][3][1][1:6]))/np.sum(dlbins[1:6]) for i in range(4)])\n",
    "\n",
    "print(np.mean(vals),np.std(vals))\n",
    "conv = 1.e-9/(3.e8/0.85e-6)/(1.e3*1.e-26)\n",
    "print(np.mean(vals)/conv,np.std(vals)/conv)"
   ]
  },
  {
   "cell_type": "code",
   "execution_count": null,
   "metadata": {
    "collapsed": false
   },
   "outputs": [],
   "source": []
  },
  {
   "cell_type": "code",
   "execution_count": null,
   "metadata": {
    "collapsed": false
   },
   "outputs": [],
   "source": [
    "stys = ['r.:','c.--','y.-','bs-']\n",
    "lws = [1,1,1,1]\n",
    "matplotlib.rcParams.update({'font.size': 14})\n",
    "\n",
    "plt.figure(figsize=(6,7))\n",
    "labels = ['1. Mask 4\\' around saturated pixels','2. Mask sources to 5$\\sigma$','3. Mask sources to 12$\\sigma$ and >100kJy/sr','4. Exclude $|\\ell_x|,|\\ell_y|<200$' ]\n",
    "\n",
    "for framei in range(4):\n",
    "    for j in range(4):\n",
    "        l = labels[j] if framei == 0 else ''\n",
    "        lbins,pspec,img_kjy_per_sr_meansub,masked_img_zoom,params = lbins_pspec_img_zoom_list[framei][j]\n",
    "        plt.loglog(lbins,sqrt(lbins**2*pspec/(2*pi)),stys[j],label=l,linewidth=lws[j])\n",
    "\n",
    "plt.errorbar(ciber_ell,ciber_delta,yerr=[ciber_ddelta_plus,ciber_ddelta_minus],fmt='o',label='CIBER 1.1um',color='k')\n",
    "\n",
    "plt.loglog(eormodel_ell,eormodel_delta,'k:',label='EOR theory')\n",
    "\n",
    "plt.legend(fontsize=11,loc=(.3,.08))\n",
    "plt.ylim([.01,200])\n",
    "plt.xlim([300,1.e4])\n",
    "plt.xlabel('$\\ell$',fontsize=16)\n",
    "plt.ylabel('$\\Delta(\\ell)$ (kJy/sr)',fontsize=16)\n",
    "\n",
    "plt.savefig('big_foreground_masking_study_pspecs_2_magoffset=20.56+0.274.pdf',bbox_inches='tight')\n",
    "#plt.savefig('big_foreground_masking_study_pspecs_1.pdf',bbox_inches='tight')"
   ]
  },
  {
   "cell_type": "code",
   "execution_count": null,
   "metadata": {
    "collapsed": false,
    "scrolled": false
   },
   "outputs": [],
   "source": [
    "fig = plt.figure(figsize=(14,15))\n",
    "\n",
    "magzpt,exp_time_sec = 20.56,30\n",
    "dtheta_rad = asec_per_pixel/3600.*np.pi/180\n",
    "adu2kjy_per_sr = 3.631*(10**(-magzpt/2.5))/exp_time_sec/dtheta_rad**2\n",
    "\n",
    "transFigure = fig.transFigure.inverted()\n",
    "\n",
    "axes = [[],[],[],[]]\n",
    "\n",
    "for j in range(4):\n",
    "    lbins,pspec,img_kjy_per_sr,masked_img_zoom,params = lbins_pspec_img_zoom_list[0][j]\n",
    "        \n",
    "    plt.subplot(4,3,3*j+1)\n",
    "    axes[j].append(plt.gca())\n",
    "    d = 300\n",
    "    masked_img_zoom_nanned = array(masked_img_zoom)\n",
    "    masked_img_zoom_nanned[masked_img_zoom_nanned==0] = np.nan\n",
    "    plt.imshow(adu2kjy_per_sr*masked_img_zoom_nanned[0:d,300:300+d]/1.e3,interpolation='nearest',cmap='jet',rasterized=True,\\\n",
    "              vmin=3.1,vmax=3.5,extent=[-asec_per_pixel/60*d/2,asec_per_pixel/60*d/2,-asec_per_pixel/60*d/2,asec_per_pixel/60*d/2])\n",
    "    cbar = plt.colorbar()\n",
    "    cbar.set_ticks(3.1+.1*np.arange(5))\n",
    "    plt.ylabel('$\\\\theta_y$ (arcmin)',fontsize=16)\n",
    "    if j == 3: plt.xlabel('$\\\\theta_x$ (arcmin)',fontsize=16)\n",
    "    if j == 0: plt.title('Zoom in on 9\\' field\\n 1.86\\'\\' resolution ($10^3$ kJy/sr)',fontsize=14)\n",
    "    \n",
    "    ###################################################\n",
    "    plt.subplot(4,3,3*j+2)\n",
    "    axes[j].append(plt.gca())\n",
    "    n_coarse = img_kjy_per_sr.shape[0]\n",
    "    dtheta_coarse_amin = 3.5\n",
    "    dtheta_coarse_rad = dtheta_coarse_amin/60.*np.pi/180\n",
    "    img_kjy_per_sr_nanned = array(img_kjy_per_sr)\n",
    "    img_kjy_per_sr_nanned[img_kjy_per_sr_nanned==0] = np.nan\n",
    "    plt.imshow(img_kjy_per_sr_nanned/1.e3,interpolation='nearest',cmap='jet',vmin=3.225,vmax=3.3,rasterized=True,\\\n",
    "              extent=[-dtheta_coarse_amin*n_coarse/2,dtheta_coarse_amin*n_coarse/2,-dtheta_coarse_amin*n_coarse/2,dtheta_coarse_amin*n_coarse/2])\n",
    "    cbar = plt.colorbar()\n",
    "    cbar.set_ticks(3.2+.025*np.arange(8))\n",
    "    if j == 3: plt.xlabel('$\\\\theta_x$ (arcmin)',fontsize=16)\n",
    "    if j == 0: plt.title('Whole 4 deg field,\\n 3.5\\' resolution ($10^3$ kJy/sr)',fontsize=14)\n",
    "\n",
    "    dy = 1.25*dtheta_coarse_amin\n",
    "    plt.plot(np.array([-1.5*dtheta_coarse_amin,-1.5*dtheta_coarse_amin,1.5*dtheta_coarse_amin,1.5*dtheta_coarse_amin,-1.5*dtheta_coarse_amin]),\\\n",
    "            np.array([-1.5*dtheta_coarse_amin,1.5*dtheta_coarse_amin,1.5*dtheta_coarse_amin,-1.5*dtheta_coarse_amin,-1.5*dtheta_coarse_amin])+2*dy,'k',linewidth=2)\n",
    "    plt.xlim([-dtheta_coarse_amin*n_coarse/2,dtheta_coarse_amin*n_coarse/2])\n",
    "    plt.ylim([-dtheta_coarse_amin*n_coarse/2,dtheta_coarse_amin*n_coarse/2])\n",
    "    \n",
    "    ###################################################\n",
    "    plt.subplot(4,3,3*j+3)\n",
    "    axes[j].append(plt.gca())\n",
    "    pspec_norm = (dtheta_coarse_rad**2)/(n_coarse**2)\n",
    "    img_kjy_per_sr_meansub = array(img_kjy_per_sr)\n",
    "    img_kjy_per_sr_meansub[img_kjy_per_sr_meansub!=0] -= np.mean(img_kjy_per_sr_meansub[img_kjy_per_sr_meansub!=0])\n",
    "    pspec2d = np.abs(np.fft.fft2(img_kjy_per_sr_meansub))**2*pspec_norm\n",
    "    \n",
    "    lvals = fft.fftfreq(n_coarse)*2*pi/dtheta_coarse_rad # ell values\n",
    "    dl = np.abs(lvals[1]-lvals[0])\n",
    "    print('\\ndl = %d'%(lvals[1]-lvals[0]))\n",
    "    lxgrid,lygrid = meshgrid(lvals,lvals)\n",
    "    lmaggrid = sqrt(lxgrid**2+lygrid**2)\n",
    "    delta = np.fft.fftshift(sqrt(lmaggrid**2*pspec2d/(2*pi)))\n",
    "    \n",
    "    if j == 3: delta *= 1.*np.fft.fftshift((np.abs(lxgrid)>2*dl)*(np.abs(lygrid)>2*dl))\n",
    "    \n",
    "    plt.imshow(np.log10(delta),vmin=-1,vmax=2,rasterized=True,\\\n",
    "               interpolation='nearest',cmap='jet',extent=[-n_coarse/2*dl/1.e3,n_coarse/2*dl/1.e3,-n_coarse/2*dl/1.e3,n_coarse/2*dl/1.e3])\n",
    "    if j == 0: plt.title('Fourier transform of whole\\n 4 deg field (log $\\Delta(\\ell_x,\\ell_y)}$/(kJy/sr))',fontsize=14)\n",
    "    plt.ylabel('$1000\\\\times\\ell_y$',fontsize=16)\n",
    "    if j == 3: plt.xlabel('$1000\\\\times\\ell_x$',fontsize=16)\n",
    "    plt.colorbar()\n",
    "    \n",
    "        \n",
    "    plt.xlim([-n_coarse/2*dl/1.e3,n_coarse/2*dl/1.e3])\n",
    "    plt.ylim([-n_coarse/2*dl/1.e3,n_coarse/2*dl/1.e3])\n",
    "\n",
    "plt.tight_layout()\n",
    "\n",
    "for j in range(4):\n",
    "    [i.set_linewidth(2) for i in axes[j][0].spines.itervalues()]\n",
    "    \n",
    "    coord1 = transFigure.transform(axes[j][0].transData.transform([4.65,4.35]))\n",
    "    coord2 = transFigure.transform(axes[j][1].transData.transform([-3,14]))\n",
    "    line = matplotlib.lines.Line2D((coord1[0],coord2[0]),(coord1[1],coord2[1]),transform=fig.transFigure,linewidth=2,color='k')\n",
    "    fig.lines.append(line)\n",
    "\n",
    "    coord1 = transFigure.transform(axes[j][0].transData.transform([4.65,-4.35]))\n",
    "    coord2 = transFigure.transform(axes[j][1].transData.transform([-3,3]))\n",
    "    line = matplotlib.lines.Line2D((coord1[0],coord2[0]),(coord1[1],coord2[1]),transform=fig.transFigure,linewidth=2,color='k')\n",
    "    fig.lines.append(line)\n",
    "    \n",
    "\n",
    "plt.savefig('big_foreground_masking_study_2_magoffset=20.56+0.274.pdf',bbox_inches='tight')\n",
    "#plt.savefig('big_foreground_masking_study_1.pdf',bbox_inches='tight')"
   ]
  },
  {
   "cell_type": "code",
   "execution_count": 147,
   "metadata": {
    "collapsed": false
   },
   "outputs": [
    {
     "data": {
      "text/plain": [
       "88.864719034976289"
      ]
     },
     "execution_count": 147,
     "metadata": {},
     "output_type": "execute_result"
    }
   ],
   "source": [
    "10*adu2kjy_per_sr"
   ]
  },
  {
   "cell_type": "code",
   "execution_count": 148,
   "metadata": {
    "collapsed": false
   },
   "outputs": [
    {
     "data": {
      "text/plain": [
       "90.756302521008394"
      ]
     },
     "execution_count": 148,
     "metadata": {},
     "output_type": "execute_result"
    }
   ],
   "source": [
    "dl"
   ]
  },
  {
   "cell_type": "code",
   "execution_count": null,
   "metadata": {
    "collapsed": true
   },
   "outputs": [],
   "source": []
  },
  {
   "cell_type": "code",
   "execution_count": null,
   "metadata": {
    "collapsed": true
   },
   "outputs": [],
   "source": []
  }
 ],
 "metadata": {
  "kernelspec": {
   "display_name": "Python 2",
   "language": "python",
   "name": "python2"
  },
  "language_info": {
   "codemirror_mode": {
    "name": "ipython",
    "version": 2
   },
   "file_extension": ".py",
   "mimetype": "text/x-python",
   "name": "python",
   "nbconvert_exporter": "python",
   "pygments_lexer": "ipython2",
   "version": "2.7.13"
  }
 },
 "nbformat": 4,
 "nbformat_minor": 0
}
