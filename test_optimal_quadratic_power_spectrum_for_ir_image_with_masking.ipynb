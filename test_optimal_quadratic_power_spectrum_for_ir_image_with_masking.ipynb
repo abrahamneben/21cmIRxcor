{
 "cells": [
  {
   "cell_type": "code",
   "execution_count": 1,
   "metadata": {
    "collapsed": true
   },
   "outputs": [],
   "source": [
    "import numpy as np\n",
    "import matplotlib\n",
    "%matplotlib inline\n",
    "import matplotlib.pyplot as plt\n",
    "import scipy.signal"
   ]
  },
  {
   "cell_type": "code",
   "execution_count": null,
   "metadata": {
    "collapsed": true
   },
   "outputs": [],
   "source": []
  },
  {
   "cell_type": "code",
   "execution_count": null,
   "metadata": {
    "collapsed": true
   },
   "outputs": [],
   "source": []
  },
  {
   "cell_type": "code",
   "execution_count": 2,
   "metadata": {
    "collapsed": true
   },
   "outputs": [],
   "source": [
    "def make_hann_2D(n):\n",
    "    w = scipy.signal.hann(n)\n",
    "    wx,wy = np.meshgrid(w,w)\n",
    "    w2 = wx*wy\n",
    "    return w2, np.sqrt(np.mean(w2**2))\n",
    "\n",
    "def img2PS(img,dtheta_rad,nbins,lmin,lmax,uselogbins=False,usehann=True):\n",
    "\n",
    "    N = img.shape[0]\n",
    "    hann2D,hann2Drms = make_hann_2D(N)\n",
    "    lvals = np.fft.fftfreq(N)*2*np.pi/dtheta_rad\n",
    "    lx,ly = np.meshgrid(lvals,lvals)\n",
    "    lmag  = np.sqrt(lx**2+ly**2)\n",
    "    print(np.max(lmag))\n",
    "\n",
    "    img_ft = np.fft.fft2((img-img.mean())*hann2D)/hann2Drms\n",
    "    \n",
    "    if uselogbins: \n",
    "        lbinedges = 10.**np.linspace(np.log10(lmin),np.log10(lmax),nbins+1)\n",
    "    else:\n",
    "        lbinedges = np.linspace(lmin,lmax,nbins+1)\n",
    "    lbincenters = .5*(lbinedges[0:nbins]+lbinedges[1:nbins+1])\n",
    "    \n",
    "    pspec_binned = np.zeros(nbins)\n",
    "\n",
    "    bin_counts = np.zeros(nbins)\n",
    "    for bini in range(nbins):\n",
    "        inbin = (lmag>lbinedges[bini])&(lmag<lbinedges[bini+1])\n",
    "        bin_counts[bini] = np.sum(inbin)\n",
    "\n",
    "        pspec_binned[bini] = np.mean(np.abs(img_ft[inbin])**2)\n",
    "\n",
    "    pspec_norm = (dtheta_rad**2)/(N**2)\n",
    "    return lbincenters,pspec_binned*pspec_norm,bin_counts\n",
    "\n",
    "def img2optimalPS(img,dtheta_rad,nbins,lmin,lmax,uselogbins=True):\n",
    "    n = img.shape[0]\n",
    "    lvals = fft.fftfreq(n)*2*pi/dtheta_rad\n",
    "    lxgrid,lygrid = meshgrid(lvals,lvals)\n",
    "    lmaggrid = sqrt(lxgrid**2+lygrid**2)\n",
    "    \n",
    "    thvals = (arange(n)-n/2)*dtheta_rad # theta values\n",
    "    thxgrid,thygrid = meshgrid(thvals,thvals)\n",
    "    \n",
    "    img = (img-img.mean())\n",
    "    xir = transpose(matrix(img.flatten()))\n",
    "\n",
    "    if uselogbins: \n",
    "        lbinedges = 10.**np.linspace(np.log10(lmin),np.log10(lmax),nbins+1)\n",
    "    else:\n",
    "        lbinedges = np.linspace(lmin,lmax,nbins+1)\n",
    "    lbincenters = .5*(lbinedges[0:nbins]+lbinedges[1:nbins+1])\n",
    "    \n",
    "    Pir = zeros(nbins)\n",
    "    Fisher = zeros(nbins) # could try later making this a matrix to do matrix normalization, but for now just leave it\n",
    "    \n",
    "    for bini in range(nbins):\n",
    "        print 'bin='+str(bini)\n",
    "        inbin = (lmaggrid>=lbinedges[bini])*(lmaggrid<lbinedges[bini+1])\n",
    "        ivals_inbin,jvals_inbin = where(inbin)\n",
    "\n",
    "        print 'initializing Ccomma matrix'\n",
    "        lxvals,thxvals = meshgrid(lxgrid[ivals_inbin,jvals_inbin],thxgrid.flatten()) # ell_x and theta_x\n",
    "        lyvals,thyvals = meshgrid(lygrid[ivals_inbin,jvals_inbin],thygrid.flatten()) # ell_y and theta_y\n",
    "        Ccommabini_lu = matrix(exp(1j*(lxvals*thxvals+lyvals*thyvals)))\n",
    "        Ccommabini = Ccommabini_lu*conj(transpose(Ccommabini_lu))\n",
    "\n",
    "        print 'computing Fisher'\n",
    "        Fisher[bini] = real(.5*trace(Ccommabini*Ccommabini))\n",
    "\n",
    "        print 'evaluating quadratic estimater'\n",
    "        Pir[bini] = .5*real(transpose(xir)*Ccommabini*xir).item()/Fisher[bini]*n**4 # .item() gets the single element in this matrix\n",
    "\n",
    "    return lbincenters,Pir*(dtheta_rad**2)/(n**2)"
   ]
  },
  {
   "cell_type": "code",
   "execution_count": null,
   "metadata": {
    "collapsed": true
   },
   "outputs": [],
   "source": []
  },
  {
   "cell_type": "code",
   "execution_count": 3,
   "metadata": {
    "collapsed": false
   },
   "outputs": [],
   "source": [
    "# generate an image from a non-flat power spectrum\n",
    "n = 50\n",
    "dtheta_amin = 3.\n",
    "dtheta_rad = dtheta_amin/60*np.pi/180\n",
    "\n",
    "lvals = fft.fftfreq(n)*2*pi/dtheta_rad\n",
    "lxgrid,lygrid = meshgrid(lvals,lvals)\n",
    "lmaggrid = sqrt(lxgrid**2+lygrid**2)\n",
    "\n",
    "img_ft = (np.random.randn(n,n)+1j*np.random.randn(n,n))/sqrt(2)/(lmaggrid+1)\n",
    "img = np.real(np.fft.ifft2(img_ft)) # taking the real part enforces conjugate symmetry in fourier space"
   ]
  },
  {
   "cell_type": "code",
   "execution_count": 4,
   "metadata": {
    "collapsed": false
   },
   "outputs": [
    {
     "data": {
      "text/plain": [
       "<matplotlib.colorbar.Colorbar at 0x10ba3dfd0>"
      ]
     },
     "execution_count": 4,
     "metadata": {},
     "output_type": "execute_result"
    },
    {
     "data": {
      "image/png": "[encoded data removed]",
      "text/plain": [
       "<matplotlib.figure.Figure at 0x10b825090>"
      ]
     },
     "metadata": {},
     "output_type": "display_data"
    },
    {
     "data": {
      "image/png": "[encoded data removed]",
      "text/plain": [
       "<matplotlib.figure.Figure at 0x10b8a2e10>"
      ]
     },
     "metadata": {},
     "output_type": "display_data"
    }
   ],
   "source": [
    "plt.imshow(img,interpolation='nearest')\n",
    "plt.colorbar()\n",
    "\n",
    "plt.figure()\n",
    "mask = np.random.randn(n,n)>-.2\n",
    "plt.imshow(mask,interpolation='nearest')\n",
    "plt.colorbar()"
   ]
  },
  {
   "cell_type": "code",
   "execution_count": null,
   "metadata": {
    "collapsed": true
   },
   "outputs": [],
   "source": []
  },
  {
   "cell_type": "code",
   "execution_count": null,
   "metadata": {
    "collapsed": false
   },
   "outputs": [
    {
     "name": "stdout",
     "output_type": "stream",
     "text": [
      "5091.16882454\n",
      "5091.16882454\n",
      "bin=0\n",
      "initializing Ccomma matrix\n",
      "computing Fisher\n",
      "evaluating quadratic estimater\n",
      "bin=1\n",
      "initializing Ccomma matrix\n",
      "computing Fisher\n"
     ]
    },
    {
     "name": "stderr",
     "output_type": "stream",
     "text": [
      "/Users/abrahamn/anaconda2/lib/python2.7/site-packages/ipykernel/__main__.py:72: RuntimeWarning: invalid value encountered in double_scalars\n"
     ]
    }
   ],
   "source": [
    "lbins,pspec,bin_counts = img2PS(img,dtheta_rad,10,1,5000,uselogbins=True)\n",
    "lbins,pspec_m,bin_counts = img2PS(img*mask,dtheta_rad,10,1,5000,uselogbins=True)\n",
    "\n",
    "lbins,pspec_o = img2optimalPS(img,dtheta_rad,5,1,5000,uselogbins=True)\n",
    "lbins,pspec_m_o = img2optimalPS(img*mask,dtheta_rad,5,1,5000,uselogbins=True)"
   ]
  },
  {
   "cell_type": "code",
   "execution_count": null,
   "metadata": {
    "collapsed": false
   },
   "outputs": [],
   "source": [
    "plt.loglog(lbins,pspec,'b.-')\n",
    "plt.loglog(lbins,pspec_m,'r.-')\n",
    "\n",
    "plt.loglog(lbins,pspec_o,'b:')\n",
    "plt.loglog(lbins,pspec_m_o,'r:')"
   ]
  },
  {
   "cell_type": "code",
   "execution_count": null,
   "metadata": {
    "collapsed": true
   },
   "outputs": [],
   "source": []
  },
  {
   "cell_type": "code",
   "execution_count": null,
   "metadata": {
    "collapsed": true
   },
   "outputs": [],
   "source": []
  },
  {
   "cell_type": "code",
   "execution_count": null,
   "metadata": {
    "collapsed": true
   },
   "outputs": [],
   "source": []
  },
  {
   "cell_type": "code",
   "execution_count": null,
   "metadata": {
    "collapsed": true
   },
   "outputs": [],
   "source": []
  }
 ],
 "metadata": {
  "kernelspec": {
   "display_name": "Python 2",
   "language": "python",
   "name": "python2"
  },
  "language_info": {
   "codemirror_mode": {
    "name": "ipython",
    "version": 2
   },
   "file_extension": ".py",
   "mimetype": "text/x-python",
   "name": "python",
   "nbconvert_exporter": "python",
   "pygments_lexer": "ipython2",
   "version": "2.7.12"
  }
 },
 "nbformat": 4,
 "nbformat_minor": 1
}
