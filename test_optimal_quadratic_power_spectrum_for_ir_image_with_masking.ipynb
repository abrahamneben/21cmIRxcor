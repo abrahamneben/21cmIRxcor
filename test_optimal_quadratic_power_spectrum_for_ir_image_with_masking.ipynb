{
 "cells": [
  {
   "cell_type": "code",
   "execution_count": 46,
   "metadata": {
    "collapsed": true
   },
   "outputs": [],
   "source": [
    "import numpy as np\n",
    "import matplotlib\n",
    "%matplotlib inline\n",
    "import matplotlib.pyplot as plt\n",
    "import scipy.signal\n",
    "\n",
    "from numpy import sqrt,matrix,transpose,array,fft,pi,zeros,meshgrid,random,linspace,arange,where,exp,conj,real,trace\n",
    "\n",
    "from scipy.linalg import sqrtm,inv"
   ]
  },
  {
   "cell_type": "code",
   "execution_count": 47,
   "metadata": {
    "collapsed": false
   },
   "outputs": [],
   "source": [
    "def make_hann_2D(n):\n",
    "    w = scipy.signal.hann(n)\n",
    "    wx,wy = np.meshgrid(w,w)\n",
    "    w2 = wx*wy\n",
    "    return w2, sqrt(np.mean(w2**2))\n",
    "\n",
    "def img2PS(img,dtheta_rad,nbins,lmin,lmax,uselogbins=False,usehann=True):\n",
    "\n",
    "    n = img.shape[0]\n",
    "    lvals = fft.fftfreq(n)*2*np.pi/dtheta_rad\n",
    "    lx,ly = meshgrid(lvals,lvals)\n",
    "    lmag  = sqrt(lx**2+ly**2)\n",
    "    print(np.max(lmag))\n",
    "\n",
    "    wind,windrms = np.ones((n,n)),1\n",
    "    if usehann: \n",
    "        wind,windrms = make_hann_2D(n)\n",
    "    img_ft = fft.fft2((img-img.mean())*wind)/windrms\n",
    "    \n",
    "    if uselogbins: \n",
    "        lbinedges = 10.**linspace(np.log10(lmin),np.log10(lmax),nbins+1)\n",
    "    else:\n",
    "        lbinedges = linspace(lmin,lmax,nbins+1)\n",
    "    lbincenters = .5*(lbinedges[0:nbins]+lbinedges[1:nbins+1])\n",
    "    \n",
    "    pspec_binned = np.zeros(nbins)\n",
    "\n",
    "    bin_counts = np.zeros(nbins)\n",
    "    for bini in range(nbins):\n",
    "        inbin = (lmag>lbinedges[bini])&(lmag<lbinedges[bini+1])\n",
    "        bin_counts[bini] = np.sum(inbin)\n",
    "\n",
    "        pspec_binned[bini] = np.mean(np.abs(img_ft[inbin])**2)\n",
    "\n",
    "    pspec_norm = (dtheta_rad**2)/(n**2)\n",
    "    return lbincenters,pspec_binned*pspec_norm,bin_counts\n",
    "\n",
    "def img2optimalPS(img,dtheta_rad,nbins,lmin,lmax,uselogbins=True,usehann=True):\n",
    "    n = img.shape[0]\n",
    "    lvals = fft.fftfreq(n)*2*pi/dtheta_rad\n",
    "    lxgrid,lygrid = meshgrid(lvals,lvals)\n",
    "    lmaggrid = sqrt(lxgrid**2+lygrid**2)\n",
    "    \n",
    "    thvals = (arange(n)-n/2)*dtheta_rad # theta values\n",
    "    thxgrid,thygrid = meshgrid(thvals,thvals)\n",
    "    \n",
    "    wind,windrms = np.ones((n,n)),1.\n",
    "    if usehann: \n",
    "        wind,windrms = make_hann_2D(n)\n",
    "    \n",
    "    Cinv = matrix(np.diag(img.flatten()!=0)) # this line must be before subtracting the mean\n",
    "    img = (img-img.mean())*wind/windrms\n",
    "    xir = transpose(matrix(img.flatten()))\n",
    "    \n",
    "    if uselogbins: \n",
    "        lbinedges = 10.**np.linspace(np.log10(lmin),np.log10(lmax),nbins+1)\n",
    "    else:\n",
    "        lbinedges = np.linspace(lmin,lmax,nbins+1)\n",
    "    lbincenters = .5*(lbinedges[0:nbins]+lbinedges[1:nbins+1])    \n",
    "    \n",
    "    def gen_Ccommabini(bini):\n",
    "        inbin = (lmaggrid>=lbinedges[bini])*(lmaggrid<lbinedges[bini+1])\n",
    "        ivals_inbin,jvals_inbin = where(inbin)\n",
    "\n",
    "        lxvals,thxvals = meshgrid(lxgrid[ivals_inbin,jvals_inbin],thxgrid.flatten()) # ell_x and theta_x\n",
    "        lyvals,thyvals = meshgrid(lygrid[ivals_inbin,jvals_inbin],thygrid.flatten()) # ell_y and theta_y\n",
    "        Ccommabini_lu = matrix(exp(1j*(lxvals*thxvals+lyvals*thyvals)))\n",
    "        Ccommabini = Ccommabini_lu*conj(transpose(Ccommabini_lu))\n",
    "\n",
    "        return Ccommabini\n",
    "    \n",
    "    q_allbins = np.matrix(np.zeros((nbins,1)))\n",
    "    Ccomma_allbins = []\n",
    "    for bini in range(nbins):\n",
    "        print('generating Ccomma for bin %d'%bini)\n",
    "        Ccommabini = gen_Ccommabini(bini)\n",
    "        Ccomma_allbins.append(Ccommabini)\n",
    "        \n",
    "        print('calculating q for bin %d'%bini)\n",
    "        # because xir is already zero where we have no measurements, we don't need to add the C^(-1)'s to this eqn\n",
    "        q_allbins[bini] = .5*real(transpose(xir)*Ccommabini*xir).item()\n",
    "    \n",
    "    print('making the fisher matrix')\n",
    "    F_with_Cinv = np.matrix(np.zeros((nbins,nbins)),dtype=complex)\n",
    "    F = np.matrix(np.zeros((nbins,nbins)),dtype=complex)\n",
    "    for i in range(nbins):\n",
    "        for j in range(i,nbins):\n",
    "            F_with_Cinv[i,j] = .5*trace(Cinv*Ccomma_allbins[i]*Cinv*Ccomma_allbins[j])\n",
    "            F_with_Cinv[j,i] = F_with_Cinv[i,j]\n",
    "            \n",
    "            F[i,j] = .5*trace(Ccomma_allbins[i]*Ccomma_allbins[j])\n",
    "            F[j,i] = F[i,j]\n",
    "        \n",
    "    return lbincenters,q_allbins*(dtheta_rad**2)/(n**2)*n**4,F,F_with_Cinv,Cinv"
   ]
  },
  {
   "cell_type": "code",
   "execution_count": null,
   "metadata": {
    "collapsed": true
   },
   "outputs": [],
   "source": []
  },
  {
   "cell_type": "code",
   "execution_count": 48,
   "metadata": {
    "collapsed": false
   },
   "outputs": [],
   "source": [
    "# generate an image from a non-flat power spectrum\n",
    "n = 50\n",
    "dtheta_amin = 3.\n",
    "dtheta_rad = dtheta_amin/60*pi/180\n",
    "\n",
    "lvals = fft.fftfreq(n)*2*np.pi/dtheta_rad\n",
    "lxgrid,lygrid = meshgrid(lvals,lvals)\n",
    "lmaggrid = sqrt(lxgrid**2+lygrid**2)\n",
    "\n",
    "img_ft = (random.randn(n,n)+1j*np.random.randn(n,n))/np.sqrt(2)*(lmaggrid+1)**2\n",
    "img = np.real(fft.ifft2(img_ft)) # taking the real part enforces conjugate symmetry in fourier space"
   ]
  },
  {
   "cell_type": "code",
   "execution_count": 49,
   "metadata": {
    "collapsed": false
   },
   "outputs": [
    {
     "data": {
      "text/plain": [
       "<matplotlib.colorbar.Colorbar at 0x7f153bf56150>"
      ]
     },
     "execution_count": 49,
     "metadata": {},
     "output_type": "execute_result"
    },
    {
     "data": {
      "image/png": "[encoded data removed]",
      "text/plain": [
       "<matplotlib.figure.Figure at 0x7f153c27be50>"
      ]
     },
     "metadata": {},
     "output_type": "display_data"
    }
   ],
   "source": [
    "plt.figure(figsize=(10,4))\n",
    "plt.subplot(121)\n",
    "plt.imshow(img,interpolation='nearest')\n",
    "plt.colorbar()\n",
    "\n",
    "plt.subplot(122)\n",
    "mask = random.randn(n,n)>-.4\n",
    "plt.imshow(mask,interpolation='nearest')\n",
    "plt.colorbar()"
   ]
  },
  {
   "cell_type": "code",
   "execution_count": null,
   "metadata": {
    "collapsed": true
   },
   "outputs": [],
   "source": []
  },
  {
   "cell_type": "code",
   "execution_count": 50,
   "metadata": {
    "collapsed": false
   },
   "outputs": [
    {
     "name": "stdout",
     "output_type": "stream",
     "text": [
      "5091.16882454\n",
      "5091.16882454\n",
      "generating Ccomma for bin 0\n",
      "calculating q for bin 0\n",
      "generating Ccomma for bin 1\n",
      "calculating q for bin 1\n",
      "generating Ccomma for bin 2\n",
      "calculating q for bin 2\n",
      "generating Ccomma for bin 3\n",
      "calculating q for bin 3\n",
      "generating Ccomma for bin 4\n",
      "calculating q for bin 4\n",
      "generating Ccomma for bin 5\n",
      "calculating q for bin 5\n",
      "making the fisher matrix\n"
     ]
    }
   ],
   "source": [
    "lmin,lmax = 150,5000\n",
    "nbins = 6\n",
    "\n",
    "lbins,pspec,bin_counts = img2PS(img,dtheta_rad,nbins,lmin,lmax,uselogbins=True)\n",
    "lbins,pspec_m,bin_counts = img2PS(img*mask,dtheta_rad,nbins,lmin,lmax,uselogbins=True)\n",
    "\n",
    "lbins_opt,q,F,F_with_Cinv,Cinv = img2optimalPS(img*mask,dtheta_rad,nbins,lmin,lmax,uselogbins=True,usehann=True)"
   ]
  },
  {
   "cell_type": "code",
   "execution_count": 51,
   "metadata": {
    "collapsed": false
   },
   "outputs": [
    {
     "data": {
      "text/plain": [
       "[<matplotlib.lines.Line2D at 0x7f153bf634d0>]"
      ]
     },
     "execution_count": 51,
     "metadata": {},
     "output_type": "execute_result"
    },
    {
     "data": {
      "image/png": "[encoded data removed]",
      "text/plain": [
       "<matplotlib.figure.Figure at 0x7f153c1f1f90>"
      ]
     },
     "metadata": {},
     "output_type": "display_data"
    }
   ],
   "source": [
    "plt.loglog(lbins,pspec,'bo')\n",
    "plt.loglog(lbins,pspec_m,'ro') \n",
    "\n",
    "# plt.loglog(lbins_opt,np.real(inv(F)*q),'k-')\n",
    "# plt.loglog(lbins_opt,np.real(inv(F_with_Cinv)*q),'k:',linewidth=4)\n",
    "\n",
    "plt.loglog(lbins_opt,np.array(q).T[0]/np.real(np.diag(F)),'k-')\n",
    "plt.loglog(lbins_opt,np.array(q).T[0]/np.real(np.diag(F_with_Cinv)),'k:',linewidth=4)"
   ]
  },
  {
   "cell_type": "code",
   "execution_count": 52,
   "metadata": {
    "collapsed": false
   },
   "outputs": [
    {
     "data": {
      "text/plain": [
       "<matplotlib.image.AxesImage at 0x7f153bc08810>"
      ]
     },
     "execution_count": 52,
     "metadata": {},
     "output_type": "execute_result"
    },
    {
     "data": {
      "image/png": "[encoded data removed]",
      "text/plain": [
       "<matplotlib.figure.Figure at 0x7f153c4b2190>"
      ]
     },
     "metadata": {},
     "output_type": "display_data"
    }
   ],
   "source": [
    "plt.imshow(Cinv,interpolation='nearest')"
   ]
  },
  {
   "cell_type": "code",
   "execution_count": 53,
   "metadata": {
    "collapsed": false
   },
   "outputs": [
    {
     "name": "stderr",
     "output_type": "stream",
     "text": [
      "/home/ubuntu/anaconda2/lib/python2.7/site-packages/ipykernel/__main__.py:1: RuntimeWarning: invalid value encountered in log10\n",
      "  if __name__ == '__main__':\n"
     ]
    },
    {
     "data": {
      "text/plain": [
       "<matplotlib.colorbar.Colorbar at 0x7f153bac62d0>"
      ]
     },
     "execution_count": 53,
     "metadata": {},
     "output_type": "execute_result"
    },
    {
     "data": {
      "image/png": "[encoded data removed]",
      "text/plain": [
       "<matplotlib.figure.Figure at 0x7f153bf8bb90>"
      ]
     },
     "metadata": {},
     "output_type": "display_data"
    }
   ],
   "source": [
    "plt.imshow(np.log10(np.real(F)),interpolation='nearest',vmin=5,vmax=10)\n",
    "plt.colorbar()"
   ]
  },
  {
   "cell_type": "code",
   "execution_count": 54,
   "metadata": {
    "collapsed": false
   },
   "outputs": [
    {
     "data": {
      "text/plain": [
       "<matplotlib.colorbar.Colorbar at 0x7f153b92cb90>"
      ]
     },
     "execution_count": 54,
     "metadata": {},
     "output_type": "execute_result"
    },
    {
     "data": {
      "image/png": "[encoded data removed]",
      "text/plain": [
       "<matplotlib.figure.Figure at 0x7f153bf8b350>"
      ]
     },
     "metadata": {},
     "output_type": "display_data"
    }
   ],
   "source": [
    "plt.imshow(np.log10(np.real(F_with_Cinv)),interpolation='nearest',vmin=5,vmax=10)\n",
    "plt.colorbar()"
   ]
  },
  {
   "cell_type": "code",
   "execution_count": null,
   "metadata": {
    "collapsed": true
   },
   "outputs": [],
   "source": []
  },
  {
   "cell_type": "code",
   "execution_count": null,
   "metadata": {
    "collapsed": true
   },
   "outputs": [],
   "source": []
  },
  {
   "cell_type": "code",
   "execution_count": null,
   "metadata": {
    "collapsed": true
   },
   "outputs": [],
   "source": []
  },
  {
   "cell_type": "code",
   "execution_count": null,
   "metadata": {
    "collapsed": true
   },
   "outputs": [],
   "source": []
  }
 ],
 "metadata": {
  "kernelspec": {
   "display_name": "Python 2",
   "language": "python",
   "name": "python2"
  },
  "language_info": {
   "codemirror_mode": {
    "name": "ipython",
    "version": 2
   },
   "file_extension": ".py",
   "mimetype": "text/x-python",
   "name": "python",
   "nbconvert_exporter": "python",
   "pygments_lexer": "ipython2",
   "version": "2.7.11"
  }
 },
 "nbformat": 4,
 "nbformat_minor": 1
}
