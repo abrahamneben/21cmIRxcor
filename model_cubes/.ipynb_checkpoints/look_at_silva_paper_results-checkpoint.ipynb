{
 "cells": [
  {
   "cell_type": "code",
   "execution_count": 9,
   "metadata": {
    "collapsed": true
   },
   "outputs": [],
   "source": [
    "import numpy as np\n",
    "from numpy import pi"
   ]
  },
  {
   "cell_type": "code",
   "execution_count": 10,
   "metadata": {
    "collapsed": true
   },
   "outputs": [],
   "source": [
    "c = 3.e8\n",
    "kjy = 1.e-23"
   ]
  },
  {
   "cell_type": "code",
   "execution_count": 11,
   "metadata": {
    "collapsed": true
   },
   "outputs": [],
   "source": [
    "lamda0_IR_m = 120.e-9\n",
    "f0_21_Hz = 1420.e6\n",
    "z = 8"
   ]
  },
  {
   "cell_type": "code",
   "execution_count": 12,
   "metadata": {
    "collapsed": false
   },
   "outputs": [],
   "source": [
    "# load Silva's theoretical xspec\n",
    "dattheory = np.genfromtxt('silva_theoretical_xspec.csv',skip_header=1,delimiter=',')\n",
    "ktheory = dattheory[:,0]\n",
    "Deltatheory = dattheory[:,1] # units of [erg/sec/cm^2/sr]^2\n",
    "\n",
    "f_ir_obs = c/(lamda0_IR_m*(1+z))\n",
    "convert_ir_units = 1.e-7/(1.e-2)**2/kjy/f_ir_obs\n",
    "\n",
    "Kb = 1.38e-23\n",
    "lamda_21_obs = c*(1+z)/f0_21_Hz\n",
    "f_21_obs = f0_21_Hz/(1+z)\n",
    "convert_21_units = 1.e-7/(1.e-2)**2*lamda_21_obs**2/Kb/f_21_obs\n",
    "\n",
    "Ptheory = 2*pi**2/ktheory**3*Deltatheory*convert_ir_units*convert_21_units"
   ]
  },
  {
   "cell_type": "code",
   "execution_count": 13,
   "metadata": {
    "collapsed": false
   },
   "outputs": [
    {
     "data": {
      "text/plain": [
       "array([  1.28200168e+20,   1.26216020e+20,   4.85374834e+19,\n",
       "         1.31678302e+19,   4.29015905e+18,   1.81109726e+18,\n",
       "         9.08639776e+17,   3.36720911e+17,   1.45575339e+17,\n",
       "         4.63124379e+16,   1.53998739e+16,   5.84446617e+15,\n",
       "         2.53977980e+15,   1.27247366e+15,   6.32197361e+14,\n",
       "         3.15117064e+14,   1.16594858e+14])"
      ]
     },
     "execution_count": 13,
     "metadata": {},
     "output_type": "execute_result"
    }
   ],
   "source": [
    "Ptheory"
   ]
  },
  {
   "cell_type": "code",
   "execution_count": null,
   "metadata": {
    "collapsed": true
   },
   "outputs": [],
   "source": [
    "these numbers are crazy...way too big...I'm going to look at the cubes that she made for me instead"
   ]
  }
 ],
 "metadata": {
  "kernelspec": {
   "display_name": "Python 2",
   "language": "python",
   "name": "python2"
  },
  "language_info": {
   "codemirror_mode": {
    "name": "ipython",
    "version": 2
   },
   "file_extension": ".py",
   "mimetype": "text/x-python",
   "name": "python",
   "nbconvert_exporter": "python",
   "pygments_lexer": "ipython2",
   "version": "2.7.6"
  }
 },
 "nbformat": 4,
 "nbformat_minor": 0
}
